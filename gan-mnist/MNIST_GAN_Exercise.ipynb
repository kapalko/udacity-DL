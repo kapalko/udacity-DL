{
 "cells": [
  {
   "cell_type": "markdown",
   "metadata": {},
   "source": [
    "# Generative Adversarial Network\n",
    "\n",
    "In this notebook, we'll be building a generative adversarial network (GAN) trained on the MNIST dataset. From this, we'll be able to generate new handwritten digits!\n",
    "\n",
    "GANs were [first reported on](https://arxiv.org/abs/1406.2661) in 2014 from Ian Goodfellow and others in Yoshua Bengio's lab. Since then, GANs have exploded in popularity. Here are a few examples to check out:\n",
    "\n",
    "* [Pix2Pix](https://affinelayer.com/pixsrv/) \n",
    "* [CycleGAN & Pix2Pix in PyTorch, Jun-Yan Zhu](https://github.com/junyanz/pytorch-CycleGAN-and-pix2pix)\n",
    "* [A list of generative models](https://github.com/wiseodd/generative-models)\n",
    "\n",
    "The idea behind GANs is that you have two networks, a generator $G$ and a discriminator $D$, competing against each other. The generator makes \"fake\" data to pass to the discriminator. The discriminator also sees real training data and predicts if the data it's received is real or fake. \n",
    "> * The generator is trained to fool the discriminator, it wants to output data that looks _as close as possible_ to real, training data. \n",
    "* The discriminator is a classifier that is trained to figure out which data is real and which is fake. \n",
    "\n",
    "What ends up happening is that the generator learns to make data that is indistinguishable from real data to the discriminator.\n",
    "\n",
    "<img src='assets/gan_pipeline.png' width=70% />\n",
    "\n",
    "The general structure of a GAN is shown in the diagram above, using MNIST images as data. The latent sample is a random vector that the generator uses to construct its fake images. This is often called a **latent vector** and that vector space is called **latent space**. As the generator trains, it figures out how to map latent vectors to recognizable images that can fool the discriminator.\n",
    "\n",
    "If you're interested in generating only new images, you can throw out the discriminator after training. In this notebook, I'll show you how to define and train these adversarial networks in PyTorch and generate new images!"
   ]
  },
  {
   "cell_type": "code",
   "execution_count": 1,
   "metadata": {},
   "outputs": [],
   "source": [
    "%matplotlib inline\n",
    "\n",
    "import numpy as np\n",
    "import torch\n",
    "import matplotlib.pyplot as plt"
   ]
  },
  {
   "cell_type": "code",
   "execution_count": 3,
   "metadata": {},
   "outputs": [],
   "source": [
    "from torchvision import datasets\n",
    "import torchvision.transforms as transforms\n",
    "\n",
    "# number of subprocesses to use for data loading\n",
    "num_workers = 0\n",
    "# how many samples per batch to load\n",
    "batch_size = 64\n",
    "\n",
    "# convert data to torch.FloatTensor\n",
    "transform = transforms.ToTensor()\n",
    "\n",
    "# get the training datasets\n",
    "train_data = datasets.MNIST(root='data', train=True,\n",
    "                                   download=False, transform=transform)  # assuming data is already downloaded\n",
    "\n",
    "# prepare data loader\n",
    "train_loader = torch.utils.data.DataLoader(train_data, batch_size=batch_size,\n",
    "                                           num_workers=num_workers)"
   ]
  },
  {
   "cell_type": "markdown",
   "metadata": {},
   "source": [
    "### Visualize the data"
   ]
  },
  {
   "cell_type": "code",
   "execution_count": 4,
   "metadata": {},
   "outputs": [
    {
     "data": {
      "text/plain": [
       "<matplotlib.image.AxesImage at 0x7f22435cc410>"
      ]
     },
     "execution_count": 4,
     "metadata": {},
     "output_type": "execute_result"
    },
    {
     "data": {
      "image/png": "[encoded data removed]",
      "text/plain": [
       "<Figure size 216x216 with 1 Axes>"
      ]
     },
     "metadata": {
      "needs_background": "light"
     },
     "output_type": "display_data"
    }
   ],
   "source": [
    "# obtain one batch of training images\n",
    "dataiter = iter(train_loader)\n",
    "images, labels = dataiter.next()\n",
    "images = images.numpy()\n",
    "\n",
    "# get one image from the batch\n",
    "img = np.squeeze(images[0])\n",
    "\n",
    "fig = plt.figure(figsize = (3,3)) \n",
    "ax = fig.add_subplot(111)\n",
    "ax.imshow(img, cmap='gray')"
   ]
  },
  {
   "cell_type": "markdown",
   "metadata": {},
   "source": [
    "---\n",
    "# Define the Model\n",
    "\n",
    "A GAN is comprised of two adversarial networks, a discriminator and a generator."
   ]
  },
  {
   "cell_type": "markdown",
   "metadata": {},
   "source": [
    "## Discriminator\n",
    "\n",
    "The discriminator network is going to be a pretty typical linear classifier. To make this network a universal function approximator, we'll need at least one hidden layer, and these hidden layers should have one key attribute:\n",
    "> All hidden layers will have a [Leaky ReLu](https://pytorch.org/docs/stable/nn.html#torch.nn.LeakyReLU) activation function applied to their outputs.\n",
    "\n",
    "<img src='assets/gan_network.png' width=70% />\n",
    "\n",
    "#### Leaky ReLu\n",
    "\n",
    "We should use a leaky ReLU to allow gradients to flow backwards through the layer unimpeded. A leaky ReLU is like a normal ReLU, except that there is a small non-zero output for negative input values.\n",
    "\n",
    "<img src='assets/leaky_relu.png' width=40% />\n",
    "\n",
    "#### Sigmoid Output\n",
    "\n",
    "We'll also take the approach of using a more numerically stable loss function on the outputs. Recall that we want the discriminator to output a value 0-1 indicating whether an image is _real or fake_. \n",
    "> We will ultimately use [BCEWithLogitsLoss](https://pytorch.org/docs/stable/nn.html#bcewithlogitsloss), which combines a `sigmoid` activation function **and** and binary cross entropy loss in one function. \n",
    "\n",
    "So, our final output layer should not have any activation function applied to it."
   ]
  },
  {
   "cell_type": "code",
   "execution_count": 51,
   "metadata": {},
   "outputs": [],
   "source": [
    "import torch.nn as nn\n",
    "import torch.nn.functional as F\n",
    "\n",
    "class Discriminator(nn.Module):\n",
    "\n",
    "    def __init__(self, input_size, hidden_dim, output_size):  # hidden_dim is output size of our final hidden layer\n",
    "        super(Discriminator, self).__init__()\n",
    "        \n",
    "        # define all layers\n",
    "        self.fc1 = nn.Linear(input_size, hidden_dim*4)\n",
    "        self.fc2 = nn.Linear(hidden_dim*4, hidden_dim*2)\n",
    "        self.fc3 = nn.Linear(hidden_dim*2, hidden_dim)\n",
    "        self.fc4 = nn.Linear(hidden_dim, output_size)\n",
    "        self.dropout = nn.Dropout(0.3)\n",
    "        \n",
    "        \n",
    "        \n",
    "    def forward(self, x):\n",
    "        # flatten image\n",
    "        x = x.view(-1, 28*28) # mnist images are 28*28\n",
    "        \n",
    "        # pass x through all layers\n",
    "        # apply leaky relu activation to all hidden layers\n",
    "        x = F.leaky_relu(self.fc1(x), 0.2)\n",
    "        x = self.dropout(x)\n",
    "        x = F.leaky_relu(self.fc2(x), 0.2)\n",
    "        x = self.dropout(x)\n",
    "        x = F.leaky_relu(self.fc3(x), 0.2)\n",
    "        x = self.dropout(x)\n",
    "        x = self.fc4(x)\n",
    "\n",
    "        return x\n"
   ]
  },
  {
   "cell_type": "markdown",
   "metadata": {},
   "source": [
    "## Generator\n",
    "\n",
    "The generator network will be almost exactly the same as the discriminator network, except that we're applying a [tanh activation function](https://pytorch.org/docs/stable/nn.html#tanh) to our output layer.\n",
    "\n",
    "#### tanh Output\n",
    "The generator has been found to perform the best with $tanh$ for the generator output, which scales the output to be between -1 and 1, instead of 0 and 1. \n",
    "\n",
    "<img src='assets/tanh_fn.png' width=40% />\n",
    "\n",
    "Recall that we also want these outputs to be comparable to the *real* input pixel values, which are read in as normalized values between 0 and 1. \n",
    "> So, we'll also have to **scale our real input images to have pixel values between -1 and 1** when we train the discriminator. \n",
    "\n",
    "I'll do this in the training loop, later on."
   ]
  },
  {
   "cell_type": "code",
   "execution_count": 63,
   "metadata": {},
   "outputs": [],
   "source": [
    "class Generator(nn.Module):\n",
    "\n",
    "    def __init__(self, input_size, hidden_dim, output_size):\n",
    "        super(Generator, self).__init__()\n",
    "        \n",
    "        # define all layers\n",
    "        self.fc1 = nn.Linear(input_size, hidden_dim)\n",
    "        self.fc2 = nn.Linear(hidden_dim, hidden_dim*2)\n",
    "        self.fc3 = nn.Linear(hidden_dim*2, hidden_dim*4)\n",
    "        \n",
    "        self.fc4 = nn.Linear(hidden_dim*4, output_size)\n",
    "        \n",
    "        self.dropout = nn.Dropout(0.3)\n",
    "        \n",
    "\n",
    "    def forward(self, x):\n",
    "        # pass x through all layers\n",
    "        \n",
    "        x = F.leaky_relu(self.fc1(x), 0.2)\n",
    "        x = self.dropout(x)\n",
    "        x = F.leaky_relu(self.fc2(x), 0.2)\n",
    "        x = self.dropout(x)\n",
    "        x = F.leaky_relu(self.fc3(x), 0.2)\n",
    "        x = self.dropout(x)\n",
    "        # final layer should have tanh applied\n",
    "        \n",
    "        x = torch.tanh(self.fc4(x))\n",
    "        return x"
   ]
  },
  {
   "cell_type": "markdown",
   "metadata": {},
   "source": [
    "## Model hyperparameters"
   ]
  },
  {
   "cell_type": "code",
   "execution_count": 53,
   "metadata": {},
   "outputs": [],
   "source": [
    "# Discriminator hyperparams\n",
    "\n",
    "# Size of input image to discriminator (28*28)\n",
    "input_size = 28*28\n",
    "# Size of discriminator output (real or fake)\n",
    "d_output_size = 1\n",
    "# Size of *last* hidden layer in the discriminator\n",
    "d_hidden_size = 32\n",
    "\n",
    "# Generator hyperparams\n",
    "\n",
    "# Size of latent vector to give to generator\n",
    "z_size = 100\n",
    "# Size of discriminator output (generated image)\n",
    "g_output_size = 28*28\n",
    "# Size of *first* hidden layer in the generator\n",
    "g_hidden_size = 32"
   ]
  },
  {
   "cell_type": "markdown",
   "metadata": {},
   "source": [
    "## Build complete network\n",
    "\n",
    "Now we're instantiating the discriminator and generator from the classes defined above. Make sure you've passed in the correct input arguments."
   ]
  },
  {
   "cell_type": "code",
   "execution_count": 46,
   "metadata": {},
   "outputs": [
    {
     "name": "stdout",
     "output_type": "stream",
     "text": [
      "Training on CPU\n"
     ]
    }
   ],
   "source": [
    "# Check access to GPU\n",
    "# Check for a GPU\n",
    "# train_on_gpu = torch.cuda.is_available()\n",
    "if train_on_gpu: print('Training on GPU')\n",
    "else: print('Training on CPU')"
   ]
  },
  {
   "cell_type": "code",
   "execution_count": 45,
   "metadata": {},
   "outputs": [],
   "source": [
    "train_on_gpu = False"
   ]
  },
  {
   "cell_type": "code",
   "execution_count": 68,
   "metadata": {},
   "outputs": [
    {
     "name": "stdout",
     "output_type": "stream",
     "text": [
      "Discriminator(\n",
      "  (fc1): Linear(in_features=784, out_features=128, bias=True)\n",
      "  (fc2): Linear(in_features=128, out_features=64, bias=True)\n",
      "  (fc3): Linear(in_features=64, out_features=32, bias=True)\n",
      "  (fc4): Linear(in_features=32, out_features=1, bias=True)\n",
      "  (dropout): Dropout(p=0.3, inplace=False)\n",
      ")\n",
      "\n",
      "Generator(\n",
      "  (fc1): Linear(in_features=100, out_features=32, bias=True)\n",
      "  (fc2): Linear(in_features=32, out_features=64, bias=True)\n",
      "  (fc3): Linear(in_features=64, out_features=128, bias=True)\n",
      "  (fc4): Linear(in_features=128, out_features=784, bias=True)\n",
      "  (dropout): Dropout(p=0.3, inplace=False)\n",
      ")\n"
     ]
    }
   ],
   "source": [
    "# instantiate discriminator and generator\n",
    "D = Discriminator(input_size, d_hidden_size, d_output_size)\n",
    "G = Generator(z_size, g_hidden_size, g_output_size)\n",
    "\n",
    "if train_on_gpu:\n",
    "    D.cuda()\n",
    "    G.cuda()\n",
    "    print('Training on GPU')\n",
    "\n",
    "# check that they are as you expect\n",
    "print(D)\n",
    "print()\n",
    "print(G)"
   ]
  },
  {
   "cell_type": "markdown",
   "metadata": {},
   "source": [
    "---\n",
    "## Discriminator and Generator Losses\n",
    "\n",
    "Now we need to calculate the losses. \n",
    "\n",
    "### Discriminator Losses\n",
    "\n",
    "> * For the discriminator, the total loss is the sum of the losses for real and fake images, `d_loss = d_real_loss + d_fake_loss`. \n",
    "* Remember that we want the discriminator to output 1 for real images and 0 for fake images, so we need to set up the losses to reflect that.\n",
    "\n",
    "<img src='assets/gan_pipeline.png' width=70% />\n",
    "\n",
    "The losses will by binary cross entropy loss with logits, which we can get with [BCEWithLogitsLoss](https://pytorch.org/docs/stable/nn.html#bcewithlogitsloss). This combines a `sigmoid` activation function **and** and binary cross entropy loss in one function.\n",
    "\n",
    "For the real images, we want `D(real_images) = 1`. That is, we want the discriminator to classify the the real images with a label = 1, indicating that these are real. To help the discriminator generalize better, the labels are **reduced a bit from 1.0 to 0.9**. For this, we'll use the parameter `smooth`; if True, then we should smooth our labels. In PyTorch, this looks like `labels = torch.ones(size) * 0.9`\n",
    "\n",
    "The discriminator loss for the fake data is similar. We want `D(fake_images) = 0`, where the fake images are the _generator output_, `fake_images = G(z)`. \n",
    "\n",
    "### Generator Loss\n",
    "\n",
    "The generator loss will look similar only with flipped labels. The generator's goal is to get `D(fake_images) = 1`. In this case, the labels are **flipped** to represent that the generator is trying to fool the discriminator into thinking that the images it generates (fakes) are real!"
   ]
  },
  {
   "cell_type": "code",
   "execution_count": 69,
   "metadata": {},
   "outputs": [],
   "source": [
    "# Calculate losses\n",
    "def real_loss(D_out, smooth=False):\n",
    "    batch_size = D_out.size(0)\n",
    "    # label smoothing\n",
    "    if smooth:\n",
    "        # smooth, real labels = 0.9\n",
    "        labels = torch.ones(batch_size)*0.9\n",
    "    else:\n",
    "        labels = torch.ones(batch_size) # real labels = 1\n",
    "        \n",
    "    # numerically stable loss\n",
    "    criterion = nn.BCEWithLogitsLoss()\n",
    "    # calculate loss\n",
    "    loss = criterion(D_out.squeeze(), labels)\n",
    "    return loss\n",
    "\n",
    "def fake_loss(D_out):\n",
    "    batch_size = D_out.size(0)\n",
    "    labels = torch.zeros(batch_size) # fake labels = 0\n",
    "    criterion = nn.BCEWithLogitsLoss()\n",
    "    # calculate loss\n",
    "    loss = criterion(D_out.squeeze(), labels)\n",
    "    return loss"
   ]
  },
  {
   "cell_type": "markdown",
   "metadata": {},
   "source": [
    "## Optimizers\n",
    "\n",
    "We want to update the generator and discriminator variables separately. So, we'll define two separate Adam optimizers."
   ]
  },
  {
   "cell_type": "code",
   "execution_count": 70,
   "metadata": {
    "scrolled": true
   },
   "outputs": [],
   "source": [
    "import torch.optim as optim\n",
    "\n",
    "# learning rate for optimizers\n",
    "lr = 0.002\n",
    "\n",
    "# Create optimizers for the discriminator and generator\n",
    "d_optimizer = optim.Adam(D.parameters(), lr=lr)\n",
    "g_optimizer = optim.Adam(G.parameters(), lr=lr)"
   ]
  },
  {
   "cell_type": "markdown",
   "metadata": {},
   "source": [
    "---\n",
    "## Training\n",
    "\n",
    "Training will involve alternating between training the discriminator and the generator. We'll use our functions `real_loss` and `fake_loss` to help us calculate the discriminator losses in all of the following cases.\n",
    "\n",
    "### Discriminator training\n",
    "1. Compute the discriminator loss on real, training images        \n",
    "2. Generate fake images\n",
    "3. Compute the discriminator loss on fake, generated images     \n",
    "4. Add up real and fake loss\n",
    "5. Perform backpropagation + an optimization step to update the discriminator's weights\n",
    "\n",
    "### Generator training\n",
    "1. Generate fake images\n",
    "2. Compute the discriminator loss on fake images, using **flipped** labels!\n",
    "3. Perform backpropagation + an optimization step to update the generator's weights\n",
    "\n",
    "#### Saving Samples\n",
    "\n",
    "As we train, we'll also print out some loss statistics and save some generated \"fake\" samples."
   ]
  },
  {
   "cell_type": "code",
   "execution_count": 71,
   "metadata": {
    "scrolled": true
   },
   "outputs": [
    {
     "name": "stdout",
     "output_type": "stream",
     "text": [
      "Epoch [    1/  100] | d_loss: 1.3770 | g_loss: 0.7416\n",
      "Epoch [    1/  100] | d_loss: 1.1579 | g_loss: 1.1479\n",
      "Epoch [    1/  100] | d_loss: 1.4047 | g_loss: 1.0515\n",
      "Epoch [    2/  100] | d_loss: 1.0226 | g_loss: 2.3172\n",
      "Epoch [    2/  100] | d_loss: 1.2206 | g_loss: 2.0728\n",
      "Epoch [    2/  100] | d_loss: 1.5157 | g_loss: 0.6821\n",
      "Epoch [    3/  100] | d_loss: 1.4003 | g_loss: 0.6326\n",
      "Epoch [    3/  100] | d_loss: 1.2908 | g_loss: 0.8585\n",
      "Epoch [    3/  100] | d_loss: 0.9516 | g_loss: 1.3114\n",
      "Epoch [    4/  100] | d_loss: 1.2918 | g_loss: 0.9487\n",
      "Epoch [    4/  100] | d_loss: 1.0593 | g_loss: 1.3271\n",
      "Epoch [    4/  100] | d_loss: 1.2489 | g_loss: 1.0249\n",
      "Epoch [    5/  100] | d_loss: 1.2236 | g_loss: 1.0542\n",
      "Epoch [    5/  100] | d_loss: 1.1736 | g_loss: 1.1468\n",
      "Epoch [    5/  100] | d_loss: 1.3575 | g_loss: 0.9908\n",
      "Epoch [    6/  100] | d_loss: 1.3530 | g_loss: 0.9437\n",
      "Epoch [    6/  100] | d_loss: 1.2180 | g_loss: 1.0688\n",
      "Epoch [    6/  100] | d_loss: 1.3181 | g_loss: 0.9368\n",
      "Epoch [    7/  100] | d_loss: 1.2902 | g_loss: 1.0130\n",
      "Epoch [    7/  100] | d_loss: 1.2182 | g_loss: 1.1343\n",
      "Epoch [    7/  100] | d_loss: 1.5921 | g_loss: 0.6288\n",
      "Epoch [    8/  100] | d_loss: 1.6081 | g_loss: 1.2591\n",
      "Epoch [    8/  100] | d_loss: 1.3187 | g_loss: 1.0734\n",
      "Epoch [    8/  100] | d_loss: 1.2188 | g_loss: 1.1897\n",
      "Epoch [    9/  100] | d_loss: 1.2242 | g_loss: 1.3298\n",
      "Epoch [    9/  100] | d_loss: 1.1051 | g_loss: 2.1435\n",
      "Epoch [    9/  100] | d_loss: 1.3402 | g_loss: 0.9915\n",
      "Epoch [   10/  100] | d_loss: 1.2514 | g_loss: 1.8804\n",
      "Epoch [   10/  100] | d_loss: 1.1865 | g_loss: 1.7448\n",
      "Epoch [   10/  100] | d_loss: 1.2161 | g_loss: 1.7128\n",
      "Epoch [   11/  100] | d_loss: 1.2885 | g_loss: 0.9267\n",
      "Epoch [   11/  100] | d_loss: 1.4098 | g_loss: 1.0059\n",
      "Epoch [   11/  100] | d_loss: 1.1388 | g_loss: 1.4913\n",
      "Epoch [   12/  100] | d_loss: 1.2793 | g_loss: 1.0292\n",
      "Epoch [   12/  100] | d_loss: 1.1535 | g_loss: 1.7666\n",
      "Epoch [   12/  100] | d_loss: 1.2956 | g_loss: 0.9767\n",
      "Epoch [   13/  100] | d_loss: 1.3163 | g_loss: 0.9451\n",
      "Epoch [   13/  100] | d_loss: 1.2017 | g_loss: 1.3660\n",
      "Epoch [   13/  100] | d_loss: 1.3215 | g_loss: 0.9678\n",
      "Epoch [   14/  100] | d_loss: 1.3044 | g_loss: 1.1533\n",
      "Epoch [   14/  100] | d_loss: 1.3976 | g_loss: 0.8181\n",
      "Epoch [   14/  100] | d_loss: 1.2836 | g_loss: 1.4150\n",
      "Epoch [   15/  100] | d_loss: 1.2635 | g_loss: 0.9220\n",
      "Epoch [   15/  100] | d_loss: 1.2051 | g_loss: 1.1779\n",
      "Epoch [   15/  100] | d_loss: 1.2820 | g_loss: 0.8876\n",
      "Epoch [   16/  100] | d_loss: 1.3094 | g_loss: 1.0425\n",
      "Epoch [   16/  100] | d_loss: 1.2982 | g_loss: 0.8679\n",
      "Epoch [   16/  100] | d_loss: 1.1888 | g_loss: 1.1787\n",
      "Epoch [   17/  100] | d_loss: 1.1847 | g_loss: 1.3508\n",
      "Epoch [   17/  100] | d_loss: 1.1641 | g_loss: 1.0833\n",
      "Epoch [   17/  100] | d_loss: 1.2605 | g_loss: 1.2063\n",
      "Epoch [   18/  100] | d_loss: 1.3775 | g_loss: 1.0081\n",
      "Epoch [   18/  100] | d_loss: 1.2520 | g_loss: 1.1539\n",
      "Epoch [   18/  100] | d_loss: 1.2841 | g_loss: 1.0392\n",
      "Epoch [   19/  100] | d_loss: 1.2127 | g_loss: 1.2280\n",
      "Epoch [   19/  100] | d_loss: 1.2562 | g_loss: 1.0724\n",
      "Epoch [   19/  100] | d_loss: 1.3108 | g_loss: 1.0568\n",
      "Epoch [   20/  100] | d_loss: 1.2445 | g_loss: 1.0639\n",
      "Epoch [   20/  100] | d_loss: 1.1801 | g_loss: 1.2445\n",
      "Epoch [   20/  100] | d_loss: 1.2028 | g_loss: 1.6416\n",
      "Epoch [   21/  100] | d_loss: 1.2976 | g_loss: 1.0276\n",
      "Epoch [   21/  100] | d_loss: 1.2628 | g_loss: 0.9752\n",
      "Epoch [   21/  100] | d_loss: 1.3158 | g_loss: 0.8906\n",
      "Epoch [   22/  100] | d_loss: 1.2641 | g_loss: 1.3600\n",
      "Epoch [   22/  100] | d_loss: 1.1582 | g_loss: 1.1715\n",
      "Epoch [   22/  100] | d_loss: 1.1028 | g_loss: 1.6021\n",
      "Epoch [   23/  100] | d_loss: 1.2496 | g_loss: 1.2158\n",
      "Epoch [   23/  100] | d_loss: 1.2675 | g_loss: 1.0106\n",
      "Epoch [   23/  100] | d_loss: 1.3494 | g_loss: 0.9623\n",
      "Epoch [   24/  100] | d_loss: 1.1176 | g_loss: 1.8603\n",
      "Epoch [   24/  100] | d_loss: 1.1693 | g_loss: 1.3625\n",
      "Epoch [   24/  100] | d_loss: 1.2479 | g_loss: 1.0558\n",
      "Epoch [   25/  100] | d_loss: 1.2236 | g_loss: 1.3126\n",
      "Epoch [   25/  100] | d_loss: 1.1795 | g_loss: 1.0005\n",
      "Epoch [   25/  100] | d_loss: 1.3041 | g_loss: 0.8617\n",
      "Epoch [   26/  100] | d_loss: 1.3327 | g_loss: 1.1048\n",
      "Epoch [   26/  100] | d_loss: 1.1508 | g_loss: 1.1211\n",
      "Epoch [   26/  100] | d_loss: 1.2920 | g_loss: 1.0363\n",
      "Epoch [   27/  100] | d_loss: 1.3196 | g_loss: 0.7898\n",
      "Epoch [   27/  100] | d_loss: 1.2683 | g_loss: 1.1233\n",
      "Epoch [   27/  100] | d_loss: 1.2690 | g_loss: 1.0398\n",
      "Epoch [   28/  100] | d_loss: 1.4001 | g_loss: 1.1178\n",
      "Epoch [   28/  100] | d_loss: 1.2139 | g_loss: 1.1301\n",
      "Epoch [   28/  100] | d_loss: 1.3542 | g_loss: 1.0763\n",
      "Epoch [   29/  100] | d_loss: 1.2674 | g_loss: 1.1382\n",
      "Epoch [   29/  100] | d_loss: 1.2134 | g_loss: 1.1642\n",
      "Epoch [   29/  100] | d_loss: 1.2836 | g_loss: 0.9617\n",
      "Epoch [   30/  100] | d_loss: 1.2451 | g_loss: 1.1792\n",
      "Epoch [   30/  100] | d_loss: 1.1982 | g_loss: 1.0106\n",
      "Epoch [   30/  100] | d_loss: 1.3787 | g_loss: 0.9220\n",
      "Epoch [   31/  100] | d_loss: 1.2512 | g_loss: 1.2953\n",
      "Epoch [   31/  100] | d_loss: 1.2730 | g_loss: 0.9913\n",
      "Epoch [   31/  100] | d_loss: 1.3053 | g_loss: 1.0765\n",
      "Epoch [   32/  100] | d_loss: 1.3140 | g_loss: 1.1703\n",
      "Epoch [   32/  100] | d_loss: 1.2845 | g_loss: 0.8690\n",
      "Epoch [   32/  100] | d_loss: 1.2403 | g_loss: 1.0565\n",
      "Epoch [   33/  100] | d_loss: 1.3300 | g_loss: 1.2987\n",
      "Epoch [   33/  100] | d_loss: 1.2074 | g_loss: 0.9981\n",
      "Epoch [   33/  100] | d_loss: 1.3691 | g_loss: 1.0923\n",
      "Epoch [   34/  100] | d_loss: 1.2905 | g_loss: 0.7871\n",
      "Epoch [   34/  100] | d_loss: 1.1635 | g_loss: 1.0735\n",
      "Epoch [   34/  100] | d_loss: 1.3551 | g_loss: 0.8792\n",
      "Epoch [   35/  100] | d_loss: 1.3007 | g_loss: 1.0357\n",
      "Epoch [   35/  100] | d_loss: 1.2246 | g_loss: 1.0490\n",
      "Epoch [   35/  100] | d_loss: 1.3275 | g_loss: 0.8899\n",
      "Epoch [   36/  100] | d_loss: 1.2465 | g_loss: 1.3884\n",
      "Epoch [   36/  100] | d_loss: 1.2622 | g_loss: 1.0705\n",
      "Epoch [   36/  100] | d_loss: 1.2857 | g_loss: 0.9172\n",
      "Epoch [   37/  100] | d_loss: 1.2448 | g_loss: 1.0688\n",
      "Epoch [   37/  100] | d_loss: 1.2817 | g_loss: 1.0904\n",
      "Epoch [   37/  100] | d_loss: 1.2810 | g_loss: 1.2215\n",
      "Epoch [   38/  100] | d_loss: 1.3209 | g_loss: 0.9782\n",
      "Epoch [   38/  100] | d_loss: 1.2024 | g_loss: 1.0249\n",
      "Epoch [   38/  100] | d_loss: 1.2854 | g_loss: 1.0338\n",
      "Epoch [   39/  100] | d_loss: 1.2595 | g_loss: 0.9395\n",
      "Epoch [   39/  100] | d_loss: 1.2345 | g_loss: 0.9637\n",
      "Epoch [   39/  100] | d_loss: 1.3483 | g_loss: 1.2509\n",
      "Epoch [   40/  100] | d_loss: 1.2815 | g_loss: 1.0746\n",
      "Epoch [   40/  100] | d_loss: 1.1814 | g_loss: 0.9854\n",
      "Epoch [   40/  100] | d_loss: 1.3819 | g_loss: 1.0458\n",
      "Epoch [   41/  100] | d_loss: 1.2826 | g_loss: 1.3639\n",
      "Epoch [   41/  100] | d_loss: 1.2507 | g_loss: 0.9382\n",
      "Epoch [   41/  100] | d_loss: 1.2589 | g_loss: 0.8918\n",
      "Epoch [   42/  100] | d_loss: 1.2678 | g_loss: 1.3091\n",
      "Epoch [   42/  100] | d_loss: 1.2895 | g_loss: 0.9907\n",
      "Epoch [   42/  100] | d_loss: 1.3373 | g_loss: 1.2600\n",
      "Epoch [   43/  100] | d_loss: 1.3373 | g_loss: 0.8959\n",
      "Epoch [   43/  100] | d_loss: 1.1898 | g_loss: 0.9792\n",
      "Epoch [   43/  100] | d_loss: 1.3468 | g_loss: 0.9768\n",
      "Epoch [   44/  100] | d_loss: 1.2292 | g_loss: 1.0217\n",
      "Epoch [   44/  100] | d_loss: 1.2719 | g_loss: 0.9620\n",
      "Epoch [   44/  100] | d_loss: 1.3934 | g_loss: 0.8736\n",
      "Epoch [   45/  100] | d_loss: 1.2979 | g_loss: 2.0684\n",
      "Epoch [   45/  100] | d_loss: 1.2244 | g_loss: 1.0790\n",
      "Epoch [   45/  100] | d_loss: 1.3436 | g_loss: 1.0234\n",
      "Epoch [   46/  100] | d_loss: 1.2935 | g_loss: 1.3100\n",
      "Epoch [   46/  100] | d_loss: 1.2505 | g_loss: 1.0219\n",
      "Epoch [   46/  100] | d_loss: 1.3447 | g_loss: 1.1584\n",
      "Epoch [   47/  100] | d_loss: 1.2594 | g_loss: 1.0640\n",
      "Epoch [   47/  100] | d_loss: 1.1860 | g_loss: 0.9566\n",
      "Epoch [   47/  100] | d_loss: 1.4103 | g_loss: 1.2154\n",
      "Epoch [   48/  100] | d_loss: 1.2126 | g_loss: 1.4160\n",
      "Epoch [   48/  100] | d_loss: 1.3776 | g_loss: 0.8783\n",
      "Epoch [   48/  100] | d_loss: 1.3921 | g_loss: 1.0000\n",
      "Epoch [   49/  100] | d_loss: 1.2150 | g_loss: 1.3884\n",
      "Epoch [   49/  100] | d_loss: 1.1704 | g_loss: 1.1201\n",
      "Epoch [   49/  100] | d_loss: 1.3761 | g_loss: 1.2827\n",
      "Epoch [   50/  100] | d_loss: 1.2347 | g_loss: 0.9677\n",
      "Epoch [   50/  100] | d_loss: 1.3182 | g_loss: 1.1548\n",
      "Epoch [   50/  100] | d_loss: 1.3341 | g_loss: 0.9063\n",
      "Epoch [   51/  100] | d_loss: 1.3733 | g_loss: 1.1133\n",
      "Epoch [   51/  100] | d_loss: 1.1821 | g_loss: 0.9697\n"
     ]
    },
    {
     "name": "stdout",
     "output_type": "stream",
     "text": [
      "Epoch [   51/  100] | d_loss: 1.3336 | g_loss: 1.1169\n",
      "Epoch [   52/  100] | d_loss: 1.2398 | g_loss: 0.9559\n",
      "Epoch [   52/  100] | d_loss: 1.2904 | g_loss: 1.1736\n",
      "Epoch [   52/  100] | d_loss: 1.3072 | g_loss: 0.9651\n",
      "Epoch [   53/  100] | d_loss: 1.3123 | g_loss: 0.9061\n",
      "Epoch [   53/  100] | d_loss: 1.2551 | g_loss: 1.1589\n",
      "Epoch [   53/  100] | d_loss: 1.3726 | g_loss: 1.1117\n",
      "Epoch [   54/  100] | d_loss: 1.2380 | g_loss: 1.3663\n",
      "Epoch [   54/  100] | d_loss: 1.2671 | g_loss: 0.8895\n",
      "Epoch [   54/  100] | d_loss: 1.3474 | g_loss: 1.2408\n",
      "Epoch [   55/  100] | d_loss: 1.2697 | g_loss: 1.6133\n",
      "Epoch [   55/  100] | d_loss: 1.2927 | g_loss: 1.4221\n",
      "Epoch [   55/  100] | d_loss: 1.3677 | g_loss: 0.9469\n",
      "Epoch [   56/  100] | d_loss: 1.2481 | g_loss: 1.0925\n",
      "Epoch [   56/  100] | d_loss: 1.2602 | g_loss: 1.1302\n",
      "Epoch [   56/  100] | d_loss: 1.2824 | g_loss: 0.9410\n",
      "Epoch [   57/  100] | d_loss: 1.3061 | g_loss: 0.8472\n",
      "Epoch [   57/  100] | d_loss: 1.2386 | g_loss: 1.2252\n",
      "Epoch [   57/  100] | d_loss: 1.3174 | g_loss: 1.0475\n",
      "Epoch [   58/  100] | d_loss: 1.2641 | g_loss: 1.7628\n",
      "Epoch [   58/  100] | d_loss: 1.2488 | g_loss: 1.0640\n",
      "Epoch [   58/  100] | d_loss: 1.3505 | g_loss: 1.0626\n",
      "Epoch [   59/  100] | d_loss: 1.3363 | g_loss: 1.1071\n",
      "Epoch [   59/  100] | d_loss: 1.2509 | g_loss: 1.0157\n",
      "Epoch [   59/  100] | d_loss: 1.3844 | g_loss: 1.0939\n",
      "Epoch [   60/  100] | d_loss: 1.3708 | g_loss: 1.1399\n",
      "Epoch [   60/  100] | d_loss: 1.2680 | g_loss: 1.2136\n",
      "Epoch [   60/  100] | d_loss: 1.2825 | g_loss: 0.8828\n",
      "Epoch [   61/  100] | d_loss: 1.2496 | g_loss: 0.9295\n",
      "Epoch [   61/  100] | d_loss: 1.1556 | g_loss: 1.1002\n",
      "Epoch [   61/  100] | d_loss: 1.3256 | g_loss: 1.0971\n",
      "Epoch [   62/  100] | d_loss: 1.3439 | g_loss: 0.8046\n",
      "Epoch [   62/  100] | d_loss: 1.2354 | g_loss: 1.1600\n",
      "Epoch [   62/  100] | d_loss: 1.3375 | g_loss: 1.0331\n",
      "Epoch [   63/  100] | d_loss: 1.3231 | g_loss: 1.1017\n",
      "Epoch [   63/  100] | d_loss: 1.3109 | g_loss: 0.9830\n",
      "Epoch [   63/  100] | d_loss: 1.3052 | g_loss: 1.2503\n",
      "Epoch [   64/  100] | d_loss: 1.3398 | g_loss: 1.0517\n",
      "Epoch [   64/  100] | d_loss: 1.3000 | g_loss: 1.0105\n",
      "Epoch [   64/  100] | d_loss: 1.4146 | g_loss: 0.9259\n",
      "Epoch [   65/  100] | d_loss: 1.2970 | g_loss: 0.9822\n",
      "Epoch [   65/  100] | d_loss: 1.1477 | g_loss: 1.4968\n",
      "Epoch [   65/  100] | d_loss: 1.3904 | g_loss: 1.3750\n",
      "Epoch [   66/  100] | d_loss: 1.2348 | g_loss: 0.8891\n",
      "Epoch [   66/  100] | d_loss: 1.2472 | g_loss: 1.1988\n",
      "Epoch [   66/  100] | d_loss: 1.2589 | g_loss: 1.6244\n",
      "Epoch [   67/  100] | d_loss: 1.3187 | g_loss: 1.4439\n",
      "Epoch [   67/  100] | d_loss: 1.2448 | g_loss: 1.0877\n",
      "Epoch [   67/  100] | d_loss: 1.3277 | g_loss: 0.9867\n",
      "Epoch [   68/  100] | d_loss: 1.2616 | g_loss: 1.0417\n",
      "Epoch [   68/  100] | d_loss: 1.3075 | g_loss: 1.0362\n",
      "Epoch [   68/  100] | d_loss: 1.3440 | g_loss: 1.1849\n",
      "Epoch [   69/  100] | d_loss: 1.2359 | g_loss: 0.9523\n",
      "Epoch [   69/  100] | d_loss: 1.3368 | g_loss: 1.0610\n",
      "Epoch [   69/  100] | d_loss: 1.4255 | g_loss: 1.2459\n",
      "Epoch [   70/  100] | d_loss: 1.3261 | g_loss: 0.9683\n",
      "Epoch [   70/  100] | d_loss: 1.2557 | g_loss: 0.9834\n",
      "Epoch [   70/  100] | d_loss: 1.2215 | g_loss: 1.1352\n",
      "Epoch [   71/  100] | d_loss: 1.2599 | g_loss: 1.1536\n",
      "Epoch [   71/  100] | d_loss: 1.2687 | g_loss: 1.1547\n",
      "Epoch [   71/  100] | d_loss: 1.3050 | g_loss: 0.9818\n",
      "Epoch [   72/  100] | d_loss: 1.2117 | g_loss: 0.9125\n",
      "Epoch [   72/  100] | d_loss: 1.2444 | g_loss: 1.4100\n",
      "Epoch [   72/  100] | d_loss: 1.1863 | g_loss: 1.1896\n",
      "Epoch [   73/  100] | d_loss: 1.2355 | g_loss: 1.3807\n",
      "Epoch [   73/  100] | d_loss: 1.2262 | g_loss: 1.1494\n",
      "Epoch [   73/  100] | d_loss: 1.3261 | g_loss: 0.9276\n",
      "Epoch [   74/  100] | d_loss: 1.2760 | g_loss: 0.8339\n",
      "Epoch [   74/  100] | d_loss: 1.2540 | g_loss: 1.0932\n",
      "Epoch [   74/  100] | d_loss: 1.2623 | g_loss: 0.9123\n",
      "Epoch [   75/  100] | d_loss: 1.2890 | g_loss: 0.9166\n",
      "Epoch [   75/  100] | d_loss: 1.2826 | g_loss: 1.1526\n",
      "Epoch [   75/  100] | d_loss: 1.3585 | g_loss: 1.0580\n",
      "Epoch [   76/  100] | d_loss: 1.2557 | g_loss: 1.2742\n",
      "Epoch [   76/  100] | d_loss: 1.3046 | g_loss: 0.9922\n",
      "Epoch [   76/  100] | d_loss: 1.2767 | g_loss: 1.0572\n",
      "Epoch [   77/  100] | d_loss: 1.3243 | g_loss: 0.8697\n",
      "Epoch [   77/  100] | d_loss: 1.2157 | g_loss: 0.8603\n",
      "Epoch [   77/  100] | d_loss: 1.3462 | g_loss: 1.1116\n",
      "Epoch [   78/  100] | d_loss: 1.2648 | g_loss: 1.1307\n",
      "Epoch [   78/  100] | d_loss: 1.2721 | g_loss: 1.3674\n",
      "Epoch [   78/  100] | d_loss: 1.3162 | g_loss: 1.1129\n",
      "Epoch [   79/  100] | d_loss: 1.2726 | g_loss: 1.6322\n",
      "Epoch [   79/  100] | d_loss: 1.2685 | g_loss: 1.0704\n",
      "Epoch [   79/  100] | d_loss: 1.2415 | g_loss: 1.2760\n",
      "Epoch [   80/  100] | d_loss: 1.2778 | g_loss: 0.8718\n",
      "Epoch [   80/  100] | d_loss: 1.3101 | g_loss: 1.1920\n",
      "Epoch [   80/  100] | d_loss: 1.3701 | g_loss: 1.2228\n",
      "Epoch [   81/  100] | d_loss: 1.3232 | g_loss: 0.9744\n",
      "Epoch [   81/  100] | d_loss: 1.2598 | g_loss: 1.1355\n",
      "Epoch [   81/  100] | d_loss: 1.3421 | g_loss: 1.0996\n",
      "Epoch [   82/  100] | d_loss: 1.1980 | g_loss: 0.9887\n",
      "Epoch [   82/  100] | d_loss: 1.2841 | g_loss: 1.2634\n",
      "Epoch [   82/  100] | d_loss: 1.2672 | g_loss: 1.3749\n",
      "Epoch [   83/  100] | d_loss: 1.4035 | g_loss: 1.3470\n",
      "Epoch [   83/  100] | d_loss: 1.3522 | g_loss: 1.0335\n",
      "Epoch [   83/  100] | d_loss: 1.3897 | g_loss: 1.0849\n",
      "Epoch [   84/  100] | d_loss: 1.2187 | g_loss: 1.1102\n",
      "Epoch [   84/  100] | d_loss: 1.1908 | g_loss: 1.4544\n",
      "Epoch [   84/  100] | d_loss: 1.3329 | g_loss: 1.2464\n",
      "Epoch [   85/  100] | d_loss: 1.1946 | g_loss: 1.6614\n",
      "Epoch [   85/  100] | d_loss: 1.2658 | g_loss: 1.3147\n",
      "Epoch [   85/  100] | d_loss: 1.3509 | g_loss: 1.0368\n",
      "Epoch [   86/  100] | d_loss: 1.3116 | g_loss: 1.0020\n",
      "Epoch [   86/  100] | d_loss: 1.2729 | g_loss: 1.0452\n",
      "Epoch [   86/  100] | d_loss: 1.3834 | g_loss: 1.0655\n",
      "Epoch [   87/  100] | d_loss: 1.3980 | g_loss: 0.8928\n",
      "Epoch [   87/  100] | d_loss: 1.2210 | g_loss: 1.0488\n",
      "Epoch [   87/  100] | d_loss: 1.2050 | g_loss: 1.4075\n",
      "Epoch [   88/  100] | d_loss: 1.2645 | g_loss: 1.0562\n",
      "Epoch [   88/  100] | d_loss: 1.2247 | g_loss: 1.1738\n",
      "Epoch [   88/  100] | d_loss: 1.3256 | g_loss: 1.1363\n",
      "Epoch [   89/  100] | d_loss: 1.2191 | g_loss: 1.2225\n",
      "Epoch [   89/  100] | d_loss: 1.2449 | g_loss: 0.9984\n",
      "Epoch [   89/  100] | d_loss: 1.3529 | g_loss: 1.0090\n",
      "Epoch [   90/  100] | d_loss: 1.2169 | g_loss: 1.1395\n",
      "Epoch [   90/  100] | d_loss: 1.1742 | g_loss: 1.1010\n",
      "Epoch [   90/  100] | d_loss: 1.3480 | g_loss: 1.0973\n",
      "Epoch [   91/  100] | d_loss: 1.3752 | g_loss: 1.0768\n",
      "Epoch [   91/  100] | d_loss: 1.3211 | g_loss: 1.0122\n",
      "Epoch [   91/  100] | d_loss: 1.2865 | g_loss: 1.2624\n",
      "Epoch [   92/  100] | d_loss: 1.3736 | g_loss: 1.0658\n",
      "Epoch [   92/  100] | d_loss: 1.3283 | g_loss: 1.0866\n",
      "Epoch [   92/  100] | d_loss: 1.6434 | g_loss: 1.0592\n",
      "Epoch [   93/  100] | d_loss: 1.3348 | g_loss: 1.1480\n",
      "Epoch [   93/  100] | d_loss: 1.2489 | g_loss: 1.0616\n",
      "Epoch [   93/  100] | d_loss: 1.4303 | g_loss: 1.1043\n",
      "Epoch [   94/  100] | d_loss: 1.3754 | g_loss: 1.0595\n",
      "Epoch [   94/  100] | d_loss: 1.1528 | g_loss: 1.5607\n",
      "Epoch [   94/  100] | d_loss: 1.3241 | g_loss: 0.9847\n",
      "Epoch [   95/  100] | d_loss: 1.3243 | g_loss: 2.6141\n",
      "Epoch [   95/  100] | d_loss: 1.2977 | g_loss: 1.2188\n",
      "Epoch [   95/  100] | d_loss: 1.2797 | g_loss: 1.0819\n",
      "Epoch [   96/  100] | d_loss: 1.3021 | g_loss: 1.1739\n",
      "Epoch [   96/  100] | d_loss: 1.2455 | g_loss: 0.9944\n",
      "Epoch [   96/  100] | d_loss: 1.2839 | g_loss: 1.4428\n",
      "Epoch [   97/  100] | d_loss: 1.3013 | g_loss: 0.9531\n",
      "Epoch [   97/  100] | d_loss: 1.1760 | g_loss: 0.9499\n",
      "Epoch [   97/  100] | d_loss: 1.3236 | g_loss: 1.1309\n",
      "Epoch [   98/  100] | d_loss: 1.3639 | g_loss: 0.9140\n",
      "Epoch [   98/  100] | d_loss: 1.2406 | g_loss: 0.9302\n",
      "Epoch [   98/  100] | d_loss: 1.3604 | g_loss: 1.1233\n",
      "Epoch [   99/  100] | d_loss: 1.2828 | g_loss: 1.0082\n",
      "Epoch [   99/  100] | d_loss: 1.1922 | g_loss: 1.3919\n",
      "Epoch [   99/  100] | d_loss: 1.3310 | g_loss: 1.0427\n",
      "Epoch [  100/  100] | d_loss: 1.3475 | g_loss: 1.1418\n",
      "Epoch [  100/  100] | d_loss: 1.2507 | g_loss: 1.3003\n",
      "Epoch [  100/  100] | d_loss: 1.3013 | g_loss: 1.2668\n"
     ]
    },
    {
     "name": "stderr",
     "output_type": "stream",
     "text": [
      "/state/partition1/llgrid/pkg/anaconda/anaconda3-2020b/lib/python3.7/site-packages/torch/storage.py:34: FutureWarning: pickle support for Storage will be removed in 1.5. Use `torch.save` instead\n",
      "  warnings.warn(\"pickle support for Storage will be removed in 1.5. Use `torch.save` instead\", FutureWarning)\n"
     ]
    }
   ],
   "source": [
    "import pickle as pkl\n",
    "\n",
    "# training hyperparams\n",
    "num_epochs = 100\n",
    "\n",
    "# keep track of loss and generated, \"fake\" samples\n",
    "samples = []\n",
    "losses = []\n",
    "\n",
    "print_every = 400\n",
    "\n",
    "# Get some fixed data for sampling. These are images that are held\n",
    "# constant throughout training, and allow us to inspect the model's performance\n",
    "sample_size=16\n",
    "fixed_z = np.random.uniform(-1, 1, size=(sample_size, z_size))\n",
    "fixed_z = torch.from_numpy(fixed_z).float()\n",
    "\n",
    "# train the network\n",
    "D.train()\n",
    "G.train()\n",
    "for epoch in range(num_epochs):\n",
    "    \n",
    "    for batch_i, (real_images, _) in enumerate(train_loader):\n",
    "                \n",
    "        batch_size = real_images.size(0)\n",
    "        \n",
    "        ## Important rescaling step ## \n",
    "        real_images = real_images*2 - 1  # rescale input images from [0,1) to [-1, 1)\n",
    "        \n",
    "        if train_on_gpu:\n",
    "            real_images.cuda()\n",
    "        \n",
    "        # ============================================\n",
    "        #            TRAIN THE DISCRIMINATOR\n",
    "        # ============================================\n",
    "                \n",
    "        # 1. Train with real images\n",
    "        \n",
    "        # clear gradients of all optimized variables\n",
    "        d_optimizer.zero_grad()\n",
    "        \n",
    "        # forward pass\n",
    "        D_out = D(real_images)\n",
    "\n",
    "        # Compute the discriminator losses on real images\n",
    "        # use smoothed labels\n",
    "        r_loss = real_loss(D_out, smooth=True)\n",
    "        \n",
    "        # 2. Train with fake images\n",
    "        \n",
    "        # Generate fake images\n",
    "        z = np.random.uniform(-1, 1, size=(batch_size, z_size))\n",
    "        z = torch.from_numpy(z).float()\n",
    "        if train_on_gpu: z.cuda()\n",
    "        fake_images = G(z)\n",
    "        \n",
    "        # forward pass\n",
    "        D_out = D(fake_images)\n",
    "        \n",
    "        # Compute the discriminator losses on fake images  \n",
    "        f_loss = fake_loss(D_out) # use loss on the reverse since these are fake images\n",
    "        \n",
    "        # add up real and fake losses and perform backprop\n",
    "        d_loss = r_loss + f_loss\n",
    "        d_loss.backward()\n",
    "        d_optimizer.step()\n",
    "        \n",
    "        \n",
    "        # =========================================\n",
    "        #            TRAIN THE GENERATOR\n",
    "        # =========================================\n",
    "        \n",
    "        # 1. Train with fake images and flipped labels\n",
    "        g_optimizer.zero_grad()\n",
    "        \n",
    "        # Generate fake images\n",
    "        z = np.random.uniform(-1, 1, size=(batch_size, z_size))\n",
    "        z = torch.from_numpy(z).float()\n",
    "        if train_on_gpu: z.cuda()\n",
    "        fake_images = G(z)\n",
    "        \n",
    "        \n",
    "        # Compute the discriminator losses on fake images \n",
    "        # using flipped labels\n",
    "        D_out = D(fake_images)\n",
    "        \n",
    "        # perform backprop\n",
    "        g_loss = real_loss(D_out) # want to get discriminators as close to a 1 as possible, so use real_loss\n",
    "        g_loss.backward()\n",
    "        g_optimizer.step()\n",
    "        \n",
    "\n",
    "        # Print some loss stats\n",
    "        if batch_i % print_every == 0:\n",
    "            # print discriminator and generator loss\n",
    "            print('Epoch [{:5d}/{:5d}] | d_loss: {:6.4f} | g_loss: {:6.4f}'.format(\n",
    "                    epoch+1, num_epochs, d_loss.item(), g_loss.item()))\n",
    "\n",
    "    \n",
    "    ## AFTER EACH EPOCH##\n",
    "    # append discriminator loss and generator loss\n",
    "    losses.append((d_loss.item(), g_loss.item()))\n",
    "    \n",
    "    # generate and save sample, fake images\n",
    "    G.eval() # eval mode for generating samples\n",
    "    samples_z = G(fixed_z)\n",
    "    samples.append(samples_z)\n",
    "    G.train() # back to train mode\n",
    "\n",
    "\n",
    "# Save training generator samples\n",
    "with open('train_samples.pkl', 'wb') as f:\n",
    "    pkl.dump(samples, f)"
   ]
  },
  {
   "cell_type": "markdown",
   "metadata": {},
   "source": [
    "## Training loss\n",
    "\n",
    "Here we'll plot the training losses for the generator and discriminator, recorded after each epoch."
   ]
  },
  {
   "cell_type": "code",
   "execution_count": 72,
   "metadata": {},
   "outputs": [
    {
     "data": {
      "text/plain": [
       "<matplotlib.legend.Legend at 0x7f21cd06b550>"
      ]
     },
     "execution_count": 72,
     "metadata": {},
     "output_type": "execute_result"
    },
    {
     "data": {
      "image/png": "[encoded data removed]",
      "text/plain": [
       "<Figure size 432x288 with 1 Axes>"
      ]
     },
     "metadata": {
      "needs_background": "light"
     },
     "output_type": "display_data"
    }
   ],
   "source": [
    "fig, ax = plt.subplots()\n",
    "losses = np.array(losses)\n",
    "plt.plot(losses.T[0], label='Discriminator')\n",
    "plt.plot(losses.T[1], label='Generator')\n",
    "plt.title(\"Training Losses\")\n",
    "plt.legend()"
   ]
  },
  {
   "cell_type": "markdown",
   "metadata": {},
   "source": [
    "## Generator samples from training\n",
    "\n",
    "Here we can view samples of images from the generator. First we'll look at the images we saved during training."
   ]
  },
  {
   "cell_type": "code",
   "execution_count": 73,
   "metadata": {},
   "outputs": [],
   "source": [
    "# helper function for viewing a list of passed in sample images\n",
    "def view_samples(epoch, samples):\n",
    "    fig, axes = plt.subplots(figsize=(7,7), nrows=4, ncols=4, sharey=True, sharex=True)\n",
    "    for ax, img in zip(axes.flatten(), samples[epoch]):\n",
    "        img = img.detach()\n",
    "        ax.xaxis.set_visible(False)\n",
    "        ax.yaxis.set_visible(False)\n",
    "        im = ax.imshow(img.reshape((28,28)), cmap='Greys_r')"
   ]
  },
  {
   "cell_type": "code",
   "execution_count": 74,
   "metadata": {},
   "outputs": [],
   "source": [
    "# Load samples from generator, taken while training\n",
    "with open('train_samples.pkl', 'rb') as f:\n",
    "    samples = pkl.load(f)"
   ]
  },
  {
   "cell_type": "markdown",
   "metadata": {},
   "source": [
    "These are samples from the final training epoch. You can see the generator is able to reproduce numbers like 1, 7, 3, 2. Since this is just a sample, it isn't representative of the full range of images this generator can make."
   ]
  },
  {
   "cell_type": "code",
   "execution_count": 75,
   "metadata": {},
   "outputs": [
    {
     "data": {
      "image/png": "[encoded data removed]",
      "text/plain": [
       "<Figure size 504x504 with 16 Axes>"
      ]
     },
     "metadata": {
      "needs_background": "light"
     },
     "output_type": "display_data"
    }
   ],
   "source": [
    "# -1 indicates final epoch's samples (the last in the list)\n",
    "view_samples(-1, samples)"
   ]
  },
  {
   "cell_type": "markdown",
   "metadata": {},
   "source": [
    "Below I'm showing the generated images as the network was training, every 10 epochs."
   ]
  },
  {
   "cell_type": "code",
   "execution_count": 76,
   "metadata": {},
   "outputs": [
    {
     "data": {
      "image/png": "[encoded data removed]",
      "text/plain": [
       "<Figure size 504x864 with 60 Axes>"
      ]
     },
     "metadata": {
      "needs_background": "light"
     },
     "output_type": "display_data"
    }
   ],
   "source": [
    "rows = 10 # split epochs into 10, so 100/10 = every 10 epochs\n",
    "cols = 6\n",
    "fig, axes = plt.subplots(figsize=(7,12), nrows=rows, ncols=cols, sharex=True, sharey=True)\n",
    "\n",
    "for sample, ax_row in zip(samples[::int(len(samples)/rows)], axes):\n",
    "    for img, ax in zip(sample[::int(len(sample)/cols)], ax_row):\n",
    "        img = img.detach()\n",
    "        ax.imshow(img.reshape((28,28)), cmap='Greys_r')\n",
    "        ax.xaxis.set_visible(False)\n",
    "        ax.yaxis.set_visible(False)"
   ]
  },
  {
   "cell_type": "markdown",
   "metadata": {},
   "source": [
    "It starts out as all noise. Then it learns to make only the center white and the rest black. You can start to see some number like structures appear out of the noise like 1s and 9s."
   ]
  },
  {
   "cell_type": "markdown",
   "metadata": {},
   "source": [
    "## Sampling from the generator\n",
    "\n",
    "We can also get completely new images from the generator by using the checkpoint we saved after training. **We just need to pass in a new latent vector $z$ and we'll get new samples**!"
   ]
  },
  {
   "cell_type": "code",
   "execution_count": 78,
   "metadata": {},
   "outputs": [
    {
     "data": {
      "image/png": "[encoded data removed]",
      "text/plain": [
       "<Figure size 504x504 with 16 Axes>"
      ]
     },
     "metadata": {
      "needs_background": "light"
     },
     "output_type": "display_data"
    }
   ],
   "source": [
    "# randomly generated, new latent vectors\n",
    "sample_size=16\n",
    "rand_z = np.random.uniform(-1, 1, size=(sample_size, z_size))\n",
    "rand_z = torch.from_numpy(rand_z).float()\n",
    "\n",
    "G.eval() # eval mode\n",
    "# generated samples\n",
    "rand_images = G(rand_z)\n",
    "\n",
    "# 0 indicates the first set of samples in the passed in list\n",
    "# and we only have one batch of samples, here\n",
    "view_samples(0, [rand_images])"
   ]
  },
  {
   "cell_type": "code",
   "execution_count": null,
   "metadata": {},
   "outputs": [],
   "source": []
  }
 ],
 "metadata": {
  "kernelspec": {
   "display_name": "Python 3",
   "language": "python",
   "name": "python3"
  },
  "language_info": {
   "codemirror_mode": {
    "name": "ipython",
    "version": 3
   },
   "file_extension": ".py",
   "mimetype": "text/x-python",
   "name": "python",
   "nbconvert_exporter": "python",
   "pygments_lexer": "ipython3",
   "version": "3.7.7"
  },
  "latex_envs": {
   "LaTeX_envs_menu_present": true,
   "autoclose": false,
   "autocomplete": true,
   "bibliofile": "biblio.bib",
   "cite_by": "apalike",
   "current_citInitial": 1,
   "eqLabelWithNumbers": true,
   "eqNumInitial": 1,
   "hotkeys": {
    "equation": "Ctrl-E",
    "itemize": "Ctrl-I"
   },
   "labels_anchors": false,
   "latex_user_defs": false,
   "report_style_numbering": false,
   "user_envs_cfg": false
  },
  "toc": {
   "base_numbering": 1,
   "nav_menu": {},
   "number_sections": true,
   "sideBar": true,
   "skip_h1_title": false,
   "title_cell": "Table of Contents",
   "title_sidebar": "Contents",
   "toc_cell": false,
   "toc_position": {},
   "toc_section_display": true,
   "toc_window_display": false
  },
  "varInspector": {
   "cols": {
    "lenName": 16,
    "lenType": 16,
    "lenVar": 40
   },
   "kernels_config": {
    "python": {
     "delete_cmd_postfix": "",
     "delete_cmd_prefix": "del ",
     "library": "var_list.py",
     "varRefreshCmd": "print(var_dic_list())"
    },
    "r": {
     "delete_cmd_postfix": ") ",
     "delete_cmd_prefix": "rm(",
     "library": "var_list.r",
     "varRefreshCmd": "cat(var_dic_list()) "
    }
   },
   "types_to_exclude": [
    "module",
    "function",
    "builtin_function_or_method",
    "instance",
    "_Feature"
   ],
   "window_display": false
  }
 },
 "nbformat": 4,
 "nbformat_minor": 2
}
