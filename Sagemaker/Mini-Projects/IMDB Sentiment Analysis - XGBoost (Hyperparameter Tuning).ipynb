{
 "cells": [
  {
   "cell_type": "markdown",
   "metadata": {},
   "source": [
    "# Sentiment Analysis\n",
    "\n",
    "## Using XGBoost in SageMaker\n",
    "\n",
    "_Deep Learning Nanodegree Program | Deployment_\n",
    "\n",
    "---\n",
    "\n",
    "In this example of using Amazon's SageMaker service we will construct a random tree model to predict the sentiment of a movie review. You may have seen a version of this example in a pervious lesson although it would have been done using the sklearn package. Instead, we will be using the XGBoost package as it is provided to us by Amazon.\n",
    "\n",
    "## Instructions\n",
    "\n",
    "Some template code has already been provided for you, and you will need to implement additional functionality to successfully complete this notebook. You will not need to modify the included code beyond what is requested. Sections that begin with '**TODO**' in the header indicate that you need to complete or implement some portion within them. Instructions will be provided for each section and the specifics of the implementation are marked in the code block with a `# TODO: ...` comment. Please be sure to read the instructions carefully!\n",
    "\n",
    "In addition to implementing code, there will be questions for you to answer which relate to the task and your implementation. Each section where you will answer a question is preceded by a '**Question:**' header. Carefully read each question and provide your answer below the '**Answer:**' header by editing the Markdown cell.\n",
    "\n",
    "> **Note**: Code and Markdown cells can be executed using the **Shift+Enter** keyboard shortcut. In addition, a cell can be edited by typically clicking it (double-click for Markdown cells) or by pressing **Enter** while it is highlighted."
   ]
  },
  {
   "cell_type": "markdown",
   "metadata": {},
   "source": [
    "## Step 1: Downloading the data\n",
    "\n",
    "The dataset we are going to use is very popular among researchers in Natural Language Processing, usually referred to as the [IMDb dataset](http://ai.stanford.edu/~amaas/data/sentiment/). It consists of movie reviews from the website [imdb.com](http://www.imdb.com/), each labeled as either '**pos**itive', if the reviewer enjoyed the film, or '**neg**ative' otherwise.\n",
    "\n",
    "> Maas, Andrew L., et al. [Learning Word Vectors for Sentiment Analysis](http://ai.stanford.edu/~amaas/data/sentiment/). In _Proceedings of the 49th Annual Meeting of the Association for Computational Linguistics: Human Language Technologies_. Association for Computational Linguistics, 2011.\n",
    "\n",
    "We begin by using some Jupyter Notebook magic to download and extract the dataset."
   ]
  },
  {
   "cell_type": "code",
   "execution_count": 42,
   "metadata": {},
   "outputs": [
    {
     "name": "stdout",
     "output_type": "stream",
     "text": [
      "mkdir: cannot create directory ‘../data’: File exists\n",
      "--2020-10-14 12:28:41--  http://ai.stanford.edu/~amaas/data/sentiment/aclImdb_v1.tar.gz\n",
      "Resolving ai.stanford.edu (ai.stanford.edu)... 171.64.68.10\n",
      "Connecting to ai.stanford.edu (ai.stanford.edu)|171.64.68.10|:80... connected.\n",
      "HTTP request sent, awaiting response... 200 OK\n",
      "Length: 84125825 (80M) [application/x-gzip]\n",
      "Saving to: ‘../data/aclImdb_v1.tar.gz’\n",
      "\n",
      "../data/aclImdb_v1. 100%[===================>]  80.23M  24.2MB/s    in 4.5s    \n",
      "\n",
      "2020-10-14 12:28:46 (17.7 MB/s) - ‘../data/aclImdb_v1.tar.gz’ saved [84125825/84125825]\n",
      "\n"
     ]
    }
   ],
   "source": [
    "%mkdir ../data\n",
    "!wget -O ../data/aclImdb_v1.tar.gz http://ai.stanford.edu/~amaas/data/sentiment/aclImdb_v1.tar.gz\n",
    "!tar -zxf ../data/aclImdb_v1.tar.gz -C ../data"
   ]
  },
  {
   "cell_type": "markdown",
   "metadata": {},
   "source": [
    "## Step 2: Preparing the data\n",
    "\n",
    "The data we have downloaded is split into various files, each of which contains a single review. It will be much easier going forward if we combine these individual files into two large files, one for training and one for testing."
   ]
  },
  {
   "cell_type": "code",
   "execution_count": 43,
   "metadata": {},
   "outputs": [],
   "source": [
    "import os\n",
    "import glob\n",
    "\n",
    "def read_imdb_data(data_dir='../data/aclImdb'):\n",
    "    data = {}\n",
    "    labels = {}\n",
    "    \n",
    "    for data_type in ['train', 'test']:\n",
    "        data[data_type] = {}\n",
    "        labels[data_type] = {}\n",
    "        \n",
    "        for sentiment in ['pos', 'neg']:\n",
    "            data[data_type][sentiment] = []\n",
    "            labels[data_type][sentiment] = []\n",
    "            \n",
    "            path = os.path.join(data_dir, data_type, sentiment, '*.txt')\n",
    "            files = glob.glob(path)\n",
    "            \n",
    "            for f in files:\n",
    "                with open(f) as review:\n",
    "                    data[data_type][sentiment].append(review.read())\n",
    "                    # Here we represent a positive review by '1' and a negative review by '0'\n",
    "                    labels[data_type][sentiment].append(1 if sentiment == 'pos' else 0)\n",
    "                    \n",
    "            assert len(data[data_type][sentiment]) == len(labels[data_type][sentiment]), \\\n",
    "                    \"{}/{} data size does not match labels size\".format(data_type, sentiment)\n",
    "                \n",
    "    return data, labels"
   ]
  },
  {
   "cell_type": "code",
   "execution_count": 44,
   "metadata": {},
   "outputs": [
    {
     "name": "stdout",
     "output_type": "stream",
     "text": [
      "IMDB reviews: train = 12500 pos / 12500 neg, test = 12500 pos / 12500 neg\n"
     ]
    }
   ],
   "source": [
    "data, labels = read_imdb_data()\n",
    "print(\"IMDB reviews: train = {} pos / {} neg, test = {} pos / {} neg\".format(\n",
    "            len(data['train']['pos']), len(data['train']['neg']),\n",
    "            len(data['test']['pos']), len(data['test']['neg'])))"
   ]
  },
  {
   "cell_type": "code",
   "execution_count": 45,
   "metadata": {},
   "outputs": [],
   "source": [
    "from sklearn.utils import shuffle\n",
    "\n",
    "def prepare_imdb_data(data, labels):\n",
    "    \"\"\"Prepare training and test sets from IMDb movie reviews.\"\"\"\n",
    "    \n",
    "    #Combine positive and negative reviews and labels\n",
    "    data_train = data['train']['pos'] + data['train']['neg']\n",
    "    data_test = data['test']['pos'] + data['test']['neg']\n",
    "    labels_train = labels['train']['pos'] + labels['train']['neg']\n",
    "    labels_test = labels['test']['pos'] + labels['test']['neg']\n",
    "    \n",
    "    #Shuffle reviews and corresponding labels within training and test sets\n",
    "    data_train, labels_train = shuffle(data_train, labels_train)\n",
    "    data_test, labels_test = shuffle(data_test, labels_test)\n",
    "    \n",
    "    # Return a unified training data, test data, training labels, test labets\n",
    "    return data_train, data_test, labels_train, labels_test"
   ]
  },
  {
   "cell_type": "code",
   "execution_count": 46,
   "metadata": {},
   "outputs": [
    {
     "name": "stdout",
     "output_type": "stream",
     "text": [
      "IMDb reviews (combined): train = 25000, test = 25000\n"
     ]
    }
   ],
   "source": [
    "train_X, test_X, train_y, test_y = prepare_imdb_data(data, labels)\n",
    "print(\"IMDb reviews (combined): train = {}, test = {}\".format(len(train_X), len(test_X)))"
   ]
  },
  {
   "cell_type": "code",
   "execution_count": 47,
   "metadata": {},
   "outputs": [
    {
     "data": {
      "text/plain": [
       "'Disney has yet to meet a movie it couldn\\'t make at least two sequels about. And this one was no exception to the people at Disney to give a weak story to receive a quick reward. Somehow, although I did not pay to view it, I feel cheapened by watching it.<br /><br />Ariel is grown up now and had a daughter. Yet doesn\\'t allow the daughter to go into the sea because of some idle threat made by the sister of the deceased sea-witch. So here we go again.<br /><br />The daughter is tricked (of course) and helps the sea-witch. After a not-so-glorious battle, she is defeated and the mermaids and humans live in harmony. Yawn.<br /><br />There is nothing to view here. Go back to your lives. \"D-\"'"
      ]
     },
     "execution_count": 47,
     "metadata": {},
     "output_type": "execute_result"
    }
   ],
   "source": [
    "train_X[100]"
   ]
  },
  {
   "cell_type": "markdown",
   "metadata": {},
   "source": [
    "## Step 3: Processing the data\n",
    "\n",
    "Now that we have our training and testing datasets merged and ready to use, we need to start processing the raw data into something that will be useable by our machine learning algorithm. To begin with, we remove any html formatting that may appear in the reviews and perform some standard natural language processing in order to homogenize the data."
   ]
  },
  {
   "cell_type": "code",
   "execution_count": 48,
   "metadata": {},
   "outputs": [
    {
     "name": "stderr",
     "output_type": "stream",
     "text": [
      "[nltk_data] Downloading package stopwords to\n",
      "[nltk_data]     /home/ec2-user/nltk_data...\n",
      "[nltk_data]   Package stopwords is already up-to-date!\n"
     ]
    }
   ],
   "source": [
    "import nltk\n",
    "nltk.download(\"stopwords\")\n",
    "from nltk.corpus import stopwords\n",
    "from nltk.stem.porter import *\n",
    "stemmer = PorterStemmer()"
   ]
  },
  {
   "cell_type": "code",
   "execution_count": 49,
   "metadata": {},
   "outputs": [],
   "source": [
    "import re\n",
    "from bs4 import BeautifulSoup\n",
    "\n",
    "def review_to_words(review):\n",
    "    text = BeautifulSoup(review, \"html.parser\").get_text() # Remove HTML tags\n",
    "    text = re.sub(r\"[^a-zA-Z0-9]\", \" \", text.lower()) # Convert to lower case\n",
    "    words = text.split() # Split string into words\n",
    "    words = [w for w in words if w not in stopwords.words(\"english\")] # Remove stopwords\n",
    "    words = [PorterStemmer().stem(w) for w in words] # stem\n",
    "    \n",
    "    return words"
   ]
  },
  {
   "cell_type": "code",
   "execution_count": 50,
   "metadata": {},
   "outputs": [],
   "source": [
    "import pickle\n",
    "\n",
    "cache_dir = os.path.join(\"../cache\", \"sentiment_analysis\")  # where to store cache files\n",
    "os.makedirs(cache_dir, exist_ok=True)  # ensure cache directory exists\n",
    "\n",
    "def preprocess_data(data_train, data_test, labels_train, labels_test,\n",
    "                    cache_dir=cache_dir, cache_file=\"preprocessed_data.pkl\"):\n",
    "    \"\"\"Convert each review to words; read from cache if available.\"\"\"\n",
    "\n",
    "    # If cache_file is not None, try to read from it first\n",
    "    cache_data = None\n",
    "    if cache_file is not None:\n",
    "        try:\n",
    "            with open(os.path.join(cache_dir, cache_file), \"rb\") as f:\n",
    "                cache_data = pickle.load(f)\n",
    "            print(\"Read preprocessed data from cache file:\", cache_file)\n",
    "        except:\n",
    "            pass  # unable to read from cache, but that's okay\n",
    "    \n",
    "    # If cache is missing, then do the heavy lifting\n",
    "    if cache_data is None:\n",
    "        # Preprocess training and test data to obtain words for each review\n",
    "        #words_train = list(map(review_to_words, data_train))\n",
    "        #words_test = list(map(review_to_words, data_test))\n",
    "        print('Processing training words.')\n",
    "        words_train = [review_to_words(review) for review in data_train]\n",
    "        print('Processing testing words.')\n",
    "        words_test = [review_to_words(review) for review in data_test]\n",
    "        \n",
    "        # Write to cache file for future runs\n",
    "        if cache_file is not None:\n",
    "            cache_data = dict(words_train=words_train, words_test=words_test,\n",
    "                              labels_train=labels_train, labels_test=labels_test)\n",
    "            with open(os.path.join(cache_dir, cache_file), \"wb\") as f:\n",
    "                pickle.dump(cache_data, f)\n",
    "            print(\"Wrote preprocessed data to cache file:\", cache_file)\n",
    "    else:\n",
    "        # Unpack data loaded from cache file\n",
    "        words_train, words_test, labels_train, labels_test = (cache_data['words_train'],\n",
    "                cache_data['words_test'], cache_data['labels_train'], cache_data['labels_test'])\n",
    "    \n",
    "    return words_train, words_test, labels_train, labels_test"
   ]
  },
  {
   "cell_type": "code",
   "execution_count": 51,
   "metadata": {},
   "outputs": [
    {
     "name": "stdout",
     "output_type": "stream",
     "text": [
      "Read preprocessed data from cache file: preprocessed_data.pkl\n"
     ]
    }
   ],
   "source": [
    "# Preprocess data\n",
    "train_X, test_X, train_y, test_y = preprocess_data(train_X, test_X, train_y, test_y)"
   ]
  },
  {
   "cell_type": "markdown",
   "metadata": {},
   "source": [
    "### Extract Bag-of-Words features\n",
    "\n",
    "For the model we will be implementing, rather than using the reviews directly, we are going to transform each review into a Bag-of-Words feature representation. Keep in mind that 'in the wild' we will only have access to the training set so our transformer can only use the training set to construct a representation."
   ]
  },
  {
   "cell_type": "code",
   "execution_count": 52,
   "metadata": {},
   "outputs": [],
   "source": [
    "import numpy as np\n",
    "from sklearn.feature_extraction.text import CountVectorizer\n",
    "from sklearn.externals import joblib\n",
    "# joblib is an enhanced version of pickle that is more efficient for storing NumPy arrays\n",
    "\n",
    "def extract_BoW_features(words_train, words_test, vocabulary_size=5000,\n",
    "                         cache_dir=cache_dir, cache_file=\"bow_features.pkl\"):\n",
    "    \"\"\"Extract Bag-of-Words for a given set of documents, already preprocessed into words.\"\"\"\n",
    "    \n",
    "    # If cache_file is not None, try to read from it first\n",
    "    cache_data = None\n",
    "    if cache_file is not None:\n",
    "        try:\n",
    "            with open(os.path.join(cache_dir, cache_file), \"rb\") as f:\n",
    "                cache_data = joblib.load(f)\n",
    "            print(\"Read features from cache file:\", cache_file)\n",
    "        except:\n",
    "            pass  # unable to read from cache, but that's okay\n",
    "    \n",
    "    # If cache is missing, then do the heavy lifting\n",
    "    if cache_data is None:\n",
    "        # Fit a vectorizer to training documents and use it to transform them\n",
    "        # NOTE: Training documents have already been preprocessed and tokenized into words;\n",
    "        #       pass in dummy functions to skip those steps, e.g. preprocessor=lambda x: x\n",
    "        vectorizer = CountVectorizer(max_features=vocabulary_size,\n",
    "                preprocessor=lambda x: x, tokenizer=lambda x: x)  # already preprocessed\n",
    "        features_train = vectorizer.fit_transform(words_train).toarray()\n",
    "\n",
    "        # Apply the same vectorizer to transform the test documents (ignore unknown words)\n",
    "        features_test = vectorizer.transform(words_test).toarray()\n",
    "        \n",
    "        # NOTE: Remember to convert the features using .toarray() for a compact representation\n",
    "        \n",
    "        # Write to cache file for future runs (store vocabulary as well)\n",
    "        if cache_file is not None:\n",
    "            vocabulary = vectorizer.vocabulary_\n",
    "            cache_data = dict(features_train=features_train, features_test=features_test,\n",
    "                             vocabulary=vocabulary)\n",
    "            with open(os.path.join(cache_dir, cache_file), \"wb\") as f:\n",
    "                joblib.dump(cache_data, f)\n",
    "            print(\"Wrote features to cache file:\", cache_file)\n",
    "    else:\n",
    "        # Unpack data loaded from cache file\n",
    "        features_train, features_test, vocabulary = (cache_data['features_train'],\n",
    "                cache_data['features_test'], cache_data['vocabulary'])\n",
    "    \n",
    "    # Return both the extracted features as well as the vocabulary\n",
    "    return features_train, features_test, vocabulary"
   ]
  },
  {
   "cell_type": "code",
   "execution_count": 53,
   "metadata": {},
   "outputs": [
    {
     "name": "stdout",
     "output_type": "stream",
     "text": [
      "Read features from cache file: bow_features.pkl\n"
     ]
    }
   ],
   "source": [
    "# Extract Bag of Words features for both training and test datasets\n",
    "train_X, test_X, vocabulary = extract_BoW_features(train_X, test_X)"
   ]
  },
  {
   "cell_type": "markdown",
   "metadata": {},
   "source": [
    "## Step 4: Classification using XGBoost\n",
    "\n",
    "Now that we have created the feature representation of our training (and testing) data, it is time to start setting up and using the XGBoost classifier provided by SageMaker.\n",
    "\n",
    "### Writing the dataset\n",
    "\n",
    "The XGBoost classifier that we will be using requires the dataset to be written to a file and stored using Amazon S3. To do this, we will start by splitting the training dataset into two parts, the data we will train the model with and a validation set. Then, we will write those datasets to a file and upload the files to S3. In addition, we will write the test set input to a file and upload the file to S3. This is so that we can use SageMakers Batch Transform functionality to test our model once we've fit it."
   ]
  },
  {
   "cell_type": "code",
   "execution_count": 54,
   "metadata": {},
   "outputs": [],
   "source": [
    "import pandas as pd\n",
    "\n",
    "val_X = pd.DataFrame(train_X[:10000])\n",
    "train_X = pd.DataFrame(train_X[10000:])\n",
    "\n",
    "val_y = pd.DataFrame(train_y[:10000])\n",
    "train_y = pd.DataFrame(train_y[10000:])\n",
    "\n",
    "test_y = pd.DataFrame(test_y)\n",
    "test_X = pd.DataFrame(test_X)"
   ]
  },
  {
   "cell_type": "markdown",
   "metadata": {},
   "source": [
    "The documentation for the XGBoost algorithm in SageMaker requires that the saved datasets should contain no headers or index and that for the training and validation data, the label should occur first for each sample.\n",
    "\n",
    "For more information about this and other algorithms, the SageMaker developer documentation can be found on __[Amazon's website.](https://docs.aws.amazon.com/sagemaker/latest/dg/)__"
   ]
  },
  {
   "cell_type": "code",
   "execution_count": 55,
   "metadata": {},
   "outputs": [],
   "source": [
    "# First we make sure that the local directory in which we'd like to store the training and validation csv files exists.\n",
    "data_dir = '../data/xgboost'\n",
    "if not os.path.exists(data_dir):\n",
    "    os.makedirs(data_dir)"
   ]
  },
  {
   "cell_type": "code",
   "execution_count": 56,
   "metadata": {},
   "outputs": [],
   "source": [
    "# First, save the test data to test.csv in the data_dir directory. Note that we do not save the associated ground truth\n",
    "# labels, instead we will use them later to compare with our model output.\n",
    "\n",
    "pd.DataFrame(test_X).to_csv(os.path.join(data_dir, 'test.csv'), header=False, index=False)\n",
    "pd.concat([val_y, val_X], axis=1).to_csv(os.path.join(data_dir, 'validation.csv'), header=False, index=False)\n",
    "pd.concat([train_y, train_X], axis=1).to_csv(os.path.join(data_dir, 'train.csv'), header=False, index=False)"
   ]
  },
  {
   "cell_type": "code",
   "execution_count": 57,
   "metadata": {},
   "outputs": [],
   "source": [
    "# To save a bit of memory we can set text_X, train_X, val_X, train_y and val_y to None.\n",
    "\n",
    "train_X = val_X = train_y = val_y = None"
   ]
  },
  {
   "cell_type": "markdown",
   "metadata": {},
   "source": [
    "### Uploading Training / Validation files to S3\n",
    "\n",
    "Amazon's S3 service allows us to store files that can be access by both the built-in training models such as the XGBoost model we will be using as well as custom models such as the one we will see a little later.\n",
    "\n",
    "For this, and most other tasks we will be doing using SageMaker, there are two methods we could use. The first is to use the low level functionality of SageMaker which requires knowing each of the objects involved in the SageMaker environment. The second is to use the high level functionality in which certain choices have been made on the user's behalf. The low level approach benefits from allowing the user a great deal of flexibility while the high level approach makes development much quicker. For our purposes we will opt to use the high level approach although using the low-level approach is certainly an option.\n",
    "\n",
    "Recall the method `upload_data()` which is a member of object representing our current SageMaker session. What this method does is upload the data to the default bucket (which is created if it does not exist) into the path described by the key_prefix variable. To see this for yourself, once you have uploaded the data files, go to the S3 console and look to see where the files have been uploaded.\n",
    "\n",
    "For additional resources, see the __[SageMaker API documentation](http://sagemaker.readthedocs.io/en/latest/)__ and in addition the __[SageMaker Developer Guide.](https://docs.aws.amazon.com/sagemaker/latest/dg/)__"
   ]
  },
  {
   "cell_type": "code",
   "execution_count": 22,
   "metadata": {},
   "outputs": [],
   "source": [
    "import sagemaker\n",
    "\n",
    "session = sagemaker.Session() # Store the current SageMaker session\n",
    "\n",
    "# S3 prefix (which folder will we use)\n",
    "prefix = 'sentiment-xgboost'\n",
    "\n",
    "test_location = session.upload_data(os.path.join(data_dir, 'test.csv'), key_prefix=prefix)\n",
    "val_location = session.upload_data(os.path.join(data_dir, 'validation.csv'), key_prefix=prefix)\n",
    "train_location = session.upload_data(os.path.join(data_dir, 'train.csv'), key_prefix=prefix)"
   ]
  },
  {
   "cell_type": "code",
   "execution_count": 58,
   "metadata": {},
   "outputs": [],
   "source": [
    "test_location = session.upload_data(os.path.join(data_dir, 'test.csv'), key_prefix=prefix)"
   ]
  },
  {
   "cell_type": "markdown",
   "metadata": {},
   "source": [
    "### (TODO) Creating a hypertuned XGBoost model\n",
    "\n",
    "Now that the data has been uploaded it is time to create the XGBoost model. As in the Boston Housing notebook, the first step is to create an estimator object which will be used as the *base* of your hyperparameter tuning job."
   ]
  },
  {
   "cell_type": "code",
   "execution_count": 23,
   "metadata": {},
   "outputs": [],
   "source": [
    "from sagemaker import get_execution_role\n",
    "\n",
    "# Our current execution role is require when creating the model as the training\n",
    "# and inference code will need to access the model artifacts.\n",
    "role = get_execution_role()"
   ]
  },
  {
   "cell_type": "code",
   "execution_count": 24,
   "metadata": {},
   "outputs": [
    {
     "name": "stderr",
     "output_type": "stream",
     "text": [
      "'get_image_uri' method will be deprecated in favor of 'ImageURIProvider' class in SageMaker Python SDK v2.\n"
     ]
    }
   ],
   "source": [
    "# We need to retrieve the location of the container which is provided by Amazon for using XGBoost.\n",
    "# As a matter of convenience, the training and inference code both use the same container.\n",
    "from sagemaker.amazon.amazon_estimator import get_image_uri\n",
    "\n",
    "container = get_image_uri(session.boto_region_name, 'xgboost', '1.0-1')"
   ]
  },
  {
   "cell_type": "code",
   "execution_count": 25,
   "metadata": {},
   "outputs": [
    {
     "name": "stderr",
     "output_type": "stream",
     "text": [
      "Parameter image_name will be renamed to image_uri in SageMaker Python SDK v2.\n"
     ]
    }
   ],
   "source": [
    "# TODO: Create a SageMaker estimator using the container location determined in the previous cell.\n",
    "#       It is recommended that you use a single training instance of type ml.m4.xlarge. It is also\n",
    "#       recommended that you use 's3://{}/{}/output'.format(session.default_bucket(), prefix) as the\n",
    "#       output path.\n",
    "\n",
    "xgb = sagemaker.estimator.Estimator(container,\n",
    "                                    role,\n",
    "                                    train_instance_count=1,\n",
    "                                    train_instance_type='ml.m4.xlarge',\n",
    "                                    output_path='s3://{}/{}/output'.format(session.default_bucket(), prefix),\n",
    "                                    sagemaker_session=session)\n",
    "\n",
    "# TODO: Set the XGBoost hyperparameters in the xgb object. Don't forget that in this case we have a binary\n",
    "#       label so we should be using the 'binary:logistic' objective.\n",
    "xgb.set_hyperparameters(max_depth=5,\n",
    "                        eta=0.2,\n",
    "                        gamma=4,\n",
    "                        min_child_weight=6,\n",
    "                        subsample=0.8,\n",
    "                        objective='binary:logistic',\n",
    "                        early_stopping_rounds=10,\n",
    "                        num_round=200)\n"
   ]
  },
  {
   "cell_type": "markdown",
   "metadata": {},
   "source": [
    "### (TODO) Create the hyperparameter tuner\n",
    "\n",
    "Now that the base estimator has been set up we need to construct a hyperparameter tuner object which we will use to request SageMaker construct a hyperparameter tuning job.\n",
    "\n",
    "**Note:** Training a single sentiment analysis XGBoost model takes longer than training a Boston Housing XGBoost model so if you don't want the hyperparameter tuning job to take too long, make sure to not set the total number of models (jobs) too high."
   ]
  },
  {
   "cell_type": "code",
   "execution_count": 27,
   "metadata": {},
   "outputs": [],
   "source": [
    "# First, make sure to import the relevant objects used to construct the tuner\n",
    "from sagemaker.tuner import IntegerParameter, ContinuousParameter, HyperparameterTuner\n",
    "\n",
    "# TODO: Create the hyperparameter tuner object\n",
    "\n",
    "xgb_hyperparameter_tuner = HyperparameterTuner(estimator = xgb,\n",
    "                                               objective_metric_name = 'validation:rmse',\n",
    "                                               objective_type = 'Minimize',\n",
    "                                               max_jobs = 5,\n",
    "                                               max_parallel_jobs = 3,\n",
    "                                               hyperparameter_ranges = {\n",
    "                                                   'max_depth': IntegerParameter(3, 12),\n",
    "                                                   'eta'      : ContinuousParameter(0.05, 0.5),\n",
    "                                                   'min_child_weight': IntegerParameter(2, 8),\n",
    "                                                   'subsample': ContinuousParameter(0.5, 0.9),\n",
    "                                                   'gamma': ContinuousParameter(0, 10)\n",
    "                                               }\n",
    "                                              )\n",
    "\n"
   ]
  },
  {
   "cell_type": "markdown",
   "metadata": {},
   "source": [
    "### Fit the hyperparameter tuner\n",
    "\n",
    "Now that the hyperparameter tuner object has been constructed, it is time to fit the various models and find the best performing model."
   ]
  },
  {
   "cell_type": "code",
   "execution_count": 28,
   "metadata": {},
   "outputs": [
    {
     "name": "stderr",
     "output_type": "stream",
     "text": [
      "'s3_input' class will be renamed to 'TrainingInput' in SageMaker Python SDK v2.\n",
      "'s3_input' class will be renamed to 'TrainingInput' in SageMaker Python SDK v2.\n"
     ]
    }
   ],
   "source": [
    "s3_input_train = sagemaker.s3_input(s3_data=train_location, content_type='text/csv')\n",
    "s3_input_validation = sagemaker.s3_input(s3_data=val_location, content_type='text/csv')"
   ]
  },
  {
   "cell_type": "code",
   "execution_count": 29,
   "metadata": {},
   "outputs": [],
   "source": [
    "xgb_hyperparameter_tuner.fit({'train': s3_input_train, 'validation': s3_input_validation})"
   ]
  },
  {
   "cell_type": "markdown",
   "metadata": {},
   "source": [
    "Remember that the tuning job is constructed and run in the background so if we want to see the progress of our training job we need to call the `wait()` method."
   ]
  },
  {
   "cell_type": "code",
   "execution_count": 30,
   "metadata": {},
   "outputs": [
    {
     "name": "stdout",
     "output_type": "stream",
     "text": [
      ".................................................................................................................................................................................................................!\n"
     ]
    }
   ],
   "source": [
    "xgb_hyperparameter_tuner.wait()"
   ]
  },
  {
   "cell_type": "markdown",
   "metadata": {},
   "source": [
    "### (TODO) Testing the model\n",
    "\n",
    "Now that we've run our hyperparameter tuning job, it's time to see how well the best performing model actually performs. To do this we will use SageMaker's Batch Transform functionality. Batch Transform is a convenient way to perform inference on a large dataset in a way that is not realtime. That is, we don't necessarily need to use our model's results immediately and instead we can peform inference on a large number of samples. An example of this in industry might be peforming an end of month report. This method of inference can also be useful to us as it means to can perform inference on our entire test set. \n",
    "\n",
    "Remember that in order to create a transformer object to perform the batch transform job, we need a trained estimator object. We can do that using the `attach()` method, creating an estimator object which is attached to the best trained job."
   ]
  },
  {
   "cell_type": "code",
   "execution_count": 32,
   "metadata": {},
   "outputs": [
    {
     "name": "stderr",
     "output_type": "stream",
     "text": [
      "Parameter image_name will be renamed to image_uri in SageMaker Python SDK v2.\n"
     ]
    },
    {
     "name": "stdout",
     "output_type": "stream",
     "text": [
      "2020-10-14 12:05:39 Starting - Preparing the instances for training\n",
      "2020-10-14 12:05:39 Downloading - Downloading input data\n",
      "2020-10-14 12:05:39 Training - Training image download completed. Training in progress.\n",
      "2020-10-14 12:05:39 Uploading - Uploading generated training model\n",
      "2020-10-14 12:05:39 Completed - Training job completed\u001b[34mINFO:sagemaker-containers:Imported framework sagemaker_xgboost_container.training\u001b[0m\n",
      "\u001b[34mINFO:sagemaker-containers:Failed to parse hyperparameter _tuning_objective_metric value validation:mse to Json.\u001b[0m\n",
      "\u001b[34mReturning the value itself\u001b[0m\n",
      "\u001b[34mINFO:sagemaker-containers:Failed to parse hyperparameter objective value binary:logistic to Json.\u001b[0m\n",
      "\u001b[34mReturning the value itself\u001b[0m\n",
      "\u001b[34mINFO:sagemaker-containers:No GPUs detected (normal if no gpus installed)\u001b[0m\n",
      "\u001b[34mINFO:sagemaker_xgboost_container.training:Running XGBoost Sagemaker in algorithm mode\u001b[0m\n",
      "\u001b[34mINFO:root:Determined delimiter of CSV input is ','\u001b[0m\n",
      "\u001b[34mINFO:root:Determined delimiter of CSV input is ','\u001b[0m\n",
      "\u001b[34mINFO:root:Determined delimiter of CSV input is ','\u001b[0m\n",
      "\u001b[34m[12:00:02] 15000x5000 matrix with 75000000 entries loaded from /opt/ml/input/data/train?format=csv&label_column=0&delimiter=,\u001b[0m\n",
      "\u001b[34mINFO:root:Determined delimiter of CSV input is ','\u001b[0m\n",
      "\u001b[34m[12:00:04] 10000x5000 matrix with 50000000 entries loaded from /opt/ml/input/data/validation?format=csv&label_column=0&delimiter=,\u001b[0m\n",
      "\u001b[34mINFO:root:Single node training.\u001b[0m\n",
      "\u001b[34mINFO:root:Setting up HPO optimized metric to be : mse\u001b[0m\n",
      "\u001b[34mINFO:root:Train matrix has 15000 rows\u001b[0m\n",
      "\u001b[34mINFO:root:Validation matrix has 10000 rows\u001b[0m\n",
      "\u001b[34m[12:00:04] WARNING: /workspace/src/learner.cc:328: \u001b[0m\n",
      "\u001b[34mParameters: { _tuning_objective_metric, early_stopping_rounds, num_round } might not be used.\n",
      "\n",
      "  This may not be accurate due to some parameters are only used in language bindings but\n",
      "  passed down to XGBoost core.  Or some parameters are not used but slip through this\n",
      "  verification. Please open an issue if you find above cases.\n",
      "\n",
      "\u001b[0m\n",
      "\u001b[34m[0]#011train-error:0.27667#011validation-error:0.28160#011train-mse:0.22701#011validation-mse:0.22772\u001b[0m\n",
      "\u001b[34m[1]#011train-error:0.26127#011validation-error:0.26430#011train-mse:0.21057#011validation-mse:0.21157\u001b[0m\n",
      "\u001b[34m[2]#011train-error:0.25767#011validation-error:0.26360#011train-mse:0.19878#011validation-mse:0.20103\u001b[0m\n",
      "\u001b[34m[3]#011train-error:0.24553#011validation-error:0.25380#011train-mse:0.19005#011validation-mse:0.19307\u001b[0m\n",
      "\u001b[34m[4]#011train-error:0.23573#011validation-error:0.24570#011train-mse:0.18249#011validation-mse:0.18614\u001b[0m\n",
      "\u001b[34m[5]#011train-error:0.23133#011validation-error:0.23980#011train-mse:0.17589#011validation-mse:0.18080\u001b[0m\n",
      "\u001b[34m[6]#011train-error:0.22327#011validation-error:0.23130#011train-mse:0.17057#011validation-mse:0.17551\u001b[0m\n",
      "\u001b[34m[7]#011train-error:0.21553#011validation-error:0.22460#011train-mse:0.16574#011validation-mse:0.17140\u001b[0m\n",
      "\u001b[34m[8]#011train-error:0.20967#011validation-error:0.22260#011train-mse:0.16113#011validation-mse:0.16764\u001b[0m\n",
      "\u001b[34m[9]#011train-error:0.20393#011validation-error:0.21780#011train-mse:0.15668#011validation-mse:0.16433\u001b[0m\n",
      "\u001b[34m[10]#011train-error:0.20107#011validation-error:0.21560#011train-mse:0.15355#011validation-mse:0.16121\u001b[0m\n",
      "\u001b[34m[11]#011train-error:0.19713#011validation-error:0.21040#011train-mse:0.14999#011validation-mse:0.15861\u001b[0m\n",
      "\u001b[34m[12]#011train-error:0.19340#011validation-error:0.20680#011train-mse:0.14713#011validation-mse:0.15582\u001b[0m\n",
      "\u001b[34m[13]#011train-error:0.19000#011validation-error:0.20230#011train-mse:0.14392#011validation-mse:0.15336\u001b[0m\n",
      "\u001b[34m[14]#011train-error:0.18547#011validation-error:0.19930#011train-mse:0.14111#011validation-mse:0.15111\u001b[0m\n",
      "\u001b[34m[15]#011train-error:0.18000#011validation-error:0.19920#011train-mse:0.13792#011validation-mse:0.14899\u001b[0m\n",
      "\u001b[34m[16]#011train-error:0.17600#011validation-error:0.19620#011train-mse:0.13556#011validation-mse:0.14708\u001b[0m\n",
      "\u001b[34m[17]#011train-error:0.17267#011validation-error:0.19350#011train-mse:0.13336#011validation-mse:0.14546\u001b[0m\n",
      "\u001b[34m[18]#011train-error:0.16793#011validation-error:0.19110#011train-mse:0.13075#011validation-mse:0.14394\u001b[0m\n",
      "\u001b[34m[19]#011train-error:0.16533#011validation-error:0.19260#011train-mse:0.12864#011validation-mse:0.14289\u001b[0m\n",
      "\u001b[34m[20]#011train-error:0.16333#011validation-error:0.18990#011train-mse:0.12704#011validation-mse:0.14123\u001b[0m\n",
      "\u001b[34m[21]#011train-error:0.16160#011validation-error:0.18800#011train-mse:0.12535#011validation-mse:0.13947\u001b[0m\n",
      "\u001b[34m[22]#011train-error:0.15993#011validation-error:0.18580#011train-mse:0.12381#011validation-mse:0.13803\u001b[0m\n",
      "\u001b[34m[23]#011train-error:0.15873#011validation-error:0.18440#011train-mse:0.12229#011validation-mse:0.13664\u001b[0m\n",
      "\u001b[34m[24]#011train-error:0.15767#011validation-error:0.18390#011train-mse:0.12085#011validation-mse:0.13536\u001b[0m\n",
      "\u001b[34m[25]#011train-error:0.15453#011validation-error:0.18170#011train-mse:0.11902#011validation-mse:0.13433\u001b[0m\n",
      "\u001b[34m[26]#011train-error:0.15207#011validation-error:0.18110#011train-mse:0.11754#011validation-mse:0.13334\u001b[0m\n",
      "\u001b[34m[27]#011train-error:0.14940#011validation-error:0.18110#011train-mse:0.11642#011validation-mse:0.13234\u001b[0m\n",
      "\u001b[34m[28]#011train-error:0.14693#011validation-error:0.17750#011train-mse:0.11484#011validation-mse:0.13148\u001b[0m\n",
      "\u001b[34m[29]#011train-error:0.14767#011validation-error:0.17510#011train-mse:0.11375#011validation-mse:0.13045\u001b[0m\n",
      "\u001b[34m[30]#011train-error:0.14613#011validation-error:0.17440#011train-mse:0.11249#011validation-mse:0.12946\u001b[0m\n",
      "\u001b[34m[31]#011train-error:0.14553#011validation-error:0.17320#011train-mse:0.11115#011validation-mse:0.12851\u001b[0m\n",
      "\u001b[34m[32]#011train-error:0.14347#011validation-error:0.17220#011train-mse:0.10995#011validation-mse:0.12779\u001b[0m\n",
      "\u001b[34m[33]#011train-error:0.14107#011validation-error:0.17310#011train-mse:0.10855#011validation-mse:0.12699\u001b[0m\n",
      "\u001b[34m[34]#011train-error:0.14027#011validation-error:0.17260#011train-mse:0.10761#011validation-mse:0.12628\u001b[0m\n",
      "\u001b[34m[35]#011train-error:0.13933#011validation-error:0.17170#011train-mse:0.10662#011validation-mse:0.12535\u001b[0m\n",
      "\u001b[34m[36]#011train-error:0.13787#011validation-error:0.16990#011train-mse:0.10577#011validation-mse:0.12450\u001b[0m\n",
      "\u001b[34m[37]#011train-error:0.13660#011validation-error:0.16990#011train-mse:0.10479#011validation-mse:0.12400\u001b[0m\n",
      "\u001b[34m[38]#011train-error:0.13473#011validation-error:0.16890#011train-mse:0.10398#011validation-mse:0.12324\u001b[0m\n",
      "\u001b[34m[39]#011train-error:0.13200#011validation-error:0.16850#011train-mse:0.10305#011validation-mse:0.12273\u001b[0m\n",
      "\u001b[34m[40]#011train-error:0.13027#011validation-error:0.16720#011train-mse:0.10224#011validation-mse:0.12208\u001b[0m\n",
      "\u001b[34m[41]#011train-error:0.12840#011validation-error:0.16650#011train-mse:0.10108#011validation-mse:0.12145\u001b[0m\n",
      "\u001b[34m[42]#011train-error:0.12767#011validation-error:0.16500#011train-mse:0.10030#011validation-mse:0.12077\u001b[0m\n",
      "\u001b[34m[43]#011train-error:0.12727#011validation-error:0.16410#011train-mse:0.09954#011validation-mse:0.12031\u001b[0m\n",
      "\u001b[34m[44]#011train-error:0.12633#011validation-error:0.16280#011train-mse:0.09906#011validation-mse:0.11984\u001b[0m\n",
      "\u001b[34m[45]#011train-error:0.12560#011validation-error:0.16290#011train-mse:0.09820#011validation-mse:0.11920\u001b[0m\n",
      "\u001b[34m[46]#011train-error:0.12293#011validation-error:0.16260#011train-mse:0.09722#011validation-mse:0.11866\u001b[0m\n",
      "\u001b[34m[47]#011train-error:0.12187#011validation-error:0.16190#011train-mse:0.09649#011validation-mse:0.11821\u001b[0m\n",
      "\u001b[34m[48]#011train-error:0.11960#011validation-error:0.16060#011train-mse:0.09527#011validation-mse:0.11774\u001b[0m\n",
      "\u001b[34m[49]#011train-error:0.12000#011validation-error:0.15990#011train-mse:0.09480#011validation-mse:0.11725\u001b[0m\n",
      "\u001b[34m[50]#011train-error:0.11827#011validation-error:0.16030#011train-mse:0.09418#011validation-mse:0.11666\u001b[0m\n",
      "\u001b[34m[51]#011train-error:0.11740#011validation-error:0.15840#011train-mse:0.09314#011validation-mse:0.11633\u001b[0m\n",
      "\u001b[34m[52]#011train-error:0.11640#011validation-error:0.15910#011train-mse:0.09250#011validation-mse:0.11589\u001b[0m\n",
      "\u001b[34m[53]#011train-error:0.11507#011validation-error:0.15760#011train-mse:0.09174#011validation-mse:0.11554\u001b[0m\n",
      "\u001b[34m[54]#011train-error:0.11520#011validation-error:0.15740#011train-mse:0.09126#011validation-mse:0.11522\u001b[0m\n",
      "\u001b[34m[55]#011train-error:0.11447#011validation-error:0.15680#011train-mse:0.09080#011validation-mse:0.11473\u001b[0m\n",
      "\u001b[34m[56]#011train-error:0.11273#011validation-error:0.15720#011train-mse:0.09014#011validation-mse:0.11443\u001b[0m\n",
      "\u001b[34m[57]#011train-error:0.11207#011validation-error:0.15710#011train-mse:0.08948#011validation-mse:0.11402\u001b[0m\n",
      "\u001b[34m[58]#011train-error:0.11120#011validation-error:0.15680#011train-mse:0.08882#011validation-mse:0.11371\u001b[0m\n",
      "\u001b[34m[59]#011train-error:0.11027#011validation-error:0.15630#011train-mse:0.08830#011validation-mse:0.11337\u001b[0m\n",
      "\u001b[34m[60]#011train-error:0.11033#011validation-error:0.15620#011train-mse:0.08785#011validation-mse:0.11301\u001b[0m\n",
      "\u001b[34m[61]#011train-error:0.10873#011validation-error:0.15560#011train-mse:0.08717#011validation-mse:0.11292\u001b[0m\n",
      "\u001b[34m[62]#011train-error:0.10853#011validation-error:0.15540#011train-mse:0.08661#011validation-mse:0.11263\u001b[0m\n",
      "\u001b[34m[63]#011train-error:0.10740#011validation-error:0.15510#011train-mse:0.08614#011validation-mse:0.11226\u001b[0m\n",
      "\u001b[34m[64]#011train-error:0.10687#011validation-error:0.15540#011train-mse:0.08570#011validation-mse:0.11189\u001b[0m\n",
      "\u001b[34m[65]#011train-error:0.10507#011validation-error:0.15480#011train-mse:0.08509#011validation-mse:0.11164\u001b[0m\n",
      "\u001b[34m[66]#011train-error:0.10460#011validation-error:0.15340#011train-mse:0.08442#011validation-mse:0.11115\u001b[0m\n",
      "\u001b[34m[67]#011train-error:0.10420#011validation-error:0.15330#011train-mse:0.08412#011validation-mse:0.11082\u001b[0m\n",
      "\u001b[34m[68]#011train-error:0.10440#011validation-error:0.15350#011train-mse:0.08359#011validation-mse:0.11063\u001b[0m\n",
      "\u001b[34m[69]#011train-error:0.10260#011validation-error:0.15220#011train-mse:0.08292#011validation-mse:0.11050\u001b[0m\n",
      "\u001b[34m[70]#011train-error:0.10260#011validation-error:0.15210#011train-mse:0.08236#011validation-mse:0.11020\u001b[0m\n",
      "\u001b[34m[71]#011train-error:0.10280#011validation-error:0.15360#011train-mse:0.08189#011validation-mse:0.11009\u001b[0m\n",
      "\u001b[34m[72]#011train-error:0.10207#011validation-error:0.15330#011train-mse:0.08147#011validation-mse:0.10988\u001b[0m\n",
      "\u001b[34m[73]#011train-error:0.10093#011validation-error:0.15170#011train-mse:0.08096#011validation-mse:0.10962\u001b[0m\n",
      "\u001b[34m[74]#011train-error:0.10073#011validation-error:0.15040#011train-mse:0.08059#011validation-mse:0.10928\u001b[0m\n",
      "\u001b[34m[75]#011train-error:0.10040#011validation-error:0.15040#011train-mse:0.08024#011validation-mse:0.10896\u001b[0m\n",
      "\u001b[34m[76]#011train-error:0.09980#011validation-error:0.14980#011train-mse:0.07956#011validation-mse:0.10875\u001b[0m\n",
      "\u001b[34m[77]#011train-error:0.09880#011validation-error:0.15050#011train-mse:0.07908#011validation-mse:0.10850\u001b[0m\n",
      "\u001b[34m[78]#011train-error:0.09800#011validation-error:0.14960#011train-mse:0.07872#011validation-mse:0.10828\u001b[0m\n",
      "\u001b[34m[79]#011train-error:0.09727#011validation-error:0.14880#011train-mse:0.07837#011validation-mse:0.10799\u001b[0m\n",
      "\u001b[34m[80]#011train-error:0.09647#011validation-error:0.14860#011train-mse:0.07791#011validation-mse:0.10766\u001b[0m\n",
      "\u001b[34m[81]#011train-error:0.09527#011validation-error:0.14800#011train-mse:0.07748#011validation-mse:0.10730\u001b[0m\n",
      "\u001b[34m[82]#011train-error:0.09500#011validation-error:0.14820#011train-mse:0.07712#011validation-mse:0.10709\u001b[0m\n",
      "\u001b[34m[83]#011train-error:0.09420#011validation-error:0.14800#011train-mse:0.07677#011validation-mse:0.10694\u001b[0m\n",
      "\u001b[34m[84]#011train-error:0.09453#011validation-error:0.14810#011train-mse:0.07648#011validation-mse:0.10679\u001b[0m\n",
      "\u001b[34m[85]#011train-error:0.09273#011validation-error:0.14800#011train-mse:0.07597#011validation-mse:0.10654\u001b[0m\n",
      "\u001b[34m[86]#011train-error:0.09227#011validation-error:0.14900#011train-mse:0.07550#011validation-mse:0.10648\u001b[0m\n",
      "\u001b[34m[87]#011train-error:0.09180#011validation-error:0.14950#011train-mse:0.07508#011validation-mse:0.10637\u001b[0m\n",
      "\u001b[34m[88]#011train-error:0.09120#011validation-error:0.14830#011train-mse:0.07466#011validation-mse:0.10628\u001b[0m\n",
      "\u001b[34m[89]#011train-error:0.09073#011validation-error:0.14750#011train-mse:0.07427#011validation-mse:0.10597\u001b[0m\n",
      "\u001b[34m[90]#011train-error:0.09120#011validation-error:0.14720#011train-mse:0.07384#011validation-mse:0.10581\u001b[0m\n",
      "\u001b[34m[91]#011train-error:0.09053#011validation-error:0.14670#011train-mse:0.07354#011validation-mse:0.10562\u001b[0m\n",
      "\u001b[34m[92]#011train-error:0.08907#011validation-error:0.14740#011train-mse:0.07321#011validation-mse:0.10548\u001b[0m\n",
      "\u001b[34m[93]#011train-error:0.08920#011validation-error:0.14620#011train-mse:0.07290#011validation-mse:0.10524\u001b[0m\n",
      "\u001b[34m[94]#011train-error:0.08873#011validation-error:0.14630#011train-mse:0.07260#011validation-mse:0.10507\u001b[0m\n",
      "\u001b[34m[95]#011train-error:0.08880#011validation-error:0.14520#011train-mse:0.07225#011validation-mse:0.10496\u001b[0m\n",
      "\u001b[34m[96]#011train-error:0.08947#011validation-error:0.14460#011train-mse:0.07199#011validation-mse:0.10473\u001b[0m\n",
      "\u001b[34m[97]#011train-error:0.08920#011validation-error:0.14420#011train-mse:0.07178#011validation-mse:0.10469\u001b[0m\n",
      "\u001b[34m[98]#011train-error:0.08900#011validation-error:0.14330#011train-mse:0.07149#011validation-mse:0.10435\u001b[0m\n",
      "\u001b[34m[99]#011train-error:0.08800#011validation-error:0.14300#011train-mse:0.07126#011validation-mse:0.10425\u001b[0m\n",
      "\u001b[34m[100]#011train-error:0.08760#011validation-error:0.14340#011train-mse:0.07107#011validation-mse:0.10411\u001b[0m\n",
      "\u001b[34m[101]#011train-error:0.08707#011validation-error:0.14330#011train-mse:0.07065#011validation-mse:0.10400\u001b[0m\n",
      "\u001b[34m[102]#011train-error:0.08693#011validation-error:0.14240#011train-mse:0.07045#011validation-mse:0.10385\u001b[0m\n",
      "\u001b[34m[103]#011train-error:0.08607#011validation-error:0.14170#011train-mse:0.07017#011validation-mse:0.10366\u001b[0m\n",
      "\u001b[34m[104]#011train-error:0.08593#011validation-error:0.14240#011train-mse:0.06989#011validation-mse:0.10343\u001b[0m\n",
      "\u001b[34m[105]#011train-error:0.08547#011validation-error:0.14270#011train-mse:0.06967#011validation-mse:0.10329\u001b[0m\n",
      "\u001b[34m[106]#011train-error:0.08460#011validation-error:0.14310#011train-mse:0.06926#011validation-mse:0.10328\u001b[0m\n",
      "\u001b[34m[107]#011train-error:0.08373#011validation-error:0.14330#011train-mse:0.06903#011validation-mse:0.10319\u001b[0m\n",
      "\u001b[34m[108]#011train-error:0.08373#011validation-error:0.14350#011train-mse:0.06879#011validation-mse:0.10310\u001b[0m\n",
      "\u001b[34m[109]#011train-error:0.08340#011validation-error:0.14330#011train-mse:0.06850#011validation-mse:0.10300\u001b[0m\n",
      "\u001b[34m[110]#011train-error:0.08320#011validation-error:0.14250#011train-mse:0.06831#011validation-mse:0.10282\u001b[0m\n",
      "\u001b[34m[111]#011train-error:0.08280#011validation-error:0.14190#011train-mse:0.06801#011validation-mse:0.10278\u001b[0m\n",
      "\u001b[34m[112]#011train-error:0.08280#011validation-error:0.14190#011train-mse:0.06784#011validation-mse:0.10273\u001b[0m\n",
      "\u001b[34m[113]#011train-error:0.08113#011validation-error:0.14230#011train-mse:0.06750#011validation-mse:0.10269\u001b[0m\n",
      "\u001b[34m[114]#011train-error:0.08107#011validation-error:0.14200#011train-mse:0.06728#011validation-mse:0.10254\u001b[0m\n",
      "\u001b[34m[115]#011train-error:0.08073#011validation-error:0.14210#011train-mse:0.06706#011validation-mse:0.10233\u001b[0m\n",
      "\u001b[34m[116]#011train-error:0.08033#011validation-error:0.14210#011train-mse:0.06688#011validation-mse:0.10226\u001b[0m\n",
      "\u001b[34m[117]#011train-error:0.08013#011validation-error:0.14230#011train-mse:0.06669#011validation-mse:0.10215\u001b[0m\n",
      "\u001b[34m[118]#011train-error:0.08040#011validation-error:0.14230#011train-mse:0.06653#011validation-mse:0.10200\u001b[0m\n",
      "\u001b[34m[119]#011train-error:0.07980#011validation-error:0.14110#011train-mse:0.06611#011validation-mse:0.10174\u001b[0m\n",
      "\u001b[34m[120]#011train-error:0.07953#011validation-error:0.14080#011train-mse:0.06587#011validation-mse:0.10158\u001b[0m\n",
      "\u001b[34m[121]#011train-error:0.07960#011validation-error:0.14130#011train-mse:0.06572#011validation-mse:0.10161\u001b[0m\n",
      "\u001b[34m[122]#011train-error:0.07893#011validation-error:0.14070#011train-mse:0.06541#011validation-mse:0.10170\u001b[0m\n",
      "\u001b[34m[123]#011train-error:0.07753#011validation-error:0.14030#011train-mse:0.06502#011validation-mse:0.10167\u001b[0m\n",
      "\u001b[34m[124]#011train-error:0.07687#011validation-error:0.13980#011train-mse:0.06476#011validation-mse:0.10155\u001b[0m\n",
      "\u001b[34m[125]#011train-error:0.07647#011validation-error:0.14030#011train-mse:0.06457#011validation-mse:0.10144\u001b[0m\n",
      "\u001b[34m[126]#011train-error:0.07727#011validation-error:0.14050#011train-mse:0.06442#011validation-mse:0.10130\u001b[0m\n",
      "\u001b[34m[127]#011train-error:0.07693#011validation-error:0.14000#011train-mse:0.06421#011validation-mse:0.10115\u001b[0m\n",
      "\u001b[34m[128]#011train-error:0.07600#011validation-error:0.14010#011train-mse:0.06390#011validation-mse:0.10107\u001b[0m\n",
      "\u001b[34m[129]#011train-error:0.07573#011validation-error:0.14020#011train-mse:0.06374#011validation-mse:0.10086\u001b[0m\n",
      "\u001b[34m[130]#011train-error:0.07547#011validation-error:0.14020#011train-mse:0.06349#011validation-mse:0.10080\u001b[0m\n",
      "\u001b[34m[131]#011train-error:0.07507#011validation-error:0.14000#011train-mse:0.06329#011validation-mse:0.10071\u001b[0m\n",
      "\u001b[34m[132]#011train-error:0.07480#011validation-error:0.13950#011train-mse:0.06303#011validation-mse:0.10061\u001b[0m\n",
      "\u001b[34m[133]#011train-error:0.07427#011validation-error:0.13940#011train-mse:0.06284#011validation-mse:0.10045\u001b[0m\n",
      "\u001b[34m[134]#011train-error:0.07387#011validation-error:0.13910#011train-mse:0.06255#011validation-mse:0.10040\u001b[0m\n",
      "\u001b[34m[135]#011train-error:0.07360#011validation-error:0.13940#011train-mse:0.06233#011validation-mse:0.10036\u001b[0m\n",
      "\u001b[34m[136]#011train-error:0.07267#011validation-error:0.13910#011train-mse:0.06214#011validation-mse:0.10031\u001b[0m\n",
      "\u001b[34m[137]#011train-error:0.07247#011validation-error:0.13920#011train-mse:0.06195#011validation-mse:0.10020\u001b[0m\n",
      "\u001b[34m[138]#011train-error:0.07267#011validation-error:0.13990#011train-mse:0.06171#011validation-mse:0.09999\u001b[0m\n",
      "\u001b[34m[139]#011train-error:0.07247#011validation-error:0.13920#011train-mse:0.06154#011validation-mse:0.09987\u001b[0m\n",
      "\u001b[34m[140]#011train-error:0.07167#011validation-error:0.13930#011train-mse:0.06138#011validation-mse:0.09973\u001b[0m\n",
      "\u001b[34m[141]#011train-error:0.07180#011validation-error:0.14050#011train-mse:0.06118#011validation-mse:0.09968\u001b[0m\n",
      "\u001b[34m[142]#011train-error:0.07167#011validation-error:0.13900#011train-mse:0.06079#011validation-mse:0.09958\u001b[0m\n",
      "\u001b[34m[143]#011train-error:0.07067#011validation-error:0.13850#011train-mse:0.06061#011validation-mse:0.09938\u001b[0m\n",
      "\u001b[34m[144]#011train-error:0.06980#011validation-error:0.13820#011train-mse:0.06041#011validation-mse:0.09918\u001b[0m\n",
      "\u001b[34m[145]#011train-error:0.06973#011validation-error:0.13810#011train-mse:0.06024#011validation-mse:0.09911\u001b[0m\n",
      "\u001b[34m[146]#011train-error:0.06947#011validation-error:0.13810#011train-mse:0.06006#011validation-mse:0.09904\u001b[0m\n",
      "\u001b[34m[147]#011train-error:0.06960#011validation-error:0.13840#011train-mse:0.05981#011validation-mse:0.09908\u001b[0m\n",
      "\u001b[34m[148]#011train-error:0.06933#011validation-error:0.13820#011train-mse:0.05961#011validation-mse:0.09897\u001b[0m\n",
      "\u001b[34m[149]#011train-error:0.06933#011validation-error:0.13770#011train-mse:0.05946#011validation-mse:0.09876\u001b[0m\n",
      "\u001b[34m[150]#011train-error:0.06880#011validation-error:0.13740#011train-mse:0.05926#011validation-mse:0.09868\u001b[0m\n",
      "\u001b[34m[151]#011train-error:0.06860#011validation-error:0.13700#011train-mse:0.05908#011validation-mse:0.09864\u001b[0m\n",
      "\u001b[34m[152]#011train-error:0.06807#011validation-error:0.13730#011train-mse:0.05883#011validation-mse:0.09866\u001b[0m\n",
      "\u001b[34m[153]#011train-error:0.06800#011validation-error:0.13630#011train-mse:0.05869#011validation-mse:0.09861\u001b[0m\n",
      "\u001b[34m[154]#011train-error:0.06760#011validation-error:0.13610#011train-mse:0.05838#011validation-mse:0.09856\u001b[0m\n",
      "\u001b[34m[155]#011train-error:0.06747#011validation-error:0.13640#011train-mse:0.05816#011validation-mse:0.09865\u001b[0m\n",
      "\u001b[34m[156]#011train-error:0.06687#011validation-error:0.13680#011train-mse:0.05803#011validation-mse:0.09860\u001b[0m\n",
      "\u001b[34m[157]#011train-error:0.06667#011validation-error:0.13630#011train-mse:0.05790#011validation-mse:0.09855\u001b[0m\n",
      "\u001b[34m[158]#011train-error:0.06660#011validation-error:0.13640#011train-mse:0.05778#011validation-mse:0.09853\u001b[0m\n",
      "\u001b[34m[159]#011train-error:0.06627#011validation-error:0.13780#011train-mse:0.05756#011validation-mse:0.09850\u001b[0m\n",
      "\u001b[34m[160]#011train-error:0.06580#011validation-error:0.13760#011train-mse:0.05738#011validation-mse:0.09837\u001b[0m\n",
      "\u001b[34m[161]#011train-error:0.06560#011validation-error:0.13680#011train-mse:0.05701#011validation-mse:0.09833\u001b[0m\n",
      "\u001b[34m[162]#011train-error:0.06540#011validation-error:0.13640#011train-mse:0.05686#011validation-mse:0.09825\u001b[0m\n",
      "\u001b[34m[163]#011train-error:0.06547#011validation-error:0.13620#011train-mse:0.05674#011validation-mse:0.09818\u001b[0m\n",
      "\u001b[34m[164]#011train-error:0.06507#011validation-error:0.13590#011train-mse:0.05655#011validation-mse:0.09806\u001b[0m\n",
      "\u001b[34m[165]#011train-error:0.06447#011validation-error:0.13660#011train-mse:0.05625#011validation-mse:0.09810\u001b[0m\n",
      "\u001b[34m[166]#011train-error:0.06420#011validation-error:0.13680#011train-mse:0.05602#011validation-mse:0.09803\u001b[0m\n",
      "\u001b[34m[167]#011train-error:0.06380#011validation-error:0.13700#011train-mse:0.05577#011validation-mse:0.09802\u001b[0m\n",
      "\u001b[34m[168]#011train-error:0.06340#011validation-error:0.13730#011train-mse:0.05559#011validation-mse:0.09795\u001b[0m\n",
      "\u001b[34m[169]#011train-error:0.06353#011validation-error:0.13700#011train-mse:0.05547#011validation-mse:0.09790\u001b[0m\n",
      "\u001b[34m[170]#011train-error:0.06327#011validation-error:0.13730#011train-mse:0.05533#011validation-mse:0.09782\u001b[0m\n",
      "\u001b[34m[171]#011train-error:0.06247#011validation-error:0.13750#011train-mse:0.05511#011validation-mse:0.09779\u001b[0m\n",
      "\u001b[34m[172]#011train-error:0.06200#011validation-error:0.13770#011train-mse:0.05501#011validation-mse:0.09770\u001b[0m\n",
      "\u001b[34m[173]#011train-error:0.06280#011validation-error:0.13770#011train-mse:0.05486#011validation-mse:0.09758\u001b[0m\n",
      "\u001b[34m[174]#011train-error:0.06227#011validation-error:0.13800#011train-mse:0.05474#011validation-mse:0.09751\u001b[0m\n",
      "\u001b[34m[175]#011train-error:0.06233#011validation-error:0.13640#011train-mse:0.05463#011validation-mse:0.09732\u001b[0m\n",
      "\u001b[34m[176]#011train-error:0.06200#011validation-error:0.13620#011train-mse:0.05449#011validation-mse:0.09726\u001b[0m\n",
      "\u001b[34m[177]#011train-error:0.06187#011validation-error:0.13650#011train-mse:0.05427#011validation-mse:0.09724\u001b[0m\n",
      "\u001b[34m[178]#011train-error:0.06120#011validation-error:0.13610#011train-mse:0.05415#011validation-mse:0.09722\u001b[0m\n",
      "\u001b[34m[179]#011train-error:0.06153#011validation-error:0.13620#011train-mse:0.05402#011validation-mse:0.09710\u001b[0m\n",
      "\u001b[34m[180]#011train-error:0.06147#011validation-error:0.13560#011train-mse:0.05392#011validation-mse:0.09706\u001b[0m\n",
      "\u001b[34m[181]#011train-error:0.06187#011validation-error:0.13560#011train-mse:0.05379#011validation-mse:0.09697\u001b[0m\n",
      "\u001b[34m[182]#011train-error:0.06167#011validation-error:0.13460#011train-mse:0.05367#011validation-mse:0.09692\u001b[0m\n",
      "\u001b[34m[183]#011train-error:0.06147#011validation-error:0.13470#011train-mse:0.05357#011validation-mse:0.09694\u001b[0m\n",
      "\u001b[34m[184]#011train-error:0.06127#011validation-error:0.13500#011train-mse:0.05341#011validation-mse:0.09689\u001b[0m\n",
      "\u001b[34m[185]#011train-error:0.06067#011validation-error:0.13440#011train-mse:0.05318#011validation-mse:0.09669\u001b[0m\n",
      "\u001b[34m[186]#011train-error:0.06060#011validation-error:0.13540#011train-mse:0.05305#011validation-mse:0.09660\u001b[0m\n",
      "\u001b[34m[187]#011train-error:0.06007#011validation-error:0.13450#011train-mse:0.05291#011validation-mse:0.09652\u001b[0m\n",
      "\u001b[34m[188]#011train-error:0.06007#011validation-error:0.13480#011train-mse:0.05278#011validation-mse:0.09648\u001b[0m\n",
      "\u001b[34m[189]#011train-error:0.06020#011validation-error:0.13470#011train-mse:0.05263#011validation-mse:0.09637\u001b[0m\n",
      "\u001b[34m[190]#011train-error:0.05960#011validation-error:0.13450#011train-mse:0.05256#011validation-mse:0.09631\u001b[0m\n",
      "\u001b[34m[191]#011train-error:0.05980#011validation-error:0.13420#011train-mse:0.05246#011validation-mse:0.09621\u001b[0m\n",
      "\u001b[34m[192]#011train-error:0.05953#011validation-error:0.13410#011train-mse:0.05233#011validation-mse:0.09608\u001b[0m\n",
      "\u001b[34m[193]#011train-error:0.05947#011validation-error:0.13370#011train-mse:0.05220#011validation-mse:0.09603\u001b[0m\n",
      "\u001b[34m[194]#011train-error:0.05907#011validation-error:0.13320#011train-mse:0.05198#011validation-mse:0.09606\u001b[0m\n",
      "\u001b[34m[195]#011train-error:0.05913#011validation-error:0.13390#011train-mse:0.05181#011validation-mse:0.09602\u001b[0m\n",
      "\u001b[34m[196]#011train-error:0.05913#011validation-error:0.13380#011train-mse:0.05172#011validation-mse:0.09592\u001b[0m\n",
      "\u001b[34m[197]#011train-error:0.05907#011validation-error:0.13420#011train-mse:0.05160#011validation-mse:0.09582\u001b[0m\n",
      "\u001b[34m[198]#011train-error:0.05893#011validation-error:0.13370#011train-mse:0.05153#011validation-mse:0.09585\u001b[0m\n",
      "\u001b[34m[199]#011train-error:0.05907#011validation-error:0.13370#011train-mse:0.05134#011validation-mse:0.09579\u001b[0m\n",
      "Training seconds: 394\n",
      "Billable seconds: 394\n"
     ]
    }
   ],
   "source": [
    "# TODO: Create a new estimator object attached to the best training job found during hyperparameter tuning\n",
    "\n",
    "xgb_attached = sagemaker.estimator.Estimator.attach(xgb_hyperparameter_tuner.best_training_job())\n"
   ]
  },
  {
   "cell_type": "markdown",
   "metadata": {},
   "source": [
    "Now that we have an estimator object attached to the correct training job, we can proceed as we normally would and create a transformer object."
   ]
  },
  {
   "cell_type": "code",
   "execution_count": 33,
   "metadata": {},
   "outputs": [
    {
     "name": "stderr",
     "output_type": "stream",
     "text": [
      "Parameter image will be renamed to image_uri in SageMaker Python SDK v2.\n"
     ]
    }
   ],
   "source": [
    "# TODO: Create a transformer object from the attached estimator. Using an instance count of 1 and an instance type of ml.m4.xlarge\n",
    "#       should be more than enough.\n",
    "\n",
    "xgb_transformer = xgb_attached.transformer(instance_count = 1, instance_type = 'ml.m4.xlarge')\n"
   ]
  },
  {
   "cell_type": "markdown",
   "metadata": {},
   "source": [
    "Next we actually perform the transform job. When doing so we need to make sure to specify the type of data we are sending so that it is serialized correctly in the background. In our case we are providing our model with csv data so we specify `text/csv`. Also, if the test data that we have provided is too large to process all at once then we need to specify how the data file should be split up. Since each line is a single entry in our data set we tell SageMaker that it can split the input on each line."
   ]
  },
  {
   "cell_type": "code",
   "execution_count": 59,
   "metadata": {},
   "outputs": [],
   "source": [
    "# TODO: Start the transform job. Make sure to specify the content type and the split type of the test data.\n",
    "xgb_transformer.transform(test_location, content_type='text/csv', split_type='Line')"
   ]
  },
  {
   "cell_type": "markdown",
   "metadata": {},
   "source": [
    "Currently the transform job is running but it is doing so in the background. Since we wish to wait until the transform job is done and we would like a bit of feedback we can run the `wait()` method."
   ]
  },
  {
   "cell_type": "code",
   "execution_count": 60,
   "metadata": {},
   "outputs": [
    {
     "name": "stdout",
     "output_type": "stream",
     "text": [
      "................................\u001b[32m2020-10-14T12:35:53.903:[sagemaker logs]: MaxConcurrentTransforms=4, MaxPayloadInMB=6, BatchStrategy=MULTI_RECORD\u001b[0m\n",
      "\u001b[34m[2020-10-14:12:35:51:INFO] No GPUs detected (normal if no gpus installed)\u001b[0m\n",
      "\u001b[34m[2020-10-14:12:35:51:INFO] No GPUs detected (normal if no gpus installed)\u001b[0m\n",
      "\u001b[34m[2020-10-14:12:35:51:INFO] nginx config: \u001b[0m\n",
      "\u001b[34mworker_processes auto;\u001b[0m\n",
      "\u001b[34mdaemon off;\u001b[0m\n",
      "\u001b[34mpid /tmp/nginx.pid;\u001b[0m\n",
      "\u001b[34merror_log  /dev/stderr;\n",
      "\u001b[0m\n",
      "\u001b[34mworker_rlimit_nofile 4096;\n",
      "\u001b[0m\n",
      "\u001b[34mevents {\n",
      "  worker_connections 2048;\u001b[0m\n",
      "\u001b[34m}\n",
      "\u001b[0m\n",
      "\u001b[35m[2020-10-14:12:35:51:INFO] No GPUs detected (normal if no gpus installed)\u001b[0m\n",
      "\u001b[35m[2020-10-14:12:35:51:INFO] No GPUs detected (normal if no gpus installed)\u001b[0m\n",
      "\u001b[35m[2020-10-14:12:35:51:INFO] nginx config: \u001b[0m\n",
      "\u001b[35mworker_processes auto;\u001b[0m\n",
      "\u001b[35mdaemon off;\u001b[0m\n",
      "\u001b[35mpid /tmp/nginx.pid;\u001b[0m\n",
      "\u001b[35merror_log  /dev/stderr;\n",
      "\u001b[0m\n",
      "\u001b[35mworker_rlimit_nofile 4096;\n",
      "\u001b[0m\n",
      "\u001b[35mevents {\n",
      "  worker_connections 2048;\u001b[0m\n",
      "\u001b[35m}\n",
      "\u001b[0m\n",
      "\u001b[34mhttp {\n",
      "  include /etc/nginx/mime.types;\n",
      "  default_type application/octet-stream;\n",
      "  access_log /dev/stdout combined;\n",
      "\n",
      "  upstream gunicorn {\n",
      "    server unix:/tmp/gunicorn.sock;\n",
      "  }\n",
      "\n",
      "  server {\n",
      "    listen 8080 deferred;\n",
      "    client_max_body_size 0;\n",
      "\n",
      "    keepalive_timeout 3;\n",
      "\n",
      "    location ~ ^/(ping|invocations|execution-parameters) {\n",
      "      proxy_set_header X-Forwarded-For $proxy_add_x_forwarded_for;\n",
      "      proxy_set_header Host $http_host;\n",
      "      proxy_redirect off;\n",
      "      proxy_read_timeout 60s;\n",
      "      proxy_pass http://gunicorn;\n",
      "    }\n",
      "\n",
      "    location / {\n",
      "      return 404 \"{}\";\n",
      "    }\n",
      "\n",
      "  }\u001b[0m\n",
      "\u001b[34m}\n",
      "\n",
      "\u001b[0m\n",
      "\u001b[34m2020/10/14 12:35:51 [crit] 19#19: *1 connect() to unix:/tmp/gunicorn.sock failed (2: No such file or directory) while connecting to upstream, client: 169.254.255.130, server: , request: \"GET /ping HTTP/1.1\", upstream: \"http://unix:/tmp/gunicorn.sock:/ping\", host: \"169.254.255.131:8080\"\u001b[0m\n",
      "\u001b[34m169.254.255.130 - - [14/Oct/2020:12:35:51 +0000] \"GET /ping HTTP/1.1\" 502 182 \"-\" \"Go-http-client/1.1\"\u001b[0m\n",
      "\u001b[34m2020/10/14 12:35:51 [crit] 19#19: *3 connect() to unix:/tmp/gunicorn.sock failed (2: No such file or directory) while connecting to upstream, client: 169.254.255.130, server: , request: \"GET /ping HTTP/1.1\", upstream: \"http://unix:/tmp/gunicorn.sock:/ping\", host: \"169.254.255.131:8080\"\u001b[0m\n",
      "\u001b[34m169.254.255.130 - - [14/Oct/2020:12:35:51 +0000] \"GET /ping HTTP/1.1\" 502 182 \"-\" \"Go-http-client/1.1\"\u001b[0m\n",
      "\u001b[34m[2020-10-14 12:35:51 +0000] [17] [INFO] Starting gunicorn 19.10.0\u001b[0m\n",
      "\u001b[34m[2020-10-14 12:35:51 +0000] [17] [INFO] Listening at: unix:/tmp/gunicorn.sock (17)\u001b[0m\n",
      "\u001b[34m[2020-10-14 12:35:51 +0000] [17] [INFO] Using worker: gevent\u001b[0m\n",
      "\u001b[34m[2020-10-14 12:35:51 +0000] [24] [INFO] Booting worker with pid: 24\u001b[0m\n",
      "\u001b[34m[2020-10-14 12:35:51 +0000] [25] [INFO] Booting worker with pid: 25\u001b[0m\n",
      "\u001b[35mhttp {\n",
      "  include /etc/nginx/mime.types;\n",
      "  default_type application/octet-stream;\n",
      "  access_log /dev/stdout combined;\n",
      "\n",
      "  upstream gunicorn {\n",
      "    server unix:/tmp/gunicorn.sock;\n",
      "  }\n",
      "\n",
      "  server {\n",
      "    listen 8080 deferred;\n",
      "    client_max_body_size 0;\n",
      "\n",
      "    keepalive_timeout 3;\n",
      "\n",
      "    location ~ ^/(ping|invocations|execution-parameters) {\n",
      "      proxy_set_header X-Forwarded-For $proxy_add_x_forwarded_for;\n",
      "      proxy_set_header Host $http_host;\n",
      "      proxy_redirect off;\n",
      "      proxy_read_timeout 60s;\n",
      "      proxy_pass http://gunicorn;\n",
      "    }\n",
      "\n",
      "    location / {\n",
      "      return 404 \"{}\";\n",
      "    }\n",
      "\n",
      "  }\u001b[0m\n",
      "\u001b[35m}\n",
      "\n",
      "\u001b[0m\n",
      "\u001b[35m2020/10/14 12:35:51 [crit] 19#19: *1 connect() to unix:/tmp/gunicorn.sock failed (2: No such file or directory) while connecting to upstream, client: 169.254.255.130, server: , request: \"GET /ping HTTP/1.1\", upstream: \"http://unix:/tmp/gunicorn.sock:/ping\", host: \"169.254.255.131:8080\"\u001b[0m\n",
      "\u001b[35m169.254.255.130 - - [14/Oct/2020:12:35:51 +0000] \"GET /ping HTTP/1.1\" 502 182 \"-\" \"Go-http-client/1.1\"\u001b[0m\n",
      "\u001b[35m2020/10/14 12:35:51 [crit] 19#19: *3 connect() to unix:/tmp/gunicorn.sock failed (2: No such file or directory) while connecting to upstream, client: 169.254.255.130, server: , request: \"GET /ping HTTP/1.1\", upstream: \"http://unix:/tmp/gunicorn.sock:/ping\", host: \"169.254.255.131:8080\"\u001b[0m\n",
      "\u001b[35m169.254.255.130 - - [14/Oct/2020:12:35:51 +0000] \"GET /ping HTTP/1.1\" 502 182 \"-\" \"Go-http-client/1.1\"\u001b[0m\n",
      "\u001b[35m[2020-10-14 12:35:51 +0000] [17] [INFO] Starting gunicorn 19.10.0\u001b[0m\n",
      "\u001b[35m[2020-10-14 12:35:51 +0000] [17] [INFO] Listening at: unix:/tmp/gunicorn.sock (17)\u001b[0m\n",
      "\u001b[35m[2020-10-14 12:35:51 +0000] [17] [INFO] Using worker: gevent\u001b[0m\n",
      "\u001b[35m[2020-10-14 12:35:51 +0000] [24] [INFO] Booting worker with pid: 24\u001b[0m\n",
      "\u001b[35m[2020-10-14 12:35:51 +0000] [25] [INFO] Booting worker with pid: 25\u001b[0m\n",
      "\u001b[34m[2020-10-14 12:35:52 +0000] [29] [INFO] Booting worker with pid: 29\u001b[0m\n",
      "\u001b[34m[2020-10-14 12:35:52 +0000] [33] [INFO] Booting worker with pid: 33\u001b[0m\n",
      "\u001b[34m[2020-10-14:12:35:53:INFO] No GPUs detected (normal if no gpus installed)\u001b[0m\n",
      "\u001b[34m169.254.255.130 - - [14/Oct/2020:12:35:53 +0000] \"GET /ping HTTP/1.1\" 200 0 \"-\" \"Go-http-client/1.1\"\u001b[0m\n",
      "\u001b[34m169.254.255.130 - - [14/Oct/2020:12:35:53 +0000] \"GET /execution-parameters HTTP/1.1\" 200 84 \"-\" \"Go-http-client/1.1\"\u001b[0m\n",
      "\u001b[34m[2020-10-14:12:35:54:INFO] No GPUs detected (normal if no gpus installed)\u001b[0m\n",
      "\u001b[34m[2020-10-14:12:35:54:INFO] Determined delimiter of CSV input is ','\u001b[0m\n",
      "\u001b[34m[2020-10-14:12:35:54:INFO] Determined delimiter of CSV input is ','\u001b[0m\n",
      "\u001b[34m[2020-10-14:12:35:54:INFO] No GPUs detected (normal if no gpus installed)\u001b[0m\n",
      "\u001b[34m[2020-10-14:12:35:54:INFO] Determined delimiter of CSV input is ','\u001b[0m\n",
      "\u001b[34m[2020-10-14:12:35:54:INFO] No GPUs detected (normal if no gpus installed)\u001b[0m\n",
      "\u001b[34m[2020-10-14:12:35:54:INFO] Determined delimiter of CSV input is ','\u001b[0m\n",
      "\u001b[35m[2020-10-14 12:35:52 +0000] [29] [INFO] Booting worker with pid: 29\u001b[0m\n",
      "\u001b[35m[2020-10-14 12:35:52 +0000] [33] [INFO] Booting worker with pid: 33\u001b[0m\n",
      "\u001b[35m[2020-10-14:12:35:53:INFO] No GPUs detected (normal if no gpus installed)\u001b[0m\n",
      "\u001b[35m169.254.255.130 - - [14/Oct/2020:12:35:53 +0000] \"GET /ping HTTP/1.1\" 200 0 \"-\" \"Go-http-client/1.1\"\u001b[0m\n",
      "\u001b[35m169.254.255.130 - - [14/Oct/2020:12:35:53 +0000] \"GET /execution-parameters HTTP/1.1\" 200 84 \"-\" \"Go-http-client/1.1\"\u001b[0m\n",
      "\u001b[35m[2020-10-14:12:35:54:INFO] No GPUs detected (normal if no gpus installed)\u001b[0m\n",
      "\u001b[35m[2020-10-14:12:35:54:INFO] Determined delimiter of CSV input is ','\u001b[0m\n",
      "\u001b[35m[2020-10-14:12:35:54:INFO] Determined delimiter of CSV input is ','\u001b[0m\n",
      "\u001b[35m[2020-10-14:12:35:54:INFO] No GPUs detected (normal if no gpus installed)\u001b[0m\n",
      "\u001b[35m[2020-10-14:12:35:54:INFO] Determined delimiter of CSV input is ','\u001b[0m\n",
      "\u001b[35m[2020-10-14:12:35:54:INFO] No GPUs detected (normal if no gpus installed)\u001b[0m\n",
      "\u001b[35m[2020-10-14:12:35:54:INFO] Determined delimiter of CSV input is ','\u001b[0m\n",
      "\u001b[34m169.254.255.130 - - [14/Oct/2020:12:35:57 +0000] \"POST /invocations HTTP/1.1\" 200 12281 \"-\" \"Go-http-client/1.1\"\u001b[0m\n",
      "\u001b[34m169.254.255.130 - - [14/Oct/2020:12:35:57 +0000] \"POST /invocations HTTP/1.1\" 200 12237 \"-\" \"Go-http-client/1.1\"\u001b[0m\n",
      "\u001b[34m169.254.255.130 - - [14/Oct/2020:12:35:57 +0000] \"POST /invocations HTTP/1.1\" 200 12287 \"-\" \"Go-http-client/1.1\"\u001b[0m\n",
      "\u001b[35m169.254.255.130 - - [14/Oct/2020:12:35:57 +0000] \"POST /invocations HTTP/1.1\" 200 12281 \"-\" \"Go-http-client/1.1\"\u001b[0m\n",
      "\u001b[35m169.254.255.130 - - [14/Oct/2020:12:35:57 +0000] \"POST /invocations HTTP/1.1\" 200 12237 \"-\" \"Go-http-client/1.1\"\u001b[0m\n",
      "\u001b[35m169.254.255.130 - - [14/Oct/2020:12:35:57 +0000] \"POST /invocations HTTP/1.1\" 200 12287 \"-\" \"Go-http-client/1.1\"\u001b[0m\n",
      "\u001b[34m[2020-10-14:12:35:57:INFO] Determined delimiter of CSV input is ','\u001b[0m\n",
      "\u001b[34m[2020-10-14:12:35:57:INFO] Determined delimiter of CSV input is ','\u001b[0m\n",
      "\u001b[34m169.254.255.130 - - [14/Oct/2020:12:35:57 +0000] \"POST /invocations HTTP/1.1\" 200 12259 \"-\" \"Go-http-client/1.1\"\u001b[0m\n",
      "\u001b[34m[2020-10-14:12:35:57:INFO] Determined delimiter of CSV input is ','\u001b[0m\n",
      "\u001b[35m[2020-10-14:12:35:57:INFO] Determined delimiter of CSV input is ','\u001b[0m\n",
      "\u001b[35m[2020-10-14:12:35:57:INFO] Determined delimiter of CSV input is ','\u001b[0m\n",
      "\u001b[35m169.254.255.130 - - [14/Oct/2020:12:35:57 +0000] \"POST /invocations HTTP/1.1\" 200 12259 \"-\" \"Go-http-client/1.1\"\u001b[0m\n",
      "\u001b[35m[2020-10-14:12:35:57:INFO] Determined delimiter of CSV input is ','\u001b[0m\n",
      "\u001b[34m[2020-10-14:12:35:58:INFO] Determined delimiter of CSV input is ','\u001b[0m\n",
      "\u001b[35m[2020-10-14:12:35:58:INFO] Determined delimiter of CSV input is ','\u001b[0m\n",
      "\u001b[34m169.254.255.130 - - [14/Oct/2020:12:36:00 +0000] \"POST /invocations HTTP/1.1\" 200 12258 \"-\" \"Go-http-client/1.1\"\u001b[0m\n",
      "\u001b[34m169.254.255.130 - - [14/Oct/2020:12:36:00 +0000] \"POST /invocations HTTP/1.1\" 200 12255 \"-\" \"Go-http-client/1.1\"\u001b[0m\n",
      "\u001b[34m169.254.255.130 - - [14/Oct/2020:12:36:00 +0000] \"POST /invocations HTTP/1.1\" 200 12244 \"-\" \"Go-http-client/1.1\"\u001b[0m\n",
      "\u001b[35m169.254.255.130 - - [14/Oct/2020:12:36:00 +0000] \"POST /invocations HTTP/1.1\" 200 12258 \"-\" \"Go-http-client/1.1\"\u001b[0m\n",
      "\u001b[35m169.254.255.130 - - [14/Oct/2020:12:36:00 +0000] \"POST /invocations HTTP/1.1\" 200 12255 \"-\" \"Go-http-client/1.1\"\u001b[0m\n",
      "\u001b[35m169.254.255.130 - - [14/Oct/2020:12:36:00 +0000] \"POST /invocations HTTP/1.1\" 200 12244 \"-\" \"Go-http-client/1.1\"\u001b[0m\n",
      "\u001b[34m[2020-10-14:12:36:01:INFO] Determined delimiter of CSV input is ','\u001b[0m\n",
      "\u001b[34m169.254.255.130 - - [14/Oct/2020:12:36:01 +0000] \"POST /invocations HTTP/1.1\" 200 12304 \"-\" \"Go-http-client/1.1\"\u001b[0m\n",
      "\u001b[34m[2020-10-14:12:36:01:INFO] Determined delimiter of CSV input is ','\u001b[0m\n",
      "\u001b[34m[2020-10-14:12:36:01:INFO] Determined delimiter of CSV input is ','\u001b[0m\n",
      "\u001b[34m[2020-10-14:12:36:01:INFO] Determined delimiter of CSV input is ','\u001b[0m\n",
      "\u001b[35m[2020-10-14:12:36:01:INFO] Determined delimiter of CSV input is ','\u001b[0m\n",
      "\u001b[35m169.254.255.130 - - [14/Oct/2020:12:36:01 +0000] \"POST /invocations HTTP/1.1\" 200 12304 \"-\" \"Go-http-client/1.1\"\u001b[0m\n",
      "\u001b[35m[2020-10-14:12:36:01:INFO] Determined delimiter of CSV input is ','\u001b[0m\n",
      "\u001b[35m[2020-10-14:12:36:01:INFO] Determined delimiter of CSV input is ','\u001b[0m\n",
      "\u001b[35m[2020-10-14:12:36:01:INFO] Determined delimiter of CSV input is ','\u001b[0m\n",
      "\u001b[34m169.254.255.130 - - [14/Oct/2020:12:36:04 +0000] \"POST /invocations HTTP/1.1\" 200 12227 \"-\" \"Go-http-client/1.1\"\u001b[0m\n",
      "\u001b[35m169.254.255.130 - - [14/Oct/2020:12:36:04 +0000] \"POST /invocations HTTP/1.1\" 200 12227 \"-\" \"Go-http-client/1.1\"\u001b[0m\n",
      "\u001b[34m169.254.255.130 - - [14/Oct/2020:12:36:04 +0000] \"POST /invocations HTTP/1.1\" 200 12268 \"-\" \"Go-http-client/1.1\"\u001b[0m\n",
      "\u001b[34m169.254.255.130 - - [14/Oct/2020:12:36:04 +0000] \"POST /invocations HTTP/1.1\" 200 12264 \"-\" \"Go-http-client/1.1\"\u001b[0m\n",
      "\u001b[34m[2020-10-14:12:36:04:INFO] Determined delimiter of CSV input is ','\u001b[0m\n",
      "\u001b[34m[2020-10-14:12:36:04:INFO] Determined delimiter of CSV input is ','\u001b[0m\n",
      "\u001b[34m169.254.255.130 - - [14/Oct/2020:12:36:04 +0000] \"POST /invocations HTTP/1.1\" 200 12241 \"-\" \"Go-http-client/1.1\"\u001b[0m\n",
      "\u001b[34m[2020-10-14:12:36:04:INFO] Determined delimiter of CSV input is ','\u001b[0m\n",
      "\u001b[34m[2020-10-14:12:36:04:INFO] Determined delimiter of CSV input is ','\u001b[0m\n",
      "\u001b[35m169.254.255.130 - - [14/Oct/2020:12:36:04 +0000] \"POST /invocations HTTP/1.1\" 200 12268 \"-\" \"Go-http-client/1.1\"\u001b[0m\n",
      "\u001b[35m169.254.255.130 - - [14/Oct/2020:12:36:04 +0000] \"POST /invocations HTTP/1.1\" 200 12264 \"-\" \"Go-http-client/1.1\"\u001b[0m\n",
      "\u001b[35m[2020-10-14:12:36:04:INFO] Determined delimiter of CSV input is ','\u001b[0m\n",
      "\u001b[35m[2020-10-14:12:36:04:INFO] Determined delimiter of CSV input is ','\u001b[0m\n",
      "\u001b[35m169.254.255.130 - - [14/Oct/2020:12:36:04 +0000] \"POST /invocations HTTP/1.1\" 200 12241 \"-\" \"Go-http-client/1.1\"\u001b[0m\n",
      "\u001b[35m[2020-10-14:12:36:04:INFO] Determined delimiter of CSV input is ','\u001b[0m\n",
      "\u001b[35m[2020-10-14:12:36:04:INFO] Determined delimiter of CSV input is ','\u001b[0m\n"
     ]
    },
    {
     "name": "stdout",
     "output_type": "stream",
     "text": [
      "\u001b[34m[2020-10-14:12:36:07:INFO] Determined delimiter of CSV input is ','\u001b[0m\n",
      "\u001b[35m[2020-10-14:12:36:07:INFO] Determined delimiter of CSV input is ','\u001b[0m\n",
      "\u001b[34m169.254.255.130 - - [14/Oct/2020:12:36:10 +0000] \"POST /invocations HTTP/1.1\" 200 12254 \"-\" \"Go-http-client/1.1\"\u001b[0m\n",
      "\u001b[34m169.254.255.130 - - [14/Oct/2020:12:36:10 +0000] \"POST /invocations HTTP/1.1\" 200 12260 \"-\" \"Go-http-client/1.1\"\u001b[0m\n",
      "\u001b[35m169.254.255.130 - - [14/Oct/2020:12:36:10 +0000] \"POST /invocations HTTP/1.1\" 200 12254 \"-\" \"Go-http-client/1.1\"\u001b[0m\n",
      "\u001b[35m169.254.255.130 - - [14/Oct/2020:12:36:10 +0000] \"POST /invocations HTTP/1.1\" 200 12260 \"-\" \"Go-http-client/1.1\"\u001b[0m\n",
      "\u001b[34m169.254.255.130 - - [14/Oct/2020:12:36:10 +0000] \"POST /invocations HTTP/1.1\" 200 12225 \"-\" \"Go-http-client/1.1\"\u001b[0m\n",
      "\u001b[34m169.254.255.130 - - [14/Oct/2020:12:36:10 +0000] \"POST /invocations HTTP/1.1\" 200 12287 \"-\" \"Go-http-client/1.1\"\u001b[0m\n",
      "\u001b[34m[2020-10-14:12:36:10:INFO] Determined delimiter of CSV input is ','\u001b[0m\n",
      "\u001b[34m[2020-10-14:12:36:10:INFO] Determined delimiter of CSV input is ','\u001b[0m\n",
      "\u001b[35m169.254.255.130 - - [14/Oct/2020:12:36:10 +0000] \"POST /invocations HTTP/1.1\" 200 12225 \"-\" \"Go-http-client/1.1\"\u001b[0m\n",
      "\u001b[35m169.254.255.130 - - [14/Oct/2020:12:36:10 +0000] \"POST /invocations HTTP/1.1\" 200 12287 \"-\" \"Go-http-client/1.1\"\u001b[0m\n",
      "\u001b[35m[2020-10-14:12:36:10:INFO] Determined delimiter of CSV input is ','\u001b[0m\n",
      "\u001b[35m[2020-10-14:12:36:10:INFO] Determined delimiter of CSV input is ','\u001b[0m\n",
      "\u001b[34m[2020-10-14:12:36:11:INFO] Determined delimiter of CSV input is ','\u001b[0m\n",
      "\u001b[34m[2020-10-14:12:36:11:INFO] Determined delimiter of CSV input is ','\u001b[0m\n",
      "\u001b[35m[2020-10-14:12:36:11:INFO] Determined delimiter of CSV input is ','\u001b[0m\n",
      "\u001b[35m[2020-10-14:12:36:11:INFO] Determined delimiter of CSV input is ','\u001b[0m\n",
      "\u001b[34m169.254.255.130 - - [14/Oct/2020:12:36:13 +0000] \"POST /invocations HTTP/1.1\" 200 12218 \"-\" \"Go-http-client/1.1\"\u001b[0m\n",
      "\u001b[35m169.254.255.130 - - [14/Oct/2020:12:36:13 +0000] \"POST /invocations HTTP/1.1\" 200 12218 \"-\" \"Go-http-client/1.1\"\u001b[0m\n",
      "\u001b[34m169.254.255.130 - - [14/Oct/2020:12:36:13 +0000] \"POST /invocations HTTP/1.1\" 200 12252 \"-\" \"Go-http-client/1.1\"\u001b[0m\n",
      "\u001b[34m169.254.255.130 - - [14/Oct/2020:12:36:14 +0000] \"POST /invocations HTTP/1.1\" 200 12270 \"-\" \"Go-http-client/1.1\"\u001b[0m\n",
      "\u001b[34m169.254.255.130 - - [14/Oct/2020:12:36:14 +0000] \"POST /invocations HTTP/1.1\" 200 12256 \"-\" \"Go-http-client/1.1\"\u001b[0m\n",
      "\u001b[34m[2020-10-14:12:36:14:INFO] Determined delimiter of CSV input is ','\u001b[0m\n",
      "\u001b[35m169.254.255.130 - - [14/Oct/2020:12:36:13 +0000] \"POST /invocations HTTP/1.1\" 200 12252 \"-\" \"Go-http-client/1.1\"\u001b[0m\n",
      "\u001b[35m169.254.255.130 - - [14/Oct/2020:12:36:14 +0000] \"POST /invocations HTTP/1.1\" 200 12270 \"-\" \"Go-http-client/1.1\"\u001b[0m\n",
      "\u001b[35m169.254.255.130 - - [14/Oct/2020:12:36:14 +0000] \"POST /invocations HTTP/1.1\" 200 12256 \"-\" \"Go-http-client/1.1\"\u001b[0m\n",
      "\u001b[35m[2020-10-14:12:36:14:INFO] Determined delimiter of CSV input is ','\u001b[0m\n",
      "\u001b[34m[2020-10-14:12:36:14:INFO] Determined delimiter of CSV input is ','\u001b[0m\n",
      "\u001b[34m[2020-10-14:12:36:14:INFO] Determined delimiter of CSV input is ','\u001b[0m\n",
      "\u001b[35m[2020-10-14:12:36:14:INFO] Determined delimiter of CSV input is ','\u001b[0m\n",
      "\u001b[35m[2020-10-14:12:36:14:INFO] Determined delimiter of CSV input is ','\u001b[0m\n",
      "\u001b[34m169.254.255.130 - - [14/Oct/2020:12:36:15 +0000] \"POST /invocations HTTP/1.1\" 200 12259 \"-\" \"Go-http-client/1.1\"\u001b[0m\n",
      "\u001b[35m169.254.255.130 - - [14/Oct/2020:12:36:15 +0000] \"POST /invocations HTTP/1.1\" 200 12259 \"-\" \"Go-http-client/1.1\"\u001b[0m\n",
      "\u001b[34m169.254.255.130 - - [14/Oct/2020:12:36:16 +0000] \"POST /invocations HTTP/1.1\" 200 12245 \"-\" \"Go-http-client/1.1\"\u001b[0m\n",
      "\u001b[34m169.254.255.130 - - [14/Oct/2020:12:36:16 +0000] \"POST /invocations HTTP/1.1\" 200 12293 \"-\" \"Go-http-client/1.1\"\u001b[0m\n",
      "\u001b[34m[2020-10-14:12:36:16:INFO] Determined delimiter of CSV input is ','\u001b[0m\n",
      "\u001b[34m[2020-10-14:12:36:16:INFO] Determined delimiter of CSV input is ','\u001b[0m\n",
      "\u001b[35m169.254.255.130 - - [14/Oct/2020:12:36:16 +0000] \"POST /invocations HTTP/1.1\" 200 12245 \"-\" \"Go-http-client/1.1\"\u001b[0m\n",
      "\u001b[35m169.254.255.130 - - [14/Oct/2020:12:36:16 +0000] \"POST /invocations HTTP/1.1\" 200 12293 \"-\" \"Go-http-client/1.1\"\u001b[0m\n",
      "\u001b[35m[2020-10-14:12:36:16:INFO] Determined delimiter of CSV input is ','\u001b[0m\n",
      "\u001b[35m[2020-10-14:12:36:16:INFO] Determined delimiter of CSV input is ','\u001b[0m\n",
      "\u001b[34m[2020-10-14:12:36:18:INFO] Determined delimiter of CSV input is ','\u001b[0m\n",
      "\u001b[34m[2020-10-14:12:36:18:INFO] Determined delimiter of CSV input is ','\u001b[0m\n",
      "\u001b[35m[2020-10-14:12:36:18:INFO] Determined delimiter of CSV input is ','\u001b[0m\n",
      "\u001b[35m[2020-10-14:12:36:18:INFO] Determined delimiter of CSV input is ','\u001b[0m\n",
      "\u001b[34m169.254.255.130 - - [14/Oct/2020:12:36:21 +0000] \"POST /invocations HTTP/1.1\" 200 12271 \"-\" \"Go-http-client/1.1\"\u001b[0m\n",
      "\u001b[34m169.254.255.130 - - [14/Oct/2020:12:36:21 +0000] \"POST /invocations HTTP/1.1\" 200 12265 \"-\" \"Go-http-client/1.1\"\u001b[0m\n",
      "\u001b[34m169.254.255.130 - - [14/Oct/2020:12:36:21 +0000] \"POST /invocations HTTP/1.1\" 200 12262 \"-\" \"Go-http-client/1.1\"\u001b[0m\n",
      "\u001b[34m169.254.255.130 - - [14/Oct/2020:12:36:21 +0000] \"POST /invocations HTTP/1.1\" 200 12281 \"-\" \"Go-http-client/1.1\"\u001b[0m\n",
      "\u001b[34m[2020-10-14:12:36:21:INFO] Determined delimiter of CSV input is ','\u001b[0m\n",
      "\u001b[34m[2020-10-14:12:36:21:INFO] Determined delimiter of CSV input is ','\u001b[0m\n",
      "\u001b[34m[2020-10-14:12:36:21:INFO] Determined delimiter of CSV input is ','\u001b[0m\n",
      "\u001b[34m[2020-10-14:12:36:21:INFO] Determined delimiter of CSV input is ','\u001b[0m\n",
      "\u001b[35m169.254.255.130 - - [14/Oct/2020:12:36:21 +0000] \"POST /invocations HTTP/1.1\" 200 12271 \"-\" \"Go-http-client/1.1\"\u001b[0m\n",
      "\u001b[35m169.254.255.130 - - [14/Oct/2020:12:36:21 +0000] \"POST /invocations HTTP/1.1\" 200 12265 \"-\" \"Go-http-client/1.1\"\u001b[0m\n",
      "\u001b[35m169.254.255.130 - - [14/Oct/2020:12:36:21 +0000] \"POST /invocations HTTP/1.1\" 200 12262 \"-\" \"Go-http-client/1.1\"\u001b[0m\n",
      "\u001b[35m169.254.255.130 - - [14/Oct/2020:12:36:21 +0000] \"POST /invocations HTTP/1.1\" 200 12281 \"-\" \"Go-http-client/1.1\"\u001b[0m\n",
      "\u001b[35m[2020-10-14:12:36:21:INFO] Determined delimiter of CSV input is ','\u001b[0m\n",
      "\u001b[35m[2020-10-14:12:36:21:INFO] Determined delimiter of CSV input is ','\u001b[0m\n",
      "\u001b[35m[2020-10-14:12:36:21:INFO] Determined delimiter of CSV input is ','\u001b[0m\n",
      "\u001b[35m[2020-10-14:12:36:21:INFO] Determined delimiter of CSV input is ','\u001b[0m\n",
      "\u001b[34m169.254.255.130 - - [14/Oct/2020:12:36:24 +0000] \"POST /invocations HTTP/1.1\" 200 12297 \"-\" \"Go-http-client/1.1\"\u001b[0m\n",
      "\u001b[34m169.254.255.130 - - [14/Oct/2020:12:36:24 +0000] \"POST /invocations HTTP/1.1\" 200 12250 \"-\" \"Go-http-client/1.1\"\u001b[0m\n",
      "\u001b[34m169.254.255.130 - - [14/Oct/2020:12:36:24 +0000] \"POST /invocations HTTP/1.1\" 200 12260 \"-\" \"Go-http-client/1.1\"\u001b[0m\n",
      "\u001b[34m[2020-10-14:12:36:24:INFO] Determined delimiter of CSV input is ','\u001b[0m\n",
      "\u001b[34m169.254.255.130 - - [14/Oct/2020:12:36:24 +0000] \"POST /invocations HTTP/1.1\" 200 12314 \"-\" \"Go-http-client/1.1\"\u001b[0m\n",
      "\u001b[34m[2020-10-14:12:36:24:INFO] Determined delimiter of CSV input is ','\u001b[0m\n",
      "\u001b[35m169.254.255.130 - - [14/Oct/2020:12:36:24 +0000] \"POST /invocations HTTP/1.1\" 200 12297 \"-\" \"Go-http-client/1.1\"\u001b[0m\n",
      "\u001b[35m169.254.255.130 - - [14/Oct/2020:12:36:24 +0000] \"POST /invocations HTTP/1.1\" 200 12250 \"-\" \"Go-http-client/1.1\"\u001b[0m\n",
      "\u001b[35m169.254.255.130 - - [14/Oct/2020:12:36:24 +0000] \"POST /invocations HTTP/1.1\" 200 12260 \"-\" \"Go-http-client/1.1\"\u001b[0m\n",
      "\u001b[35m[2020-10-14:12:36:24:INFO] Determined delimiter of CSV input is ','\u001b[0m\n",
      "\u001b[35m169.254.255.130 - - [14/Oct/2020:12:36:24 +0000] \"POST /invocations HTTP/1.1\" 200 12314 \"-\" \"Go-http-client/1.1\"\u001b[0m\n",
      "\u001b[35m[2020-10-14:12:36:24:INFO] Determined delimiter of CSV input is ','\u001b[0m\n",
      "\u001b[34m[2020-10-14:12:36:24:INFO] Determined delimiter of CSV input is ','\u001b[0m\n",
      "\u001b[35m[2020-10-14:12:36:24:INFO] Determined delimiter of CSV input is ','\u001b[0m\n",
      "\u001b[34m169.254.255.130 - - [14/Oct/2020:12:36:26 +0000] \"POST /invocations HTTP/1.1\" 200 9133 \"-\" \"Go-http-client/1.1\"\u001b[0m\n",
      "\u001b[34m169.254.255.130 - - [14/Oct/2020:12:36:26 +0000] \"POST /invocations HTTP/1.1\" 200 12292 \"-\" \"Go-http-client/1.1\"\u001b[0m\n",
      "\u001b[35m169.254.255.130 - - [14/Oct/2020:12:36:26 +0000] \"POST /invocations HTTP/1.1\" 200 9133 \"-\" \"Go-http-client/1.1\"\u001b[0m\n",
      "\u001b[35m169.254.255.130 - - [14/Oct/2020:12:36:26 +0000] \"POST /invocations HTTP/1.1\" 200 12292 \"-\" \"Go-http-client/1.1\"\u001b[0m\n",
      "\u001b[34m169.254.255.130 - - [14/Oct/2020:12:36:27 +0000] \"POST /invocations HTTP/1.1\" 200 12269 \"-\" \"Go-http-client/1.1\"\u001b[0m\n",
      "\u001b[35m169.254.255.130 - - [14/Oct/2020:12:36:27 +0000] \"POST /invocations HTTP/1.1\" 200 12269 \"-\" \"Go-http-client/1.1\"\u001b[0m\n"
     ]
    },
    {
     "name": "stdout",
     "output_type": "stream",
     "text": [
      "\n"
     ]
    }
   ],
   "source": [
    "xgb_transformer.wait()"
   ]
  },
  {
   "cell_type": "markdown",
   "metadata": {},
   "source": [
    "Now the transform job has executed and the result, the estimated sentiment of each review, has been saved on S3. Since we would rather work on this file locally we can perform a bit of notebook magic to copy the file to the `data_dir`."
   ]
  },
  {
   "cell_type": "code",
   "execution_count": 61,
   "metadata": {},
   "outputs": [
    {
     "name": "stdout",
     "output_type": "stream",
     "text": [
      "Completed 256.0 KiB/476.0 KiB (2.8 MiB/s) with 1 file(s) remaining\r",
      "Completed 476.0 KiB/476.0 KiB (4.7 MiB/s) with 1 file(s) remaining\r",
      "download: s3://sagemaker-us-east-1-136004397992/sagemaker-xgboost-201014-1149-004-3b451-2020-10-14-12-30-46-903/test.csv.out to ../data/xgboost/test.csv.out\r\n"
     ]
    }
   ],
   "source": [
    "!aws s3 cp --recursive $xgb_transformer.output_path $data_dir"
   ]
  },
  {
   "cell_type": "markdown",
   "metadata": {},
   "source": [
    "The last step is now to read in the output from our model, convert the output to something a little more usable, in this case we want the sentiment to be either `1` (positive) or `0` (negative), and then compare to the ground truth labels."
   ]
  },
  {
   "cell_type": "code",
   "execution_count": 62,
   "metadata": {},
   "outputs": [],
   "source": [
    "predictions = pd.read_csv(os.path.join(data_dir, 'test.csv.out'), header=None)\n",
    "predictions = [round(num) for num in predictions.squeeze().values]"
   ]
  },
  {
   "cell_type": "code",
   "execution_count": 63,
   "metadata": {},
   "outputs": [
    {
     "data": {
      "text/plain": [
       "0.871"
      ]
     },
     "execution_count": 63,
     "metadata": {},
     "output_type": "execute_result"
    }
   ],
   "source": [
    "from sklearn.metrics import accuracy_score\n",
    "accuracy_score(test_y, predictions)"
   ]
  },
  {
   "cell_type": "markdown",
   "metadata": {},
   "source": [
    "## Optional: Clean up\n",
    "\n",
    "The default notebook instance on SageMaker doesn't have a lot of excess disk space available. As you continue to complete and execute notebooks you will eventually fill up this disk space, leading to errors which can be difficult to diagnose. Once you are completely finished using a notebook it is a good idea to remove the files that you created along the way. Of course, you can do this from the terminal or from the notebook hub if you would like. The cell below contains some commands to clean up the created files from within the notebook."
   ]
  },
  {
   "cell_type": "code",
   "execution_count": 64,
   "metadata": {},
   "outputs": [],
   "source": [
    "# First we will remove all of the files contained in the data_dir directory\n",
    "!rm $data_dir/*\n",
    "\n",
    "# And then we delete the directory itself\n",
    "!rmdir $data_dir\n",
    "\n",
    "# Similarly we will remove the files in the cache_dir directory and the directory itself\n",
    "!rm $cache_dir/*\n",
    "!rmdir $cache_dir"
   ]
  },
  {
   "cell_type": "code",
   "execution_count": null,
   "metadata": {},
   "outputs": [],
   "source": []
  }
 ],
 "metadata": {
  "kernelspec": {
   "display_name": "conda_python3",
   "language": "python",
   "name": "conda_python3"
  },
  "language_info": {
   "codemirror_mode": {
    "name": "ipython",
    "version": 3
   },
   "file_extension": ".py",
   "mimetype": "text/x-python",
   "name": "python",
   "nbconvert_exporter": "python",
   "pygments_lexer": "ipython3",
   "version": "3.6.10"
  }
 },
 "nbformat": 4,
 "nbformat_minor": 2
}
