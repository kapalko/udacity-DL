{
 "cells": [
  {
   "cell_type": "markdown",
   "metadata": {},
   "source": [
    "# Sentiment Analysis Web App\n",
    "\n",
    "_Deep Learning Nanodegree Program | Deployment_\n",
    "\n",
    "---\n",
    "\n",
    "In this notebook we will use Amazon's SageMaker service to construct a random tree model to predict the sentiment of a movie review. In addition, we will deploy this model to an endpoint and construct a very simple web app which will interact with our model's deployed endpoint.\n",
    "\n",
    "## General Outline\n",
    "\n",
    "Typically, when using a notebook instance with SageMaker, you will proceed through the following steps. Of course, not every step will need to be done with each project. Also, there is quite a lot of room for variation in many of the steps, as you will see throughout these lessons.\n",
    "\n",
    "1. Download or otherwise retrieve the data.\n",
    "2. Process / Prepare the data.\n",
    "3. Upload the processed data to S3.\n",
    "4. Train a chosen model.\n",
    "5. Test the trained model (typically using a batch transform job).\n",
    "6. Deploy the trained model.\n",
    "7. Use the deployed model.\n",
    "\n",
    "In this notebook we will progress through each of the steps above. We will also see that the final step, using the deployed model, can be quite challenging."
   ]
  },
  {
   "cell_type": "markdown",
   "metadata": {},
   "source": [
    "## Step 1: Downloading the data\n",
    "\n",
    "The dataset we are going to use is very popular among researchers in Natural Language Processing, usually referred to as the [IMDb dataset](http://ai.stanford.edu/~amaas/data/sentiment/). It consists of movie reviews from the website [imdb.com](http://www.imdb.com/), each labeled as either '**pos**itive', if the reviewer enjoyed the film, or '**neg**ative' otherwise.\n",
    "\n",
    "> Maas, Andrew L., et al. [Learning Word Vectors for Sentiment Analysis](http://ai.stanford.edu/~amaas/data/sentiment/). In _Proceedings of the 49th Annual Meeting of the Association for Computational Linguistics: Human Language Technologies_. Association for Computational Linguistics, 2011.\n",
    "\n",
    "We begin by using some Jupyter Notebook magic to download and extract the dataset."
   ]
  },
  {
   "cell_type": "code",
   "execution_count": 1,
   "metadata": {},
   "outputs": [
    {
     "name": "stdout",
     "output_type": "stream",
     "text": [
      "mkdir: cannot create directory ‘../data’: File exists\n",
      "--2020-10-13 21:08:58--  http://ai.stanford.edu/~amaas/data/sentiment/aclImdb_v1.tar.gz\n",
      "Resolving ai.stanford.edu (ai.stanford.edu)... 171.64.68.10\n",
      "Connecting to ai.stanford.edu (ai.stanford.edu)|171.64.68.10|:80... connected.\n",
      "HTTP request sent, awaiting response... 200 OK\n",
      "Length: 84125825 (80M) [application/x-gzip]\n",
      "Saving to: ‘../data/aclImdb_v1.tar.gz’\n",
      "\n",
      "../data/aclImdb_v1. 100%[===================>]  80.23M  24.1MB/s    in 3.8s    \n",
      "\n",
      "2020-10-13 21:09:02 (21.1 MB/s) - ‘../data/aclImdb_v1.tar.gz’ saved [84125825/84125825]\n",
      "\n"
     ]
    }
   ],
   "source": [
    "%mkdir ../data\n",
    "!wget -O ../data/aclImdb_v1.tar.gz http://ai.stanford.edu/~amaas/data/sentiment/aclImdb_v1.tar.gz\n",
    "!tar -zxf ../data/aclImdb_v1.tar.gz -C ../data"
   ]
  },
  {
   "cell_type": "markdown",
   "metadata": {},
   "source": [
    "## Step 2: Preparing and Processing the data\n",
    "\n",
    "The data we have downloaded is split into various files, each of which contains a single review. It will be much easier going forward if we combine these individual files into two large files, one for training and one for testing."
   ]
  },
  {
   "cell_type": "code",
   "execution_count": 2,
   "metadata": {},
   "outputs": [],
   "source": [
    "import os\n",
    "import glob\n",
    "\n",
    "def read_imdb_data(data_dir='../data/aclImdb'):\n",
    "    data = {}\n",
    "    labels = {}\n",
    "    \n",
    "    for data_type in ['train', 'test']:\n",
    "        data[data_type] = {}\n",
    "        labels[data_type] = {}\n",
    "        \n",
    "        for sentiment in ['pos', 'neg']:\n",
    "            data[data_type][sentiment] = []\n",
    "            labels[data_type][sentiment] = []\n",
    "            \n",
    "            path = os.path.join(data_dir, data_type, sentiment, '*.txt')\n",
    "            files = glob.glob(path)\n",
    "            \n",
    "            for f in files:\n",
    "                with open(f) as review:\n",
    "                    data[data_type][sentiment].append(review.read())\n",
    "                    # Here we represent a positive review by '1' and a negative review by '0'\n",
    "                    labels[data_type][sentiment].append(1 if sentiment == 'pos' else 0)\n",
    "                    \n",
    "            assert len(data[data_type][sentiment]) == len(labels[data_type][sentiment]), \\\n",
    "                    \"{}/{} data size does not match labels size\".format(data_type, sentiment)\n",
    "                \n",
    "    return data, labels"
   ]
  },
  {
   "cell_type": "code",
   "execution_count": 3,
   "metadata": {},
   "outputs": [
    {
     "name": "stdout",
     "output_type": "stream",
     "text": [
      "IMDB reviews: train = 12500 pos / 12500 neg, test = 12500 pos / 12500 neg\n"
     ]
    }
   ],
   "source": [
    "data, labels = read_imdb_data()\n",
    "print(\"IMDB reviews: train = {} pos / {} neg, test = {} pos / {} neg\".format(\n",
    "            len(data['train']['pos']), len(data['train']['neg']),\n",
    "            len(data['test']['pos']), len(data['test']['neg'])))"
   ]
  },
  {
   "cell_type": "code",
   "execution_count": 4,
   "metadata": {},
   "outputs": [],
   "source": [
    "from sklearn.utils import shuffle\n",
    "\n",
    "def prepare_imdb_data(data, labels):\n",
    "    \"\"\"Prepare training and test sets from IMDb movie reviews.\"\"\"\n",
    "    \n",
    "    #Combine positive and negative reviews and labels\n",
    "    data_train = data['train']['pos'] + data['train']['neg']\n",
    "    data_test = data['test']['pos'] + data['test']['neg']\n",
    "    labels_train = labels['train']['pos'] + labels['train']['neg']\n",
    "    labels_test = labels['test']['pos'] + labels['test']['neg']\n",
    "    \n",
    "    #Shuffle reviews and corresponding labels within training and test sets\n",
    "    data_train, labels_train = shuffle(data_train, labels_train)\n",
    "    data_test, labels_test = shuffle(data_test, labels_test)\n",
    "    \n",
    "    # Return a unified training data, test data, training labels, test labets\n",
    "    return data_train, data_test, labels_train, labels_test"
   ]
  },
  {
   "cell_type": "code",
   "execution_count": 5,
   "metadata": {},
   "outputs": [
    {
     "name": "stdout",
     "output_type": "stream",
     "text": [
      "IMDb reviews (combined): train = 25000, test = 25000\n"
     ]
    }
   ],
   "source": [
    "train_X, test_X, train_y, test_y = prepare_imdb_data(data, labels)\n",
    "print(\"IMDb reviews (combined): train = {}, test = {}\".format(len(train_X), len(test_X)))"
   ]
  },
  {
   "cell_type": "code",
   "execution_count": 6,
   "metadata": {},
   "outputs": [
    {
     "data": {
      "text/plain": [
       "\"Released on DVD in the UK as Axe, The Choke is a teen slasher that fails in pretty much every department: the story is almost non-existent, resulting in a film which comprises mostly of people wandering around a dark building; with the exception of two characters (who are quite obviously destined to be the film's survivors), everyone is thoroughly objectionable, meaning that the viewer couldn't care less when they get slaughtered; the deaths aren't gory enough (unless a brief shot of a pound of minced beef covered in fake blood turns your stomach); and the gratuitous sex scene features next to no nudity (an unforgivable mistake to make in a slasher flick!).<br /><br />The wafer-thin plot sees members of a punk band locked inside what appears to be the world's largest nightclub (there are endless abandoned corridors and rooms, unlike any club I've ever seen) where they are picked off by an unseen assailant. For a low budget effort, the production values are okay, and the cast are all seem to be fairly capable actors, but with not nearly enough genuine scares, a reluctance to get really messy (this is a slasher, so where's the graphic splatter?), way too much dreadful dialogue (particularly from the not-dead-soon-enough drummer) and some ill advised use of tacky video techniques in an attempt to add some style, the movie quickly becomes extremely boring.\""
      ]
     },
     "execution_count": 6,
     "metadata": {},
     "output_type": "execute_result"
    }
   ],
   "source": [
    "train_X[100]"
   ]
  },
  {
   "cell_type": "markdown",
   "metadata": {},
   "source": [
    "## Processing the data\n",
    "\n",
    "Now that we have our training and testing datasets merged and ready to use, we need to start processing the raw data into something that will be useable by our machine learning algorithm. To begin with, we remove any html formatting and any non-alpha numeric characters that may appear in the reviews. We will do this in a very simplistic way using Python's regular expression module. We will discuss the reason for this rather simplistic pre-processing later on."
   ]
  },
  {
   "cell_type": "code",
   "execution_count": 7,
   "metadata": {},
   "outputs": [],
   "source": [
    "import re\n",
    "\n",
    "REPLACE_NO_SPACE = re.compile(\"(\\.)|(\\;)|(\\:)|(\\!)|(\\')|(\\?)|(\\,)|(\\\")|(\\()|(\\))|(\\[)|(\\])\")\n",
    "REPLACE_WITH_SPACE = re.compile(\"(<br\\s*/><br\\s*/>)|(\\-)|(\\/)\")\n",
    "\n",
    "def review_to_words(review):\n",
    "    words = REPLACE_NO_SPACE.sub(\"\", review.lower())\n",
    "    words = REPLACE_WITH_SPACE.sub(\" \", words)\n",
    "    return words"
   ]
  },
  {
   "cell_type": "code",
   "execution_count": 8,
   "metadata": {},
   "outputs": [
    {
     "data": {
      "text/plain": [
       "'released on dvd in the uk as axe the choke is a teen slasher that fails in pretty much every department the story is almost non existent resulting in a film which comprises mostly of people wandering around a dark building with the exception of two characters who are quite obviously destined to be the films survivors everyone is thoroughly objectionable meaning that the viewer couldnt care less when they get slaughtered the deaths arent gory enough unless a brief shot of a pound of minced beef covered in fake blood turns your stomach and the gratuitous sex scene features next to no nudity an unforgivable mistake to make in a slasher flick the wafer thin plot sees members of a punk band locked inside what appears to be the worlds largest nightclub there are endless abandoned corridors and rooms unlike any club ive ever seen where they are picked off by an unseen assailant for a low budget effort the production values are okay and the cast are all seem to be fairly capable actors but with not nearly enough genuine scares a reluctance to get really messy this is a slasher so wheres the graphic splatter way too much dreadful dialogue particularly from the not dead soon enough drummer and some ill advised use of tacky video techniques in an attempt to add some style the movie quickly becomes extremely boring'"
      ]
     },
     "execution_count": 8,
     "metadata": {},
     "output_type": "execute_result"
    }
   ],
   "source": [
    "review_to_words(train_X[100])"
   ]
  },
  {
   "cell_type": "code",
   "execution_count": 9,
   "metadata": {},
   "outputs": [],
   "source": [
    "import pickle\n",
    "\n",
    "cache_dir = os.path.join(\"../cache\", \"sentiment_web_app\")  # where to store cache files\n",
    "os.makedirs(cache_dir, exist_ok=True)  # ensure cache directory exists\n",
    "\n",
    "def preprocess_data(data_train, data_test, labels_train, labels_test,\n",
    "                    cache_dir=cache_dir, cache_file=\"preprocessed_data.pkl\"):\n",
    "    \"\"\"Convert each review to words; read from cache if available.\"\"\"\n",
    "\n",
    "    # If cache_file is not None, try to read from it first\n",
    "    cache_data = None\n",
    "    if cache_file is not None:\n",
    "        try:\n",
    "            with open(os.path.join(cache_dir, cache_file), \"rb\") as f:\n",
    "                cache_data = pickle.load(f)\n",
    "            print(\"Read preprocessed data from cache file:\", cache_file)\n",
    "        except:\n",
    "            pass  # unable to read from cache, but that's okay\n",
    "    \n",
    "    # If cache is missing, then do the heavy lifting\n",
    "    if cache_data is None:\n",
    "        # Preprocess training and test data to obtain words for each review\n",
    "        #words_train = list(map(review_to_words, data_train))\n",
    "        #words_test = list(map(review_to_words, data_test))\n",
    "        words_train = [review_to_words(review) for review in data_train]\n",
    "        words_test = [review_to_words(review) for review in data_test]\n",
    "        \n",
    "        # Write to cache file for future runs\n",
    "        if cache_file is not None:\n",
    "            cache_data = dict(words_train=words_train, words_test=words_test,\n",
    "                              labels_train=labels_train, labels_test=labels_test)\n",
    "            with open(os.path.join(cache_dir, cache_file), \"wb\") as f:\n",
    "                pickle.dump(cache_data, f)\n",
    "            print(\"Wrote preprocessed data to cache file:\", cache_file)\n",
    "    else:\n",
    "        # Unpack data loaded from cache file\n",
    "        words_train, words_test, labels_train, labels_test = (cache_data['words_train'],\n",
    "                cache_data['words_test'], cache_data['labels_train'], cache_data['labels_test'])\n",
    "    \n",
    "    return words_train, words_test, labels_train, labels_test"
   ]
  },
  {
   "cell_type": "code",
   "execution_count": 10,
   "metadata": {},
   "outputs": [
    {
     "name": "stdout",
     "output_type": "stream",
     "text": [
      "Wrote preprocessed data to cache file: preprocessed_data.pkl\n"
     ]
    }
   ],
   "source": [
    "# Preprocess data\n",
    "train_X, test_X, train_y, test_y = preprocess_data(train_X, test_X, train_y, test_y)"
   ]
  },
  {
   "cell_type": "markdown",
   "metadata": {},
   "source": [
    "### Extract Bag-of-Words features\n",
    "\n",
    "For the model we will be implementing, rather than using the reviews directly, we are going to transform each review into a Bag-of-Words feature representation. Keep in mind that 'in the wild' we will only have access to the training set so our transformer can only use the training set to construct a representation."
   ]
  },
  {
   "cell_type": "code",
   "execution_count": 11,
   "metadata": {},
   "outputs": [
    {
     "name": "stderr",
     "output_type": "stream",
     "text": [
      "/home/ec2-user/anaconda3/envs/python3/lib/python3.6/site-packages/sklearn/externals/joblib/__init__.py:15: FutureWarning: sklearn.externals.joblib is deprecated in 0.21 and will be removed in 0.23. Please import this functionality directly from joblib, which can be installed with: pip install joblib. If this warning is raised when loading pickled models, you may need to re-serialize those models with scikit-learn 0.21+.\n",
      "  warnings.warn(msg, category=FutureWarning)\n"
     ]
    }
   ],
   "source": [
    "import numpy as np\n",
    "from sklearn.feature_extraction.text import CountVectorizer\n",
    "from sklearn.externals import joblib\n",
    "# joblib is an enhanced version of pickle that is more efficient for storing NumPy arrays\n",
    "\n",
    "def extract_BoW_features(words_train, words_test, vocabulary_size=5000,\n",
    "                         cache_dir=cache_dir, cache_file=\"bow_features.pkl\"):\n",
    "    \"\"\"Extract Bag-of-Words for a given set of documents, already preprocessed into words.\"\"\"\n",
    "    \n",
    "    # If cache_file is not None, try to read from it first\n",
    "    cache_data = None\n",
    "    if cache_file is not None:\n",
    "        try:\n",
    "            with open(os.path.join(cache_dir, cache_file), \"rb\") as f:\n",
    "                cache_data = joblib.load(f)\n",
    "            print(\"Read features from cache file:\", cache_file)\n",
    "        except:\n",
    "            pass  # unable to read from cache, but that's okay\n",
    "    \n",
    "    # If cache is missing, then do the heavy lifting\n",
    "    if cache_data is None:\n",
    "        # Fit a vectorizer to training documents and use it to transform them\n",
    "        # NOTE: Training documents have already been preprocessed and tokenized into words;\n",
    "        #       pass in dummy functions to skip those steps, e.g. preprocessor=lambda x: x\n",
    "        vectorizer = CountVectorizer(max_features=vocabulary_size)\n",
    "        features_train = vectorizer.fit_transform(words_train).toarray()\n",
    "\n",
    "        # Apply the same vectorizer to transform the test documents (ignore unknown words)\n",
    "        features_test = vectorizer.transform(words_test).toarray()\n",
    "        \n",
    "        # NOTE: Remember to convert the features using .toarray() for a compact representation\n",
    "        \n",
    "        # Write to cache file for future runs (store vocabulary as well)\n",
    "        if cache_file is not None:\n",
    "            vocabulary = vectorizer.vocabulary_\n",
    "            cache_data = dict(features_train=features_train, features_test=features_test,\n",
    "                             vocabulary=vocabulary)\n",
    "            with open(os.path.join(cache_dir, cache_file), \"wb\") as f:\n",
    "                joblib.dump(cache_data, f)\n",
    "            print(\"Wrote features to cache file:\", cache_file)\n",
    "    else:\n",
    "        # Unpack data loaded from cache file\n",
    "        features_train, features_test, vocabulary = (cache_data['features_train'],\n",
    "                cache_data['features_test'], cache_data['vocabulary'])\n",
    "    \n",
    "    # Return both the extracted features as well as the vocabulary\n",
    "    return features_train, features_test, vocabulary"
   ]
  },
  {
   "cell_type": "code",
   "execution_count": 12,
   "metadata": {},
   "outputs": [
    {
     "name": "stdout",
     "output_type": "stream",
     "text": [
      "Wrote features to cache file: bow_features.pkl\n"
     ]
    }
   ],
   "source": [
    "# Extract Bag of Words features for both training and test datasets\n",
    "train_X, test_X, vocabulary = extract_BoW_features(train_X, test_X)"
   ]
  },
  {
   "cell_type": "code",
   "execution_count": 13,
   "metadata": {},
   "outputs": [
    {
     "data": {
      "text/plain": [
       "5000"
      ]
     },
     "execution_count": 13,
     "metadata": {},
     "output_type": "execute_result"
    }
   ],
   "source": [
    "len(train_X[100])"
   ]
  },
  {
   "cell_type": "markdown",
   "metadata": {},
   "source": [
    "## Step 3: Upload data to S3\n",
    "\n",
    "Now that we have created the feature representation of our training (and testing) data, it is time to start setting up and using the XGBoost classifier provided by SageMaker.\n",
    "\n",
    "### Writing the datasets\n",
    "\n",
    "The XGBoost classifier that we will be using requires the dataset to be written to a file and stored using Amazon S3. To do this, we will start by splitting the training dataset into two parts, the data we will train the model with and a validation set. Then, we will write those datasets to a file locally and then upload the files to S3. In addition, we will write the test set to a file and upload that file to S3. This is so that we can use SageMakers Batch Transform functionality to test our model once we've fit it."
   ]
  },
  {
   "cell_type": "code",
   "execution_count": 14,
   "metadata": {},
   "outputs": [],
   "source": [
    "import pandas as pd\n",
    "\n",
    "# Earlier we shuffled the training dataset so to make things simple we can just assign\n",
    "# the first 10 000 reviews to the validation set and use the remaining reviews for training.\n",
    "val_X = pd.DataFrame(train_X[:10000])\n",
    "train_X = pd.DataFrame(train_X[10000:])\n",
    "\n",
    "val_y = pd.DataFrame(train_y[:10000])\n",
    "train_y = pd.DataFrame(train_y[10000:])"
   ]
  },
  {
   "cell_type": "markdown",
   "metadata": {},
   "source": [
    "The documentation for the XGBoost algorithm in SageMaker requires that the training and validation datasets should contain no headers or index and that the label should occur first for each sample.\n",
    "\n",
    "For more information about this and other algorithms, the SageMaker developer documentation can be found on __[Amazon's website.](https://docs.aws.amazon.com/sagemaker/latest/dg/)__"
   ]
  },
  {
   "cell_type": "code",
   "execution_count": 15,
   "metadata": {},
   "outputs": [],
   "source": [
    "# First we make sure that the local directory in which we'd like to store the training and validation csv files exists.\n",
    "data_dir = '../data/sentiment_web_app'\n",
    "if not os.path.exists(data_dir):\n",
    "    os.makedirs(data_dir)"
   ]
  },
  {
   "cell_type": "code",
   "execution_count": 16,
   "metadata": {},
   "outputs": [],
   "source": [
    "pd.DataFrame(test_X).to_csv(os.path.join(data_dir, 'test.csv'), header=False, index=False)\n",
    "\n",
    "pd.concat([val_y, val_X], axis=1).to_csv(os.path.join(data_dir, 'validation.csv'), header=False, index=False)\n",
    "pd.concat([train_y, train_X], axis=1).to_csv(os.path.join(data_dir, 'train.csv'), header=False, index=False)"
   ]
  },
  {
   "cell_type": "code",
   "execution_count": 17,
   "metadata": {},
   "outputs": [],
   "source": [
    "# To save a bit of memory we can set text_X, train_X, val_X, train_y and val_y to None.\n",
    "\n",
    "test_X = train_X = val_X = train_y = val_y = None"
   ]
  },
  {
   "cell_type": "markdown",
   "metadata": {},
   "source": [
    "### Uploading Training / Validation files to S3\n",
    "\n",
    "Amazon's S3 service allows us to store files that can be accessed by both the built-in training models such as the XGBoost model we will be using as well as custom models such as the one we will see a little later.\n",
    "\n",
    "For this and most other tasks we will be doing using SageMaker, there are two methods we could use. The first is to use the low level functionality of SageMaker which requires knowing each of the objects involved in the SageMaker environment. The second is to use the high level functionality in which certain choices have been made on the user's behalf. The low level approach benefits from allowing the user a great deal of flexibility while the high level approach makes development much quicker. For our purposes we will opt to use the high level approach although using the low-level approach is certainly an option.\n",
    "\n",
    "Recall the method `upload_data()` which is a member of the object representing our current SageMaker session. What this method does is upload the data to the default bucket (which is created if it does not exist) into the path described by the key_prefix variable. To see this for yourself, once you have uploaded the data files, go to the S3 console and look to see where the files have been uploaded.\n",
    "\n",
    "For additional resources, see the __[SageMaker API documentation](http://sagemaker.readthedocs.io/en/latest/)__ and in addition the __[SageMaker Developer Guide.](https://docs.aws.amazon.com/sagemaker/latest/dg/)__"
   ]
  },
  {
   "cell_type": "code",
   "execution_count": 18,
   "metadata": {},
   "outputs": [],
   "source": [
    "import sagemaker\n",
    "\n",
    "session = sagemaker.Session() # Store the current SageMaker session\n",
    "\n",
    "# S3 prefix (which folder will we use)\n",
    "prefix = 'sentiment-web-app'\n",
    "\n",
    "test_location = session.upload_data(os.path.join(data_dir, 'test.csv'), key_prefix=prefix)\n",
    "val_location = session.upload_data(os.path.join(data_dir, 'validation.csv'), key_prefix=prefix)\n",
    "train_location = session.upload_data(os.path.join(data_dir, 'train.csv'), key_prefix=prefix)"
   ]
  },
  {
   "cell_type": "markdown",
   "metadata": {},
   "source": [
    "## Step 4: Creating the XGBoost model\n",
    "\n",
    "Now that the data has been uploaded it is time to create the XGBoost model. To begin with, we need to do some setup. At this point it is worth discussing what a model is in SageMaker. It is easiest to think of a model of comprising three different objects in the SageMaker ecosystem, which interact with one another.\n",
    "\n",
    "- Model Artifacts\n",
    "- Training Code (Container)\n",
    "- Inference Code (Container)\n",
    "\n",
    "The Model Artifacts are what you might think of as the actual model itself. For example, if you were building a neural network, the model artifacts would be the weights of the various layers. In our case, for an XGBoost model, the artifacts are the actual trees that are created during training.\n",
    "\n",
    "The other two objects, the training code and the inference code are then used to manipulate the training artifacts. More precisely, the training code uses the training data that is provided and creates the model artifacts, while the inference code uses the model artifacts to make predictions on new data.\n",
    "\n",
    "The way that SageMaker runs the training and inference code is by making use of Docker containers. For now, think of a container as being a way of packaging code up so that dependencies aren't an issue."
   ]
  },
  {
   "cell_type": "code",
   "execution_count": 19,
   "metadata": {},
   "outputs": [],
   "source": [
    "from sagemaker import get_execution_role\n",
    "\n",
    "# Our current execution role is required when creating the model as the training\n",
    "# and inference code will need to access the model artifacts.\n",
    "role = get_execution_role()"
   ]
  },
  {
   "cell_type": "code",
   "execution_count": 21,
   "metadata": {},
   "outputs": [
    {
     "name": "stderr",
     "output_type": "stream",
     "text": [
      "'get_image_uri' method will be deprecated in favor of 'ImageURIProvider' class in SageMaker Python SDK v2.\n"
     ]
    }
   ],
   "source": [
    "# We need to retrieve the location of the container which is provided by Amazon for using XGBoost.\n",
    "# As a matter of convenience, the training and inference code both use the same container.\n",
    "from sagemaker.amazon.amazon_estimator import get_image_uri\n",
    "\n",
    "container = get_image_uri(session.boto_region_name, 'xgboost', '1.0-1')"
   ]
  },
  {
   "cell_type": "code",
   "execution_count": 22,
   "metadata": {},
   "outputs": [
    {
     "name": "stderr",
     "output_type": "stream",
     "text": [
      "Parameter image_name will be renamed to image_uri in SageMaker Python SDK v2.\n"
     ]
    }
   ],
   "source": [
    "# First we create a SageMaker estimator object for our model.\n",
    "xgb = sagemaker.estimator.Estimator(container, # The location of the container we wish to use\n",
    "                                    role,                                    # What is our current IAM Role\n",
    "                                    train_instance_count=1,                  # How many compute instances\n",
    "                                    train_instance_type='ml.m4.xlarge',      # What kind of compute instances\n",
    "                                    output_path='s3://{}/{}/output'.format(session.default_bucket(), prefix),\n",
    "                                    sagemaker_session=session)\n",
    "\n",
    "# And then set the algorithm specific parameters.\n",
    "xgb.set_hyperparameters(max_depth=5,\n",
    "                        eta=0.2,\n",
    "                        gamma=4,\n",
    "                        min_child_weight=6,\n",
    "                        subsample=0.8,\n",
    "                        silent=0,\n",
    "                        objective='binary:logistic',\n",
    "                        early_stopping_rounds=10,\n",
    "                        num_round=500)"
   ]
  },
  {
   "cell_type": "markdown",
   "metadata": {},
   "source": [
    "### Fit the XGBoost model\n",
    "\n",
    "Now that our model has been set up we simply need to attach the training and validation datasets and then ask SageMaker to set up the computation."
   ]
  },
  {
   "cell_type": "code",
   "execution_count": 23,
   "metadata": {},
   "outputs": [
    {
     "name": "stderr",
     "output_type": "stream",
     "text": [
      "'s3_input' class will be renamed to 'TrainingInput' in SageMaker Python SDK v2.\n",
      "'s3_input' class will be renamed to 'TrainingInput' in SageMaker Python SDK v2.\n"
     ]
    }
   ],
   "source": [
    "s3_input_train = sagemaker.s3_input(s3_data=train_location, content_type='csv')\n",
    "s3_input_validation = sagemaker.s3_input(s3_data=val_location, content_type='csv')"
   ]
  },
  {
   "cell_type": "code",
   "execution_count": 24,
   "metadata": {},
   "outputs": [
    {
     "name": "stdout",
     "output_type": "stream",
     "text": [
      "2020-10-13 21:16:07 Starting - Starting the training job...\n",
      "2020-10-13 21:16:09 Starting - Launching requested ML instances......\n",
      "2020-10-13 21:17:32 Starting - Preparing the instances for training......\n",
      "2020-10-13 21:18:28 Downloading - Downloading input data...\n",
      "2020-10-13 21:18:50 Training - Downloading the training image...\n",
      "2020-10-13 21:19:22 Training - Training image download completed. Training in progress..\u001b[34mINFO:sagemaker-containers:Imported framework sagemaker_xgboost_container.training\u001b[0m\n",
      "\u001b[34mINFO:sagemaker-containers:Failed to parse hyperparameter objective value binary:logistic to Json.\u001b[0m\n",
      "\u001b[34mReturning the value itself\u001b[0m\n",
      "\u001b[34mINFO:sagemaker-containers:No GPUs detected (normal if no gpus installed)\u001b[0m\n",
      "\u001b[34mINFO:sagemaker_xgboost_container.training:Running XGBoost Sagemaker in algorithm mode\u001b[0m\n",
      "\u001b[34mINFO:root:Determined delimiter of CSV input is ','\u001b[0m\n",
      "\u001b[34mINFO:root:Determined delimiter of CSV input is ','\u001b[0m\n",
      "\u001b[34mINFO:root:Determined delimiter of CSV input is ','\u001b[0m\n",
      "\u001b[34m[21:19:28] 15000x5000 matrix with 75000000 entries loaded from /opt/ml/input/data/train?format=csv&label_column=0&delimiter=,\u001b[0m\n",
      "\u001b[34mINFO:root:Determined delimiter of CSV input is ','\u001b[0m\n",
      "\u001b[34m[21:19:30] 10000x5000 matrix with 50000000 entries loaded from /opt/ml/input/data/validation?format=csv&label_column=0&delimiter=,\u001b[0m\n",
      "\u001b[34mINFO:root:Single node training.\u001b[0m\n",
      "\u001b[34mINFO:root:Train matrix has 15000 rows\u001b[0m\n",
      "\u001b[34mINFO:root:Validation matrix has 10000 rows\u001b[0m\n",
      "\u001b[34m[21:19:30] WARNING: /workspace/src/learner.cc:328: \u001b[0m\n",
      "\u001b[34mParameters: { early_stopping_rounds, num_round, silent } might not be used.\n",
      "\n",
      "  This may not be accurate due to some parameters are only used in language bindings but\n",
      "  passed down to XGBoost core.  Or some parameters are not used but slip through this\n",
      "  verification. Please open an issue if you find above cases.\n",
      "\n",
      "\u001b[0m\n",
      "\u001b[34m[0]#011train-error:0.30280#011validation-error:0.30840\u001b[0m\n",
      "\u001b[34m[1]#011train-error:0.28153#011validation-error:0.28420\u001b[0m\n",
      "\u001b[34m[2]#011train-error:0.27607#011validation-error:0.27960\u001b[0m\n",
      "\u001b[34m[3]#011train-error:0.28280#011validation-error:0.28150\u001b[0m\n",
      "\u001b[34m[4]#011train-error:0.26333#011validation-error:0.26740\u001b[0m\n",
      "\u001b[34m[5]#011train-error:0.25847#011validation-error:0.26610\u001b[0m\n",
      "\u001b[34m[6]#011train-error:0.25413#011validation-error:0.26480\u001b[0m\n",
      "\u001b[34m[7]#011train-error:0.23853#011validation-error:0.25040\u001b[0m\n",
      "\u001b[34m[8]#011train-error:0.23220#011validation-error:0.24580\u001b[0m\n",
      "\u001b[34m[9]#011train-error:0.22733#011validation-error:0.24230\u001b[0m\n",
      "\u001b[34m[10]#011train-error:0.22193#011validation-error:0.23520\u001b[0m\n",
      "\u001b[34m[11]#011train-error:0.21813#011validation-error:0.23130\u001b[0m\n",
      "\u001b[34m[12]#011train-error:0.21520#011validation-error:0.23170\u001b[0m\n",
      "\u001b[34m[13]#011train-error:0.21133#011validation-error:0.23040\u001b[0m\n",
      "\u001b[34m[14]#011train-error:0.20707#011validation-error:0.22550\u001b[0m\n",
      "\u001b[34m[15]#011train-error:0.20347#011validation-error:0.22050\u001b[0m\n",
      "\u001b[34m[16]#011train-error:0.19840#011validation-error:0.21800\u001b[0m\n",
      "\u001b[34m[17]#011train-error:0.19440#011validation-error:0.21760\u001b[0m\n",
      "\u001b[34m[18]#011train-error:0.19247#011validation-error:0.21650\u001b[0m\n",
      "\u001b[34m[19]#011train-error:0.18960#011validation-error:0.21290\u001b[0m\n",
      "\u001b[34m[20]#011train-error:0.18807#011validation-error:0.21240\u001b[0m\n",
      "\u001b[34m[21]#011train-error:0.18480#011validation-error:0.20970\u001b[0m\n",
      "\u001b[34m[22]#011train-error:0.18407#011validation-error:0.20850\u001b[0m\n",
      "\u001b[34m[23]#011train-error:0.18140#011validation-error:0.20580\u001b[0m\n",
      "\u001b[34m[24]#011train-error:0.17967#011validation-error:0.20450\u001b[0m\n",
      "\u001b[34m[25]#011train-error:0.17860#011validation-error:0.20310\u001b[0m\n",
      "\u001b[34m[26]#011train-error:0.17647#011validation-error:0.20060\u001b[0m\n",
      "\u001b[34m[27]#011train-error:0.17440#011validation-error:0.19880\u001b[0m\n",
      "\u001b[34m[28]#011train-error:0.17347#011validation-error:0.19840\u001b[0m\n",
      "\u001b[34m[29]#011train-error:0.17147#011validation-error:0.20020\u001b[0m\n",
      "\u001b[34m[30]#011train-error:0.16827#011validation-error:0.19620\u001b[0m\n",
      "\u001b[34m[31]#011train-error:0.16640#011validation-error:0.19640\u001b[0m\n",
      "\u001b[34m[32]#011train-error:0.16467#011validation-error:0.19430\u001b[0m\n",
      "\u001b[34m[33]#011train-error:0.16140#011validation-error:0.19330\u001b[0m\n",
      "\u001b[34m[34]#011train-error:0.15960#011validation-error:0.19180\u001b[0m\n",
      "\u001b[34m[35]#011train-error:0.15787#011validation-error:0.19100\u001b[0m\n",
      "\u001b[34m[36]#011train-error:0.15667#011validation-error:0.18850\u001b[0m\n",
      "\u001b[34m[37]#011train-error:0.15533#011validation-error:0.18800\u001b[0m\n",
      "\u001b[34m[38]#011train-error:0.15413#011validation-error:0.18710\u001b[0m\n",
      "\u001b[34m[39]#011train-error:0.15220#011validation-error:0.18590\u001b[0m\n",
      "\u001b[34m[40]#011train-error:0.15027#011validation-error:0.18440\u001b[0m\n",
      "\u001b[34m[41]#011train-error:0.14847#011validation-error:0.18350\u001b[0m\n",
      "\u001b[34m[42]#011train-error:0.14793#011validation-error:0.18470\u001b[0m\n",
      "\u001b[34m[43]#011train-error:0.14707#011validation-error:0.18350\u001b[0m\n",
      "\u001b[34m[44]#011train-error:0.14667#011validation-error:0.18240\u001b[0m\n",
      "\u001b[34m[45]#011train-error:0.14627#011validation-error:0.18220\u001b[0m\n",
      "\u001b[34m[46]#011train-error:0.14547#011validation-error:0.18090\u001b[0m\n",
      "\u001b[34m[47]#011train-error:0.14293#011validation-error:0.17800\u001b[0m\n",
      "\u001b[34m[48]#011train-error:0.14140#011validation-error:0.17710\u001b[0m\n",
      "\u001b[34m[49]#011train-error:0.14080#011validation-error:0.17730\u001b[0m\n",
      "\u001b[34m[50]#011train-error:0.14000#011validation-error:0.17770\u001b[0m\n",
      "\u001b[34m[51]#011train-error:0.13787#011validation-error:0.17660\u001b[0m\n",
      "\u001b[34m[52]#011train-error:0.13740#011validation-error:0.17540\u001b[0m\n",
      "\u001b[34m[53]#011train-error:0.13820#011validation-error:0.17510\u001b[0m\n",
      "\u001b[34m[54]#011train-error:0.13680#011validation-error:0.17510\u001b[0m\n",
      "\u001b[34m[55]#011train-error:0.13647#011validation-error:0.17440\u001b[0m\n",
      "\u001b[34m[56]#011train-error:0.13507#011validation-error:0.17370\u001b[0m\n",
      "\u001b[34m[57]#011train-error:0.13333#011validation-error:0.17230\u001b[0m\n",
      "\u001b[34m[58]#011train-error:0.13227#011validation-error:0.17180\u001b[0m\n",
      "\u001b[34m[59]#011train-error:0.13193#011validation-error:0.17110\u001b[0m\n",
      "\u001b[34m[60]#011train-error:0.13153#011validation-error:0.16920\u001b[0m\n",
      "\u001b[34m[61]#011train-error:0.12973#011validation-error:0.16920\u001b[0m\n",
      "\u001b[34m[62]#011train-error:0.12893#011validation-error:0.16880\u001b[0m\n",
      "\u001b[34m[63]#011train-error:0.12900#011validation-error:0.16850\u001b[0m\n",
      "\u001b[34m[64]#011train-error:0.12787#011validation-error:0.16810\u001b[0m\n",
      "\u001b[34m[65]#011train-error:0.12820#011validation-error:0.16700\u001b[0m\n",
      "\u001b[34m[66]#011train-error:0.12733#011validation-error:0.16760\u001b[0m\n",
      "\u001b[34m[67]#011train-error:0.12707#011validation-error:0.16630\u001b[0m\n",
      "\u001b[34m[68]#011train-error:0.12520#011validation-error:0.16460\u001b[0m\n",
      "\u001b[34m[69]#011train-error:0.12480#011validation-error:0.16560\u001b[0m\n",
      "\u001b[34m[70]#011train-error:0.12460#011validation-error:0.16430\u001b[0m\n",
      "\u001b[34m[71]#011train-error:0.12280#011validation-error:0.16380\u001b[0m\n",
      "\u001b[34m[72]#011train-error:0.12180#011validation-error:0.16440\u001b[0m\n",
      "\u001b[34m[73]#011train-error:0.12107#011validation-error:0.16380\u001b[0m\n",
      "\u001b[34m[74]#011train-error:0.12127#011validation-error:0.16260\u001b[0m\n",
      "\u001b[34m[75]#011train-error:0.11973#011validation-error:0.16230\u001b[0m\n",
      "\u001b[34m[76]#011train-error:0.12047#011validation-error:0.16210\u001b[0m\n",
      "\u001b[34m[77]#011train-error:0.12000#011validation-error:0.16090\u001b[0m\n",
      "\u001b[34m[78]#011train-error:0.11913#011validation-error:0.16110\u001b[0m\n",
      "\u001b[34m[79]#011train-error:0.11800#011validation-error:0.16150\u001b[0m\n",
      "\u001b[34m[80]#011train-error:0.11700#011validation-error:0.16070\u001b[0m\n",
      "\u001b[34m[81]#011train-error:0.11673#011validation-error:0.16060\u001b[0m\n",
      "\u001b[34m[82]#011train-error:0.11527#011validation-error:0.15970\u001b[0m\n",
      "\u001b[34m[83]#011train-error:0.11413#011validation-error:0.16030\u001b[0m\n",
      "\u001b[34m[84]#011train-error:0.11360#011validation-error:0.15850\u001b[0m\n",
      "\u001b[34m[85]#011train-error:0.11313#011validation-error:0.15690\u001b[0m\n",
      "\u001b[34m[86]#011train-error:0.11240#011validation-error:0.15650\u001b[0m\n",
      "\u001b[34m[87]#011train-error:0.11187#011validation-error:0.15610\u001b[0m\n",
      "\u001b[34m[88]#011train-error:0.11113#011validation-error:0.15500\u001b[0m\n",
      "\u001b[34m[89]#011train-error:0.10940#011validation-error:0.15620\u001b[0m\n",
      "\u001b[34m[90]#011train-error:0.10880#011validation-error:0.15510\u001b[0m\n",
      "\u001b[34m[91]#011train-error:0.10747#011validation-error:0.15430\u001b[0m\n",
      "\u001b[34m[92]#011train-error:0.10733#011validation-error:0.15440\u001b[0m\n",
      "\u001b[34m[93]#011train-error:0.10680#011validation-error:0.15400\u001b[0m\n",
      "\u001b[34m[94]#011train-error:0.10660#011validation-error:0.15370\u001b[0m\n",
      "\u001b[34m[95]#011train-error:0.10580#011validation-error:0.15290\u001b[0m\n",
      "\u001b[34m[96]#011train-error:0.10553#011validation-error:0.15250\u001b[0m\n",
      "\u001b[34m[97]#011train-error:0.10547#011validation-error:0.15270\u001b[0m\n",
      "\u001b[34m[98]#011train-error:0.10507#011validation-error:0.15130\u001b[0m\n"
     ]
    },
    {
     "name": "stdout",
     "output_type": "stream",
     "text": [
      "\u001b[34m[99]#011train-error:0.10460#011validation-error:0.15210\u001b[0m\n",
      "\u001b[34m[100]#011train-error:0.10387#011validation-error:0.15260\u001b[0m\n",
      "\u001b[34m[101]#011train-error:0.10233#011validation-error:0.15190\u001b[0m\n",
      "\u001b[34m[102]#011train-error:0.10193#011validation-error:0.15180\u001b[0m\n",
      "\u001b[34m[103]#011train-error:0.10147#011validation-error:0.15140\u001b[0m\n",
      "\u001b[34m[104]#011train-error:0.10120#011validation-error:0.15140\u001b[0m\n",
      "\u001b[34m[105]#011train-error:0.10160#011validation-error:0.15100\u001b[0m\n",
      "\u001b[34m[106]#011train-error:0.10087#011validation-error:0.15070\u001b[0m\n",
      "\u001b[34m[107]#011train-error:0.10000#011validation-error:0.15070\u001b[0m\n",
      "\u001b[34m[108]#011train-error:0.09967#011validation-error:0.15020\u001b[0m\n",
      "\u001b[34m[109]#011train-error:0.09900#011validation-error:0.14960\u001b[0m\n",
      "\u001b[34m[110]#011train-error:0.09893#011validation-error:0.14830\u001b[0m\n",
      "\u001b[34m[111]#011train-error:0.09867#011validation-error:0.14880\u001b[0m\n",
      "\u001b[34m[112]#011train-error:0.09813#011validation-error:0.14830\u001b[0m\n",
      "\u001b[34m[113]#011train-error:0.09767#011validation-error:0.14730\u001b[0m\n",
      "\u001b[34m[114]#011train-error:0.09747#011validation-error:0.14820\u001b[0m\n",
      "\u001b[34m[115]#011train-error:0.09680#011validation-error:0.14810\u001b[0m\n",
      "\u001b[34m[116]#011train-error:0.09540#011validation-error:0.14800\u001b[0m\n",
      "\u001b[34m[117]#011train-error:0.09507#011validation-error:0.14750\u001b[0m\n",
      "\u001b[34m[118]#011train-error:0.09467#011validation-error:0.14740\u001b[0m\n",
      "\u001b[34m[119]#011train-error:0.09307#011validation-error:0.14670\u001b[0m\n",
      "\u001b[34m[120]#011train-error:0.09260#011validation-error:0.14590\u001b[0m\n",
      "\u001b[34m[121]#011train-error:0.09267#011validation-error:0.14600\u001b[0m\n",
      "\u001b[34m[122]#011train-error:0.09240#011validation-error:0.14560\u001b[0m\n",
      "\u001b[34m[123]#011train-error:0.09187#011validation-error:0.14540\u001b[0m\n",
      "\u001b[34m[124]#011train-error:0.09193#011validation-error:0.14570\u001b[0m\n",
      "\u001b[34m[125]#011train-error:0.09167#011validation-error:0.14550\u001b[0m\n",
      "\u001b[34m[126]#011train-error:0.09140#011validation-error:0.14630\u001b[0m\n",
      "\u001b[34m[127]#011train-error:0.09180#011validation-error:0.14620\u001b[0m\n",
      "\u001b[34m[128]#011train-error:0.09140#011validation-error:0.14610\u001b[0m\n",
      "\u001b[34m[129]#011train-error:0.09067#011validation-error:0.14570\u001b[0m\n",
      "\u001b[34m[130]#011train-error:0.09033#011validation-error:0.14680\u001b[0m\n",
      "\u001b[34m[131]#011train-error:0.09040#011validation-error:0.14590\u001b[0m\n",
      "\u001b[34m[132]#011train-error:0.09007#011validation-error:0.14610\u001b[0m\n",
      "\u001b[34m[133]#011train-error:0.08947#011validation-error:0.14490\u001b[0m\n",
      "\u001b[34m[134]#011train-error:0.08940#011validation-error:0.14420\u001b[0m\n",
      "\u001b[34m[135]#011train-error:0.08900#011validation-error:0.14410\u001b[0m\n",
      "\u001b[34m[136]#011train-error:0.08847#011validation-error:0.14430\u001b[0m\n",
      "\u001b[34m[137]#011train-error:0.08827#011validation-error:0.14360\u001b[0m\n",
      "\u001b[34m[138]#011train-error:0.08780#011validation-error:0.14360\u001b[0m\n",
      "\u001b[34m[139]#011train-error:0.08653#011validation-error:0.14410\u001b[0m\n",
      "\u001b[34m[140]#011train-error:0.08627#011validation-error:0.14360\u001b[0m\n",
      "\u001b[34m[141]#011train-error:0.08660#011validation-error:0.14390\u001b[0m\n",
      "\u001b[34m[142]#011train-error:0.08660#011validation-error:0.14370\u001b[0m\n",
      "\u001b[34m[143]#011train-error:0.08600#011validation-error:0.14320\u001b[0m\n",
      "\u001b[34m[144]#011train-error:0.08573#011validation-error:0.14290\u001b[0m\n",
      "\u001b[34m[145]#011train-error:0.08527#011validation-error:0.14330\u001b[0m\n",
      "\u001b[34m[146]#011train-error:0.08540#011validation-error:0.14270\u001b[0m\n",
      "\u001b[34m[147]#011train-error:0.08493#011validation-error:0.14290\u001b[0m\n",
      "\u001b[34m[148]#011train-error:0.08467#011validation-error:0.14330\u001b[0m\n",
      "\u001b[34m[149]#011train-error:0.08467#011validation-error:0.14300\u001b[0m\n",
      "\u001b[34m[150]#011train-error:0.08480#011validation-error:0.14330\u001b[0m\n",
      "\u001b[34m[151]#011train-error:0.08413#011validation-error:0.14430\u001b[0m\n",
      "\u001b[34m[152]#011train-error:0.08420#011validation-error:0.14400\u001b[0m\n",
      "\u001b[34m[153]#011train-error:0.08353#011validation-error:0.14380\u001b[0m\n",
      "\u001b[34m[154]#011train-error:0.08233#011validation-error:0.14400\u001b[0m\n",
      "\n",
      "2020-10-13 21:22:41 Uploading - Uploading generated training model\n",
      "2020-10-13 21:22:41 Completed - Training job completed\n",
      "\u001b[34m[155]#011train-error:0.08287#011validation-error:0.14350\u001b[0m\n",
      "\u001b[34m[156]#011train-error:0.08233#011validation-error:0.14390\u001b[0m\n",
      "Training seconds: 253\n",
      "Billable seconds: 253\n"
     ]
    }
   ],
   "source": [
    "xgb.fit({'train': s3_input_train, 'validation': s3_input_validation})"
   ]
  },
  {
   "cell_type": "markdown",
   "metadata": {},
   "source": [
    "## Step 5: Testing the model\n",
    "\n",
    "Now that we've fit our XGBoost model, it's time to see how well it performs. To do this we will use SageMakers Batch Transform functionality. Batch Transform is a convenient way to perform inference on a large dataset in a way that is not realtime. That is, we don't necessarily need to use our model's results immediately and instead we can perform inference on a large number of samples. An example of this in industry might be performing an end of month report. This method of inference can also be useful to us as it means that we can perform inference on our entire test set. \n",
    "\n",
    "To perform a Batch Transformation we need to first create a transformer objects from our trained estimator object."
   ]
  },
  {
   "cell_type": "code",
   "execution_count": 25,
   "metadata": {},
   "outputs": [
    {
     "name": "stderr",
     "output_type": "stream",
     "text": [
      "Parameter image will be renamed to image_uri in SageMaker Python SDK v2.\n"
     ]
    }
   ],
   "source": [
    "xgb_transformer = xgb.transformer(instance_count = 1, instance_type = 'ml.m4.xlarge')"
   ]
  },
  {
   "cell_type": "markdown",
   "metadata": {},
   "source": [
    "Next we actually perform the transform job. When doing so we need to make sure to specify the type of data we are sending so that it is serialized correctly in the background. In our case we are providing our model with csv data so we specify `text/csv`. Also, if the test data that we have provided is too large to process all at once then we need to specify how the data file should be split up. Since each line is a single entry in our data set we tell SageMaker that it can split the input on each line."
   ]
  },
  {
   "cell_type": "code",
   "execution_count": 26,
   "metadata": {},
   "outputs": [],
   "source": [
    "xgb_transformer.transform(test_location, content_type='text/csv', split_type='Line')"
   ]
  },
  {
   "cell_type": "markdown",
   "metadata": {},
   "source": [
    "Currently the transform job is running but it is doing so in the background. Since we wish to wait until the transform job is done and we would like a bit of feedback we can run the `wait()` method."
   ]
  },
  {
   "cell_type": "code",
   "execution_count": 27,
   "metadata": {},
   "outputs": [
    {
     "name": "stdout",
     "output_type": "stream",
     "text": [
      "...............................\u001b[32m2020-10-13T21:28:45.949:[sagemaker logs]: MaxConcurrentTransforms=4, MaxPayloadInMB=6, BatchStrategy=MULTI_RECORD\u001b[0m\n",
      "\u001b[34m[2020-10-13:21:28:43:INFO] No GPUs detected (normal if no gpus installed)\u001b[0m\n",
      "\u001b[34m[2020-10-13:21:28:43:INFO] No GPUs detected (normal if no gpus installed)\u001b[0m\n",
      "\u001b[34m[2020-10-13:21:28:43:INFO] nginx config: \u001b[0m\n",
      "\u001b[34mworker_processes auto;\u001b[0m\n",
      "\u001b[34mdaemon off;\u001b[0m\n",
      "\u001b[34mpid /tmp/nginx.pid;\u001b[0m\n",
      "\u001b[34merror_log  /dev/stderr;\n",
      "\u001b[0m\n",
      "\u001b[35m[2020-10-13:21:28:43:INFO] No GPUs detected (normal if no gpus installed)\u001b[0m\n",
      "\u001b[35m[2020-10-13:21:28:43:INFO] No GPUs detected (normal if no gpus installed)\u001b[0m\n",
      "\u001b[35m[2020-10-13:21:28:43:INFO] nginx config: \u001b[0m\n",
      "\u001b[35mworker_processes auto;\u001b[0m\n",
      "\u001b[35mdaemon off;\u001b[0m\n",
      "\u001b[35mpid /tmp/nginx.pid;\u001b[0m\n",
      "\u001b[35merror_log  /dev/stderr;\n",
      "\u001b[0m\n",
      "\u001b[34mworker_rlimit_nofile 4096;\n",
      "\u001b[0m\n",
      "\u001b[34mevents {\n",
      "  worker_connections 2048;\u001b[0m\n",
      "\u001b[34m}\n",
      "\u001b[0m\n",
      "\u001b[34mhttp {\n",
      "  include /etc/nginx/mime.types;\n",
      "  default_type application/octet-stream;\n",
      "  access_log /dev/stdout combined;\n",
      "\n",
      "  upstream gunicorn {\n",
      "    server unix:/tmp/gunicorn.sock;\n",
      "  }\n",
      "\n",
      "  server {\n",
      "    listen 8080 deferred;\n",
      "    client_max_body_size 0;\n",
      "\n",
      "    keepalive_timeout 3;\n",
      "\n",
      "    location ~ ^/(ping|invocations|execution-parameters) {\n",
      "      proxy_set_header X-Forwarded-For $proxy_add_x_forwarded_for;\n",
      "      proxy_set_header Host $http_host;\n",
      "      proxy_redirect off;\n",
      "      proxy_read_timeout 60s;\n",
      "      proxy_pass http://gunicorn;\n",
      "    }\n",
      "\n",
      "    location / {\n",
      "      return 404 \"{}\";\n",
      "    }\n",
      "\n",
      "  }\u001b[0m\n",
      "\u001b[35mworker_rlimit_nofile 4096;\n",
      "\u001b[0m\n",
      "\u001b[35mevents {\n",
      "  worker_connections 2048;\u001b[0m\n",
      "\u001b[35m}\n",
      "\u001b[0m\n",
      "\u001b[35mhttp {\n",
      "  include /etc/nginx/mime.types;\n",
      "  default_type application/octet-stream;\n",
      "  access_log /dev/stdout combined;\n",
      "\n",
      "  upstream gunicorn {\n",
      "    server unix:/tmp/gunicorn.sock;\n",
      "  }\n",
      "\n",
      "  server {\n",
      "    listen 8080 deferred;\n",
      "    client_max_body_size 0;\n",
      "\n",
      "    keepalive_timeout 3;\n",
      "\n",
      "    location ~ ^/(ping|invocations|execution-parameters) {\n",
      "      proxy_set_header X-Forwarded-For $proxy_add_x_forwarded_for;\n",
      "      proxy_set_header Host $http_host;\n",
      "      proxy_redirect off;\n",
      "      proxy_read_timeout 60s;\n",
      "      proxy_pass http://gunicorn;\n",
      "    }\n",
      "\n",
      "    location / {\n",
      "      return 404 \"{}\";\n",
      "    }\n",
      "\n",
      "  }\u001b[0m\n",
      "\u001b[34m}\n",
      "\n",
      "\u001b[0m\n",
      "\u001b[34m2020/10/13 21:28:43 [crit] 20#20: *1 connect() to unix:/tmp/gunicorn.sock failed (2: No such file or directory) while connecting to upstream, client: 169.254.255.130, server: , request: \"GET /ping HTTP/1.1\", upstream: \"http://unix:/tmp/gunicorn.sock:/ping\", host: \"169.254.255.131:8080\"\u001b[0m\n",
      "\u001b[34m169.254.255.130 - - [13/Oct/2020:21:28:43 +0000] \"GET /ping HTTP/1.1\" 502 182 \"-\" \"Go-http-client/1.1\"\u001b[0m\n",
      "\u001b[34m2020/10/13 21:28:43 [crit] 20#20: *3 connect() to unix:/tmp/gunicorn.sock failed (2: No such file or directory) while connecting to upstream, client: 169.254.255.130, server: , request: \"GET /ping HTTP/1.1\", upstream: \"http://unix:/tmp/gunicorn.sock:/ping\", host: \"169.254.255.131:8080\"\u001b[0m\n",
      "\u001b[34m169.254.255.130 - - [13/Oct/2020:21:28:43 +0000] \"GET /ping HTTP/1.1\" 502 182 \"-\" \"Go-http-client/1.1\"\u001b[0m\n",
      "\u001b[34m[2020-10-13 21:28:43 +0000] [18] [INFO] Starting gunicorn 19.10.0\u001b[0m\n",
      "\u001b[34m[2020-10-13 21:28:43 +0000] [18] [INFO] Listening at: unix:/tmp/gunicorn.sock (18)\u001b[0m\n",
      "\u001b[34m[2020-10-13 21:28:43 +0000] [18] [INFO] Using worker: gevent\u001b[0m\n",
      "\u001b[34m[2020-10-13 21:28:43 +0000] [25] [INFO] Booting worker with pid: 25\u001b[0m\n",
      "\u001b[34m[2020-10-13 21:28:44 +0000] [26] [INFO] Booting worker with pid: 26\u001b[0m\n",
      "\u001b[34m[2020-10-13 21:28:44 +0000] [27] [INFO] Booting worker with pid: 27\u001b[0m\n",
      "\u001b[34m[2020-10-13 21:28:44 +0000] [31] [INFO] Booting worker with pid: 31\u001b[0m\n",
      "\u001b[34m[2020-10-13:21:28:45:INFO] No GPUs detected (normal if no gpus installed)\u001b[0m\n",
      "\u001b[34m169.254.255.130 - - [13/Oct/2020:21:28:45 +0000] \"GET /ping HTTP/1.1\" 200 0 \"-\" \"Go-http-client/1.1\"\u001b[0m\n",
      "\u001b[34m169.254.255.130 - - [13/Oct/2020:21:28:45 +0000] \"GET /execution-parameters HTTP/1.1\" 200 84 \"-\" \"Go-http-client/1.1\"\u001b[0m\n",
      "\u001b[35m}\n",
      "\n",
      "\u001b[0m\n",
      "\u001b[35m2020/10/13 21:28:43 [crit] 20#20: *1 connect() to unix:/tmp/gunicorn.sock failed (2: No such file or directory) while connecting to upstream, client: 169.254.255.130, server: , request: \"GET /ping HTTP/1.1\", upstream: \"http://unix:/tmp/gunicorn.sock:/ping\", host: \"169.254.255.131:8080\"\u001b[0m\n",
      "\u001b[35m169.254.255.130 - - [13/Oct/2020:21:28:43 +0000] \"GET /ping HTTP/1.1\" 502 182 \"-\" \"Go-http-client/1.1\"\u001b[0m\n",
      "\u001b[35m2020/10/13 21:28:43 [crit] 20#20: *3 connect() to unix:/tmp/gunicorn.sock failed (2: No such file or directory) while connecting to upstream, client: 169.254.255.130, server: , request: \"GET /ping HTTP/1.1\", upstream: \"http://unix:/tmp/gunicorn.sock:/ping\", host: \"169.254.255.131:8080\"\u001b[0m\n",
      "\u001b[35m169.254.255.130 - - [13/Oct/2020:21:28:43 +0000] \"GET /ping HTTP/1.1\" 502 182 \"-\" \"Go-http-client/1.1\"\u001b[0m\n",
      "\u001b[35m[2020-10-13 21:28:43 +0000] [18] [INFO] Starting gunicorn 19.10.0\u001b[0m\n",
      "\u001b[35m[2020-10-13 21:28:43 +0000] [18] [INFO] Listening at: unix:/tmp/gunicorn.sock (18)\u001b[0m\n",
      "\u001b[35m[2020-10-13 21:28:43 +0000] [18] [INFO] Using worker: gevent\u001b[0m\n",
      "\u001b[35m[2020-10-13 21:28:43 +0000] [25] [INFO] Booting worker with pid: 25\u001b[0m\n",
      "\u001b[35m[2020-10-13 21:28:44 +0000] [26] [INFO] Booting worker with pid: 26\u001b[0m\n",
      "\u001b[35m[2020-10-13 21:28:44 +0000] [27] [INFO] Booting worker with pid: 27\u001b[0m\n",
      "\u001b[35m[2020-10-13 21:28:44 +0000] [31] [INFO] Booting worker with pid: 31\u001b[0m\n",
      "\u001b[35m[2020-10-13:21:28:45:INFO] No GPUs detected (normal if no gpus installed)\u001b[0m\n",
      "\u001b[35m169.254.255.130 - - [13/Oct/2020:21:28:45 +0000] \"GET /ping HTTP/1.1\" 200 0 \"-\" \"Go-http-client/1.1\"\u001b[0m\n",
      "\u001b[35m169.254.255.130 - - [13/Oct/2020:21:28:45 +0000] \"GET /execution-parameters HTTP/1.1\" 200 84 \"-\" \"Go-http-client/1.1\"\u001b[0m\n",
      "\u001b[34m[2020-10-13:21:28:46:INFO] No GPUs detected (normal if no gpus installed)\u001b[0m\n",
      "\u001b[34m[2020-10-13:21:28:46:INFO] Determined delimiter of CSV input is ','\u001b[0m\n",
      "\u001b[34m[2020-10-13:21:28:46:INFO] Determined delimiter of CSV input is ','\u001b[0m\n",
      "\u001b[34m[2020-10-13:21:28:46:INFO] No GPUs detected (normal if no gpus installed)\u001b[0m\n",
      "\u001b[34m[2020-10-13:21:28:46:INFO] Determined delimiter of CSV input is ','\u001b[0m\n",
      "\u001b[34m[2020-10-13:21:28:46:INFO] No GPUs detected (normal if no gpus installed)\u001b[0m\n",
      "\u001b[34m[2020-10-13:21:28:46:INFO] Determined delimiter of CSV input is ','\u001b[0m\n",
      "\u001b[35m[2020-10-13:21:28:46:INFO] No GPUs detected (normal if no gpus installed)\u001b[0m\n",
      "\u001b[35m[2020-10-13:21:28:46:INFO] Determined delimiter of CSV input is ','\u001b[0m\n",
      "\u001b[35m[2020-10-13:21:28:46:INFO] Determined delimiter of CSV input is ','\u001b[0m\n",
      "\u001b[35m[2020-10-13:21:28:46:INFO] No GPUs detected (normal if no gpus installed)\u001b[0m\n",
      "\u001b[35m[2020-10-13:21:28:46:INFO] Determined delimiter of CSV input is ','\u001b[0m\n",
      "\u001b[35m[2020-10-13:21:28:46:INFO] No GPUs detected (normal if no gpus installed)\u001b[0m\n",
      "\u001b[35m[2020-10-13:21:28:46:INFO] Determined delimiter of CSV input is ','\u001b[0m\n",
      "\u001b[34m169.254.255.130 - - [13/Oct/2020:21:28:49 +0000] \"POST /invocations HTTP/1.1\" 200 12185 \"-\" \"Go-http-client/1.1\"\u001b[0m\n",
      "\u001b[34m169.254.255.130 - - [13/Oct/2020:21:28:49 +0000] \"POST /invocations HTTP/1.1\" 200 12186 \"-\" \"Go-http-client/1.1\"\u001b[0m\n",
      "\u001b[34m169.254.255.130 - - [13/Oct/2020:21:28:49 +0000] \"POST /invocations HTTP/1.1\" 200 12231 \"-\" \"Go-http-client/1.1\"\u001b[0m\n",
      "\u001b[34m[2020-10-13:21:28:49:INFO] Determined delimiter of CSV input is ','\u001b[0m\n",
      "\u001b[34m169.254.255.130 - - [13/Oct/2020:21:28:49 +0000] \"POST /invocations HTTP/1.1\" 200 12212 \"-\" \"Go-http-client/1.1\"\u001b[0m\n",
      "\u001b[34m[2020-10-13:21:28:49:INFO] Determined delimiter of CSV input is ','\u001b[0m\n",
      "\u001b[34m[2020-10-13:21:28:49:INFO] Determined delimiter of CSV input is ','\u001b[0m\n",
      "\u001b[34m[2020-10-13:21:28:49:INFO] Determined delimiter of CSV input is ','\u001b[0m\n",
      "\u001b[35m169.254.255.130 - - [13/Oct/2020:21:28:49 +0000] \"POST /invocations HTTP/1.1\" 200 12185 \"-\" \"Go-http-client/1.1\"\u001b[0m\n",
      "\u001b[35m169.254.255.130 - - [13/Oct/2020:21:28:49 +0000] \"POST /invocations HTTP/1.1\" 200 12186 \"-\" \"Go-http-client/1.1\"\u001b[0m\n",
      "\u001b[35m169.254.255.130 - - [13/Oct/2020:21:28:49 +0000] \"POST /invocations HTTP/1.1\" 200 12231 \"-\" \"Go-http-client/1.1\"\u001b[0m\n",
      "\u001b[35m[2020-10-13:21:28:49:INFO] Determined delimiter of CSV input is ','\u001b[0m\n",
      "\u001b[35m169.254.255.130 - - [13/Oct/2020:21:28:49 +0000] \"POST /invocations HTTP/1.1\" 200 12212 \"-\" \"Go-http-client/1.1\"\u001b[0m\n",
      "\u001b[35m[2020-10-13:21:28:49:INFO] Determined delimiter of CSV input is ','\u001b[0m\n",
      "\u001b[35m[2020-10-13:21:28:49:INFO] Determined delimiter of CSV input is ','\u001b[0m\n",
      "\u001b[35m[2020-10-13:21:28:49:INFO] Determined delimiter of CSV input is ','\u001b[0m\n"
     ]
    },
    {
     "name": "stdout",
     "output_type": "stream",
     "text": [
      "\u001b[34m169.254.255.130 - - [13/Oct/2020:21:28:55 +0000] \"POST /invocations HTTP/1.1\" 200 12215 \"-\" \"Go-http-client/1.1\"\u001b[0m\n",
      "\u001b[34m169.254.255.130 - - [13/Oct/2020:21:28:56 +0000] \"POST /invocations HTTP/1.1\" 200 12184 \"-\" \"Go-http-client/1.1\"\u001b[0m\n",
      "\u001b[34m169.254.255.130 - - [13/Oct/2020:21:28:56 +0000] \"POST /invocations HTTP/1.1\" 200 12195 \"-\" \"Go-http-client/1.1\"\u001b[0m\n",
      "\u001b[35m169.254.255.130 - - [13/Oct/2020:21:28:55 +0000] \"POST /invocations HTTP/1.1\" 200 12215 \"-\" \"Go-http-client/1.1\"\u001b[0m\n",
      "\u001b[35m169.254.255.130 - - [13/Oct/2020:21:28:56 +0000] \"POST /invocations HTTP/1.1\" 200 12184 \"-\" \"Go-http-client/1.1\"\u001b[0m\n",
      "\u001b[35m169.254.255.130 - - [13/Oct/2020:21:28:56 +0000] \"POST /invocations HTTP/1.1\" 200 12195 \"-\" \"Go-http-client/1.1\"\u001b[0m\n",
      "\u001b[34m169.254.255.130 - - [13/Oct/2020:21:28:56 +0000] \"POST /invocations HTTP/1.1\" 200 12216 \"-\" \"Go-http-client/1.1\"\u001b[0m\n",
      "\u001b[34m[2020-10-13:21:28:56:INFO] Determined delimiter of CSV input is ','\u001b[0m\n",
      "\u001b[34m[2020-10-13:21:28:56:INFO] Determined delimiter of CSV input is ','\u001b[0m\n",
      "\u001b[34m[2020-10-13:21:28:56:INFO] Determined delimiter of CSV input is ','\u001b[0m\n",
      "\u001b[34m[2020-10-13:21:28:56:INFO] Determined delimiter of CSV input is ','\u001b[0m\n",
      "\u001b[35m169.254.255.130 - - [13/Oct/2020:21:28:56 +0000] \"POST /invocations HTTP/1.1\" 200 12216 \"-\" \"Go-http-client/1.1\"\u001b[0m\n",
      "\u001b[35m[2020-10-13:21:28:56:INFO] Determined delimiter of CSV input is ','\u001b[0m\n",
      "\u001b[35m[2020-10-13:21:28:56:INFO] Determined delimiter of CSV input is ','\u001b[0m\n",
      "\u001b[35m[2020-10-13:21:28:56:INFO] Determined delimiter of CSV input is ','\u001b[0m\n",
      "\u001b[35m[2020-10-13:21:28:56:INFO] Determined delimiter of CSV input is ','\u001b[0m\n",
      "\u001b[34m169.254.255.130 - - [13/Oct/2020:21:28:59 +0000] \"POST /invocations HTTP/1.1\" 200 12205 \"-\" \"Go-http-client/1.1\"\u001b[0m\n",
      "\u001b[34m169.254.255.130 - - [13/Oct/2020:21:28:59 +0000] \"POST /invocations HTTP/1.1\" 200 12162 \"-\" \"Go-http-client/1.1\"\u001b[0m\n",
      "\u001b[35m169.254.255.130 - - [13/Oct/2020:21:28:59 +0000] \"POST /invocations HTTP/1.1\" 200 12205 \"-\" \"Go-http-client/1.1\"\u001b[0m\n",
      "\u001b[35m169.254.255.130 - - [13/Oct/2020:21:28:59 +0000] \"POST /invocations HTTP/1.1\" 200 12162 \"-\" \"Go-http-client/1.1\"\u001b[0m\n",
      "\u001b[34m169.254.255.130 - - [13/Oct/2020:21:28:59 +0000] \"POST /invocations HTTP/1.1\" 200 12179 \"-\" \"Go-http-client/1.1\"\u001b[0m\n",
      "\u001b[34m[2020-10-13:21:28:59:INFO] Determined delimiter of CSV input is ','\u001b[0m\n",
      "\u001b[34m169.254.255.130 - - [13/Oct/2020:21:28:59 +0000] \"POST /invocations HTTP/1.1\" 200 12194 \"-\" \"Go-http-client/1.1\"\u001b[0m\n",
      "\u001b[34m[2020-10-13:21:28:59:INFO] Determined delimiter of CSV input is ','\u001b[0m\n",
      "\u001b[34m[2020-10-13:21:28:59:INFO] Determined delimiter of CSV input is ','\u001b[0m\n",
      "\u001b[34m[2020-10-13:21:28:59:INFO] Determined delimiter of CSV input is ','\u001b[0m\n",
      "\u001b[35m169.254.255.130 - - [13/Oct/2020:21:28:59 +0000] \"POST /invocations HTTP/1.1\" 200 12179 \"-\" \"Go-http-client/1.1\"\u001b[0m\n",
      "\u001b[35m[2020-10-13:21:28:59:INFO] Determined delimiter of CSV input is ','\u001b[0m\n",
      "\u001b[35m169.254.255.130 - - [13/Oct/2020:21:28:59 +0000] \"POST /invocations HTTP/1.1\" 200 12194 \"-\" \"Go-http-client/1.1\"\u001b[0m\n",
      "\u001b[35m[2020-10-13:21:28:59:INFO] Determined delimiter of CSV input is ','\u001b[0m\n",
      "\u001b[35m[2020-10-13:21:28:59:INFO] Determined delimiter of CSV input is ','\u001b[0m\n",
      "\u001b[35m[2020-10-13:21:28:59:INFO] Determined delimiter of CSV input is ','\u001b[0m\n",
      "\u001b[34m169.254.255.130 - - [13/Oct/2020:21:29:02 +0000] \"POST /invocations HTTP/1.1\" 200 12194 \"-\" \"Go-http-client/1.1\"\u001b[0m\n",
      "\u001b[34m169.254.255.130 - - [13/Oct/2020:21:29:02 +0000] \"POST /invocations HTTP/1.1\" 200 12208 \"-\" \"Go-http-client/1.1\"\u001b[0m\n",
      "\u001b[34m[2020-10-13:21:29:02:INFO] Determined delimiter of CSV input is ','\u001b[0m\n",
      "\u001b[34m169.254.255.130 - - [13/Oct/2020:21:29:02 +0000] \"POST /invocations HTTP/1.1\" 200 12181 \"-\" \"Go-http-client/1.1\"\u001b[0m\n",
      "\u001b[34m169.254.255.130 - - [13/Oct/2020:21:29:02 +0000] \"POST /invocations HTTP/1.1\" 200 12185 \"-\" \"Go-http-client/1.1\"\u001b[0m\n",
      "\u001b[34m[2020-10-13:21:29:02:INFO] Determined delimiter of CSV input is ','\u001b[0m\n",
      "\u001b[34m[2020-10-13:21:29:02:INFO] Determined delimiter of CSV input is ','\u001b[0m\n",
      "\u001b[34m[2020-10-13:21:29:02:INFO] Determined delimiter of CSV input is ','\u001b[0m\n",
      "\u001b[35m169.254.255.130 - - [13/Oct/2020:21:29:02 +0000] \"POST /invocations HTTP/1.1\" 200 12194 \"-\" \"Go-http-client/1.1\"\u001b[0m\n",
      "\u001b[35m169.254.255.130 - - [13/Oct/2020:21:29:02 +0000] \"POST /invocations HTTP/1.1\" 200 12208 \"-\" \"Go-http-client/1.1\"\u001b[0m\n",
      "\u001b[35m[2020-10-13:21:29:02:INFO] Determined delimiter of CSV input is ','\u001b[0m\n",
      "\u001b[35m169.254.255.130 - - [13/Oct/2020:21:29:02 +0000] \"POST /invocations HTTP/1.1\" 200 12181 \"-\" \"Go-http-client/1.1\"\u001b[0m\n",
      "\u001b[35m169.254.255.130 - - [13/Oct/2020:21:29:02 +0000] \"POST /invocations HTTP/1.1\" 200 12185 \"-\" \"Go-http-client/1.1\"\u001b[0m\n",
      "\u001b[35m[2020-10-13:21:29:02:INFO] Determined delimiter of CSV input is ','\u001b[0m\n",
      "\u001b[35m[2020-10-13:21:29:02:INFO] Determined delimiter of CSV input is ','\u001b[0m\n",
      "\u001b[35m[2020-10-13:21:29:02:INFO] Determined delimiter of CSV input is ','\u001b[0m\n",
      "\u001b[34m169.254.255.130 - - [13/Oct/2020:21:29:08 +0000] \"POST /invocations HTTP/1.1\" 200 12185 \"-\" \"Go-http-client/1.1\"\u001b[0m\n",
      "\u001b[35m169.254.255.130 - - [13/Oct/2020:21:29:08 +0000] \"POST /invocations HTTP/1.1\" 200 12185 \"-\" \"Go-http-client/1.1\"\u001b[0m\n",
      "\u001b[34m169.254.255.130 - - [13/Oct/2020:21:29:08 +0000] \"POST /invocations HTTP/1.1\" 200 12195 \"-\" \"Go-http-client/1.1\"\u001b[0m\n",
      "\u001b[34m[2020-10-13:21:29:08:INFO] Determined delimiter of CSV input is ','\u001b[0m\n",
      "\u001b[34m169.254.255.130 - - [13/Oct/2020:21:29:08 +0000] \"POST /invocations HTTP/1.1\" 200 12172 \"-\" \"Go-http-client/1.1\"\u001b[0m\n",
      "\u001b[34m[2020-10-13:21:29:09:INFO] Determined delimiter of CSV input is ','\u001b[0m\n",
      "\u001b[34m169.254.255.130 - - [13/Oct/2020:21:29:09 +0000] \"POST /invocations HTTP/1.1\" 200 12188 \"-\" \"Go-http-client/1.1\"\u001b[0m\n",
      "\u001b[35m169.254.255.130 - - [13/Oct/2020:21:29:08 +0000] \"POST /invocations HTTP/1.1\" 200 12195 \"-\" \"Go-http-client/1.1\"\u001b[0m\n",
      "\u001b[35m[2020-10-13:21:29:08:INFO] Determined delimiter of CSV input is ','\u001b[0m\n",
      "\u001b[35m169.254.255.130 - - [13/Oct/2020:21:29:08 +0000] \"POST /invocations HTTP/1.1\" 200 12172 \"-\" \"Go-http-client/1.1\"\u001b[0m\n",
      "\u001b[35m[2020-10-13:21:29:09:INFO] Determined delimiter of CSV input is ','\u001b[0m\n",
      "\u001b[35m169.254.255.130 - - [13/Oct/2020:21:29:09 +0000] \"POST /invocations HTTP/1.1\" 200 12188 \"-\" \"Go-http-client/1.1\"\u001b[0m\n",
      "\u001b[34m[2020-10-13:21:29:09:INFO] Determined delimiter of CSV input is ','\u001b[0m\n",
      "\u001b[34m[2020-10-13:21:29:09:INFO] Determined delimiter of CSV input is ','\u001b[0m\n",
      "\u001b[35m[2020-10-13:21:29:09:INFO] Determined delimiter of CSV input is ','\u001b[0m\n",
      "\u001b[35m[2020-10-13:21:29:09:INFO] Determined delimiter of CSV input is ','\u001b[0m\n",
      "\u001b[34m[2020-10-13:21:29:12:INFO] Determined delimiter of CSV input is ','\u001b[0m\n",
      "\u001b[35m[2020-10-13:21:29:12:INFO] Determined delimiter of CSV input is ','\u001b[0m\n",
      "\u001b[34m169.254.255.130 - - [13/Oct/2020:21:29:12 +0000] \"POST /invocations HTTP/1.1\" 200 12236 \"-\" \"Go-http-client/1.1\"\u001b[0m\n",
      "\u001b[34m169.254.255.130 - - [13/Oct/2020:21:29:12 +0000] \"POST /invocations HTTP/1.1\" 200 12211 \"-\" \"Go-http-client/1.1\"\u001b[0m\n",
      "\u001b[34m[2020-10-13:21:29:12:INFO] Determined delimiter of CSV input is ','\u001b[0m\n",
      "\u001b[34m[2020-10-13:21:29:12:INFO] Determined delimiter of CSV input is ','\u001b[0m\n",
      "\u001b[34m[2020-10-13:21:29:12:INFO] Determined delimiter of CSV input is ','\u001b[0m\n",
      "\u001b[35m169.254.255.130 - - [13/Oct/2020:21:29:12 +0000] \"POST /invocations HTTP/1.1\" 200 12236 \"-\" \"Go-http-client/1.1\"\u001b[0m\n",
      "\u001b[35m169.254.255.130 - - [13/Oct/2020:21:29:12 +0000] \"POST /invocations HTTP/1.1\" 200 12211 \"-\" \"Go-http-client/1.1\"\u001b[0m\n",
      "\u001b[35m[2020-10-13:21:29:12:INFO] Determined delimiter of CSV input is ','\u001b[0m\n",
      "\u001b[35m[2020-10-13:21:29:12:INFO] Determined delimiter of CSV input is ','\u001b[0m\n",
      "\u001b[35m[2020-10-13:21:29:12:INFO] Determined delimiter of CSV input is ','\u001b[0m\n",
      "\u001b[34m169.254.255.130 - - [13/Oct/2020:21:29:15 +0000] \"POST /invocations HTTP/1.1\" 200 12187 \"-\" \"Go-http-client/1.1\"\u001b[0m\n",
      "\u001b[35m169.254.255.130 - - [13/Oct/2020:21:29:15 +0000] \"POST /invocations HTTP/1.1\" 200 12187 \"-\" \"Go-http-client/1.1\"\u001b[0m\n",
      "\u001b[34m169.254.255.130 - - [13/Oct/2020:21:29:15 +0000] \"POST /invocations HTTP/1.1\" 200 12189 \"-\" \"Go-http-client/1.1\"\u001b[0m\n",
      "\u001b[34m[2020-10-13:21:29:15:INFO] Determined delimiter of CSV input is ','\u001b[0m\n",
      "\u001b[34m169.254.255.130 - - [13/Oct/2020:21:29:15 +0000] \"POST /invocations HTTP/1.1\" 200 12183 \"-\" \"Go-http-client/1.1\"\u001b[0m\n",
      "\u001b[34m169.254.255.130 - - [13/Oct/2020:21:29:15 +0000] \"POST /invocations HTTP/1.1\" 200 12199 \"-\" \"Go-http-client/1.1\"\u001b[0m\n",
      "\u001b[34m[2020-10-13:21:29:15:INFO] Determined delimiter of CSV input is ','\u001b[0m\n",
      "\u001b[34m[2020-10-13:21:29:15:INFO] Determined delimiter of CSV input is ','\u001b[0m\n",
      "\u001b[34m[2020-10-13:21:29:15:INFO] Determined delimiter of CSV input is ','\u001b[0m\n",
      "\u001b[35m169.254.255.130 - - [13/Oct/2020:21:29:15 +0000] \"POST /invocations HTTP/1.1\" 200 12189 \"-\" \"Go-http-client/1.1\"\u001b[0m\n",
      "\u001b[35m[2020-10-13:21:29:15:INFO] Determined delimiter of CSV input is ','\u001b[0m\n",
      "\u001b[35m169.254.255.130 - - [13/Oct/2020:21:29:15 +0000] \"POST /invocations HTTP/1.1\" 200 12183 \"-\" \"Go-http-client/1.1\"\u001b[0m\n",
      "\u001b[35m169.254.255.130 - - [13/Oct/2020:21:29:15 +0000] \"POST /invocations HTTP/1.1\" 200 12199 \"-\" \"Go-http-client/1.1\"\u001b[0m\n",
      "\u001b[35m[2020-10-13:21:29:15:INFO] Determined delimiter of CSV input is ','\u001b[0m\n",
      "\u001b[35m[2020-10-13:21:29:15:INFO] Determined delimiter of CSV input is ','\u001b[0m\n",
      "\u001b[35m[2020-10-13:21:29:15:INFO] Determined delimiter of CSV input is ','\u001b[0m\n",
      "\u001b[34m169.254.255.130 - - [13/Oct/2020:21:29:17 +0000] \"POST /invocations HTTP/1.1\" 200 9067 \"-\" \"Go-http-client/1.1\"\u001b[0m\n",
      "\u001b[35m169.254.255.130 - - [13/Oct/2020:21:29:17 +0000] \"POST /invocations HTTP/1.1\" 200 9067 \"-\" \"Go-http-client/1.1\"\u001b[0m\n",
      "\u001b[34m169.254.255.130 - - [13/Oct/2020:21:29:18 +0000] \"POST /invocations HTTP/1.1\" 200 12189 \"-\" \"Go-http-client/1.1\"\u001b[0m\n",
      "\u001b[34m169.254.255.130 - - [13/Oct/2020:21:29:18 +0000] \"POST /invocations HTTP/1.1\" 200 12208 \"-\" \"Go-http-client/1.1\"\u001b[0m\n",
      "\u001b[34m169.254.255.130 - - [13/Oct/2020:21:29:18 +0000] \"POST /invocations HTTP/1.1\" 200 12208 \"-\" \"Go-http-client/1.1\"\u001b[0m\n",
      "\u001b[35m169.254.255.130 - - [13/Oct/2020:21:29:18 +0000] \"POST /invocations HTTP/1.1\" 200 12189 \"-\" \"Go-http-client/1.1\"\u001b[0m\n",
      "\u001b[35m169.254.255.130 - - [13/Oct/2020:21:29:18 +0000] \"POST /invocations HTTP/1.1\" 200 12208 \"-\" \"Go-http-client/1.1\"\u001b[0m\n",
      "\u001b[35m169.254.255.130 - - [13/Oct/2020:21:29:18 +0000] \"POST /invocations HTTP/1.1\" 200 12208 \"-\" \"Go-http-client/1.1\"\u001b[0m\n"
     ]
    },
    {
     "name": "stdout",
     "output_type": "stream",
     "text": [
      "\n"
     ]
    }
   ],
   "source": [
    "xgb_transformer.wait()"
   ]
  },
  {
   "cell_type": "markdown",
   "metadata": {},
   "source": [
    "Now the transform job has executed and the result, the estimated sentiment of each review, has been saved on S3. Since we would rather work on this file locally we can perform a bit of notebook magic to copy the file to the `data_dir`."
   ]
  },
  {
   "cell_type": "code",
   "execution_count": 28,
   "metadata": {},
   "outputs": [
    {
     "name": "stdout",
     "output_type": "stream",
     "text": [
      "Completed 256.0 KiB/473.4 KiB (3.0 MiB/s) with 1 file(s) remaining\r",
      "Completed 473.4 KiB/473.4 KiB (5.3 MiB/s) with 1 file(s) remaining\r",
      "download: s3://sagemaker-us-east-1-136004397992/sagemaker-xgboost-2020-10-13-21-23-42-642/test.csv.out to ../data/sentiment_web_app/test.csv.out\r\n"
     ]
    }
   ],
   "source": [
    "!aws s3 cp --recursive $xgb_transformer.output_path $data_dir"
   ]
  },
  {
   "cell_type": "markdown",
   "metadata": {},
   "source": [
    "The last step is now to read in the output from our model, convert the output to something a little more usable, in this case we want the sentiment to be either `1` (positive) or `0` (negative), and then compare to the ground truth labels."
   ]
  },
  {
   "cell_type": "code",
   "execution_count": 29,
   "metadata": {},
   "outputs": [],
   "source": [
    "predictions = pd.read_csv(os.path.join(data_dir, 'test.csv.out'), header=None)\n",
    "predictions = [round(num) for num in predictions.squeeze().values]"
   ]
  },
  {
   "cell_type": "code",
   "execution_count": 30,
   "metadata": {},
   "outputs": [
    {
     "data": {
      "text/plain": [
       "0.85572"
      ]
     },
     "execution_count": 30,
     "metadata": {},
     "output_type": "execute_result"
    }
   ],
   "source": [
    "from sklearn.metrics import accuracy_score\n",
    "accuracy_score(test_y, predictions)"
   ]
  },
  {
   "cell_type": "markdown",
   "metadata": {},
   "source": [
    "## Step 6: Deploying the model\n",
    "\n",
    "Once we construct and fit our model, SageMaker stores the resulting model artifacts and we can use those to deploy an endpoint (inference code). To see this, look in the SageMaker console and you should see that a model has been created along with a link to the S3 location where the model artifacts have been stored.\n",
    "\n",
    "Deploying an endpoint is a lot like training the model with a few important differences. The first is that a deployed model doesn't change the model artifacts, so as you send it various testing instances the model won't change. Another difference is that since we aren't performing a fixed computation, as we were in the training step or while performing a batch transform, the compute instance that gets started stays running until we tell it to stop. This is important to note as if we forget and leave it running we will be charged the entire time.\n",
    "\n",
    "In other words **If you are no longer using a deployed endpoint, shut it down!**"
   ]
  },
  {
   "cell_type": "code",
   "execution_count": 31,
   "metadata": {},
   "outputs": [
    {
     "name": "stderr",
     "output_type": "stream",
     "text": [
      "Parameter image will be renamed to image_uri in SageMaker Python SDK v2.\n",
      "Using already existing model: sagemaker-xgboost-2020-10-13-21-16-07-128\n"
     ]
    },
    {
     "name": "stdout",
     "output_type": "stream",
     "text": [
      "-------------------!"
     ]
    }
   ],
   "source": [
    "xgb_predictor = xgb.deploy(initial_instance_count = 1, instance_type = 'ml.m4.xlarge')"
   ]
  },
  {
   "cell_type": "markdown",
   "metadata": {},
   "source": [
    "### Testing the model (again)\n",
    "\n",
    "Now that we have deployed our endpoint, we can send the testing data to it and get back the inference results. We already did this earlier using the batch transform functionality of SageMaker, however, we will test our model again using the newly deployed endpoint so that we can make sure that it works properly and to get a bit of a feel for how the endpoint works.\n",
    "\n",
    "When using the created endpoint it is important to know that we are limited in the amount of information we can send in each call so we need to break the testing data up into chunks and then send each chunk. Also, we need to serialize our data before we send it to the endpoint to ensure that our data is transmitted properly. Fortunately, SageMaker can do the serialization part for us provided we tell it the format of our data."
   ]
  },
  {
   "cell_type": "code",
   "execution_count": 32,
   "metadata": {},
   "outputs": [],
   "source": [
    "from sagemaker.predictor import csv_serializer\n",
    "\n",
    "# We need to tell the endpoint what format the data we are sending is in so that SageMaker can perform the serialization.\n",
    "xgb_predictor.content_type = 'text/csv'\n",
    "xgb_predictor.serializer = csv_serializer"
   ]
  },
  {
   "cell_type": "code",
   "execution_count": 33,
   "metadata": {},
   "outputs": [],
   "source": [
    "# We split the data into chunks and send each chunk seperately, accumulating the results.\n",
    "\n",
    "def predict(data, rows=512):\n",
    "    split_array = np.array_split(data, int(data.shape[0] / float(rows) + 1))\n",
    "    predictions = ''\n",
    "    for array in split_array:\n",
    "        predictions = ','.join([predictions, xgb_predictor.predict(array).decode('utf-8')])\n",
    "    \n",
    "    return np.fromstring(predictions[1:], sep=',')"
   ]
  },
  {
   "cell_type": "code",
   "execution_count": 34,
   "metadata": {},
   "outputs": [],
   "source": [
    "test_X = pd.read_csv(os.path.join(data_dir, 'test.csv'), header=None).values\n",
    "\n",
    "predictions = predict(test_X)\n",
    "predictions = [round(num) for num in predictions]"
   ]
  },
  {
   "cell_type": "markdown",
   "metadata": {},
   "source": [
    "Lastly, we check to see what the accuracy of our model is."
   ]
  },
  {
   "cell_type": "code",
   "execution_count": 35,
   "metadata": {},
   "outputs": [
    {
     "data": {
      "text/plain": [
       "0.85572"
      ]
     },
     "execution_count": 35,
     "metadata": {},
     "output_type": "execute_result"
    }
   ],
   "source": [
    "from sklearn.metrics import accuracy_score\n",
    "accuracy_score(test_y, predictions)"
   ]
  },
  {
   "cell_type": "markdown",
   "metadata": {},
   "source": [
    "And the results here should agree with the model testing that we did earlier using the batch transform job.\n",
    "\n",
    "### Cleaning up\n",
    "\n",
    "Now that we've determined that deploying our model works as expected, we are going to shut it down. Remember that the longer the endpoint is left running, the greater the cost and since we have a bit more work to do before we are able to use our endpoint with our simple web app, we should shut everything down."
   ]
  },
  {
   "cell_type": "code",
   "execution_count": 36,
   "metadata": {},
   "outputs": [],
   "source": [
    "xgb_predictor.delete_endpoint()"
   ]
  },
  {
   "cell_type": "markdown",
   "metadata": {},
   "source": [
    "## Step 7: Putting our model to work\n",
    "\n",
    "As we've mentioned a few times now, our goal is to have our model deployed and then access it using a very simple web app. The intent is for this web app to take some user submitted data (a review), send it off to our endpoint (the model) and then display the result.\n",
    "\n",
    "However, there is a small catch. Currently the only way we can access the endpoint to send it data is using the SageMaker API. We can, if we wish, expose the actual URL that our model's endpoint is receiving data from, however, if we just send it data ourselves we will not get anything in return. This is because the endpoint created by SageMaker requires the entity accessing it have the correct permissions. So, we would need to somehow authenticate our web app with AWS.\n",
    "\n",
    "Having a website that authenticates to AWS seems a bit beyond the scope of this lesson so we will opt for an alternative approach. Namely, we will create a new endpoint which does not require authentication and which acts as a proxy for the SageMaker endpoint.\n",
    "\n",
    "As an additional constraint, we will try to avoid doing any data processing in the web app itself. Remember that when we constructed and tested our model we started with a movie review, then we simplified it by removing any html formatting and punctuation, then we constructed a bag of words embedding and the resulting vector is what we sent to our model. All of this needs to be done to our user input as well.\n",
    "\n",
    "Fortunately we can do all of this data processing in the backend, using Amazon's Lambda service.\n",
    "\n",
    "<img src=\"Web App Diagram.svg\">\n",
    "\n",
    "The diagram above gives an overview of how the various services will work together. On the far right is the model which we trained above and which will be deployed using SageMaker. On the far left is our web app that collects a user's movie review, sends it off and expects a positive or negative sentiment in return.\n",
    "\n",
    "In the middle is where some of the magic happens. We will construct a Lambda function, which you can think of as a straightforward Python function that can be executed whenever a specified event occurs. This Python function will do the data processing we need to perform on a user submitted review. In addition, we will give this function permission to send and recieve data from a SageMaker endpoint.\n",
    "\n",
    "Lastly, the method we will use to execute the Lambda function is a new endpoint that we will create using API Gateway. This endpoint will be a url that listens for data to be sent to it. Once it gets some data it will pass that data on to the Lambda function and then return whatever the Lambda function returns. Essentially it will act as an interface that lets our web app communicate with the Lambda function.\n",
    "\n",
    "### Processing a single review\n",
    "\n",
    "For now, suppose we are given a movie review by our user in the form of a string, like so:"
   ]
  },
  {
   "cell_type": "code",
   "execution_count": 37,
   "metadata": {},
   "outputs": [],
   "source": [
    "test_review = \"Nothing but a disgusting materialistic pageant of glistening abed remote control greed zombies, totally devoid of any heart or heat. A romantic comedy that has zero romantic chemestry and zero laughs!\""
   ]
  },
  {
   "cell_type": "markdown",
   "metadata": {},
   "source": [
    "How do we go from this string to the bag of words feature vector that is expected by our model?\n",
    "\n",
    "If we recall at the beginning of this notebook, the first step is to remove any unnecessary characters using the `review_to_words` method. Remember that we intentionally did this in a very simplistic way. This is because we are going to have to copy this method to our (eventual) Lambda function (we will go into more detail later) and this means it needs to be rather simplistic."
   ]
  },
  {
   "cell_type": "code",
   "execution_count": 38,
   "metadata": {},
   "outputs": [
    {
     "name": "stdout",
     "output_type": "stream",
     "text": [
      "nothing but a disgusting materialistic pageant of glistening abed remote control greed zombies totally devoid of any heart or heat a romantic comedy that has zero romantic chemestry and zero laughs\n"
     ]
    }
   ],
   "source": [
    "test_words = review_to_words(test_review)\n",
    "print(test_words)"
   ]
  },
  {
   "cell_type": "markdown",
   "metadata": {},
   "source": [
    "Next, we need to construct a bag of words embedding of the `test_words` string. To do this, remember that a bag of words embedding uses a `vocabulary` consisting of the most frequently appearing words in a set of documents. Then, for each word in the vocabulary we record the number of times that word appears in `test_words`. We constructed the `vocabulary` earlier using the training set for our problem so encoding `test_words` is relatively straightforward."
   ]
  },
  {
   "cell_type": "code",
   "execution_count": 39,
   "metadata": {},
   "outputs": [],
   "source": [
    "def bow_encoding(words, vocabulary):\n",
    "    bow = [0] * len(vocabulary) # Start by setting the count for each word in the vocabulary to zero.\n",
    "    for word in words.split():  # For each word in the string\n",
    "        if word in vocabulary:  # If the word is one that occurs in the vocabulary, increase its count.\n",
    "            bow[vocabulary[word]] += 1\n",
    "    return bow"
   ]
  },
  {
   "cell_type": "code",
   "execution_count": 40,
   "metadata": {},
   "outputs": [
    {
     "name": "stdout",
     "output_type": "stream",
     "text": [
      "[0, 0, 0, 0, 0, 0, 0, 0, 0, 0, 0, 0, 0, 0, 0, 0, 0, 0, 0, 0, 0, 0, 0, 0, 0, 0, 0, 0, 0, 0, 0, 0, 0, 0, 0, 0, 0, 0, 0, 0, 0, 0, 0, 0, 0, 0, 0, 0, 0, 0, 0, 0, 0, 0, 0, 0, 0, 0, 0, 0, 0, 0, 0, 0, 0, 0, 0, 0, 0, 0, 0, 0, 0, 0, 0, 0, 0, 0, 0, 0, 0, 0, 0, 0, 0, 0, 0, 0, 0, 0, 0, 0, 0, 0, 0, 0, 0, 0, 0, 0, 0, 0, 0, 0, 0, 0, 0, 0, 0, 0, 0, 0, 0, 0, 0, 0, 0, 0, 0, 0, 0, 0, 0, 0, 0, 0, 0, 0, 0, 0, 0, 0, 0, 0, 0, 0, 0, 0, 0, 0, 0, 0, 0, 0, 0, 0, 0, 0, 0, 0, 0, 0, 0, 0, 0, 0, 0, 0, 0, 0, 0, 0, 0, 0, 0, 0, 0, 0, 0, 0, 0, 0, 0, 0, 0, 0, 0, 0, 0, 0, 0, 0, 0, 0, 0, 0, 0, 0, 0, 0, 0, 0, 0, 0, 0, 0, 0, 0, 0, 0, 0, 0, 0, 0, 0, 0, 0, 0, 0, 0, 0, 0, 0, 0, 0, 0, 0, 0, 0, 0, 0, 0, 0, 0, 0, 0, 1, 0, 0, 0, 0, 0, 0, 0, 0, 0, 0, 0, 0, 0, 0, 0, 0, 0, 0, 0, 0, 0, 0, 0, 0, 0, 0, 0, 0, 0, 1, 0, 0, 0, 0, 0, 0, 0, 0, 0, 0, 0, 0, 0, 0, 0, 0, 0, 0, 0, 0, 0, 0, 0, 0, 0, 0, 0, 0, 0, 0, 0, 0, 0, 0, 0, 0, 0, 0, 0, 0, 0, 0, 0, 0, 0, 0, 0, 0, 0, 0, 0, 0, 0, 0, 0, 0, 0, 0, 0, 0, 0, 0, 0, 0, 0, 0, 0, 0, 0, 0, 0, 0, 0, 0, 0, 0, 0, 0, 0, 0, 0, 0, 0, 0, 0, 0, 0, 0, 0, 0, 0, 0, 0, 0, 0, 0, 0, 0, 0, 0, 0, 0, 0, 0, 0, 0, 0, 0, 0, 0, 0, 0, 0, 0, 0, 0, 0, 0, 0, 0, 0, 0, 0, 0, 0, 0, 0, 0, 0, 0, 0, 0, 0, 0, 0, 0, 0, 0, 0, 0, 0, 0, 0, 0, 0, 0, 0, 0, 0, 0, 0, 0, 0, 0, 0, 0, 0, 0, 0, 0, 0, 0, 0, 0, 0, 0, 0, 0, 0, 0, 0, 0, 0, 0, 0, 0, 0, 0, 0, 0, 0, 0, 0, 0, 0, 0, 0, 0, 0, 0, 0, 0, 0, 0, 0, 0, 0, 0, 0, 0, 0, 0, 0, 0, 0, 0, 0, 0, 0, 0, 0, 0, 0, 0, 0, 0, 0, 0, 0, 0, 0, 0, 0, 0, 0, 0, 0, 0, 0, 0, 0, 0, 0, 0, 0, 0, 0, 0, 0, 0, 0, 0, 0, 0, 0, 0, 0, 0, 0, 0, 0, 0, 0, 0, 0, 0, 0, 0, 0, 0, 0, 0, 0, 0, 0, 0, 0, 0, 0, 0, 0, 0, 0, 0, 0, 0, 0, 0, 0, 0, 0, 0, 0, 0, 0, 0, 0, 0, 0, 0, 0, 0, 0, 0, 0, 0, 0, 0, 0, 0, 0, 0, 0, 0, 0, 0, 0, 0, 0, 0, 0, 0, 0, 0, 0, 0, 0, 0, 0, 0, 0, 0, 0, 0, 0, 0, 0, 0, 0, 0, 0, 0, 0, 0, 0, 0, 0, 0, 0, 0, 0, 0, 0, 0, 0, 0, 0, 0, 0, 0, 0, 0, 0, 0, 0, 0, 0, 0, 0, 0, 0, 0, 0, 0, 0, 0, 0, 0, 0, 0, 0, 0, 0, 0, 0, 0, 0, 0, 0, 1, 0, 0, 0, 0, 0, 0, 0, 0, 0, 0, 0, 0, 0, 0, 0, 0, 0, 0, 0, 0, 0, 0, 0, 0, 0, 0, 0, 0, 0, 0, 0, 0, 0, 0, 0, 0, 0, 0, 0, 0, 0, 0, 0, 0, 0, 0, 0, 0, 0, 0, 0, 0, 0, 0, 0, 0, 0, 0, 0, 0, 0, 0, 0, 0, 0, 0, 0, 0, 0, 0, 0, 0, 0, 0, 0, 0, 0, 0, 0, 0, 0, 0, 0, 0, 0, 0, 0, 0, 0, 0, 0, 0, 0, 0, 0, 0, 0, 0, 0, 0, 0, 0, 0, 0, 0, 0, 0, 0, 0, 0, 0, 0, 0, 0, 0, 0, 0, 0, 0, 0, 0, 0, 0, 0, 0, 0, 0, 0, 0, 0, 0, 0, 0, 0, 0, 0, 0, 0, 0, 0, 0, 0, 0, 0, 0, 0, 0, 0, 0, 0, 0, 0, 0, 0, 0, 0, 0, 0, 0, 0, 0, 0, 0, 0, 0, 0, 0, 0, 0, 0, 0, 0, 0, 0, 0, 0, 0, 0, 0, 0, 0, 0, 0, 0, 0, 0, 0, 0, 0, 0, 0, 0, 0, 0, 0, 0, 0, 0, 0, 0, 0, 0, 0, 0, 0, 0, 0, 0, 0, 0, 0, 0, 0, 0, 0, 0, 0, 0, 0, 0, 0, 0, 0, 0, 0, 0, 0, 0, 0, 0, 0, 0, 0, 0, 0, 0, 0, 0, 0, 0, 0, 0, 0, 0, 0, 0, 0, 0, 0, 0, 0, 0, 0, 1, 0, 0, 0, 0, 0, 0, 0, 0, 0, 0, 0, 0, 0, 0, 0, 0, 0, 0, 0, 0, 0, 0, 0, 0, 0, 0, 0, 0, 0, 0, 0, 0, 0, 0, 0, 0, 0, 0, 0, 0, 0, 0, 0, 0, 0, 0, 0, 0, 0, 0, 0, 0, 0, 0, 0, 0, 0, 0, 0, 0, 0, 0, 0, 0, 0, 0, 0, 0, 0, 0, 0, 0, 0, 0, 0, 0, 0, 0, 0, 0, 0, 0, 0, 0, 0, 0, 1, 0, 0, 0, 0, 0, 0, 0, 0, 0, 0, 0, 0, 0, 0, 0, 0, 0, 0, 0, 0, 0, 0, 0, 0, 0, 0, 0, 0, 0, 0, 0, 0, 0, 0, 0, 0, 0, 0, 0, 0, 0, 0, 0, 0, 0, 0, 0, 0, 0, 0, 0, 0, 0, 0, 0, 0, 0, 0, 0, 0, 0, 0, 0, 0, 0, 0, 0, 0, 0, 0, 0, 0, 0, 0, 0, 0, 0, 0, 0, 0, 0, 0, 0, 0, 0, 0, 0, 0, 0, 0, 0, 0, 0, 0, 0, 0, 0, 0, 0, 0, 0, 0, 0, 0, 0, 0, 0, 0, 0, 0, 0, 0, 0, 0, 0, 0, 0, 0, 0, 0, 0, 0, 0, 0, 0, 0, 0, 0, 0, 0, 0, 0, 0, 0, 0, 0, 0, 0, 0, 0, 0, 0, 0, 0, 0, 0, 0, 0, 0, 0, 0, 0, 0, 0, 0, 0, 0, 0, 0, 0, 0, 0, 0, 0, 0, 0, 0, 0, 0, 0, 0, 0, 0, 0, 0, 0, 0, 0, 0, 0, 0, 0, 0, 0, 0, 0, 0, 0, 0, 0, 0, 0, 0, 0, 0, 0, 0, 0, 0, 0, 0, 0, 0, 0, 0, 0, 0, 0, 0, 0, 0, 0, 0, 0, 0, 0, 0, 0, 0, 0, 0, 0, 0, 0, 0, 0, 0, 0, 0, 0, 0, 0, 0, 0, 0, 0, 0, 0, 0, 0, 0, 0, 0, 0, 0, 0, 0, 0, 0, 0, 0, 0, 1, 0, 0, 0, 0, 0, 0, 0, 0, 0, 0, 0, 0, 0, 0, 0, 0, 0, 0, 0, 0, 0, 0, 0, 0, 0, 0, 0, 0, 0, 0, 0, 0, 0, 0, 0, 0, 0, 0, 0, 0, 0, 0, 0, 0, 0, 0, 0, 0, 0, 0, 0, 0, 0, 0, 0, 1, 0, 0, 0, 0, 0, 0, 0, 0, 0, 0, 0, 0, 0, 0, 0, 0, 0, 0, 0, 0, 0, 0, 0, 0, 0, 0, 0, 0, 0, 0, 0, 0, 0, 0, 0, 0, 0, 0, 0, 0, 0, 0, 0, 0, 0, 0, 0, 0, 0, 0, 0, 0, 0, 0, 0, 0, 0, 0, 0, 0, 0, 0, 0, 0, 0, 0, 0, 0, 0, 0, 0, 0, 0, 0, 0, 0, 0, 0, 0, 0, 0, 0, 0, 0, 0, 0, 0, 0, 0, 0, 0, 0, 0, 0, 0, 0, 0, 0, 0, 0, 0, 0, 0, 0, 0, 0, 0, 0, 0, 0, 0, 0, 0, 0, 0, 0, 0, 0, 0, 0, 0, 0, 0, 0, 0, 0, 0, 0, 0, 0, 0, 0, 0, 0, 0, 0, 0, 0, 0, 0, 0, 0, 0, 0, 0, 0, 0, 0, 0, 0, 0, 0, 0, 0, 0, 0, 0, 0, 0, 0, 0, 0, 0, 0, 0, 0, 0, 0, 0, 0, 0, 0, 0, 0, 0, 0, 0, 0, 0, 0, 0, 0, 0, 0, 0, 0, 0, 0, 0, 0, 0, 0, 0, 0, 0, 0, 0, 0, 0, 0, 0, 0, 0, 0, 0, 0, 0, 0, 0, 0, 0, 0, 0, 0, 0, 0, 0, 0, 0, 0, 0, 0, 0, 0, 0, 0, 0, 0, 0, 0, 0, 0, 0, 0, 0, 0, 0, 0, 0, 0, 0, 0, 0, 0, 0, 0, 0, 0, 0, 0, 0, 0, 0, 0, 0, 0, 0, 0, 0, 0, 0, 0, 0, 0, 0, 0, 0, 0, 0, 0, 0, 0, 0, 0, 0, 0, 0, 0, 0, 0, 0, 0, 0, 0, 0, 0, 0, 0, 0, 0, 0, 0, 0, 0, 0, 0, 0, 0, 0, 0, 0, 0, 0, 0, 0, 0, 0, 0, 0, 0, 0, 0, 0, 0, 0, 0, 0, 0, 0, 0, 0, 0, 0, 0, 0, 0, 0, 0, 0, 0, 0, 0, 0, 0, 0, 0, 0, 0, 0, 0, 0, 0, 0, 0, 0, 0, 0, 0, 0, 0, 0, 0, 0, 0, 0, 0, 0, 0, 0, 0, 0, 0, 0, 0, 0, 0, 0, 0, 0, 0, 0, 0, 0, 0, 0, 0, 0, 0, 0, 0, 0, 0, 0, 0, 0, 0, 0, 0, 0, 0, 0, 0, 0, 0, 0, 0, 0, 0, 0, 0, 0, 0, 0, 0, 0, 0, 0, 0, 0, 0, 0, 0, 0, 0, 0, 0, 0, 0, 0, 0, 0, 0, 0, 0, 0, 0, 0, 0, 0, 0, 0, 0, 0, 0, 0, 0, 0, 0, 0, 0, 0, 0, 0, 0, 0, 0, 0, 0, 0, 0, 0, 0, 0, 0, 0, 0, 0, 0, 0, 0, 0, 0, 0, 0, 0, 0, 0, 0, 0, 0, 0, 0, 0, 0, 0, 0, 0, 0, 0, 0, 0, 0, 0, 0, 0, 0, 0, 0, 0, 0, 0, 0, 0, 0, 0, 0, 0, 0, 0, 0, 0, 0, 0, 0, 0, 0, 0, 0, 0, 0, 0, 0, 0, 0, 0, 0, 0, 0, 0, 0, 0, 0, 0, 0, 0, 0, 0, 0, 0, 0, 0, 0, 0, 0, 0, 0, 0, 0, 0, 0, 0, 0, 0, 0, 0, 0, 0, 0, 0, 0, 0, 0, 0, 0, 0, 0, 0, 0, 0, 0, 0, 0, 0, 0, 0, 0, 0, 0, 0, 0, 0, 0, 0, 0, 0, 0, 0, 0, 0, 0, 0, 0, 0, 0, 0, 0, 0, 0, 0, 0, 0, 0, 0, 0, 0, 0, 0, 0, 0, 0, 0, 0, 0, 0, 0, 0, 0, 0, 0, 0, 0, 0, 0, 0, 0, 0, 0, 0, 0, 0, 0, 0, 0, 0, 0, 0, 0, 0, 0, 0, 0, 0, 0, 0, 0, 0, 0, 0, 0, 0, 0, 0, 0, 0, 0, 0, 0, 0, 0, 0, 0, 0, 0, 0, 0, 0, 0, 0, 0, 0, 0, 0, 0, 0, 0, 0, 0, 0, 0, 0, 0, 0, 0, 0, 0, 0, 0, 0, 0, 0, 0, 1, 0, 0, 0, 0, 0, 0, 0, 0, 0, 0, 0, 0, 0, 0, 0, 0, 0, 0, 0, 0, 0, 0, 0, 0, 0, 0, 0, 0, 0, 0, 0, 0, 0, 0, 0, 0, 0, 0, 0, 0, 0, 0, 0, 0, 0, 0, 0, 0, 0, 0, 0, 0, 0, 0, 0, 0, 0, 0, 0, 0, 0, 0, 0, 0, 0, 0, 0, 0, 0, 0, 0, 0, 0, 0, 1, 0, 0, 0, 0, 0, 0, 0, 0, 0, 0, 0, 0, 0, 0, 0, 0, 0, 0, 0, 0, 1, 0, 0, 1, 0, 0, 0, 0, 0, 0, 0, 0, 0, 0, 0, 0, 0, 0, 0, 0, 0, 0, 0, 0, 0, 0, 0, 0, 0, 0, 0, 0, 0, 0, 0, 0, 0, 0, 0, 0, 0, 0, 0, 0, 0, 0, 0, 0, 0, 0, 0, 0, 0, 0, 0, 0, 0, 0, 0, 0, 0, 0, 0, 0, 0, 0, 0, 0, 0, 0, 0, 0, 0, 0, 0, 0, 0, 0, 0, 0, 0, 0, 0, 0, 0, 0, 0, 0, 0, 0, 0, 0, 0, 0, 0, 0, 0, 0, 0, 0, 0, 0, 0, 0, 0, 0, 0, 0, 0, 0, 0, 0, 0, 0, 0, 0, 0, 0, 0, 0, 0, 0, 0, 0, 0, 0, 0, 0, 0, 0, 0, 0, 0, 0, 0, 0, 0, 0, 0, 0, 0, 0, 0, 0, 0, 0, 0, 0, 0, 0, 0, 0, 0, 0, 0, 0, 0, 0, 0, 0, 0, 0, 0, 0, 0, 0, 0, 0, 0, 0, 0, 0, 0, 0, 0, 0, 0, 0, 0, 0, 0, 0, 0, 0, 0, 0, 0, 0, 0, 0, 0, 0, 0, 0, 0, 0, 0, 0, 0, 0, 0, 0, 0, 0, 0, 0, 0, 0, 0, 0, 0, 0, 0, 0, 0, 0, 0, 0, 0, 0, 0, 0, 0, 0, 0, 0, 0, 0, 0, 0, 0, 0, 0, 0, 0, 0, 0, 0, 0, 0, 0, 0, 0, 0, 0, 0, 0, 0, 0, 0, 0, 0, 0, 0, 0, 0, 0, 0, 0, 0, 0, 0, 0, 0, 0, 0, 0, 0, 0, 0, 0, 0, 0, 0, 0, 0, 0, 0, 0, 0, 0, 0, 0, 0, 0, 0, 0, 0, 0, 0, 0, 0, 0, 0, 0, 0, 0, 0, 0, 0, 0, 0, 0, 0, 0, 0, 0, 0, 0, 0, 0, 0, 0, 0, 0, 0, 0, 0, 0, 0, 0, 0, 0, 0, 0, 0, 0, 0, 0, 0, 0, 0, 0, 0, 0, 0, 0, 0, 0, 0, 0, 0, 0, 0, 0, 0, 0, 0, 0, 0, 0, 0, 0, 0, 0, 0, 0, 0, 0, 0, 0, 0, 0, 0, 0, 0, 0, 0, 0, 0, 0, 0, 0, 0, 0, 0, 0, 0, 0, 0, 0, 0, 0, 0, 0, 0, 0, 0, 0, 0, 0, 0, 0, 0, 0, 0, 0, 0, 0, 0, 0, 0, 0, 0, 0, 0, 0, 0, 0, 0, 0, 0, 0, 0, 0, 0, 0, 0, 0, 0, 0, 0, 0, 0, 0, 0, 0, 0, 0, 0, 0, 0, 0, 0, 0, 0, 0, 0, 0, 0, 0, 0, 0, 0, 0, 0, 0, 0, 0, 0, 0, 0, 0, 0, 0, 0, 0, 0, 0, 0, 0, 0, 0, 0, 0, 0, 0, 0, 0, 0, 1, 0, 0, 0, 0, 0, 0, 0, 0, 0, 0, 0, 0, 0, 0, 0, 0, 0, 0, 0, 0, 0, 0, 0, 0, 0, 0, 0, 0, 0, 0, 0, 0, 0, 0, 0, 0, 0, 0, 0, 0, 0, 0, 0, 0, 0, 0, 0, 0, 0, 0, 0, 0, 0, 0, 0, 0, 0, 0, 0, 0, 0, 0, 0, 0, 0, 0, 0, 0, 0, 0, 0, 0, 0, 0, 0, 0, 0, 0, 0, 0, 0, 0, 0, 0, 0, 0, 0, 0, 0, 0, 0, 0, 0, 0, 0, 0, 0, 0, 0, 0, 0, 0, 0, 0, 0, 0, 0, 0, 0, 0, 0, 0, 0, 0, 0, 0, 0, 0, 0, 0, 0, 0, 0, 0, 0, 0, 0, 0, 0, 0, 0, 0, 0, 0, 0, 0, 0, 0, 0, 0, 0, 0, 0, 0, 0, 0, 0, 0, 0, 0, 0, 0, 0, 0, 0, 0, 0, 0, 0, 0, 0, 0, 0, 0, 0, 0, 0, 0, 0, 0, 0, 0, 0, 0, 0, 0, 0, 0, 0, 0, 0, 0, 0, 0, 0, 0, 0, 0, 0, 0, 0, 0, 0, 0, 0, 0, 0, 0, 0, 0, 0, 0, 0, 0, 0, 0, 0, 0, 0, 0, 0, 0, 0, 0, 0, 0, 0, 0, 0, 0, 0, 0, 0, 0, 0, 0, 0, 0, 0, 0, 0, 0, 0, 0, 0, 0, 0, 0, 0, 0, 0, 0, 0, 0, 0, 0, 0, 0, 0, 0, 0, 0, 0, 0, 0, 0, 0, 0, 0, 0, 0, 0, 0, 0, 0, 0, 0, 0, 0, 0, 0, 0, 0, 0, 0, 0, 0, 0, 0, 0, 0, 0, 0, 0, 0, 0, 0, 0, 0, 0, 0, 0, 0, 0, 0, 0, 0, 0, 0, 0, 0, 0, 0, 0, 0, 0, 0, 0, 0, 0, 0, 0, 0, 0, 0, 0, 0, 0, 0, 0, 0, 0, 0, 0, 0, 0, 0, 0, 0, 0, 0, 0, 0, 0, 0, 0, 0, 0, 0, 0, 0, 0, 0, 0, 0, 0, 0, 0, 0, 0, 0, 0, 0, 0, 0, 0, 0, 0, 0, 0, 0, 0, 0, 0, 0, 0, 0, 0, 0, 0, 0, 0, 0, 0, 0, 0, 0, 0, 0, 0, 0, 0, 0, 0, 0, 0, 0, 0, 0, 0, 0, 0, 0, 0, 0, 0, 0, 0, 0, 0, 0, 0, 0, 0, 0, 0, 0, 0, 0, 0, 0, 0, 0, 0, 0, 0, 0, 0, 0, 0, 0, 0, 0, 0, 0, 0, 0, 0, 0, 0, 0, 0, 0, 0, 0, 0, 0, 0, 0, 0, 0, 0, 0, 0, 0, 0, 0, 0, 0, 0, 0, 0, 0, 0, 0, 0, 0, 0, 0, 0, 0, 0, 0, 0, 0, 0, 0, 0, 0, 0, 0, 0, 0, 0, 0, 0, 0, 0, 0, 0, 0, 0, 0, 0, 0, 0, 0, 0, 0, 0, 0, 0, 0, 0, 0, 0, 0, 0, 0, 0, 0, 0, 0, 0, 0, 0, 0, 0, 0, 0, 0, 0, 1, 0, 0, 0, 0, 0, 0, 0, 0, 0, 0, 0, 0, 0, 0, 0, 0, 0, 0, 0, 0, 0, 0, 0, 0, 0, 0, 0, 0, 0, 0, 0, 0, 0, 0, 0, 2, 0, 0, 0, 0, 0, 0, 0, 0, 0, 0, 0, 0, 0, 0, 0, 0, 0, 0, 0, 0, 0, 0, 0, 0, 0, 0, 0, 0, 0, 0, 0, 0, 0, 0, 0, 0, 0, 0, 0, 0, 1, 0, 0, 0, 0, 0, 0, 0, 0, 0, 0, 0, 0, 0, 0, 0, 0, 0, 0, 0, 0, 0, 0, 0, 0, 0, 0, 0, 0, 0, 0, 0, 0, 0, 0, 0, 0, 0, 0, 0, 0, 0, 0, 0, 0, 0, 0, 0, 0, 0, 0, 0, 0, 0, 0, 0, 0, 0, 0, 0, 0, 0, 0, 0, 0, 0, 0, 0, 0, 0, 0, 0, 0, 0, 0, 0, 0, 0, 0, 0, 0, 0, 0, 0, 0, 0, 0, 0, 0, 0, 0, 0, 0, 0, 0, 0, 0, 0, 0, 0, 0, 0, 0, 0, 0, 0, 0, 0, 0, 0, 0, 0, 0, 0, 0, 0, 0, 0, 0, 0, 0, 0, 0, 0, 0, 0, 0, 0, 0, 0, 0, 0, 0, 0, 0, 0, 0, 0, 0, 0, 0, 0, 0, 0, 0, 0, 0, 0, 0, 0, 0, 0, 0, 0, 0, 0, 0, 0, 0, 0, 0, 0, 0, 0, 0, 0, 0, 0, 0, 0, 0, 0, 0, 0, 0, 0, 0, 0, 0, 0, 0, 0, 0, 0, 0, 0, 0, 0, 0, 0, 0, 0, 0, 0, 0, 0, 0, 0, 0, 0, 0, 0, 0, 0, 0, 0, 0, 0, 0, 0, 0, 0, 0, 0, 0, 0, 0, 0, 0, 0, 0, 0, 0, 0, 0, 0, 0, 0, 0, 0, 0, 0, 0, 0, 0, 0, 0, 0, 0, 0, 0, 0, 0, 0, 0, 0, 0, 0, 0, 0, 0, 0, 0, 0, 0, 0, 0, 0, 0, 0, 0, 0, 0, 0, 0, 0, 0, 0, 0, 0, 0, 0, 0, 0, 0, 0, 0, 0, 0, 0, 0, 0, 0, 0, 0, 0, 0, 0, 0, 0, 0, 0, 0, 0, 0, 0, 0, 0, 0, 0, 0, 0, 0, 0, 0, 0, 0, 0, 0, 0, 0, 0, 0, 0, 0, 0, 0, 0, 0, 0, 0, 0, 0, 0, 0, 0, 0, 0, 0, 0, 0, 0, 0, 0, 0, 0, 0, 0, 0, 0, 0, 0, 0, 0, 0, 0, 0, 0, 0, 0, 0, 0, 0, 0, 0, 0, 0, 0, 0, 0, 0, 0, 0, 0, 0, 0, 0, 0, 0, 0, 0, 0, 0, 0, 0, 0, 0, 0, 0, 0, 0, 0, 0, 0, 0, 0, 0, 0, 0, 0, 0, 0, 0, 0, 0, 0, 0, 0, 0, 0, 0, 0, 0, 0, 0, 0, 0, 0, 0, 0, 0, 0, 0, 0, 0, 0, 0, 0, 0, 0, 0, 0, 0, 0, 0, 0, 0, 0, 0, 0, 0, 0, 0, 0, 0, 0, 0, 0, 0, 0, 0, 0, 0, 0, 0, 0, 0, 0, 0, 0, 0, 0, 0, 0, 0, 0, 0, 0, 0, 0, 0, 0, 0, 0, 0, 0, 0, 0, 0, 0, 0, 0, 0, 0, 0, 0, 0, 0, 0, 0, 0, 0, 0, 0, 0, 0, 0, 0, 0, 0, 0, 0, 0, 0, 0, 0, 0, 0, 1, 0, 0, 0, 0, 0, 0, 0, 0, 0, 0, 0, 0, 0, 0, 0, 0, 0, 0, 0, 0, 0, 0, 0, 0, 0, 0, 0, 0, 0, 0, 0, 0, 0, 0, 0, 0, 0, 0, 0, 0, 0, 0, 0, 0, 0, 0, 0, 0, 0, 0, 0, 0, 0, 0, 0, 0, 0, 0, 0, 0, 0, 0, 0, 0, 0, 0, 0, 0, 0, 0, 0, 0, 0, 0, 0, 0, 0, 0, 0, 0, 0, 0, 0, 0, 0, 0, 0, 0, 0, 0, 0, 0, 0, 0, 0, 0, 0, 0, 0, 0, 0, 0, 0, 0, 0, 0, 0, 0, 0, 0, 2, 0, 0, 0, 0, 0, 0, 0, 0, 0, 0, 0, 0, 0, 0, 0, 0, 0, 0, 0, 0, 0, 0, 0, 0, 0, 0, 0, 0, 0, 0, 0, 0, 0, 0, 0, 0, 0, 0, 0, 0, 0, 0, 0, 0, 0, 0, 0, 0, 0, 0, 0, 0, 0, 0, 0, 0, 0, 0, 0, 0, 0, 0, 0, 0, 0, 0, 0, 0, 0, 0, 0, 0, 0, 0, 0, 0, 0, 0, 0, 0, 0, 0, 0, 0, 0, 0, 0, 0, 0, 0, 0, 0, 0, 0, 0, 0, 0, 0, 0, 0, 0, 0, 0, 0, 0, 0, 0, 0, 0, 0, 0, 0, 0, 0, 0, 0, 0, 0, 0, 0, 0, 0, 0, 0, 0, 0, 0, 0, 0, 0, 0, 0, 0, 0, 0, 0, 0, 0, 0, 0, 0, 0, 0, 0, 0, 0, 0, 0, 0, 0, 0, 0, 0, 0, 0, 0, 0, 0, 0, 0, 0, 0, 0, 0, 0, 0, 0, 0, 0, 0, 0, 0, 0, 0, 0, 0, 0, 0, 0, 0, 0, 0, 0, 0, 0, 0, 0, 0, 0, 0, 0, 0, 0, 0, 0, 0, 0, 0, 0, 0, 0, 0, 0, 0, 0, 0, 0, 0, 0, 0, 0, 0, 0, 0, 0, 0, 0, 0, 0, 0, 0, 0, 0, 0, 0, 0, 0, 0, 0, 0, 0, 0, 0, 0, 0, 0, 0, 0, 0, 0, 0, 0, 0, 0, 0, 0, 0, 0, 0, 0, 0, 0, 0, 0, 0, 0, 0, 0, 0, 0, 0, 0, 0, 0, 0, 0, 0, 0, 0, 0, 0, 0, 0, 0, 0, 0, 0, 0, 0, 0, 0, 0, 0, 0, 0, 0, 0, 0, 0, 0, 0, 0, 0, 0, 0, 0, 0, 0, 0, 0, 0, 0, 0, 0, 0, 0, 0, 0, 0, 0, 0, 0, 0, 0, 0, 0, 0, 0, 0, 0, 0, 0, 0, 0, 0, 0, 0, 0, 0, 0, 0, 0, 0, 0, 0, 0, 0, 0, 0, 0, 0, 0, 0, 0, 0, 0, 0, 0, 0, 0, 0, 0, 0, 0, 0, 0, 0, 0, 0, 0, 0, 0, 0, 0, 0, 0, 0, 0, 0, 0, 0, 0, 0, 0, 0, 0, 0, 0, 0, 0, 0, 0, 0, 0, 0, 0, 0, 0, 0, 0, 0, 0, 0, 0, 0, 0, 0, 0, 0, 0, 0, 0, 0, 0, 0, 0, 0, 0, 0, 0, 0, 0, 0, 0, 0, 0, 0, 0, 0, 0, 0, 0, 0, 0, 0, 0, 0, 0, 0, 0, 0, 0, 0, 0, 0, 0, 0, 0, 0, 0, 0, 0, 0, 0, 0, 0, 0, 0, 0, 0, 0, 0, 0, 0, 0, 0, 0, 0, 0, 0, 0, 0, 0, 0, 0, 0, 0, 0, 0, 0, 0, 0, 0, 0, 0, 0, 0, 0, 0, 0, 0, 0, 0, 0, 0, 0, 0, 0, 0, 0, 0, 0, 0, 0, 0, 0, 0, 0, 0, 0, 0, 0, 0, 0, 0, 0, 0, 0, 0, 0, 0, 0, 0, 0, 0, 0, 0, 0, 0, 0, 0, 0, 0, 0, 0, 0, 0, 0, 0, 0, 0, 0, 0, 0, 0, 0, 0, 0, 0, 0, 0, 0, 0, 0, 0, 0, 0, 0, 0, 0, 0, 0, 0, 0, 0, 0, 0, 0, 0, 0, 0, 0, 0, 0, 0, 0, 0, 0, 0, 0, 0, 0, 0, 0, 0, 0, 0, 0, 0, 0, 0, 0, 0, 0, 0, 0, 0, 0, 0, 0, 0, 0, 0, 0, 0, 0, 0, 0, 0, 0, 0, 0, 0, 0, 0, 0, 0, 0, 0, 0, 0, 0, 0, 0, 0, 0, 0, 0, 0, 0, 0, 0, 0, 0, 0, 0, 0, 0, 0, 0, 0, 0, 0, 0, 0, 0, 0, 0, 0, 0, 0, 0, 0, 0, 0, 0, 0, 0, 0, 0, 0, 0, 0, 0, 0, 0, 0, 0, 0, 0, 0, 0, 0, 0, 0, 0, 0, 0, 0, 0, 0, 0, 0, 0, 0, 0, 0, 0, 0, 0, 0, 0, 0, 0, 0, 0, 0, 0, 0, 0, 1, 0, 0, 0, 0, 0, 0, 0, 0, 0, 0, 0, 0, 0, 0, 0, 0, 0, 0, 0, 0, 0, 0, 0, 0, 0, 0, 0, 0, 0, 0, 0, 0, 0, 0, 0, 0, 0, 0, 0, 0, 0, 0, 0, 0, 0, 0, 0, 0, 0, 0, 0, 0, 0, 0, 0, 0, 0, 0, 0, 0, 0, 0, 0, 0, 0, 0, 0, 0, 0, 0, 0, 0, 0, 0, 0, 0, 0, 0, 0, 0, 0, 0, 0, 0, 0, 0, 0, 0, 0, 0, 0, 0, 0, 0, 0, 0, 0, 0, 0, 0, 0, 0, 0, 0, 0, 0, 0, 1, 0, 0, 0, 0, 0, 0, 0, 0, 0, 0, 0, 0, 0, 0, 0, 0, 0, 0, 0, 0, 0, 0, 0, 0, 0, 0, 0, 0, 0, 0, 0, 0, 0, 0, 0, 0, 0, 0, 0, 0, 0, 0, 0, 0, 0, 0, 0, 0, 0, 0, 0, 0, 0, 0, 0, 0, 0, 0, 0, 0, 0, 0, 0, 0, 0, 0, 0, 0, 0, 0, 0, 0, 0, 0, 0, 0, 0, 0, 0, 0, 0, 0, 0, 0, 0, 0, 0, 0, 0, 0, 0, 0, 0, 0, 0, 0, 0, 0, 0, 0, 0, 0, 0, 0, 0, 0, 0, 0, 0, 0, 0, 0, 0, 0, 0, 0, 0, 0, 0, 0, 0, 0, 0, 0, 0, 0, 0, 0, 0, 0, 0, 0, 0, 0, 0, 0, 0, 0, 0, 0, 0, 0, 0, 0, 0, 0, 0, 0, 0, 0, 0, 0, 0, 0, 0, 0, 0, 0, 0, 0, 0, 0, 0, 0, 0, 0, 0, 0, 0, 0, 0, 0, 0, 0, 0, 0, 0, 0, 0, 0, 0, 0, 0, 0, 0, 0, 0, 0, 0, 0, 0, 0, 0, 0, 0, 0, 0, 0, 0, 0, 0, 0, 0, 0, 0, 0, 0, 0, 0, 0, 0, 0, 0, 0, 0, 0, 0, 0, 0, 0, 0, 0, 0, 0, 0, 0, 0, 0, 0, 0, 0, 0, 0, 0, 0, 0, 0, 0, 0, 0, 0, 0, 0, 0, 0, 0, 0, 0, 0, 0, 0, 0, 0, 0, 0, 0, 0, 0, 0, 0, 0, 0, 0, 0, 0, 0, 0, 0, 0, 0, 0, 0, 0, 0, 0, 0, 0, 0, 0, 0, 0, 0, 0, 0, 0, 0, 0, 0, 0, 0, 0, 0, 0, 0, 0, 0, 0, 0, 0, 0, 0, 0, 0, 0, 0, 0, 0, 0, 0, 0, 0, 0, 0, 0, 0, 0, 0, 0, 0, 0, 0, 0, 0, 0, 0, 0, 0, 0, 0, 0, 0, 0, 0, 0, 0, 0, 0, 0, 0, 0, 0, 0, 0, 0, 0, 0, 0, 0, 0, 0, 0, 0, 0, 0, 0, 0, 0, 0, 0, 0, 0, 0, 0, 0, 0, 0, 0, 0, 0, 0, 0, 0, 0, 0, 0, 0, 0, 0, 0, 0, 0, 0, 0, 0, 0, 0, 0, 0, 0, 0, 0, 0, 0, 0, 0, 0, 0, 0, 0, 0, 0, 0, 0, 0, 0, 0, 0, 0, 0, 0, 0, 0, 0, 0, 0, 0, 0, 0, 0, 0, 0, 0, 0, 0, 0, 0, 0, 0, 0, 0, 0, 0, 0, 0, 0, 0, 0, 0, 0, 0, 0, 0, 0, 0, 0, 0, 0, 0, 0, 0, 0, 0, 0, 0, 0, 0, 0, 0, 0, 0, 0, 0, 0, 2, 0, 1, 0]\n"
     ]
    }
   ],
   "source": [
    "test_bow = bow_encoding(test_words, vocabulary)\n",
    "print(test_bow)"
   ]
  },
  {
   "cell_type": "code",
   "execution_count": 41,
   "metadata": {},
   "outputs": [
    {
     "data": {
      "text/plain": [
       "5000"
      ]
     },
     "execution_count": 41,
     "metadata": {},
     "output_type": "execute_result"
    }
   ],
   "source": [
    "len(test_bow)"
   ]
  },
  {
   "cell_type": "markdown",
   "metadata": {},
   "source": [
    "So now we know how to construct a bag of words encoding of a user provided review, how to we send it to our endpoint? First, we need to start the endpoint back up."
   ]
  },
  {
   "cell_type": "code",
   "execution_count": 42,
   "metadata": {},
   "outputs": [
    {
     "name": "stderr",
     "output_type": "stream",
     "text": [
      "Parameter image will be renamed to image_uri in SageMaker Python SDK v2.\n",
      "Using already existing model: sagemaker-xgboost-2020-10-13-21-16-07-128\n"
     ]
    },
    {
     "name": "stdout",
     "output_type": "stream",
     "text": [
      "------------------!"
     ]
    }
   ],
   "source": [
    "xgb_predictor = xgb.deploy(initial_instance_count = 1, instance_type = 'ml.m4.xlarge')"
   ]
  },
  {
   "cell_type": "markdown",
   "metadata": {},
   "source": [
    "At this point we could just do the same thing that we did earlier when we tested our deployed model and send `test_bow` to our endpoint using the `xgb_predictor` object. However, when we eventually construct our Lambda function we won't have access to this object, so how do we call a SageMaker endpoint?\n",
    "\n",
    "It turns out that Python functions that are used in Lambda have access to another Amazon library called `boto3`. This library provides an API for working with Amazon services, including SageMaker. To start with, we need to get a handle to the SageMaker runtime."
   ]
  },
  {
   "cell_type": "code",
   "execution_count": 43,
   "metadata": {},
   "outputs": [],
   "source": [
    "import boto3\n",
    "\n",
    "runtime = boto3.Session().client('sagemaker-runtime')"
   ]
  },
  {
   "cell_type": "markdown",
   "metadata": {},
   "source": [
    "And now that we have access to the SageMaker runtime, we can ask it to make use of (invoke) an endpoint that has already been created. However, we need to provide SageMaker with the name of the deployed endpoint. To find this out we can print it out using the `xgb_predictor` object."
   ]
  },
  {
   "cell_type": "code",
   "execution_count": 44,
   "metadata": {},
   "outputs": [
    {
     "data": {
      "text/plain": [
       "'sagemaker-xgboost-2020-10-13-21-16-07-128'"
      ]
     },
     "execution_count": 44,
     "metadata": {},
     "output_type": "execute_result"
    }
   ],
   "source": [
    "xgb_predictor.endpoint"
   ]
  },
  {
   "cell_type": "markdown",
   "metadata": {},
   "source": [
    "Using the SageMaker runtime and the name of our endpoint, we can invoke the endpoint and send it the `test_bow` data."
   ]
  },
  {
   "cell_type": "code",
   "execution_count": 45,
   "metadata": {},
   "outputs": [
    {
     "ename": "ParamValidationError",
     "evalue": "Parameter validation failed:\nInvalid type for parameter Body, value: [0, 0, 0, 0, 0, 0, 0, 0, 0, 0, 0, 0, 0, 0, 0, 0, 0, 0, 0, 0, 0, 0, 0, 0, 0, 0, 0, 0, 0, 0, 0, 0, 0, 0, 0, 0, 0, 0, 0, 0, 0, 0, 0, 0, 0, 0, 0, 0, 0, 0, 0, 0, 0, 0, 0, 0, 0, 0, 0, 0, 0, 0, 0, 0, 0, 0, 0, 0, 0, 0, 0, 0, 0, 0, 0, 0, 0, 0, 0, 0, 0, 0, 0, 0, 0, 0, 0, 0, 0, 0, 0, 0, 0, 0, 0, 0, 0, 0, 0, 0, 0, 0, 0, 0, 0, 0, 0, 0, 0, 0, 0, 0, 0, 0, 0, 0, 0, 0, 0, 0, 0, 0, 0, 0, 0, 0, 0, 0, 0, 0, 0, 0, 0, 0, 0, 0, 0, 0, 0, 0, 0, 0, 0, 0, 0, 0, 0, 0, 0, 0, 0, 0, 0, 0, 0, 0, 0, 0, 0, 0, 0, 0, 0, 0, 0, 0, 0, 0, 0, 0, 0, 0, 0, 0, 0, 0, 0, 0, 0, 0, 0, 0, 0, 0, 0, 0, 0, 0, 0, 0, 0, 0, 0, 0, 0, 0, 0, 0, 0, 0, 0, 0, 0, 0, 0, 0, 0, 0, 0, 0, 0, 0, 0, 0, 0, 0, 0, 0, 0, 0, 0, 0, 0, 0, 0, 0, 1, 0, 0, 0, 0, 0, 0, 0, 0, 0, 0, 0, 0, 0, 0, 0, 0, 0, 0, 0, 0, 0, 0, 0, 0, 0, 0, 0, 0, 0, 1, 0, 0, 0, 0, 0, 0, 0, 0, 0, 0, 0, 0, 0, 0, 0, 0, 0, 0, 0, 0, 0, 0, 0, 0, 0, 0, 0, 0, 0, 0, 0, 0, 0, 0, 0, 0, 0, 0, 0, 0, 0, 0, 0, 0, 0, 0, 0, 0, 0, 0, 0, 0, 0, 0, 0, 0, 0, 0, 0, 0, 0, 0, 0, 0, 0, 0, 0, 0, 0, 0, 0, 0, 0, 0, 0, 0, 0, 0, 0, 0, 0, 0, 0, 0, 0, 0, 0, 0, 0, 0, 0, 0, 0, 0, 0, 0, 0, 0, 0, 0, 0, 0, 0, 0, 0, 0, 0, 0, 0, 0, 0, 0, 0, 0, 0, 0, 0, 0, 0, 0, 0, 0, 0, 0, 0, 0, 0, 0, 0, 0, 0, 0, 0, 0, 0, 0, 0, 0, 0, 0, 0, 0, 0, 0, 0, 0, 0, 0, 0, 0, 0, 0, 0, 0, 0, 0, 0, 0, 0, 0, 0, 0, 0, 0, 0, 0, 0, 0, 0, 0, 0, 0, 0, 0, 0, 0, 0, 0, 0, 0, 0, 0, 0, 0, 0, 0, 0, 0, 0, 0, 0, 0, 0, 0, 0, 0, 0, 0, 0, 0, 0, 0, 0, 0, 0, 0, 0, 0, 0, 0, 0, 0, 0, 0, 0, 0, 0, 0, 0, 0, 0, 0, 0, 0, 0, 0, 0, 0, 0, 0, 0, 0, 0, 0, 0, 0, 0, 0, 0, 0, 0, 0, 0, 0, 0, 0, 0, 0, 0, 0, 0, 0, 0, 0, 0, 0, 0, 0, 0, 0, 0, 0, 0, 0, 0, 0, 0, 0, 0, 0, 0, 0, 0, 0, 0, 0, 0, 0, 0, 0, 0, 0, 0, 0, 0, 0, 0, 0, 0, 0, 0, 0, 0, 0, 0, 0, 0, 0, 0, 0, 0, 0, 0, 0, 0, 0, 0, 0, 0, 0, 0, 0, 0, 0, 0, 0, 0, 0, 0, 0, 0, 0, 0, 0, 0, 0, 0, 0, 0, 0, 0, 0, 0, 0, 0, 0, 0, 0, 0, 0, 0, 0, 0, 0, 0, 0, 0, 0, 0, 0, 0, 0, 0, 0, 0, 0, 0, 0, 0, 0, 0, 0, 0, 0, 0, 0, 0, 0, 0, 0, 0, 0, 0, 0, 0, 0, 0, 0, 0, 1, 0, 0, 0, 0, 0, 0, 0, 0, 0, 0, 0, 0, 0, 0, 0, 0, 0, 0, 0, 0, 0, 0, 0, 0, 0, 0, 0, 0, 0, 0, 0, 0, 0, 0, 0, 0, 0, 0, 0, 0, 0, 0, 0, 0, 0, 0, 0, 0, 0, 0, 0, 0, 0, 0, 0, 0, 0, 0, 0, 0, 0, 0, 0, 0, 0, 0, 0, 0, 0, 0, 0, 0, 0, 0, 0, 0, 0, 0, 0, 0, 0, 0, 0, 0, 0, 0, 0, 0, 0, 0, 0, 0, 0, 0, 0, 0, 0, 0, 0, 0, 0, 0, 0, 0, 0, 0, 0, 0, 0, 0, 0, 0, 0, 0, 0, 0, 0, 0, 0, 0, 0, 0, 0, 0, 0, 0, 0, 0, 0, 0, 0, 0, 0, 0, 0, 0, 0, 0, 0, 0, 0, 0, 0, 0, 0, 0, 0, 0, 0, 0, 0, 0, 0, 0, 0, 0, 0, 0, 0, 0, 0, 0, 0, 0, 0, 0, 0, 0, 0, 0, 0, 0, 0, 0, 0, 0, 0, 0, 0, 0, 0, 0, 0, 0, 0, 0, 0, 0, 0, 0, 0, 0, 0, 0, 0, 0, 0, 0, 0, 0, 0, 0, 0, 0, 0, 0, 0, 0, 0, 0, 0, 0, 0, 0, 0, 0, 0, 0, 0, 0, 0, 0, 0, 0, 0, 0, 0, 0, 0, 0, 0, 0, 0, 0, 0, 0, 0, 0, 0, 0, 0, 0, 0, 0, 0, 0, 0, 0, 0, 0, 0, 0, 0, 1, 0, 0, 0, 0, 0, 0, 0, 0, 0, 0, 0, 0, 0, 0, 0, 0, 0, 0, 0, 0, 0, 0, 0, 0, 0, 0, 0, 0, 0, 0, 0, 0, 0, 0, 0, 0, 0, 0, 0, 0, 0, 0, 0, 0, 0, 0, 0, 0, 0, 0, 0, 0, 0, 0, 0, 0, 0, 0, 0, 0, 0, 0, 0, 0, 0, 0, 0, 0, 0, 0, 0, 0, 0, 0, 0, 0, 0, 0, 0, 0, 0, 0, 0, 0, 0, 0, 1, 0, 0, 0, 0, 0, 0, 0, 0, 0, 0, 0, 0, 0, 0, 0, 0, 0, 0, 0, 0, 0, 0, 0, 0, 0, 0, 0, 0, 0, 0, 0, 0, 0, 0, 0, 0, 0, 0, 0, 0, 0, 0, 0, 0, 0, 0, 0, 0, 0, 0, 0, 0, 0, 0, 0, 0, 0, 0, 0, 0, 0, 0, 0, 0, 0, 0, 0, 0, 0, 0, 0, 0, 0, 0, 0, 0, 0, 0, 0, 0, 0, 0, 0, 0, 0, 0, 0, 0, 0, 0, 0, 0, 0, 0, 0, 0, 0, 0, 0, 0, 0, 0, 0, 0, 0, 0, 0, 0, 0, 0, 0, 0, 0, 0, 0, 0, 0, 0, 0, 0, 0, 0, 0, 0, 0, 0, 0, 0, 0, 0, 0, 0, 0, 0, 0, 0, 0, 0, 0, 0, 0, 0, 0, 0, 0, 0, 0, 0, 0, 0, 0, 0, 0, 0, 0, 0, 0, 0, 0, 0, 0, 0, 0, 0, 0, 0, 0, 0, 0, 0, 0, 0, 0, 0, 0, 0, 0, 0, 0, 0, 0, 0, 0, 0, 0, 0, 0, 0, 0, 0, 0, 0, 0, 0, 0, 0, 0, 0, 0, 0, 0, 0, 0, 0, 0, 0, 0, 0, 0, 0, 0, 0, 0, 0, 0, 0, 0, 0, 0, 0, 0, 0, 0, 0, 0, 0, 0, 0, 0, 0, 0, 0, 0, 0, 0, 0, 0, 0, 0, 0, 0, 0, 0, 0, 0, 0, 0, 0, 0, 0, 0, 0, 1, 0, 0, 0, 0, 0, 0, 0, 0, 0, 0, 0, 0, 0, 0, 0, 0, 0, 0, 0, 0, 0, 0, 0, 0, 0, 0, 0, 0, 0, 0, 0, 0, 0, 0, 0, 0, 0, 0, 0, 0, 0, 0, 0, 0, 0, 0, 0, 0, 0, 0, 0, 0, 0, 0, 0, 1, 0, 0, 0, 0, 0, 0, 0, 0, 0, 0, 0, 0, 0, 0, 0, 0, 0, 0, 0, 0, 0, 0, 0, 0, 0, 0, 0, 0, 0, 0, 0, 0, 0, 0, 0, 0, 0, 0, 0, 0, 0, 0, 0, 0, 0, 0, 0, 0, 0, 0, 0, 0, 0, 0, 0, 0, 0, 0, 0, 0, 0, 0, 0, 0, 0, 0, 0, 0, 0, 0, 0, 0, 0, 0, 0, 0, 0, 0, 0, 0, 0, 0, 0, 0, 0, 0, 0, 0, 0, 0, 0, 0, 0, 0, 0, 0, 0, 0, 0, 0, 0, 0, 0, 0, 0, 0, 0, 0, 0, 0, 0, 0, 0, 0, 0, 0, 0, 0, 0, 0, 0, 0, 0, 0, 0, 0, 0, 0, 0, 0, 0, 0, 0, 0, 0, 0, 0, 0, 0, 0, 0, 0, 0, 0, 0, 0, 0, 0, 0, 0, 0, 0, 0, 0, 0, 0, 0, 0, 0, 0, 0, 0, 0, 0, 0, 0, 0, 0, 0, 0, 0, 0, 0, 0, 0, 0, 0, 0, 0, 0, 0, 0, 0, 0, 0, 0, 0, 0, 0, 0, 0, 0, 0, 0, 0, 0, 0, 0, 0, 0, 0, 0, 0, 0, 0, 0, 0, 0, 0, 0, 0, 0, 0, 0, 0, 0, 0, 0, 0, 0, 0, 0, 0, 0, 0, 0, 0, 0, 0, 0, 0, 0, 0, 0, 0, 0, 0, 0, 0, 0, 0, 0, 0, 0, 0, 0, 0, 0, 0, 0, 0, 0, 0, 0, 0, 0, 0, 0, 0, 0, 0, 0, 0, 0, 0, 0, 0, 0, 0, 0, 0, 0, 0, 0, 0, 0, 0, 0, 0, 0, 0, 0, 0, 0, 0, 0, 0, 0, 0, 0, 0, 0, 0, 0, 0, 0, 0, 0, 0, 0, 0, 0, 0, 0, 0, 0, 0, 0, 0, 0, 0, 0, 0, 0, 0, 0, 0, 0, 0, 0, 0, 0, 0, 0, 0, 0, 0, 0, 0, 0, 0, 0, 0, 0, 0, 0, 0, 0, 0, 0, 0, 0, 0, 0, 0, 0, 0, 0, 0, 0, 0, 0, 0, 0, 0, 0, 0, 0, 0, 0, 0, 0, 0, 0, 0, 0, 0, 0, 0, 0, 0, 0, 0, 0, 0, 0, 0, 0, 0, 0, 0, 0, 0, 0, 0, 0, 0, 0, 0, 0, 0, 0, 0, 0, 0, 0, 0, 0, 0, 0, 0, 0, 0, 0, 0, 0, 0, 0, 0, 0, 0, 0, 0, 0, 0, 0, 0, 0, 0, 0, 0, 0, 0, 0, 0, 0, 0, 0, 0, 0, 0, 0, 0, 0, 0, 0, 0, 0, 0, 0, 0, 0, 0, 0, 0, 0, 0, 0, 0, 0, 0, 0, 0, 0, 0, 0, 0, 0, 0, 0, 0, 0, 0, 0, 0, 0, 0, 0, 0, 0, 0, 0, 0, 0, 0, 0, 0, 0, 0, 0, 0, 0, 0, 0, 0, 0, 0, 0, 0, 0, 0, 0, 0, 0, 0, 0, 0, 0, 0, 0, 0, 0, 0, 0, 0, 0, 0, 0, 0, 0, 0, 0, 0, 0, 0, 0, 0, 0, 0, 0, 0, 0, 0, 0, 0, 0, 0, 0, 0, 0, 0, 0, 0, 0, 0, 0, 0, 0, 0, 0, 0, 0, 0, 0, 0, 0, 0, 0, 0, 0, 0, 0, 0, 0, 0, 0, 0, 0, 0, 0, 0, 0, 0, 0, 0, 0, 0, 0, 0, 0, 0, 0, 0, 0, 0, 0, 0, 0, 0, 0, 0, 0, 0, 0, 0, 0, 0, 0, 0, 0, 0, 0, 0, 0, 0, 0, 0, 0, 0, 0, 0, 0, 0, 0, 0, 0, 0, 0, 0, 0, 0, 0, 0, 0, 0, 0, 0, 0, 0, 0, 0, 0, 0, 0, 0, 0, 0, 0, 0, 0, 0, 0, 0, 0, 0, 0, 0, 0, 0, 0, 0, 0, 0, 0, 0, 0, 0, 0, 0, 0, 0, 0, 0, 0, 0, 0, 0, 0, 0, 0, 0, 0, 0, 0, 0, 0, 0, 0, 0, 0, 0, 0, 0, 0, 0, 0, 0, 0, 0, 0, 0, 1, 0, 0, 0, 0, 0, 0, 0, 0, 0, 0, 0, 0, 0, 0, 0, 0, 0, 0, 0, 0, 0, 0, 0, 0, 0, 0, 0, 0, 0, 0, 0, 0, 0, 0, 0, 0, 0, 0, 0, 0, 0, 0, 0, 0, 0, 0, 0, 0, 0, 0, 0, 0, 0, 0, 0, 0, 0, 0, 0, 0, 0, 0, 0, 0, 0, 0, 0, 0, 0, 0, 0, 0, 0, 0, 1, 0, 0, 0, 0, 0, 0, 0, 0, 0, 0, 0, 0, 0, 0, 0, 0, 0, 0, 0, 0, 1, 0, 0, 1, 0, 0, 0, 0, 0, 0, 0, 0, 0, 0, 0, 0, 0, 0, 0, 0, 0, 0, 0, 0, 0, 0, 0, 0, 0, 0, 0, 0, 0, 0, 0, 0, 0, 0, 0, 0, 0, 0, 0, 0, 0, 0, 0, 0, 0, 0, 0, 0, 0, 0, 0, 0, 0, 0, 0, 0, 0, 0, 0, 0, 0, 0, 0, 0, 0, 0, 0, 0, 0, 0, 0, 0, 0, 0, 0, 0, 0, 0, 0, 0, 0, 0, 0, 0, 0, 0, 0, 0, 0, 0, 0, 0, 0, 0, 0, 0, 0, 0, 0, 0, 0, 0, 0, 0, 0, 0, 0, 0, 0, 0, 0, 0, 0, 0, 0, 0, 0, 0, 0, 0, 0, 0, 0, 0, 0, 0, 0, 0, 0, 0, 0, 0, 0, 0, 0, 0, 0, 0, 0, 0, 0, 0, 0, 0, 0, 0, 0, 0, 0, 0, 0, 0, 0, 0, 0, 0, 0, 0, 0, 0, 0, 0, 0, 0, 0, 0, 0, 0, 0, 0, 0, 0, 0, 0, 0, 0, 0, 0, 0, 0, 0, 0, 0, 0, 0, 0, 0, 0, 0, 0, 0, 0, 0, 0, 0, 0, 0, 0, 0, 0, 0, 0, 0, 0, 0, 0, 0, 0, 0, 0, 0, 0, 0, 0, 0, 0, 0, 0, 0, 0, 0, 0, 0, 0, 0, 0, 0, 0, 0, 0, 0, 0, 0, 0, 0, 0, 0, 0, 0, 0, 0, 0, 0, 0, 0, 0, 0, 0, 0, 0, 0, 0, 0, 0, 0, 0, 0, 0, 0, 0, 0, 0, 0, 0, 0, 0, 0, 0, 0, 0, 0, 0, 0, 0, 0, 0, 0, 0, 0, 0, 0, 0, 0, 0, 0, 0, 0, 0, 0, 0, 0, 0, 0, 0, 0, 0, 0, 0, 0, 0, 0, 0, 0, 0, 0, 0, 0, 0, 0, 0, 0, 0, 0, 0, 0, 0, 0, 0, 0, 0, 0, 0, 0, 0, 0, 0, 0, 0, 0, 0, 0, 0, 0, 0, 0, 0, 0, 0, 0, 0, 0, 0, 0, 0, 0, 0, 0, 0, 0, 0, 0, 0, 0, 0, 0, 0, 0, 0, 0, 0, 0, 0, 0, 0, 0, 0, 0, 0, 0, 0, 0, 0, 0, 0, 0, 0, 0, 0, 0, 0, 0, 0, 0, 0, 0, 0, 0, 0, 0, 0, 0, 0, 0, 0, 0, 0, 0, 0, 0, 0, 0, 0, 0, 0, 0, 0, 0, 0, 0, 0, 0, 0, 0, 0, 0, 0, 0, 0, 0, 0, 0, 0, 0, 0, 0, 0, 0, 0, 0, 0, 0, 0, 0, 0, 0, 0, 0, 0, 0, 0, 0, 0, 0, 0, 0, 0, 0, 0, 0, 0, 0, 0, 0, 0, 0, 0, 0, 0, 0, 0, 0, 0, 0, 0, 0, 0, 1, 0, 0, 0, 0, 0, 0, 0, 0, 0, 0, 0, 0, 0, 0, 0, 0, 0, 0, 0, 0, 0, 0, 0, 0, 0, 0, 0, 0, 0, 0, 0, 0, 0, 0, 0, 0, 0, 0, 0, 0, 0, 0, 0, 0, 0, 0, 0, 0, 0, 0, 0, 0, 0, 0, 0, 0, 0, 0, 0, 0, 0, 0, 0, 0, 0, 0, 0, 0, 0, 0, 0, 0, 0, 0, 0, 0, 0, 0, 0, 0, 0, 0, 0, 0, 0, 0, 0, 0, 0, 0, 0, 0, 0, 0, 0, 0, 0, 0, 0, 0, 0, 0, 0, 0, 0, 0, 0, 0, 0, 0, 0, 0, 0, 0, 0, 0, 0, 0, 0, 0, 0, 0, 0, 0, 0, 0, 0, 0, 0, 0, 0, 0, 0, 0, 0, 0, 0, 0, 0, 0, 0, 0, 0, 0, 0, 0, 0, 0, 0, 0, 0, 0, 0, 0, 0, 0, 0, 0, 0, 0, 0, 0, 0, 0, 0, 0, 0, 0, 0, 0, 0, 0, 0, 0, 0, 0, 0, 0, 0, 0, 0, 0, 0, 0, 0, 0, 0, 0, 0, 0, 0, 0, 0, 0, 0, 0, 0, 0, 0, 0, 0, 0, 0, 0, 0, 0, 0, 0, 0, 0, 0, 0, 0, 0, 0, 0, 0, 0, 0, 0, 0, 0, 0, 0, 0, 0, 0, 0, 0, 0, 0, 0, 0, 0, 0, 0, 0, 0, 0, 0, 0, 0, 0, 0, 0, 0, 0, 0, 0, 0, 0, 0, 0, 0, 0, 0, 0, 0, 0, 0, 0, 0, 0, 0, 0, 0, 0, 0, 0, 0, 0, 0, 0, 0, 0, 0, 0, 0, 0, 0, 0, 0, 0, 0, 0, 0, 0, 0, 0, 0, 0, 0, 0, 0, 0, 0, 0, 0, 0, 0, 0, 0, 0, 0, 0, 0, 0, 0, 0, 0, 0, 0, 0, 0, 0, 0, 0, 0, 0, 0, 0, 0, 0, 0, 0, 0, 0, 0, 0, 0, 0, 0, 0, 0, 0, 0, 0, 0, 0, 0, 0, 0, 0, 0, 0, 0, 0, 0, 0, 0, 0, 0, 0, 0, 0, 0, 0, 0, 0, 0, 0, 0, 0, 0, 0, 0, 0, 0, 0, 0, 0, 0, 0, 0, 0, 0, 0, 0, 0, 0, 0, 0, 0, 0, 0, 0, 0, 0, 0, 0, 0, 0, 0, 0, 0, 0, 0, 0, 0, 0, 0, 0, 0, 0, 0, 0, 0, 0, 0, 0, 0, 0, 0, 0, 0, 0, 0, 0, 0, 0, 0, 0, 0, 0, 0, 0, 0, 0, 0, 0, 0, 0, 0, 0, 0, 0, 0, 0, 0, 0, 0, 0, 0, 0, 0, 0, 0, 0, 0, 0, 0, 0, 0, 0, 0, 0, 0, 0, 0, 0, 0, 0, 0, 0, 0, 0, 0, 0, 0, 0, 0, 0, 0, 0, 0, 0, 0, 0, 0, 0, 0, 0, 0, 0, 0, 0, 0, 0, 0, 0, 0, 0, 0, 0, 0, 0, 0, 0, 0, 0, 0, 0, 0, 0, 0, 0, 0, 0, 0, 0, 0, 0, 1, 0, 0, 0, 0, 0, 0, 0, 0, 0, 0, 0, 0, 0, 0, 0, 0, 0, 0, 0, 0, 0, 0, 0, 0, 0, 0, 0, 0, 0, 0, 0, 0, 0, 0, 0, 2, 0, 0, 0, 0, 0, 0, 0, 0, 0, 0, 0, 0, 0, 0, 0, 0, 0, 0, 0, 0, 0, 0, 0, 0, 0, 0, 0, 0, 0, 0, 0, 0, 0, 0, 0, 0, 0, 0, 0, 0, 1, 0, 0, 0, 0, 0, 0, 0, 0, 0, 0, 0, 0, 0, 0, 0, 0, 0, 0, 0, 0, 0, 0, 0, 0, 0, 0, 0, 0, 0, 0, 0, 0, 0, 0, 0, 0, 0, 0, 0, 0, 0, 0, 0, 0, 0, 0, 0, 0, 0, 0, 0, 0, 0, 0, 0, 0, 0, 0, 0, 0, 0, 0, 0, 0, 0, 0, 0, 0, 0, 0, 0, 0, 0, 0, 0, 0, 0, 0, 0, 0, 0, 0, 0, 0, 0, 0, 0, 0, 0, 0, 0, 0, 0, 0, 0, 0, 0, 0, 0, 0, 0, 0, 0, 0, 0, 0, 0, 0, 0, 0, 0, 0, 0, 0, 0, 0, 0, 0, 0, 0, 0, 0, 0, 0, 0, 0, 0, 0, 0, 0, 0, 0, 0, 0, 0, 0, 0, 0, 0, 0, 0, 0, 0, 0, 0, 0, 0, 0, 0, 0, 0, 0, 0, 0, 0, 0, 0, 0, 0, 0, 0, 0, 0, 0, 0, 0, 0, 0, 0, 0, 0, 0, 0, 0, 0, 0, 0, 0, 0, 0, 0, 0, 0, 0, 0, 0, 0, 0, 0, 0, 0, 0, 0, 0, 0, 0, 0, 0, 0, 0, 0, 0, 0, 0, 0, 0, 0, 0, 0, 0, 0, 0, 0, 0, 0, 0, 0, 0, 0, 0, 0, 0, 0, 0, 0, 0, 0, 0, 0, 0, 0, 0, 0, 0, 0, 0, 0, 0, 0, 0, 0, 0, 0, 0, 0, 0, 0, 0, 0, 0, 0, 0, 0, 0, 0, 0, 0, 0, 0, 0, 0, 0, 0, 0, 0, 0, 0, 0, 0, 0, 0, 0, 0, 0, 0, 0, 0, 0, 0, 0, 0, 0, 0, 0, 0, 0, 0, 0, 0, 0, 0, 0, 0, 0, 0, 0, 0, 0, 0, 0, 0, 0, 0, 0, 0, 0, 0, 0, 0, 0, 0, 0, 0, 0, 0, 0, 0, 0, 0, 0, 0, 0, 0, 0, 0, 0, 0, 0, 0, 0, 0, 0, 0, 0, 0, 0, 0, 0, 0, 0, 0, 0, 0, 0, 0, 0, 0, 0, 0, 0, 0, 0, 0, 0, 0, 0, 0, 0, 0, 0, 0, 0, 0, 0, 0, 0, 0, 0, 0, 0, 0, 0, 0, 0, 0, 0, 0, 0, 0, 0, 0, 0, 0, 0, 0, 0, 0, 0, 0, 0, 0, 0, 0, 0, 0, 0, 0, 0, 0, 0, 0, 0, 0, 0, 0, 0, 0, 0, 0, 0, 0, 0, 0, 0, 0, 0, 0, 0, 0, 0, 0, 0, 0, 0, 0, 0, 0, 0, 0, 0, 0, 0, 0, 0, 0, 0, 0, 0, 0, 0, 0, 0, 0, 0, 0, 0, 0, 0, 0, 0, 0, 0, 0, 0, 0, 0, 0, 0, 0, 0, 0, 0, 0, 0, 0, 0, 0, 0, 0, 0, 0, 0, 0, 0, 0, 0, 0, 0, 0, 0, 0, 0, 0, 0, 0, 0, 0, 0, 0, 0, 0, 0, 0, 0, 0, 0, 0, 1, 0, 0, 0, 0, 0, 0, 0, 0, 0, 0, 0, 0, 0, 0, 0, 0, 0, 0, 0, 0, 0, 0, 0, 0, 0, 0, 0, 0, 0, 0, 0, 0, 0, 0, 0, 0, 0, 0, 0, 0, 0, 0, 0, 0, 0, 0, 0, 0, 0, 0, 0, 0, 0, 0, 0, 0, 0, 0, 0, 0, 0, 0, 0, 0, 0, 0, 0, 0, 0, 0, 0, 0, 0, 0, 0, 0, 0, 0, 0, 0, 0, 0, 0, 0, 0, 0, 0, 0, 0, 0, 0, 0, 0, 0, 0, 0, 0, 0, 0, 0, 0, 0, 0, 0, 0, 0, 0, 0, 0, 0, 2, 0, 0, 0, 0, 0, 0, 0, 0, 0, 0, 0, 0, 0, 0, 0, 0, 0, 0, 0, 0, 0, 0, 0, 0, 0, 0, 0, 0, 0, 0, 0, 0, 0, 0, 0, 0, 0, 0, 0, 0, 0, 0, 0, 0, 0, 0, 0, 0, 0, 0, 0, 0, 0, 0, 0, 0, 0, 0, 0, 0, 0, 0, 0, 0, 0, 0, 0, 0, 0, 0, 0, 0, 0, 0, 0, 0, 0, 0, 0, 0, 0, 0, 0, 0, 0, 0, 0, 0, 0, 0, 0, 0, 0, 0, 0, 0, 0, 0, 0, 0, 0, 0, 0, 0, 0, 0, 0, 0, 0, 0, 0, 0, 0, 0, 0, 0, 0, 0, 0, 0, 0, 0, 0, 0, 0, 0, 0, 0, 0, 0, 0, 0, 0, 0, 0, 0, 0, 0, 0, 0, 0, 0, 0, 0, 0, 0, 0, 0, 0, 0, 0, 0, 0, 0, 0, 0, 0, 0, 0, 0, 0, 0, 0, 0, 0, 0, 0, 0, 0, 0, 0, 0, 0, 0, 0, 0, 0, 0, 0, 0, 0, 0, 0, 0, 0, 0, 0, 0, 0, 0, 0, 0, 0, 0, 0, 0, 0, 0, 0, 0, 0, 0, 0, 0, 0, 0, 0, 0, 0, 0, 0, 0, 0, 0, 0, 0, 0, 0, 0, 0, 0, 0, 0, 0, 0, 0, 0, 0, 0, 0, 0, 0, 0, 0, 0, 0, 0, 0, 0, 0, 0, 0, 0, 0, 0, 0, 0, 0, 0, 0, 0, 0, 0, 0, 0, 0, 0, 0, 0, 0, 0, 0, 0, 0, 0, 0, 0, 0, 0, 0, 0, 0, 0, 0, 0, 0, 0, 0, 0, 0, 0, 0, 0, 0, 0, 0, 0, 0, 0, 0, 0, 0, 0, 0, 0, 0, 0, 0, 0, 0, 0, 0, 0, 0, 0, 0, 0, 0, 0, 0, 0, 0, 0, 0, 0, 0, 0, 0, 0, 0, 0, 0, 0, 0, 0, 0, 0, 0, 0, 0, 0, 0, 0, 0, 0, 0, 0, 0, 0, 0, 0, 0, 0, 0, 0, 0, 0, 0, 0, 0, 0, 0, 0, 0, 0, 0, 0, 0, 0, 0, 0, 0, 0, 0, 0, 0, 0, 0, 0, 0, 0, 0, 0, 0, 0, 0, 0, 0, 0, 0, 0, 0, 0, 0, 0, 0, 0, 0, 0, 0, 0, 0, 0, 0, 0, 0, 0, 0, 0, 0, 0, 0, 0, 0, 0, 0, 0, 0, 0, 0, 0, 0, 0, 0, 0, 0, 0, 0, 0, 0, 0, 0, 0, 0, 0, 0, 0, 0, 0, 0, 0, 0, 0, 0, 0, 0, 0, 0, 0, 0, 0, 0, 0, 0, 0, 0, 0, 0, 0, 0, 0, 0, 0, 0, 0, 0, 0, 0, 0, 0, 0, 0, 0, 0, 0, 0, 0, 0, 0, 0, 0, 0, 0, 0, 0, 0, 0, 0, 0, 0, 0, 0, 0, 0, 0, 0, 0, 0, 0, 0, 0, 0, 0, 0, 0, 0, 0, 0, 0, 0, 0, 0, 0, 0, 0, 0, 0, 0, 0, 0, 0, 0, 0, 0, 0, 0, 0, 0, 0, 0, 0, 0, 0, 0, 0, 0, 0, 0, 0, 0, 0, 0, 0, 0, 0, 0, 0, 0, 0, 0, 0, 0, 0, 0, 0, 0, 0, 0, 0, 0, 0, 0, 0, 0, 0, 0, 0, 0, 0, 0, 0, 0, 0, 0, 0, 0, 0, 0, 0, 0, 0, 0, 0, 0, 0, 0, 0, 0, 0, 0, 0, 0, 0, 0, 0, 0, 0, 0, 0, 0, 0, 0, 0, 0, 0, 0, 0, 0, 0, 0, 0, 0, 0, 0, 0, 0, 0, 0, 0, 0, 0, 0, 0, 0, 0, 0, 0, 0, 0, 0, 0, 0, 0, 0, 0, 0, 0, 0, 0, 0, 0, 0, 0, 0, 0, 0, 0, 0, 0, 0, 0, 0, 0, 0, 0, 0, 0, 0, 0, 0, 0, 0, 0, 0, 0, 0, 0, 0, 0, 0, 0, 0, 0, 0, 0, 0, 0, 0, 0, 0, 0, 0, 0, 0, 0, 0, 0, 0, 0, 0, 0, 0, 0, 0, 0, 0, 0, 0, 0, 0, 1, 0, 0, 0, 0, 0, 0, 0, 0, 0, 0, 0, 0, 0, 0, 0, 0, 0, 0, 0, 0, 0, 0, 0, 0, 0, 0, 0, 0, 0, 0, 0, 0, 0, 0, 0, 0, 0, 0, 0, 0, 0, 0, 0, 0, 0, 0, 0, 0, 0, 0, 0, 0, 0, 0, 0, 0, 0, 0, 0, 0, 0, 0, 0, 0, 0, 0, 0, 0, 0, 0, 0, 0, 0, 0, 0, 0, 0, 0, 0, 0, 0, 0, 0, 0, 0, 0, 0, 0, 0, 0, 0, 0, 0, 0, 0, 0, 0, 0, 0, 0, 0, 0, 0, 0, 0, 0, 0, 1, 0, 0, 0, 0, 0, 0, 0, 0, 0, 0, 0, 0, 0, 0, 0, 0, 0, 0, 0, 0, 0, 0, 0, 0, 0, 0, 0, 0, 0, 0, 0, 0, 0, 0, 0, 0, 0, 0, 0, 0, 0, 0, 0, 0, 0, 0, 0, 0, 0, 0, 0, 0, 0, 0, 0, 0, 0, 0, 0, 0, 0, 0, 0, 0, 0, 0, 0, 0, 0, 0, 0, 0, 0, 0, 0, 0, 0, 0, 0, 0, 0, 0, 0, 0, 0, 0, 0, 0, 0, 0, 0, 0, 0, 0, 0, 0, 0, 0, 0, 0, 0, 0, 0, 0, 0, 0, 0, 0, 0, 0, 0, 0, 0, 0, 0, 0, 0, 0, 0, 0, 0, 0, 0, 0, 0, 0, 0, 0, 0, 0, 0, 0, 0, 0, 0, 0, 0, 0, 0, 0, 0, 0, 0, 0, 0, 0, 0, 0, 0, 0, 0, 0, 0, 0, 0, 0, 0, 0, 0, 0, 0, 0, 0, 0, 0, 0, 0, 0, 0, 0, 0, 0, 0, 0, 0, 0, 0, 0, 0, 0, 0, 0, 0, 0, 0, 0, 0, 0, 0, 0, 0, 0, 0, 0, 0, 0, 0, 0, 0, 0, 0, 0, 0, 0, 0, 0, 0, 0, 0, 0, 0, 0, 0, 0, 0, 0, 0, 0, 0, 0, 0, 0, 0, 0, 0, 0, 0, 0, 0, 0, 0, 0, 0, 0, 0, 0, 0, 0, 0, 0, 0, 0, 0, 0, 0, 0, 0, 0, 0, 0, 0, 0, 0, 0, 0, 0, 0, 0, 0, 0, 0, 0, 0, 0, 0, 0, 0, 0, 0, 0, 0, 0, 0, 0, 0, 0, 0, 0, 0, 0, 0, 0, 0, 0, 0, 0, 0, 0, 0, 0, 0, 0, 0, 0, 0, 0, 0, 0, 0, 0, 0, 0, 0, 0, 0, 0, 0, 0, 0, 0, 0, 0, 0, 0, 0, 0, 0, 0, 0, 0, 0, 0, 0, 0, 0, 0, 0, 0, 0, 0, 0, 0, 0, 0, 0, 0, 0, 0, 0, 0, 0, 0, 0, 0, 0, 0, 0, 0, 0, 0, 0, 0, 0, 0, 0, 0, 0, 0, 0, 0, 0, 0, 0, 0, 0, 0, 0, 0, 0, 0, 0, 0, 0, 0, 0, 0, 0, 0, 0, 0, 0, 0, 0, 0, 0, 0, 0, 0, 0, 0, 0, 0, 0, 0, 0, 0, 0, 0, 0, 0, 0, 0, 0, 0, 0, 0, 0, 0, 0, 0, 0, 0, 0, 0, 0, 0, 0, 0, 0, 0, 0, 0, 0, 0, 0, 0, 0, 0, 0, 0, 0, 0, 0, 0, 0, 0, 0, 0, 0, 0, 0, 0, 0, 0, 0, 0, 0, 0, 0, 0, 0, 0, 0, 0, 0, 0, 0, 0, 0, 0, 0, 0, 0, 2, 0, 1, 0], type: <class 'list'>, valid types: <class 'bytes'>, <class 'bytearray'>, file-like object",
     "output_type": "error",
     "traceback": [
      "\u001b[0;31m---------------------------------------------------------------------------\u001b[0m",
      "\u001b[0;31mParamValidationError\u001b[0m                      Traceback (most recent call last)",
      "\u001b[0;32m<ipython-input-45-c9ab54ae3a48>\u001b[0m in \u001b[0;36m<module>\u001b[0;34m\u001b[0m\n\u001b[1;32m      1\u001b[0m response = runtime.invoke_endpoint(EndpointName = xgb_predictor.endpoint, # The name of the endpoint we created\n\u001b[1;32m      2\u001b[0m                                        \u001b[0mContentType\u001b[0m \u001b[0;34m=\u001b[0m \u001b[0;34m'text/csv'\u001b[0m\u001b[0;34m,\u001b[0m                     \u001b[0;31m# The data format that is expected\u001b[0m\u001b[0;34m\u001b[0m\u001b[0;34m\u001b[0m\u001b[0m\n\u001b[0;32m----> 3\u001b[0;31m                                        Body = test_bow)\n\u001b[0m",
      "\u001b[0;32m~/anaconda3/envs/python3/lib/python3.6/site-packages/botocore/client.py\u001b[0m in \u001b[0;36m_api_call\u001b[0;34m(self, *args, **kwargs)\u001b[0m\n\u001b[1;32m    335\u001b[0m                     \"%s() only accepts keyword arguments.\" % py_operation_name)\n\u001b[1;32m    336\u001b[0m             \u001b[0;31m# The \"self\" in this scope is referring to the BaseClient.\u001b[0m\u001b[0;34m\u001b[0m\u001b[0;34m\u001b[0m\u001b[0;34m\u001b[0m\u001b[0m\n\u001b[0;32m--> 337\u001b[0;31m             \u001b[0;32mreturn\u001b[0m \u001b[0mself\u001b[0m\u001b[0;34m.\u001b[0m\u001b[0m_make_api_call\u001b[0m\u001b[0;34m(\u001b[0m\u001b[0moperation_name\u001b[0m\u001b[0;34m,\u001b[0m \u001b[0mkwargs\u001b[0m\u001b[0;34m)\u001b[0m\u001b[0;34m\u001b[0m\u001b[0;34m\u001b[0m\u001b[0m\n\u001b[0m\u001b[1;32m    338\u001b[0m \u001b[0;34m\u001b[0m\u001b[0m\n\u001b[1;32m    339\u001b[0m         \u001b[0m_api_call\u001b[0m\u001b[0;34m.\u001b[0m\u001b[0m__name__\u001b[0m \u001b[0;34m=\u001b[0m \u001b[0mstr\u001b[0m\u001b[0;34m(\u001b[0m\u001b[0mpy_operation_name\u001b[0m\u001b[0;34m)\u001b[0m\u001b[0;34m\u001b[0m\u001b[0;34m\u001b[0m\u001b[0m\n",
      "\u001b[0;32m~/anaconda3/envs/python3/lib/python3.6/site-packages/botocore/client.py\u001b[0m in \u001b[0;36m_make_api_call\u001b[0;34m(self, operation_name, api_params)\u001b[0m\n\u001b[1;32m    627\u001b[0m         }\n\u001b[1;32m    628\u001b[0m         request_dict = self._convert_to_request_dict(\n\u001b[0;32m--> 629\u001b[0;31m             api_params, operation_model, context=request_context)\n\u001b[0m\u001b[1;32m    630\u001b[0m \u001b[0;34m\u001b[0m\u001b[0m\n\u001b[1;32m    631\u001b[0m         \u001b[0mservice_id\u001b[0m \u001b[0;34m=\u001b[0m \u001b[0mself\u001b[0m\u001b[0;34m.\u001b[0m\u001b[0m_service_model\u001b[0m\u001b[0;34m.\u001b[0m\u001b[0mservice_id\u001b[0m\u001b[0;34m.\u001b[0m\u001b[0mhyphenize\u001b[0m\u001b[0;34m(\u001b[0m\u001b[0;34m)\u001b[0m\u001b[0;34m\u001b[0m\u001b[0;34m\u001b[0m\u001b[0m\n",
      "\u001b[0;32m~/anaconda3/envs/python3/lib/python3.6/site-packages/botocore/client.py\u001b[0m in \u001b[0;36m_convert_to_request_dict\u001b[0;34m(self, api_params, operation_model, context)\u001b[0m\n\u001b[1;32m    675\u001b[0m             api_params, operation_model, context)\n\u001b[1;32m    676\u001b[0m         request_dict = self._serializer.serialize_to_request(\n\u001b[0;32m--> 677\u001b[0;31m             api_params, operation_model)\n\u001b[0m\u001b[1;32m    678\u001b[0m         \u001b[0;32mif\u001b[0m \u001b[0;32mnot\u001b[0m \u001b[0mself\u001b[0m\u001b[0;34m.\u001b[0m\u001b[0m_client_config\u001b[0m\u001b[0;34m.\u001b[0m\u001b[0minject_host_prefix\u001b[0m\u001b[0;34m:\u001b[0m\u001b[0;34m\u001b[0m\u001b[0;34m\u001b[0m\u001b[0m\n\u001b[1;32m    679\u001b[0m             \u001b[0mrequest_dict\u001b[0m\u001b[0;34m.\u001b[0m\u001b[0mpop\u001b[0m\u001b[0;34m(\u001b[0m\u001b[0;34m'host_prefix'\u001b[0m\u001b[0;34m,\u001b[0m \u001b[0;32mNone\u001b[0m\u001b[0;34m)\u001b[0m\u001b[0;34m\u001b[0m\u001b[0;34m\u001b[0m\u001b[0m\n",
      "\u001b[0;32m~/anaconda3/envs/python3/lib/python3.6/site-packages/botocore/validate.py\u001b[0m in \u001b[0;36mserialize_to_request\u001b[0;34m(self, parameters, operation_model)\u001b[0m\n\u001b[1;32m    295\u001b[0m                                                     operation_model.input_shape)\n\u001b[1;32m    296\u001b[0m             \u001b[0;32mif\u001b[0m \u001b[0mreport\u001b[0m\u001b[0;34m.\u001b[0m\u001b[0mhas_errors\u001b[0m\u001b[0;34m(\u001b[0m\u001b[0;34m)\u001b[0m\u001b[0;34m:\u001b[0m\u001b[0;34m\u001b[0m\u001b[0;34m\u001b[0m\u001b[0m\n\u001b[0;32m--> 297\u001b[0;31m                 \u001b[0;32mraise\u001b[0m \u001b[0mParamValidationError\u001b[0m\u001b[0;34m(\u001b[0m\u001b[0mreport\u001b[0m\u001b[0;34m=\u001b[0m\u001b[0mreport\u001b[0m\u001b[0;34m.\u001b[0m\u001b[0mgenerate_report\u001b[0m\u001b[0;34m(\u001b[0m\u001b[0;34m)\u001b[0m\u001b[0;34m)\u001b[0m\u001b[0;34m\u001b[0m\u001b[0;34m\u001b[0m\u001b[0m\n\u001b[0m\u001b[1;32m    298\u001b[0m         return self._serializer.serialize_to_request(parameters,\n\u001b[1;32m    299\u001b[0m                                                      operation_model)\n",
      "\u001b[0;31mParamValidationError\u001b[0m: Parameter validation failed:\nInvalid type for parameter Body, value: [0, 0, 0, 0, 0, 0, 0, 0, 0, 0, 0, 0, 0, 0, 0, 0, 0, 0, 0, 0, 0, 0, 0, 0, 0, 0, 0, 0, 0, 0, 0, 0, 0, 0, 0, 0, 0, 0, 0, 0, 0, 0, 0, 0, 0, 0, 0, 0, 0, 0, 0, 0, 0, 0, 0, 0, 0, 0, 0, 0, 0, 0, 0, 0, 0, 0, 0, 0, 0, 0, 0, 0, 0, 0, 0, 0, 0, 0, 0, 0, 0, 0, 0, 0, 0, 0, 0, 0, 0, 0, 0, 0, 0, 0, 0, 0, 0, 0, 0, 0, 0, 0, 0, 0, 0, 0, 0, 0, 0, 0, 0, 0, 0, 0, 0, 0, 0, 0, 0, 0, 0, 0, 0, 0, 0, 0, 0, 0, 0, 0, 0, 0, 0, 0, 0, 0, 0, 0, 0, 0, 0, 0, 0, 0, 0, 0, 0, 0, 0, 0, 0, 0, 0, 0, 0, 0, 0, 0, 0, 0, 0, 0, 0, 0, 0, 0, 0, 0, 0, 0, 0, 0, 0, 0, 0, 0, 0, 0, 0, 0, 0, 0, 0, 0, 0, 0, 0, 0, 0, 0, 0, 0, 0, 0, 0, 0, 0, 0, 0, 0, 0, 0, 0, 0, 0, 0, 0, 0, 0, 0, 0, 0, 0, 0, 0, 0, 0, 0, 0, 0, 0, 0, 0, 0, 0, 0, 1, 0, 0, 0, 0, 0, 0, 0, 0, 0, 0, 0, 0, 0, 0, 0, 0, 0, 0, 0, 0, 0, 0, 0, 0, 0, 0, 0, 0, 0, 1, 0, 0, 0, 0, 0, 0, 0, 0, 0, 0, 0, 0, 0, 0, 0, 0, 0, 0, 0, 0, 0, 0, 0, 0, 0, 0, 0, 0, 0, 0, 0, 0, 0, 0, 0, 0, 0, 0, 0, 0, 0, 0, 0, 0, 0, 0, 0, 0, 0, 0, 0, 0, 0, 0, 0, 0, 0, 0, 0, 0, 0, 0, 0, 0, 0, 0, 0, 0, 0, 0, 0, 0, 0, 0, 0, 0, 0, 0, 0, 0, 0, 0, 0, 0, 0, 0, 0, 0, 0, 0, 0, 0, 0, 0, 0, 0, 0, 0, 0, 0, 0, 0, 0, 0, 0, 0, 0, 0, 0, 0, 0, 0, 0, 0, 0, 0, 0, 0, 0, 0, 0, 0, 0, 0, 0, 0, 0, 0, 0, 0, 0, 0, 0, 0, 0, 0, 0, 0, 0, 0, 0, 0, 0, 0, 0, 0, 0, 0, 0, 0, 0, 0, 0, 0, 0, 0, 0, 0, 0, 0, 0, 0, 0, 0, 0, 0, 0, 0, 0, 0, 0, 0, 0, 0, 0, 0, 0, 0, 0, 0, 0, 0, 0, 0, 0, 0, 0, 0, 0, 0, 0, 0, 0, 0, 0, 0, 0, 0, 0, 0, 0, 0, 0, 0, 0, 0, 0, 0, 0, 0, 0, 0, 0, 0, 0, 0, 0, 0, 0, 0, 0, 0, 0, 0, 0, 0, 0, 0, 0, 0, 0, 0, 0, 0, 0, 0, 0, 0, 0, 0, 0, 0, 0, 0, 0, 0, 0, 0, 0, 0, 0, 0, 0, 0, 0, 0, 0, 0, 0, 0, 0, 0, 0, 0, 0, 0, 0, 0, 0, 0, 0, 0, 0, 0, 0, 0, 0, 0, 0, 0, 0, 0, 0, 0, 0, 0, 0, 0, 0, 0, 0, 0, 0, 0, 0, 0, 0, 0, 0, 0, 0, 0, 0, 0, 0, 0, 0, 0, 0, 0, 0, 0, 0, 0, 0, 0, 0, 0, 0, 0, 0, 0, 0, 0, 0, 0, 0, 0, 0, 0, 0, 0, 0, 0, 0, 0, 0, 0, 0, 0, 0, 0, 0, 0, 0, 0, 0, 0, 0, 0, 0, 0, 0, 0, 0, 0, 0, 0, 0, 0, 0, 0, 0, 0, 0, 0, 0, 0, 0, 0, 0, 0, 0, 0, 0, 0, 0, 0, 0, 1, 0, 0, 0, 0, 0, 0, 0, 0, 0, 0, 0, 0, 0, 0, 0, 0, 0, 0, 0, 0, 0, 0, 0, 0, 0, 0, 0, 0, 0, 0, 0, 0, 0, 0, 0, 0, 0, 0, 0, 0, 0, 0, 0, 0, 0, 0, 0, 0, 0, 0, 0, 0, 0, 0, 0, 0, 0, 0, 0, 0, 0, 0, 0, 0, 0, 0, 0, 0, 0, 0, 0, 0, 0, 0, 0, 0, 0, 0, 0, 0, 0, 0, 0, 0, 0, 0, 0, 0, 0, 0, 0, 0, 0, 0, 0, 0, 0, 0, 0, 0, 0, 0, 0, 0, 0, 0, 0, 0, 0, 0, 0, 0, 0, 0, 0, 0, 0, 0, 0, 0, 0, 0, 0, 0, 0, 0, 0, 0, 0, 0, 0, 0, 0, 0, 0, 0, 0, 0, 0, 0, 0, 0, 0, 0, 0, 0, 0, 0, 0, 0, 0, 0, 0, 0, 0, 0, 0, 0, 0, 0, 0, 0, 0, 0, 0, 0, 0, 0, 0, 0, 0, 0, 0, 0, 0, 0, 0, 0, 0, 0, 0, 0, 0, 0, 0, 0, 0, 0, 0, 0, 0, 0, 0, 0, 0, 0, 0, 0, 0, 0, 0, 0, 0, 0, 0, 0, 0, 0, 0, 0, 0, 0, 0, 0, 0, 0, 0, 0, 0, 0, 0, 0, 0, 0, 0, 0, 0, 0, 0, 0, 0, 0, 0, 0, 0, 0, 0, 0, 0, 0, 0, 0, 0, 0, 0, 0, 0, 0, 0, 0, 0, 0, 0, 1, 0, 0, 0, 0, 0, 0, 0, 0, 0, 0, 0, 0, 0, 0, 0, 0, 0, 0, 0, 0, 0, 0, 0, 0, 0, 0, 0, 0, 0, 0, 0, 0, 0, 0, 0, 0, 0, 0, 0, 0, 0, 0, 0, 0, 0, 0, 0, 0, 0, 0, 0, 0, 0, 0, 0, 0, 0, 0, 0, 0, 0, 0, 0, 0, 0, 0, 0, 0, 0, 0, 0, 0, 0, 0, 0, 0, 0, 0, 0, 0, 0, 0, 0, 0, 0, 0, 1, 0, 0, 0, 0, 0, 0, 0, 0, 0, 0, 0, 0, 0, 0, 0, 0, 0, 0, 0, 0, 0, 0, 0, 0, 0, 0, 0, 0, 0, 0, 0, 0, 0, 0, 0, 0, 0, 0, 0, 0, 0, 0, 0, 0, 0, 0, 0, 0, 0, 0, 0, 0, 0, 0, 0, 0, 0, 0, 0, 0, 0, 0, 0, 0, 0, 0, 0, 0, 0, 0, 0, 0, 0, 0, 0, 0, 0, 0, 0, 0, 0, 0, 0, 0, 0, 0, 0, 0, 0, 0, 0, 0, 0, 0, 0, 0, 0, 0, 0, 0, 0, 0, 0, 0, 0, 0, 0, 0, 0, 0, 0, 0, 0, 0, 0, 0, 0, 0, 0, 0, 0, 0, 0, 0, 0, 0, 0, 0, 0, 0, 0, 0, 0, 0, 0, 0, 0, 0, 0, 0, 0, 0, 0, 0, 0, 0, 0, 0, 0, 0, 0, 0, 0, 0, 0, 0, 0, 0, 0, 0, 0, 0, 0, 0, 0, 0, 0, 0, 0, 0, 0, 0, 0, 0, 0, 0, 0, 0, 0, 0, 0, 0, 0, 0, 0, 0, 0, 0, 0, 0, 0, 0, 0, 0, 0, 0, 0, 0, 0, 0, 0, 0, 0, 0, 0, 0, 0, 0, 0, 0, 0, 0, 0, 0, 0, 0, 0, 0, 0, 0, 0, 0, 0, 0, 0, 0, 0, 0, 0, 0, 0, 0, 0, 0, 0, 0, 0, 0, 0, 0, 0, 0, 0, 0, 0, 0, 0, 0, 0, 0, 0, 0, 1, 0, 0, 0, 0, 0, 0, 0, 0, 0, 0, 0, 0, 0, 0, 0, 0, 0, 0, 0, 0, 0, 0, 0, 0, 0, 0, 0, 0, 0, 0, 0, 0, 0, 0, 0, 0, 0, 0, 0, 0, 0, 0, 0, 0, 0, 0, 0, 0, 0, 0, 0, 0, 0, 0, 0, 1, 0, 0, 0, 0, 0, 0, 0, 0, 0, 0, 0, 0, 0, 0, 0, 0, 0, 0, 0, 0, 0, 0, 0, 0, 0, 0, 0, 0, 0, 0, 0, 0, 0, 0, 0, 0, 0, 0, 0, 0, 0, 0, 0, 0, 0, 0, 0, 0, 0, 0, 0, 0, 0, 0, 0, 0, 0, 0, 0, 0, 0, 0, 0, 0, 0, 0, 0, 0, 0, 0, 0, 0, 0, 0, 0, 0, 0, 0, 0, 0, 0, 0, 0, 0, 0, 0, 0, 0, 0, 0, 0, 0, 0, 0, 0, 0, 0, 0, 0, 0, 0, 0, 0, 0, 0, 0, 0, 0, 0, 0, 0, 0, 0, 0, 0, 0, 0, 0, 0, 0, 0, 0, 0, 0, 0, 0, 0, 0, 0, 0, 0, 0, 0, 0, 0, 0, 0, 0, 0, 0, 0, 0, 0, 0, 0, 0, 0, 0, 0, 0, 0, 0, 0, 0, 0, 0, 0, 0, 0, 0, 0, 0, 0, 0, 0, 0, 0, 0, 0, 0, 0, 0, 0, 0, 0, 0, 0, 0, 0, 0, 0, 0, 0, 0, 0, 0, 0, 0, 0, 0, 0, 0, 0, 0, 0, 0, 0, 0, 0, 0, 0, 0, 0, 0, 0, 0, 0, 0, 0, 0, 0, 0, 0, 0, 0, 0, 0, 0, 0, 0, 0, 0, 0, 0, 0, 0, 0, 0, 0, 0, 0, 0, 0, 0, 0, 0, 0, 0, 0, 0, 0, 0, 0, 0, 0, 0, 0, 0, 0, 0, 0, 0, 0, 0, 0, 0, 0, 0, 0, 0, 0, 0, 0, 0, 0, 0, 0, 0, 0, 0, 0, 0, 0, 0, 0, 0, 0, 0, 0, 0, 0, 0, 0, 0, 0, 0, 0, 0, 0, 0, 0, 0, 0, 0, 0, 0, 0, 0, 0, 0, 0, 0, 0, 0, 0, 0, 0, 0, 0, 0, 0, 0, 0, 0, 0, 0, 0, 0, 0, 0, 0, 0, 0, 0, 0, 0, 0, 0, 0, 0, 0, 0, 0, 0, 0, 0, 0, 0, 0, 0, 0, 0, 0, 0, 0, 0, 0, 0, 0, 0, 0, 0, 0, 0, 0, 0, 0, 0, 0, 0, 0, 0, 0, 0, 0, 0, 0, 0, 0, 0, 0, 0, 0, 0, 0, 0, 0, 0, 0, 0, 0, 0, 0, 0, 0, 0, 0, 0, 0, 0, 0, 0, 0, 0, 0, 0, 0, 0, 0, 0, 0, 0, 0, 0, 0, 0, 0, 0, 0, 0, 0, 0, 0, 0, 0, 0, 0, 0, 0, 0, 0, 0, 0, 0, 0, 0, 0, 0, 0, 0, 0, 0, 0, 0, 0, 0, 0, 0, 0, 0, 0, 0, 0, 0, 0, 0, 0, 0, 0, 0, 0, 0, 0, 0, 0, 0, 0, 0, 0, 0, 0, 0, 0, 0, 0, 0, 0, 0, 0, 0, 0, 0, 0, 0, 0, 0, 0, 0, 0, 0, 0, 0, 0, 0, 0, 0, 0, 0, 0, 0, 0, 0, 0, 0, 0, 0, 0, 0, 0, 0, 0, 0, 0, 0, 0, 0, 0, 0, 0, 0, 0, 0, 0, 0, 0, 0, 0, 0, 0, 0, 0, 0, 0, 0, 0, 0, 0, 0, 0, 0, 0, 0, 0, 0, 0, 0, 0, 0, 0, 0, 0, 0, 0, 0, 0, 0, 0, 0, 0, 0, 0, 0, 0, 0, 0, 0, 0, 0, 0, 0, 0, 0, 0, 0, 0, 0, 0, 0, 0, 0, 0, 0, 0, 0, 0, 0, 0, 0, 0, 0, 0, 0, 0, 0, 0, 0, 0, 0, 0, 0, 0, 0, 0, 0, 0, 0, 0, 0, 0, 0, 0, 0, 0, 0, 0, 0, 0, 0, 0, 0, 0, 0, 0, 0, 0, 0, 0, 0, 0, 0, 0, 0, 0, 0, 0, 0, 0, 0, 0, 0, 0, 0, 0, 0, 0, 0, 0, 0, 0, 0, 0, 0, 0, 0, 0, 0, 0, 0, 0, 0, 0, 0, 0, 0, 0, 0, 0, 0, 0, 0, 0, 0, 0, 0, 0, 0, 0, 0, 0, 0, 0, 0, 0, 0, 0, 0, 0, 0, 0, 0, 0, 1, 0, 0, 0, 0, 0, 0, 0, 0, 0, 0, 0, 0, 0, 0, 0, 0, 0, 0, 0, 0, 0, 0, 0, 0, 0, 0, 0, 0, 0, 0, 0, 0, 0, 0, 0, 0, 0, 0, 0, 0, 0, 0, 0, 0, 0, 0, 0, 0, 0, 0, 0, 0, 0, 0, 0, 0, 0, 0, 0, 0, 0, 0, 0, 0, 0, 0, 0, 0, 0, 0, 0, 0, 0, 0, 1, 0, 0, 0, 0, 0, 0, 0, 0, 0, 0, 0, 0, 0, 0, 0, 0, 0, 0, 0, 0, 1, 0, 0, 1, 0, 0, 0, 0, 0, 0, 0, 0, 0, 0, 0, 0, 0, 0, 0, 0, 0, 0, 0, 0, 0, 0, 0, 0, 0, 0, 0, 0, 0, 0, 0, 0, 0, 0, 0, 0, 0, 0, 0, 0, 0, 0, 0, 0, 0, 0, 0, 0, 0, 0, 0, 0, 0, 0, 0, 0, 0, 0, 0, 0, 0, 0, 0, 0, 0, 0, 0, 0, 0, 0, 0, 0, 0, 0, 0, 0, 0, 0, 0, 0, 0, 0, 0, 0, 0, 0, 0, 0, 0, 0, 0, 0, 0, 0, 0, 0, 0, 0, 0, 0, 0, 0, 0, 0, 0, 0, 0, 0, 0, 0, 0, 0, 0, 0, 0, 0, 0, 0, 0, 0, 0, 0, 0, 0, 0, 0, 0, 0, 0, 0, 0, 0, 0, 0, 0, 0, 0, 0, 0, 0, 0, 0, 0, 0, 0, 0, 0, 0, 0, 0, 0, 0, 0, 0, 0, 0, 0, 0, 0, 0, 0, 0, 0, 0, 0, 0, 0, 0, 0, 0, 0, 0, 0, 0, 0, 0, 0, 0, 0, 0, 0, 0, 0, 0, 0, 0, 0, 0, 0, 0, 0, 0, 0, 0, 0, 0, 0, 0, 0, 0, 0, 0, 0, 0, 0, 0, 0, 0, 0, 0, 0, 0, 0, 0, 0, 0, 0, 0, 0, 0, 0, 0, 0, 0, 0, 0, 0, 0, 0, 0, 0, 0, 0, 0, 0, 0, 0, 0, 0, 0, 0, 0, 0, 0, 0, 0, 0, 0, 0, 0, 0, 0, 0, 0, 0, 0, 0, 0, 0, 0, 0, 0, 0, 0, 0, 0, 0, 0, 0, 0, 0, 0, 0, 0, 0, 0, 0, 0, 0, 0, 0, 0, 0, 0, 0, 0, 0, 0, 0, 0, 0, 0, 0, 0, 0, 0, 0, 0, 0, 0, 0, 0, 0, 0, 0, 0, 0, 0, 0, 0, 0, 0, 0, 0, 0, 0, 0, 0, 0, 0, 0, 0, 0, 0, 0, 0, 0, 0, 0, 0, 0, 0, 0, 0, 0, 0, 0, 0, 0, 0, 0, 0, 0, 0, 0, 0, 0, 0, 0, 0, 0, 0, 0, 0, 0, 0, 0, 0, 0, 0, 0, 0, 0, 0, 0, 0, 0, 0, 0, 0, 0, 0, 0, 0, 0, 0, 0, 0, 0, 0, 0, 0, 0, 0, 0, 0, 0, 0, 0, 0, 0, 0, 0, 0, 0, 0, 0, 0, 0, 0, 0, 0, 0, 0, 0, 0, 0, 0, 0, 0, 0, 0, 0, 0, 0, 0, 0, 0, 0, 0, 0, 0, 0, 0, 0, 0, 0, 0, 0, 0, 0, 0, 0, 0, 0, 0, 0, 0, 0, 0, 0, 0, 0, 0, 0, 0, 0, 0, 0, 0, 0, 0, 0, 0, 0, 0, 0, 0, 0, 0, 0, 0, 0, 0, 0, 0, 1, 0, 0, 0, 0, 0, 0, 0, 0, 0, 0, 0, 0, 0, 0, 0, 0, 0, 0, 0, 0, 0, 0, 0, 0, 0, 0, 0, 0, 0, 0, 0, 0, 0, 0, 0, 0, 0, 0, 0, 0, 0, 0, 0, 0, 0, 0, 0, 0, 0, 0, 0, 0, 0, 0, 0, 0, 0, 0, 0, 0, 0, 0, 0, 0, 0, 0, 0, 0, 0, 0, 0, 0, 0, 0, 0, 0, 0, 0, 0, 0, 0, 0, 0, 0, 0, 0, 0, 0, 0, 0, 0, 0, 0, 0, 0, 0, 0, 0, 0, 0, 0, 0, 0, 0, 0, 0, 0, 0, 0, 0, 0, 0, 0, 0, 0, 0, 0, 0, 0, 0, 0, 0, 0, 0, 0, 0, 0, 0, 0, 0, 0, 0, 0, 0, 0, 0, 0, 0, 0, 0, 0, 0, 0, 0, 0, 0, 0, 0, 0, 0, 0, 0, 0, 0, 0, 0, 0, 0, 0, 0, 0, 0, 0, 0, 0, 0, 0, 0, 0, 0, 0, 0, 0, 0, 0, 0, 0, 0, 0, 0, 0, 0, 0, 0, 0, 0, 0, 0, 0, 0, 0, 0, 0, 0, 0, 0, 0, 0, 0, 0, 0, 0, 0, 0, 0, 0, 0, 0, 0, 0, 0, 0, 0, 0, 0, 0, 0, 0, 0, 0, 0, 0, 0, 0, 0, 0, 0, 0, 0, 0, 0, 0, 0, 0, 0, 0, 0, 0, 0, 0, 0, 0, 0, 0, 0, 0, 0, 0, 0, 0, 0, 0, 0, 0, 0, 0, 0, 0, 0, 0, 0, 0, 0, 0, 0, 0, 0, 0, 0, 0, 0, 0, 0, 0, 0, 0, 0, 0, 0, 0, 0, 0, 0, 0, 0, 0, 0, 0, 0, 0, 0, 0, 0, 0, 0, 0, 0, 0, 0, 0, 0, 0, 0, 0, 0, 0, 0, 0, 0, 0, 0, 0, 0, 0, 0, 0, 0, 0, 0, 0, 0, 0, 0, 0, 0, 0, 0, 0, 0, 0, 0, 0, 0, 0, 0, 0, 0, 0, 0, 0, 0, 0, 0, 0, 0, 0, 0, 0, 0, 0, 0, 0, 0, 0, 0, 0, 0, 0, 0, 0, 0, 0, 0, 0, 0, 0, 0, 0, 0, 0, 0, 0, 0, 0, 0, 0, 0, 0, 0, 0, 0, 0, 0, 0, 0, 0, 0, 0, 0, 0, 0, 0, 0, 0, 0, 0, 0, 0, 0, 0, 0, 0, 0, 0, 0, 0, 0, 0, 0, 0, 0, 0, 0, 0, 0, 0, 0, 0, 0, 0, 0, 0, 0, 0, 0, 0, 0, 0, 0, 0, 0, 0, 0, 0, 0, 0, 0, 0, 0, 0, 0, 0, 0, 0, 0, 0, 0, 0, 0, 0, 0, 0, 0, 0, 0, 0, 0, 0, 0, 0, 0, 0, 0, 0, 0, 0, 0, 0, 0, 0, 0, 0, 0, 0, 0, 0, 0, 0, 0, 0, 0, 0, 0, 0, 0, 0, 0, 0, 0, 0, 0, 0, 0, 0, 0, 0, 0, 0, 0, 0, 0, 0, 0, 0, 0, 0, 0, 0, 0, 0, 0, 0, 1, 0, 0, 0, 0, 0, 0, 0, 0, 0, 0, 0, 0, 0, 0, 0, 0, 0, 0, 0, 0, 0, 0, 0, 0, 0, 0, 0, 0, 0, 0, 0, 0, 0, 0, 0, 2, 0, 0, 0, 0, 0, 0, 0, 0, 0, 0, 0, 0, 0, 0, 0, 0, 0, 0, 0, 0, 0, 0, 0, 0, 0, 0, 0, 0, 0, 0, 0, 0, 0, 0, 0, 0, 0, 0, 0, 0, 1, 0, 0, 0, 0, 0, 0, 0, 0, 0, 0, 0, 0, 0, 0, 0, 0, 0, 0, 0, 0, 0, 0, 0, 0, 0, 0, 0, 0, 0, 0, 0, 0, 0, 0, 0, 0, 0, 0, 0, 0, 0, 0, 0, 0, 0, 0, 0, 0, 0, 0, 0, 0, 0, 0, 0, 0, 0, 0, 0, 0, 0, 0, 0, 0, 0, 0, 0, 0, 0, 0, 0, 0, 0, 0, 0, 0, 0, 0, 0, 0, 0, 0, 0, 0, 0, 0, 0, 0, 0, 0, 0, 0, 0, 0, 0, 0, 0, 0, 0, 0, 0, 0, 0, 0, 0, 0, 0, 0, 0, 0, 0, 0, 0, 0, 0, 0, 0, 0, 0, 0, 0, 0, 0, 0, 0, 0, 0, 0, 0, 0, 0, 0, 0, 0, 0, 0, 0, 0, 0, 0, 0, 0, 0, 0, 0, 0, 0, 0, 0, 0, 0, 0, 0, 0, 0, 0, 0, 0, 0, 0, 0, 0, 0, 0, 0, 0, 0, 0, 0, 0, 0, 0, 0, 0, 0, 0, 0, 0, 0, 0, 0, 0, 0, 0, 0, 0, 0, 0, 0, 0, 0, 0, 0, 0, 0, 0, 0, 0, 0, 0, 0, 0, 0, 0, 0, 0, 0, 0, 0, 0, 0, 0, 0, 0, 0, 0, 0, 0, 0, 0, 0, 0, 0, 0, 0, 0, 0, 0, 0, 0, 0, 0, 0, 0, 0, 0, 0, 0, 0, 0, 0, 0, 0, 0, 0, 0, 0, 0, 0, 0, 0, 0, 0, 0, 0, 0, 0, 0, 0, 0, 0, 0, 0, 0, 0, 0, 0, 0, 0, 0, 0, 0, 0, 0, 0, 0, 0, 0, 0, 0, 0, 0, 0, 0, 0, 0, 0, 0, 0, 0, 0, 0, 0, 0, 0, 0, 0, 0, 0, 0, 0, 0, 0, 0, 0, 0, 0, 0, 0, 0, 0, 0, 0, 0, 0, 0, 0, 0, 0, 0, 0, 0, 0, 0, 0, 0, 0, 0, 0, 0, 0, 0, 0, 0, 0, 0, 0, 0, 0, 0, 0, 0, 0, 0, 0, 0, 0, 0, 0, 0, 0, 0, 0, 0, 0, 0, 0, 0, 0, 0, 0, 0, 0, 0, 0, 0, 0, 0, 0, 0, 0, 0, 0, 0, 0, 0, 0, 0, 0, 0, 0, 0, 0, 0, 0, 0, 0, 0, 0, 0, 0, 0, 0, 0, 0, 0, 0, 0, 0, 0, 0, 0, 0, 0, 0, 0, 0, 0, 0, 0, 0, 0, 0, 0, 0, 0, 0, 0, 0, 0, 0, 0, 0, 0, 0, 0, 0, 0, 0, 0, 0, 0, 0, 0, 0, 0, 0, 0, 0, 0, 0, 0, 0, 0, 0, 0, 0, 0, 0, 0, 0, 0, 0, 0, 0, 0, 0, 0, 0, 0, 0, 0, 0, 0, 0, 0, 0, 0, 0, 0, 0, 0, 0, 0, 0, 0, 0, 0, 0, 0, 0, 0, 0, 0, 0, 0, 0, 0, 0, 0, 0, 0, 0, 0, 0, 0, 0, 1, 0, 0, 0, 0, 0, 0, 0, 0, 0, 0, 0, 0, 0, 0, 0, 0, 0, 0, 0, 0, 0, 0, 0, 0, 0, 0, 0, 0, 0, 0, 0, 0, 0, 0, 0, 0, 0, 0, 0, 0, 0, 0, 0, 0, 0, 0, 0, 0, 0, 0, 0, 0, 0, 0, 0, 0, 0, 0, 0, 0, 0, 0, 0, 0, 0, 0, 0, 0, 0, 0, 0, 0, 0, 0, 0, 0, 0, 0, 0, 0, 0, 0, 0, 0, 0, 0, 0, 0, 0, 0, 0, 0, 0, 0, 0, 0, 0, 0, 0, 0, 0, 0, 0, 0, 0, 0, 0, 0, 0, 0, 2, 0, 0, 0, 0, 0, 0, 0, 0, 0, 0, 0, 0, 0, 0, 0, 0, 0, 0, 0, 0, 0, 0, 0, 0, 0, 0, 0, 0, 0, 0, 0, 0, 0, 0, 0, 0, 0, 0, 0, 0, 0, 0, 0, 0, 0, 0, 0, 0, 0, 0, 0, 0, 0, 0, 0, 0, 0, 0, 0, 0, 0, 0, 0, 0, 0, 0, 0, 0, 0, 0, 0, 0, 0, 0, 0, 0, 0, 0, 0, 0, 0, 0, 0, 0, 0, 0, 0, 0, 0, 0, 0, 0, 0, 0, 0, 0, 0, 0, 0, 0, 0, 0, 0, 0, 0, 0, 0, 0, 0, 0, 0, 0, 0, 0, 0, 0, 0, 0, 0, 0, 0, 0, 0, 0, 0, 0, 0, 0, 0, 0, 0, 0, 0, 0, 0, 0, 0, 0, 0, 0, 0, 0, 0, 0, 0, 0, 0, 0, 0, 0, 0, 0, 0, 0, 0, 0, 0, 0, 0, 0, 0, 0, 0, 0, 0, 0, 0, 0, 0, 0, 0, 0, 0, 0, 0, 0, 0, 0, 0, 0, 0, 0, 0, 0, 0, 0, 0, 0, 0, 0, 0, 0, 0, 0, 0, 0, 0, 0, 0, 0, 0, 0, 0, 0, 0, 0, 0, 0, 0, 0, 0, 0, 0, 0, 0, 0, 0, 0, 0, 0, 0, 0, 0, 0, 0, 0, 0, 0, 0, 0, 0, 0, 0, 0, 0, 0, 0, 0, 0, 0, 0, 0, 0, 0, 0, 0, 0, 0, 0, 0, 0, 0, 0, 0, 0, 0, 0, 0, 0, 0, 0, 0, 0, 0, 0, 0, 0, 0, 0, 0, 0, 0, 0, 0, 0, 0, 0, 0, 0, 0, 0, 0, 0, 0, 0, 0, 0, 0, 0, 0, 0, 0, 0, 0, 0, 0, 0, 0, 0, 0, 0, 0, 0, 0, 0, 0, 0, 0, 0, 0, 0, 0, 0, 0, 0, 0, 0, 0, 0, 0, 0, 0, 0, 0, 0, 0, 0, 0, 0, 0, 0, 0, 0, 0, 0, 0, 0, 0, 0, 0, 0, 0, 0, 0, 0, 0, 0, 0, 0, 0, 0, 0, 0, 0, 0, 0, 0, 0, 0, 0, 0, 0, 0, 0, 0, 0, 0, 0, 0, 0, 0, 0, 0, 0, 0, 0, 0, 0, 0, 0, 0, 0, 0, 0, 0, 0, 0, 0, 0, 0, 0, 0, 0, 0, 0, 0, 0, 0, 0, 0, 0, 0, 0, 0, 0, 0, 0, 0, 0, 0, 0, 0, 0, 0, 0, 0, 0, 0, 0, 0, 0, 0, 0, 0, 0, 0, 0, 0, 0, 0, 0, 0, 0, 0, 0, 0, 0, 0, 0, 0, 0, 0, 0, 0, 0, 0, 0, 0, 0, 0, 0, 0, 0, 0, 0, 0, 0, 0, 0, 0, 0, 0, 0, 0, 0, 0, 0, 0, 0, 0, 0, 0, 0, 0, 0, 0, 0, 0, 0, 0, 0, 0, 0, 0, 0, 0, 0, 0, 0, 0, 0, 0, 0, 0, 0, 0, 0, 0, 0, 0, 0, 0, 0, 0, 0, 0, 0, 0, 0, 0, 0, 0, 0, 0, 0, 0, 0, 0, 0, 0, 0, 0, 0, 0, 0, 0, 0, 0, 0, 0, 0, 0, 0, 0, 0, 0, 0, 0, 0, 0, 0, 0, 0, 0, 0, 0, 0, 0, 0, 0, 0, 0, 0, 0, 0, 0, 0, 0, 0, 0, 0, 0, 0, 0, 0, 0, 0, 0, 0, 0, 0, 0, 0, 0, 0, 0, 0, 0, 0, 0, 0, 0, 0, 0, 0, 0, 0, 0, 0, 0, 0, 0, 0, 0, 0, 0, 0, 0, 0, 0, 0, 0, 0, 0, 0, 0, 0, 0, 0, 0, 0, 0, 0, 0, 0, 0, 0, 0, 0, 0, 0, 0, 0, 0, 0, 0, 0, 0, 0, 0, 0, 0, 0, 0, 0, 0, 0, 0, 0, 0, 0, 0, 0, 0, 0, 0, 0, 0, 0, 0, 0, 0, 0, 0, 0, 0, 0, 0, 0, 0, 0, 0, 0, 0, 0, 0, 0, 0, 0, 0, 0, 0, 0, 0, 0, 0, 0, 0, 0, 0, 0, 0, 0, 0, 0, 0, 0, 0, 0, 0, 1, 0, 0, 0, 0, 0, 0, 0, 0, 0, 0, 0, 0, 0, 0, 0, 0, 0, 0, 0, 0, 0, 0, 0, 0, 0, 0, 0, 0, 0, 0, 0, 0, 0, 0, 0, 0, 0, 0, 0, 0, 0, 0, 0, 0, 0, 0, 0, 0, 0, 0, 0, 0, 0, 0, 0, 0, 0, 0, 0, 0, 0, 0, 0, 0, 0, 0, 0, 0, 0, 0, 0, 0, 0, 0, 0, 0, 0, 0, 0, 0, 0, 0, 0, 0, 0, 0, 0, 0, 0, 0, 0, 0, 0, 0, 0, 0, 0, 0, 0, 0, 0, 0, 0, 0, 0, 0, 0, 1, 0, 0, 0, 0, 0, 0, 0, 0, 0, 0, 0, 0, 0, 0, 0, 0, 0, 0, 0, 0, 0, 0, 0, 0, 0, 0, 0, 0, 0, 0, 0, 0, 0, 0, 0, 0, 0, 0, 0, 0, 0, 0, 0, 0, 0, 0, 0, 0, 0, 0, 0, 0, 0, 0, 0, 0, 0, 0, 0, 0, 0, 0, 0, 0, 0, 0, 0, 0, 0, 0, 0, 0, 0, 0, 0, 0, 0, 0, 0, 0, 0, 0, 0, 0, 0, 0, 0, 0, 0, 0, 0, 0, 0, 0, 0, 0, 0, 0, 0, 0, 0, 0, 0, 0, 0, 0, 0, 0, 0, 0, 0, 0, 0, 0, 0, 0, 0, 0, 0, 0, 0, 0, 0, 0, 0, 0, 0, 0, 0, 0, 0, 0, 0, 0, 0, 0, 0, 0, 0, 0, 0, 0, 0, 0, 0, 0, 0, 0, 0, 0, 0, 0, 0, 0, 0, 0, 0, 0, 0, 0, 0, 0, 0, 0, 0, 0, 0, 0, 0, 0, 0, 0, 0, 0, 0, 0, 0, 0, 0, 0, 0, 0, 0, 0, 0, 0, 0, 0, 0, 0, 0, 0, 0, 0, 0, 0, 0, 0, 0, 0, 0, 0, 0, 0, 0, 0, 0, 0, 0, 0, 0, 0, 0, 0, 0, 0, 0, 0, 0, 0, 0, 0, 0, 0, 0, 0, 0, 0, 0, 0, 0, 0, 0, 0, 0, 0, 0, 0, 0, 0, 0, 0, 0, 0, 0, 0, 0, 0, 0, 0, 0, 0, 0, 0, 0, 0, 0, 0, 0, 0, 0, 0, 0, 0, 0, 0, 0, 0, 0, 0, 0, 0, 0, 0, 0, 0, 0, 0, 0, 0, 0, 0, 0, 0, 0, 0, 0, 0, 0, 0, 0, 0, 0, 0, 0, 0, 0, 0, 0, 0, 0, 0, 0, 0, 0, 0, 0, 0, 0, 0, 0, 0, 0, 0, 0, 0, 0, 0, 0, 0, 0, 0, 0, 0, 0, 0, 0, 0, 0, 0, 0, 0, 0, 0, 0, 0, 0, 0, 0, 0, 0, 0, 0, 0, 0, 0, 0, 0, 0, 0, 0, 0, 0, 0, 0, 0, 0, 0, 0, 0, 0, 0, 0, 0, 0, 0, 0, 0, 0, 0, 0, 0, 0, 0, 0, 0, 0, 0, 0, 0, 0, 0, 0, 0, 0, 0, 0, 0, 0, 0, 0, 0, 0, 0, 0, 0, 0, 0, 0, 0, 0, 0, 0, 0, 0, 0, 0, 0, 0, 0, 0, 0, 0, 0, 0, 0, 0, 0, 0, 0, 0, 0, 0, 0, 0, 0, 0, 0, 0, 0, 0, 0, 0, 0, 0, 0, 0, 0, 0, 0, 0, 0, 0, 0, 0, 0, 0, 0, 0, 0, 0, 0, 0, 0, 0, 0, 0, 0, 0, 0, 0, 0, 0, 2, 0, 1, 0], type: <class 'list'>, valid types: <class 'bytes'>, <class 'bytearray'>, file-like object"
     ]
    }
   ],
   "source": [
    "response = runtime.invoke_endpoint(EndpointName = xgb_predictor.endpoint, # The name of the endpoint we created\n",
    "                                       ContentType = 'text/csv',                     # The data format that is expected\n",
    "                                       Body = test_bow)"
   ]
  },
  {
   "cell_type": "markdown",
   "metadata": {},
   "source": [
    "So why did we get an error?\n",
    "\n",
    "Because we tried to send the endpoint a list of integers but it expected us to send data of type `text/csv`. So, we need to convert it."
   ]
  },
  {
   "cell_type": "code",
   "execution_count": 46,
   "metadata": {},
   "outputs": [],
   "source": [
    "response = runtime.invoke_endpoint(EndpointName = xgb_predictor.endpoint, # The name of the endpoint we created\n",
    "                                       ContentType = 'text/csv',                     # The data format that is expected\n",
    "                                       Body = ','.join([str(val) for val in test_bow]).encode('utf-8'))"
   ]
  },
  {
   "cell_type": "code",
   "execution_count": 47,
   "metadata": {},
   "outputs": [
    {
     "name": "stdout",
     "output_type": "stream",
     "text": [
      "{'ResponseMetadata': {'RequestId': 'e3330e92-9ec9-4124-8911-29d127bdc757', 'HTTPStatusCode': 200, 'HTTPHeaders': {'x-amzn-requestid': 'e3330e92-9ec9-4124-8911-29d127bdc757', 'x-amzn-invoked-production-variant': 'AllTraffic', 'date': 'Tue, 13 Oct 2020 21:57:59 GMT', 'content-type': 'text/csv; charset=utf-8', 'content-length': '18'}, 'RetryAttempts': 0}, 'ContentType': 'text/csv; charset=utf-8', 'InvokedProductionVariant': 'AllTraffic', 'Body': <botocore.response.StreamingBody object at 0x7f31380880b8>}\n"
     ]
    }
   ],
   "source": [
    "print(response)"
   ]
  },
  {
   "cell_type": "markdown",
   "metadata": {},
   "source": [
    "As we can see, the response from our model is a somewhat complicated looking dict that contains a bunch of information. The bit that we are most interested in is `'Body'` object which is a streaming object that we need to `read` in order to make use of."
   ]
  },
  {
   "cell_type": "code",
   "execution_count": 48,
   "metadata": {},
   "outputs": [
    {
     "name": "stdout",
     "output_type": "stream",
     "text": [
      "0.4944801330566406\n"
     ]
    }
   ],
   "source": [
    "response = response['Body'].read().decode('utf-8')\n",
    "print(response)"
   ]
  },
  {
   "cell_type": "markdown",
   "metadata": {},
   "source": [
    "Now that we know how to process the incoming user data we can start setting up the infrastructure to make our simple web app work. To do this we will make use of two different services. Amazon's Lambda and API Gateway services.\n",
    "\n",
    "Lambda is a service which allows someone to write some relatively simple code and have it executed whenever a chosen trigger occurs. For example, you may want to update a database whenever new data is uploaded to a folder stored on S3.\n",
    "\n",
    "API Gateway is a service that allows you to create HTTP endpoints (url addresses) which are connected to other AWS services. One of the benefits to this is that you get to decide what credentials, if any, are required to access these endpoints.\n",
    "\n",
    "In our case we are going to set up an HTTP endpoint through API Gateway which is open to the public. Then, whenever anyone sends data to our public endpoint we will trigger a Lambda function which will send the input (in our case a review) to our model's endpoint and then return the result."
   ]
  },
  {
   "cell_type": "markdown",
   "metadata": {},
   "source": [
    "### Setting up a Lambda function\n",
    "\n",
    "The first thing we are going to do is set up a Lambda function. This Lambda function will be executed whenever our public API has data sent to it. When it is executed it will receive the data, perform any sort of processing that is required, send the data (the review) to the SageMaker endpoint we've created and then return the result.\n",
    "\n",
    "#### Part A: Create an IAM Role for the Lambda function\n",
    "\n",
    "Since we want the Lambda function to call a SageMaker endpoint, we need to make sure that it has permission to do so. To do this, we will construct a role that we can later give the Lambda function.\n",
    "\n",
    "Using the AWS Console, navigate to the **IAM** page and click on **Roles**. Then, click on **Create role**. Make sure that the **AWS service** is the type of trusted entity selected and choose **Lambda** as the service that will use this role, then click **Next: Permissions**.\n",
    "\n",
    "In the search box type `sagemaker` and select the check box next to the **AmazonSageMakerFullAccess** policy. Then, click on **Next: Review**.\n",
    "\n",
    "Lastly, give this role a name. Make sure you use a name that you will remember later on, for example `LambdaSageMakerRole`. Then, click on **Create role**."
   ]
  },
  {
   "cell_type": "markdown",
   "metadata": {},
   "source": [
    "#### Part B: Create a Lambda function\n",
    "\n",
    "Now it is time to actually create the Lambda function. Remember from earlier that in order to process the user provided input and send it to our endpoint we need to gather two pieces of information:\n",
    "\n",
    " - The name of the endpoint, and\n",
    " - the vocabulary object.\n",
    "\n",
    "We will copy these pieces of information to our Lambda function after we create it.\n",
    "\n",
    "To start, using the AWS Console, navigate to the AWS Lambda page and click on **Create a function**. When you get to the next page, make sure that **Author from scratch** is selected. Now, name your Lambda function, using a name that you will remember later on, for example `sentiment_analysis_xgboost_func`. Make sure that the **Python 3.6** runtime is selected and then choose the role that you created in the previous part. Then, click on **Create Function**.\n",
    "\n",
    "On the next page you will see some information about the Lambda function you've just created. If you scroll down you should see an editor in which you can write the code that will be executed when your Lambda function is triggered. Collecting the code we wrote above to process a single review and adding it to the provided example `lambda_handler` we arrive at the following.\n",
    "\n",
    "```python\n",
    "# We need to use the low-level library to interact with SageMaker since the SageMaker API\n",
    "# is not available natively through Lambda.\n",
    "import boto3\n",
    "\n",
    "# And we need the regular expression library to do some of the data processing\n",
    "import re\n",
    "\n",
    "REPLACE_NO_SPACE = re.compile(\"(\\.)|(\\;)|(\\:)|(\\!)|(\\')|(\\?)|(\\,)|(\\\")|(\\()|(\\))|(\\[)|(\\])\")\n",
    "REPLACE_WITH_SPACE = re.compile(\"(<br\\s*/><br\\s*/>)|(\\-)|(\\/)\")\n",
    "\n",
    "def review_to_words(review):\n",
    "    words = REPLACE_NO_SPACE.sub(\"\", review.lower())\n",
    "    words = REPLACE_WITH_SPACE.sub(\" \", words)\n",
    "    return words\n",
    "    \n",
    "def bow_encoding(words, vocabulary):\n",
    "    bow = [0] * len(vocabulary) # Start by setting the count for each word in the vocabulary to zero.\n",
    "    for word in words.split():  # For each word in the string\n",
    "        if word in vocabulary:  # If the word is one that occurs in the vocabulary, increase its count.\n",
    "            bow[vocabulary[word]] += 1\n",
    "    return bow\n",
    "\n",
    "\n",
    "def lambda_handler(event, context):\n",
    "    \n",
    "    vocab = \"*** ACTUAL VOCABULARY GOES HERE ***\"\n",
    "    \n",
    "    words = review_to_words(event['body'])\n",
    "    bow = bow_encoding(words, vocab)\n",
    "\n",
    "    # The SageMaker runtime is what allows us to invoke the endpoint that we've created.\n",
    "    runtime = boto3.Session().client('sagemaker-runtime')\n",
    "\n",
    "    # Now we use the SageMaker runtime to invoke our endpoint, sending the review we were given\n",
    "    response = runtime.invoke_endpoint(EndpointName = '***ENDPOINT NAME HERE***',# The name of the endpoint we created\n",
    "                                       ContentType = 'text/csv',                 # The data format that is expected\n",
    "                                       Body = ','.join([str(val) for val in bow]).encode('utf-8')) # The actual review\n",
    "\n",
    "    # The response is an HTTP response whose body contains the result of our inference\n",
    "    result = response['Body'].read().decode('utf-8')\n",
    "    \n",
    "    # Round the result so that our web app only gets '1' or '0' as a response.\n",
    "    result = round(float(result))\n",
    "\n",
    "    return {\n",
    "        'statusCode' : 200,\n",
    "        'headers' : { 'Content-Type' : 'text/plain', 'Access-Control-Allow-Origin' : '*' },\n",
    "        'body' : str(result)\n",
    "    }\n",
    "```"
   ]
  },
  {
   "cell_type": "markdown",
   "metadata": {},
   "source": [
    "Once you have copy and pasted the code above into the Lambda code editor, replace the `**ENDPOINT NAME HERE**` portion with the name of the endpoint that we deployed earlier. You can determine the name of the endpoint using the code cell below."
   ]
  },
  {
   "cell_type": "code",
   "execution_count": 50,
   "metadata": {},
   "outputs": [
    {
     "data": {
      "text/plain": [
       "'sagemaker-xgboost-2020-10-13-21-16-07-128'"
      ]
     },
     "execution_count": 50,
     "metadata": {},
     "output_type": "execute_result"
    }
   ],
   "source": [
    "xgb_predictor.endpoint"
   ]
  },
  {
   "cell_type": "markdown",
   "metadata": {},
   "source": [
    "In addition, you will need to copy the vocabulary dict to the appropriate place in the code at the beginning of the `lambda_handler` method. The cell below prints out the vocabulary dict in a way that is easy to copy and paste."
   ]
  },
  {
   "cell_type": "code",
   "execution_count": 49,
   "metadata": {},
   "outputs": [
    {
     "name": "stdout",
     "output_type": "stream",
     "text": [
      "{'charles': 764, 'continued': 970, 'his': 2118, '80s': 59, 'with': 4911, 'what': 4858, 'could': 1007, 'possibly': 3351, 'be': 418, 'worst': 4952, 'movie': 2926, 'of': 3083, 'the': 4426, 'decade': 1144, 'if': 2222, 'not': 3040, 'ever': 1538, 'in': 2257, 'it': 2366, 'he': 2056, 'plays': 3301, 'detective': 1220, 'who': 4871, 'goes': 1930, 'to': 4507, 'great': 1964, 'track': 4544, 'down': 1335, 'has': 2043, 'an': 223, 'asian': 314, 'girl': 1909, 'and': 226, 'is': 2360, 'currently': 1085, 'selling': 3873, 'her': 2085, 'highest': 2102, 'its': 2370, 'attempt': 340, 'at': 331, 'action': 100, 'quite': 3495, 'most': 2909, 'depressing': 1188, 'made': 2697, 'lot': 2661, 'people': 3221, 'consider': 949, 'death': 1141, 'wish': 4904, 'sequels': 3886, 'movies': 2927, 'werent': 4849, 'but': 636, 'were': 4848, 'cases': 708, 'very': 4723, 'watchable': 4812, 'however': 2183, 'utterly': 4702, 'dull': 1384, 'thriller': 4472, 'which': 4867, 'by': 642, 'mean': 2779, 'spirited': 4114, 'racism': 3502, 'child': 789, 'really': 3556, 'film': 1716, 'all': 187, 'worse': 4951, 'fact': 1621, 'that': 4424, 'tries': 4585, 'law': 2538, 'justice': 2438, 'too': 4522, 'say': 3799, 'anything': 260, 'indeed': 2271, 'begins': 444, 'sex': 3907, 'being': 448, 'then': 4436, 'chicago': 785, 'theater': 4427, 'watched': 4813, 'this': 4457, 'just': 2437, 'scene': 3809, 'only': 3110, 'no': 3020, 'point': 3316, 'other': 3135, 'than': 4420, 'wasnt': 4807, 'well': 4843, 'written': 4972, 'enough': 1491, 'rise': 3702, 'above': 68, 'exploitation': 1592, 'level': 2584, 'deliver': 1169, 'something': 4066, 'would': 4957, 'work': 4940, 'seems': 3864, 'more': 2904, 'into': 2332, 'things': 4451, 'clearly': 840, 'far': 1653, 'save': 3794, 'want': 4788, 'out': 3141, 'think': 4452, 'actor': 103, 'effort': 1432, 'ultimately': 4628, 'sequences': 3888, 'are': 285, 'poor': 3328, 'also': 199, 'awful': 372, 'spoilers': 4124, 'was': 4805, 'ugly': 4625, 'im': 2232, 'sorry': 4076, 'like': 2599, 'suffers': 4278, 'mostly': 2910, 'from': 1840, 'editing': 1421, 'or': 3124, 'lack': 2502, 'as': 311, 'director': 1264, 'so': 4046, 'love': 2669, 'instead': 2307, 'cutting': 1092, 'pace': 3161, 'kept': 2456, 'your': 4991, 'attention': 345, 'added': 116, 'footage': 1782, 'had': 2003, 'shot': 3949, 'together': 4511, 'there': 4438, 'maybe': 2776, 'two': 4620, 'cool': 989, 'scenes': 3811, 'entire': 1502, 'one': 3107, 'them': 4432, 'spoiler': 4123, 'when': 4862, 'camera': 659, 'starts': 4159, 'around': 297, 'him': 2110, 'okay': 3099, 'we': 4823, 'got': 1944, 'move': 2921, 'on': 3105, 'please': 3304, 'wont': 4932, 'stop': 4201, 'guy': 2000, 'theres': 4440, 'forgot': 1796, 'about': 67, 'last': 2521, 'may': 2775, 'because': 432, 'unlike': 4670, 'earlier': 1399, 'sword': 4340, 'isnt': 2362, 'couldnt': 1008, 'find': 1726, 'somewhat': 4068, 'doesnt': 1309, 'give': 1912, 'right': 3696, 'go': 1924, 'ahead': 159, 'make': 2713, 'up': 4683, '80': 58, 'fight': 1707, 'extreme': 1609, 'close': 853, 'ups': 4686, 'same': 3778, 'angle': 236, 'add': 115, 'should': 3951, 'learn': 2550, 'american': 213, 'produced': 3414, 'bullet': 620, 'train': 4556, 'ninja': 3018, 'personally': 3243, 'saw': 3798, 'village': 4743, 'tribute': 4581, 'paid': 3169, 'social': 4049, 'previous': 3387, 'generation': 1883, 'police': 3322, 'violent': 4748, 'their': 4431, 'college': 875, 'years': 4979, 'situation': 4008, 'where': 4864, 'innocence': 2293, 'armed': 293, 'government': 1948, 'understand': 4643, 'message': 2819, 'common': 906, 'japanese': 2382, 'media': 2789, 'due': 1382, 'strong': 4229, 'influence': 2286, 'political': 3324, 'versions': 4721, 'man': 2721, 'recent': 3566, 'examples': 1554, 'end': 1468, 'dont': 1324, 'why': 4878, 'speak': 4094, 'language': 2516, 'praise': 3364, 'worthy': 4956, 'material': 2766, 'lost': 2660, 'translation': 4562, 'ending': 1471, 'marketing': 2741, 'played': 3297, 'different': 1248, 'interpretation': 2328, 'legendary': 2565, 'encounter': 1466, 'between': 475, 'legend': 2564, 'popular': 3333, 'contemporary': 965, 'themes': 4434, 'after': 143, 'minutes': 2859, 'over': 3148, 'visual': 4757, 'techniques': 4384, 'cares': 690, 'how': 2181, 'wants': 4791, 're': 3535, 'story': 4207, 'crazy': 1035, 'lips': 2615, 'said': 3774, 'unpleasant': 4674, 'among': 217, 'new': 3003, 'directors': 1266, 'ignore': 2224, 'audiences': 353, 'target': 4366, 'for': 1784, 'foreign': 1790, 'order': 3126, 'gain': 1863, 'faster': 1662, 'international': 2326, 'fame': 1642, 'works': 4945, 'although': 201, 'sense': 3877, 'fest': 1696, 'introduce': 2336, 'world': 4946, 'kind': 2476, 'countries': 1013, 'watch': 4811, 'those': 4460, 'certainly': 738, 'cast': 710, 'my': 2951, 'home': 2142, 'town': 4541, 'remember': 3616, 'whole': 4873, 'molly': 2884, 'storyline': 4208, 'essentially': 1523, '20': 29, 'laid': 2508, 'rest': 3657, 'without': 4913, 'finished': 1733, 'group': 1980, 'students': 4239, 'set': 3898, 'complete': 921, 'dire': 1257, 'consequences': 947, 'seem': 3861, 'someone': 4064, 'does': 1308, 'comedy': 890, 'therefore': 4439, 'taken': 4350, 'little': 2624, 'cheek': 779, 'real': 3547, 'characters': 760, 'you': 4986, 'care': 684, 'irrelevant': 2358, 'weird': 4841, 'hearing': 2063, 'accent': 78, 'australian': 357, 'again': 146, 'nice': 3008, 'see': 3855, 'kid': 2464, 'went': 4847, 'school': 3813, 'starring': 4154, 'role': 3726, 'goodness': 1938, 'knows': 2493, 'makers': 2715, 'thought': 4462, 'they': 4442, 'get': 1899, 'perhaps': 3235, 'nature': 2975, 'sort': 4077, 'pays': 3218, 'homage': 2141, 'films': 1721, 'bad': 382, 'horror': 2168, 'have': 2052, 'done': 1322, 'fine': 1729, 'casting': 711, 'concerned': 932, 'acting': 99, 'seemed': 3862, 'some': 4061, 'these': 4441, 'kids': 2467, 'especially': 1520, 'main': 2707, 'producer': 3415, 'looked': 2647, 'trying': 4601, 'act': 97, 'never': 3001, 'good': 1937, 'look': 2646, 'shots': 3950, 'rough': 3741, 'feel': 1684, 'lit': 2621, 'smooth': 4041, 'used': 4693, 'killer': 2470, 'lord': 2652, 'less': 2575, 'frightening': 1839, 'shock': 3938, 'though': 4461, 'couple': 1016, 'gross': 1978, 'did': 1241, '90': 60, 'gone': 1935, 'script': 3834, 'been': 438, 'better': 472, 'killed': 2469, 'build': 614, 'getting': 1901, 'actually': 109, 'scary': 3807, 'atmosphere': 333, 'now': 3054, 'know': 2489, 'elements': 1443, 'funny': 1852, 'am': 204, 'convinced': 984, 'many': 2732, 'mexican': 2826, 'cinema': 816, 'called': 652, 'golden': 1934, 'age': 148, 'fortunately': 1805, 'during': 1387, 'late': 2523, '90s': 61, 'early': 1400, 'century': 736, 'la': 2500, 'de': 1131, 'california': 650, 'course': 1019, 'le': 2544, 'appeared': 276, 'wonderful': 4928, 'classic': 835, 'gabriel': 1859, 'magic': 2703, 'realism': 3549, 'crude': 1069, 'reality': 3551, 'lived': 2626, 'mexico': 2827, 'colonel': 876, 'wait': 4770, 'half': 2007, 'population': 3335, 'live': 2625, 'poverty': 3357, 'represent': 3637, 'found': 1811, 'society': 4050, 'such': 4268, 'cold': 872, 'even': 1533, 'ambitious': 211, 'priest': 3392, 'time': 4495, 'loyal': 2679, 'patient': 3211, 'wife': 4884, 'hidden': 2096, 'homosexual': 2145, 'etc': 1527, 'must': 2950, 'gorgeous': 1942, 'finest': 1730, 'best': 469, 'jim': 2402, 'carrey': 696, 'usual': 4699, 'face': 1616, 'making': 2718, 'stuff': 4243, 'both': 547, 'sad': 3767, 'reporter': 3636, 'named': 2961, 'bruce': 602, 'freeman': 1829, 'everything': 1544, 'wrong': 4973, 'life': 2592, 'god': 1926, 'comes': 891, 'heaven': 2068, 'gives': 1914, 'powers': 3361, 'before': 440, 'excellent': 1555, 'job': 2405, 'morgan': 2905, 'jennifer': 2392, 'supporting': 4304, 'actress': 105, 'plot': 3309, 'can': 665, 'dog': 1310, 'break': 569, 'worked': 4941, 'glad': 1916, 'sequel': 3885, 'rate': 3526, '10': 0, 'enjoyed': 1486, 'every': 1539, 'episode': 1507, 'pushing': 3479, 'season': 3843, 'hope': 2155, 'writers': 4969, 'strike': 4224, 'brutally': 604, 'show': 3953, 'ned': 2986, 'pie': 3271, 'maker': 2714, 'restaurant': 3658, 'middle': 2833, 'secret': 3849, 'talent': 4354, 'private': 3404, 'own': 3158, 'unique': 4662, 'charlotte': 766, 'chuck': 812, 'once': 3106, 'dead': 1132, 'anymore': 258, 'childhood': 790, 'friend': 1835, 'spot': 4131, 'jealous': 2388, 'hearted': 2065, 'waitress': 4773, 'oh': 3096, 'brings': 587, 'narration': 2965, 'along': 195, 'occasionally': 3075, 'solve': 4060, 'multiple': 2936, 'murder': 2939, 'mysteries': 2954, 'special': 4097, 'gift': 1906, 'bringing': 586, 'back': 378, 'clean': 838, 'romantic': 3733, 'cute': 1090, 'way': 4820, 'id': 2212, 'recommend': 3571, 'anyone': 259, 'ive': 2372, 'seen': 3865, 'second': 3846, 'television': 4394, 'lovely': 2671, 'warm': 4794, 'sentimental': 3882, 'rarely': 3524, 'actors': 104, 'able': 66, 'reveal': 3670, 'movements': 2924, 'another': 250, 'ryan': 3765, 'robert': 3713, 'mary': 2751, 'simply': 3986, 'themselves': 4435, 'probably': 3407, 'adorable': 124, 'while': 4868, 'sleeping': 4025, 'harry': 2039, 'met': 2822, 'sally': 3776, 'high': 2100, 'sorts': 4078, 'big': 478, 'future': 1856, 'sue': 4274, 'married': 2744, 'hate': 2046, 'superb': 4296, 'change': 749, 'any': 256, 'didnt': 1242, 'succeed': 4262, 'mentioned': 2811, 'box': 555, 'office': 3091, 'appeal': 271, 'tom': 4514, 'hanks': 2025, 'michael': 2829, 'fox': 1814, 'turner': 4607, 'superbly': 4297, 'eg': 1434, 'lines': 2612, 'particularly': 3195, 'memorable': 2802, 'yet': 4984, 'executed': 1565, 'perfection': 3225, 'truly': 4597, 'feeling': 1685, 'falling': 1639, 'loves': 2674, 'loss': 2659, 'desire': 1205, 'connection': 946, 'delivered': 1170, 'will': 4886, 'yourself': 4993, 'moved': 2922, 'do': 1302, 'mainly': 2708, 'description': 1197, 'revolutionary': 3681, 'movement': 2923, 'italy': 2368, 'almost': 193, 'whom': 4875, 'might': 2835, 'old': 3100, 'stand': 4143, 'traditional': 4550, 'values': 4710, 'thoroughly': 4459, 'girlfriend': 1910, 'happen': 2026, 'needs': 2990, 'badly': 383, 'cause': 723, 'support': 4303, 'unable': 4631, 'demands': 1175, 'guessing': 1991, 'here': 2086, 'boy': 557, 'hes': 2093, 'father': 1666, 'assume': 328, 'learned': 2551, 'manage': 2722, 'leaves': 2556, 'final': 1722, 'described': 1195, 'meaning': 2780, 'keep': 2449, 'screaming': 3827, 'part': 3193, 'asked': 317, 'comment': 898, 'authority': 360, 'gods': 1928, 'notion': 3050, 'free': 1827, 'us': 4690, 'particular': 3194, 'aware': 368, 'she': 3923, 'mind': 2849, 'cartoon': 704, 'few': 1700, 'ago': 154, 'neck': 2985, 'deep': 1154, 'river': 3707, 'staring': 4152, 'drinking': 1362, 'bank': 394, 'says': 3801, 'shes': 3930, 'let': 2579, 'me': 2778, 'everyone': 1542, 'else': 1448, 'carries': 699, 'speech': 4102, 'manner': 2729, 'rich': 3685, 'directorial': 1265, 'aid': 160, 'nuts': 3064, 'catherine': 719, 'walls': 4783, 'turn': 4605, 'rubber': 3747, 'grow': 1982, 'hands': 2020, 'animated': 241, 'sometimes': 4067, 'shocking': 3940, 'mood': 2898, 'changes': 751, 'becomes': 434, 'threatening': 4468, 'critic': 1061, 'thats': 4425, 'word': 4937, 'searching': 3842, 'beautiful': 428, 'brown': 601, 'hair': 2005, 'wide': 4880, 'white': 4870, 'ready': 3546, 'eyes': 1613, 'ancient': 225, 'sexy': 3911, 'parts': 3199, 'pretty': 3384, 'erotic': 1515, 'much': 2934, 'explicit': 1591, 'weve': 4856, 'gotten': 1947, 'involved': 2346, 'interesting': 2325, 'spy': 4135, 'next': 3007, 'door': 1328, 'skin': 4015, 'flick': 1754, 'lets': 2580, 'play': 3296, 'least': 2554, 'year': 4978, 'young': 4989, 'necessary': 2984, 'thing': 4450, 'entirely': 1503, 'carry': 700, 'performances': 3229, 'sure': 4308, 'easily': 1406, 'turned': 4606, 'rather': 3528, 'slow': 4031, 'boring': 543, 'romance': 3732, 'worth': 4953, 'night': 3013, 'showing': 3958, 'admit': 122, 'original': 3129, 'music': 2946, 'player': 3298, 'influenced': 2287, 'itself': 2371, 'force': 1786, 'portrayal': 3341, 'tragic': 4552, 'saga': 3773, 'interested': 2324, 'silent': 3975, 'highly': 2105, 'costumes': 1006, 'fantastic': 1651, 'creative': 1041, 'sets': 3899, 'exotic': 1574, 'dramatic': 1348, 'breathtaking': 574, 'typical': 4623, 'unfortunately': 4654, 'first': 1736, 'duo': 1386, 'concerns': 934, 'plan': 3287, 'revenge': 3675, 'against': 147, 'brothers': 599, 'german': 1896, 'native': 2972, 'english': 1483, 'basic': 406, 'knowledge': 2491, 'difficult': 1249, 'read': 3543, 'subtitles': 4259, 'call': 651, 'style': 4249, 'advise': 134, 'finds': 1728, 'himself': 2111, 'small': 4033, 'marry': 2745, 'drawn': 1351, 'simplicity': 3984, 'agrees': 157, 'marriage': 2743, 'barely': 399, 'moments': 2887, 'lady': 2507, 'question': 3487, 'equally': 1510, 'charming': 768, 'six': 4010, 'months': 2897, 'later': 2525, 'distance': 1294, 'whos': 4876, 'raised': 3508, 'uncle': 4636, 'aunt': 355, 'parents': 3188, 'struck': 4232, 'horrible': 2163, 'hours': 2177, 'lover': 2672, 'family': 1645, 'drama': 1346, 'extremely': 1610, 'premise': 3370, 'sadly': 3769, 'off': 3084, 'looking': 2648, 'fetched': 1698, 'kapoor': 2443, 'problem': 3408, 'clear': 839, 'cant': 671, 'relate': 3593, 'bone': 533, 'bodies': 526, 'timing': 4498, 'important': 2247, 'factor': 1622, 'twenty': 4612, 'five': 1743, 'felt': 1692, 'stretch': 4221, 'today': 4508, 'product': 3418, 'stuck': 4237, 'saving': 3797, 'grace': 1950, 'start': 4156, 'finish': 1732, 'away': 369, 'filmmakers': 1720, 'intention': 2319, 'judging': 2425, 'closely': 855, 'believes': 456, 'perfect': 3224, 'gold': 1932, 'large': 2517, 'families': 1644, 'happily': 2030, 'under': 4639, 'slightest': 4028, 'alas': 172, 'vision': 4754, 'screen': 3829, 'overlook': 3153, 'dimensional': 1253, 'protagonists': 3442, 'hold': 2129, 'hour': 2176, 'returning': 3667, 'roots': 3738, 'truth': 4599, 'reason': 3557, 'chemistry': 782, 'created': 1037, 'relies': 3606, 'heavily': 2069, 'filmmaker': 1719, 'chooses': 800, 'string': 4227, '70s': 56, 'tunes': 4603, 'further': 1853, 'choose': 799, 'explain': 1586, 'somewhere': 4069, 'cynical': 1093, 'guess': 1989, 'ill': 2228, 'take': 4349, 'arent': 288, 'ones': 3108, 'exactly': 1551, 'expect': 1575, 'gratuitous': 1961, 'nudity': 3059, 'ridiculous': 3693, 'gore': 1941, 'cheesy': 781, 'effects': 1431, 'acted': 98, 'directed': 1259, 'wouldnt': 4958, 'sucked': 4270, 'vampire': 4711, 'except': 1556, 'blood': 512, 'absolutely': 72, 'scream': 3826, 'queen': 3485, 'matters': 2770, 'hot': 2174, 'plastic': 3294, 'jump': 2429, 'suit': 4284, 'wore': 4939, 'wow': 4962, 'stunning': 4244, 'outfit': 3144, 'single': 3996, 'turns': 4609, 'help': 2079, 'check': 777, 'near': 2979, 'viewer': 4738, 'seeing': 3857, 'completely': 922, 'buff': 611, 'myself': 2953, 'avoid': 363, 'costs': 1004, 'interest': 2323, 'dorothy': 1330, 'caused': 724, 'purchase': 3469, 'video': 4733, 'actresses': 106, 'subplots': 4256, 'going': 1931, 'plus': 3311, 'dialogue': 1234, 'stiff': 4187, 'confusing': 942, 'believable': 453, 'disappointed': 1273, 'believe': 454, 'always': 203, 'john': 2409, 'ritter': 3705, 'slapstick': 4019, 'pathetic': 3210, 'watching': 4815, 'saturday': 3792, 'afternoon': 144, 'tv': 4610, '1950s': 14, '60s': 54, 'presented': 3376, 'broadcast': 591, 'facts': 1624, 'still': 4188, 'command': 897, 'emotion': 1458, 'according': 88, 'impression': 2252, 'knock': 2488, 'based': 404, 'british': 589, 'account': 89, 'similar': 3978, 'title': 4504, 'days': 1130, 'hitler': 2124, 'surprised': 4313, 'credit': 1049, 'agree': 155, 'subject': 4253, 'flat': 1748, 'figures': 1713, 'attracted': 349, 'none': 3028, 'books': 536, 'come': 886, 'double': 1331, 'passing': 3204, 'magnificent': 2705, 'historical': 2119, 'piece': 3272, 'sum': 4289, 'touching': 4536, 'several': 3905, 'weeks': 4839, 'dvd': 1391, 'shelf': 3926, 'store': 4204, 'having': 2054, 'steve': 4181, 'previously': 3388, 'process': 3412, 'until': 4680, 'finally': 1724, 'hell': 2077, 'attitude': 346, 'purchased': 3470, 'three': 4469, 'times': 4497, 'smiling': 4037, 'struggling': 4236, 'daughters': 1122, 'missing': 2869, 'since': 3990, 'beloved': 461, 'thus': 4486, 'meets': 2795, 'intriguing': 2335, 'woman': 4921, 'profound': 3423, 'dare': 1113, 'throws': 4482, 'light': 2595, 'onto': 3111, 'makes': 2716, 'realize': 3552, 'portray': 3340, 'dan': 1102, 'shy': 3962, 'fun': 1848, 'enjoyment': 1488, 'begin': 442, 'blind': 506, 'date': 1118, 'occurs': 3078, 'turning': 4608, 'liking': 2604, 'sheer': 3925, 'green': 1971, 'eyed': 1612, 'monster': 2892, 'hilarious': 2106, 'couples': 1017, 'dance': 1103, 'floor': 1759, 'sequence': 3887, 'crafted': 1029, 'regard': 3588, 'marie': 2737, 'returns': 3668, 'book': 535, 'shop': 3945, 'describe': 1194, 'drops': 1372, 'sharp': 3922, 'breath': 573, 'daughter': 1121, 'present': 3374, 'warmth': 4796, 'realizes': 3554, 'sings': 3997, 'voice': 4761, 'slightly': 4029, 'gem': 1877, 'happy': 2032, 'fail': 1625, 'rock': 3720, 'tell': 4395, 'words': 4938, 'leave': 2555, 'return': 3665, 'comments': 901, 'saying': 3800, 'damn': 1100, 'twists': 4619, 'feels': 1687, 'forced': 1787, 'genuine': 1891, 'extended': 1604, 'cinematic': 818, 'experience': 1580, 'score': 3822, 'takes': 4351, 'throughout': 4478, 'whilst': 4869, 'ensemble': 1492, 'cannot': 670, 'dialog': 1232, 'coming': 896, 'peoples': 3222, 'reel': 3581, 'attached': 336, 'body': 527, 'boot': 538, 'device': 1227, 'psychic': 3456, 'alien': 183, 'underground': 4640, 'lab': 2501, 'desert': 1198, 'fred': 1825, 'ray': 3533, 'value': 4709, 'beyond': 476, 'cheap': 774, 'looks': 2649, 'inside': 2297, 'son': 4070, 'creature': 1045, 'black': 493, 'running': 3756, 'dark': 1115, 'tear': 4379, 'poster': 3353, 'et': 1526, 'snake': 4042, 'gets': 1900, 'william': 4887, 'fair': 1630, 'mini': 2854, 'frank': 1821, 'kitchen': 2485, 'low': 2676, 'budget': 610, 'suppose': 4305, 'ends': 1474, 'ran': 3513, 'credits': 1050, 'talk': 4358, 'mentions': 2813, 'commentary': 899, 'through': 4477, 'shooting': 3943, 'cheese': 780, 'grant': 1956, 'ya': 4976, 'often': 3095, 'entertaining': 1499, 'series': 3890, 'hollywood': 2137, 'italian': 2367, 'rip': 3700, '1970s': 17, '1980s': 21, 'company': 910, 'house': 2178, 'edge': 1418, 'park': 3190, 'atlantis': 332, 'cop': 991, 'die': 1243, 'enjoyable': 1485, 'idiotic': 2219, 'peter': 3247, 'david': 1124, 'paul': 3214, 'charisma': 762, 'skills': 4014, 'try': 4600, 'hang': 2022, 'escape': 1517, 'extraordinary': 1607, 'stupid': 4247, 'direction': 1261, 'laughed': 2532, 'camp': 662, 'everybody': 1540, 'outer': 3143, 'space': 4090, 'took': 4523, 'laugh': 2529, 'laughably': 2531, 'whose': 4877, 'errors': 1516, 'blatant': 502, 'besides': 468, 'mediocre': 2791, 'timothy': 4499, 'dalton': 1098, 'hint': 2112, 'james': 2378, 'bond': 532, 'billy': 482, 'unbelievable': 4634, 'warning': 4800, 'true': 4596, 'singer': 3993, 'bar': 396, 'herself': 2092, 'ten': 4399, 'deserves': 1201, 'status': 4165, 'power': 3359, 'huge': 2185, 'impact': 2244, 'yes': 4982, 'flaws': 1752, 'wanting': 4790, 'award': 366, 'user': 4696, 'plain': 3286, 'false': 1641, 'singing': 3995, 'ability': 65, 'ego': 1435, 'earned': 1401, 'mill': 2845, 'african': 142, '30s': 44, 'race': 3499, 'fish': 1738, 'baker': 385, 'bill': 481, 'robinson': 3716, 'louis': 2665, 'hugh': 2186, 'sound': 4081, 'thinks': 4454, 'theyre': 4445, 'lazy': 2543, 'characterization': 759, 'exciting': 1563, 'chased': 770, 'tiger': 4491, 'recommended': 3572, 'fans': 1650, 'animation': 242, 'jazz': 2387, 'silly': 3976, 'supernatural': 4302, 'slasher': 4020, 'means': 2783, 'frame': 1815, 'third': 4455, 'hand': 2015, 'atrocious': 335, 'consists': 955, 'firstly': 1737, 'secondly': 3847, 'loads': 2633, 'bits': 490, 'unbelievably': 4635, 'amateurish': 207, 'inept': 2281, 'incredibly': 2270, 'tedious': 4387, 'quickly': 3491, 'serves': 3895, 'endless': 1473, 'clips': 852, 'addition': 118, 'describes': 1196, 'our': 3139, 'example': 1553, 'audience': 352, 'review': 3676, 'brief': 579, 'nothing': 3047, 'worthless': 4954, 'potentially': 3356, 'redeeming': 3577, 'qualities': 3483, 'intrigue': 2333, 'painfully': 3172, 'long': 2644, 'structure': 4233, 'ask': 316, 'viewers': 4739, 'enormous': 1490, 'holes': 2133, 'screenplay': 3831, 'explained': 1587, 'died': 1244, 'mother': 2911, 'harder': 2035, 'won': 4925, 'place': 3282, '2001': 31, 'considering': 952, 'french': 1830, 'noir': 3023, 'desperate': 1208, 'sadistic': 3768, 'understood': 4647, 'uncomfortable': 4637, 'possible': 3350, 'matched': 2763, 'character': 758, 'arms': 294, 'altogether': 202, 'dedicated': 1153, 'fan': 1648, 'loved': 2670, 'dream': 1354, 'disturbing': 1300, 'gave': 1875, 'pacing': 3163, 'teachers': 4376, 'painful': 3171, 'silence': 3974, 'became': 431, 'wanted': 4789, 'kinda': 2477, 'torn': 4528, 'angel': 231, 'appears': 278, 'loving': 2675, 'greatest': 1966, 'actual': 108, 'content': 966, 'virtually': 4751, 'pointless': 3318, 'motivation': 2914, 'information': 2288, 'provided': 3449, 'narrative': 2966, 'bettie': 473, 'gonna': 1936, 'either': 1438, 'basically': 407, 'career': 686, 'famous': 1647, 'photo': 3257, 'shoots': 3944, 'literally': 2622, '75': 57, 'run': 3755, 'insight': 2298, 'person': 3238, 'touches': 4535, 'briefly': 580, 'short': 3946, 'subsequent': 4257, 'decision': 1151, 'business': 633, 'become': 433, 'religious': 3608, 'favor': 1670, 'substance': 4258, 'resembles': 3646, 'topless': 4527, 'segment': 3867, 'obviously': 3072, 'costume': 1005, 'wise': 4903, 'within': 4912, 'wooden': 4934, 'name': 2960, 'joke': 2414, 'list': 2617, 'unless': 4669, 'need': 2987, 'seek': 3858, 'treatment': 4574, 'favorite': 1671, 'older': 3101, 'realized': 3553, 'average': 362, 'compared': 912, 'known': 2492, 'ad': 110, 'racial': 3501, 'breaks': 571, 'thinking': 4453, 'twist': 4617, 'touch': 4533, 'overall': 3150, 'hatred': 2049, 'minute': 2858, 'arguably': 289, 'brilliant': 583, 'definitely': 1162, 'adventures': 131, 'eric': 1514, 'grown': 1984, 'starting': 4158, 'listen': 2619, 'evil': 1548, 'side': 3965, 'visually': 4758, 'lighting': 2596, 'moody': 2899, 'element': 1442, 'production': 3419, 'zombies': 4998, 'subtle': 4260, 'use': 4692, 'places': 3284, 'local': 2634, 'department': 1182, 'notice': 3048, 'development': 1225, 'delivers': 1172, 'count': 1010, 'started': 4157, 'kill': 2468, 'em': 1452, 'succeeds': 4264, 'left': 2561, 'note': 3044, 'idea': 2213, 'hard': 2033, 'serious': 3891, 'mention': 2810, 'perry': 3237, 'stars': 4155, 'jay': 2386, 'surprise': 4312, 'expecting': 1578, 'suck': 4269, 'reviews': 3679, 'concept': 930, 'super': 4295, 'hero': 2088, 'psycho': 3457, 'fall': 1637, 'apart': 264, 'awesome': 371, 'universe': 4666, 'blame': 499, 'superhero': 4299, 'discovered': 1280, 'luke': 2687, 'wilson': 4891, 'given': 1913, 'comic': 893, '2006': 36, 'expressions': 1603, 'funniest': 1851, 'complaint': 920, 'bit': 488, 'background': 380, 'accepted': 82, 'forgive': 1795, 'underrated': 4642, 'eating': 1413, 'doing': 1312, 'pain': 3170, 'ways': 4822, 'cheating': 776, 'collection': 874, 'weak': 4824, 'thirty': 4456, 'apparent': 269, 'adults': 126, 'children': 792, 'lives': 2628, '2002': 32, '2003': 33, 'throw': 4479, 'usually': 4700, 'moral': 2902, 'flawless': 1751, 'dealing': 1136, 'sensitive': 3879, 'issues': 2365, 'lesser': 2576, 'pitch': 3279, 'raw': 3532, 'technical': 4381, 'london': 2641, 'bright': 581, 'open': 3112, 'filled': 1715, 'harsh': 2040, 'tough': 4537, 'likes': 2602, 'torture': 4529, 'novels': 3053, 'enjoy': 1484, 'miss': 2866, 'prepared': 3371, 'warned': 4798, 'beginning': 443, 'toward': 4539, 'asks': 319, 'boyfriend': 558, 'hit': 2122, 'slap': 4018, 'blow': 514, 'south': 4087, 'festival': 1697, 'features': 1680, 'headed': 2058, 'scenery': 3810, 'glover': 1923, 'nyc': 3065, 'sounds': 4084, 'fabulous': 1615, 'behind': 447, 'scottish': 3825, 'reference': 3582, 'bring': 585, 'curse': 1086, 'emotions': 1461, 'lust': 2689, 'rage': 3505, 'games': 1865, 'accomplished': 87, 'replaced': 3634, 'lead': 2545, 'soap': 4047, 'opera': 3116, 'draw': 1349, 'bigger': 479, 'unfolds': 4651, 'nicely': 3009, 'soundtrack': 4085, 'includes': 2263, 'amazing': 209, 'charlie': 765, 'chaplin': 756, '30': 42, 'chance': 747, 'slowly': 4032, 'persona': 3239, 'familiar': 1643, 'lacked': 2503, 'developed': 1223, 'kicked': 2461, 'nasty': 2968, 'seemingly': 3863, 'slight': 4027, 'exceptionally': 1559, 'vague': 4705, 'theme': 4433, 'productions': 3420, 'sneak': 4043, 'steals': 4172, 'cops': 993, 'leaving': 2557, 'oddly': 3081, 'put': 3480, 'forgettable': 1794, 'stage': 4139, 'unusual': 4681, 'brad': 560, 'pitt': 3280, 'brains': 563, 'wit': 4908, 'louise': 2666, 'remind': 3618, 'differences': 1247, 'obvious': 3071, 'male': 2719, 'nonetheless': 3029, 'effective': 1429, '12': 3, 'monkeys': 2891, 'club': 863, 'self': 3869, 'humor': 2192, 'human': 2188, 'soon': 4074, 'forgotten': 1797, 'semi': 3874, 'naked': 2959, 'strange': 4211, '20th': 38, 'directing': 1260, 'working': 4944, 'giant': 1905, 'accidentally': 85, 'computer': 927, 'introduced': 2337, 'virus': 4752, 'security': 3854, 'keeping': 2450, 'resort': 3650, 'closed': 854, 'construction': 960, 'page': 3167, 'porn': 3336, 'contact': 961, 'eat': 1411, 'victims': 4730, 'include': 2261, 'stereotypes': 4179, 'sci': 3815, 'fi': 1701, 'channel': 753, 'flicks': 1755, 'attack': 337, 'animals': 240, 'youll': 4988, 'demand': 1174, 'soul': 4079, 'spent': 4108, 'exercise': 1568, 'feature': 1678, 'heads': 2059, 'unconvincing': 4638, 'upon': 4684, 'crying': 1074, 'broken': 594, 'record': 3573, 'write': 4967, 'kinds': 2478, 'carradine': 695, 'ruthless': 3764, 'businessman': 634, 'ex': 1549, 'brother': 598, 'nicholas': 3010, 'bell': 458, 'opening': 3114, 'featuring': 1681, 'major': 2711, 'attraction': 350, 'officer': 3092, 'attempts': 343, 'convince': 983, 'hopes': 2159, 'putting': 3482, 'money': 2888, 'multi': 2935, 'million': 2847, 'dollar': 1314, 'project': 3427, 'island': 2361, 'brian': 576, 'fate': 1665, 'resulting': 3661, 'tooth': 4524, 'spends': 4107, 'deal': 1135, 'view': 4736, 'shows': 3960, 'humans': 2190, 'color': 877, 'moves': 2925, 'towards': 4540, 'walking': 4779, 'cut': 1089, 'safety': 3772, 'commit': 904, 'breaking': 570, 'certain': 737, 'hunt': 2198, 'type': 4621, 'enter': 1494, 'playing': 3300, 'clichés': 846, 'number': 3060, 'followed': 1773, 'failed': 1626, 'expectations': 1576, 'bother': 548, 'utter': 4701, 'drivel': 1364, 'instantly': 2306, 'taste': 4369, 'mouth': 2920, 'weekend': 4838, 'context': 968, 'covered': 1023, 'release': 3602, 'trip': 4588, 'excited': 1561, 'day': 1129, 'feelings': 1686, 'remembered': 3617, 'friends': 1837, 'quiet': 3492, 'joined': 2413, 'anti': 254, 'served': 3894, 'purpose': 3474, 'case': 707, 'slaughter': 4021, 'carol': 693, 'resident': 3647, 'marty': 2749, 'simon': 3982, 'girls': 1911, 'rooms': 3736, 'tells': 4397, 'shower': 3957, 'gang': 1867, 'stick': 4185, 'head': 2057, 'toilet': 4512, 'april': 284, 'schools': 3814, 'sports': 4130, 'coach': 868, 'smith': 4038, 'saves': 3796, 'decide': 1148, 'trick': 4582, 'caught': 722, 'explosion': 1596, 'acid': 95, 'class': 833, 'reunion': 3669, 'arrive': 300, 'discover': 1279, 'originally': 3131, 'changed': 750, 'co': 867, 'george': 1893, 'mark': 2739, 'week': 4837, 'jean': 2389, 'van': 4713, 'liked': 2600, 'reputation': 3640, 'pure': 3471, 'genres': 1889, 'rules': 3754, 'promises': 3432, 'alright': 198, 'ok': 3098, 'excuse': 1564, 'load': 2631, 'teens': 4392, 'isolated': 2363, 'location': 2635, 'gory': 1943, 'killing': 2472, 'situations': 4009, 'reactions': 3542, 'despite': 1211, 'atmospheric': 334, 'photography': 3260, 'numerous': 3062, 'impressive': 2253, 'follow': 1772, 'various': 4715, 'stylish': 4251, 'including': 2264, 'stomach': 4196, 'explosions': 1597, 'faces': 1618, 'matter': 2769, 'impressed': 2251, 'pleased': 3305, 'higher': 2101, 'expected': 1577, 'technically': 4382, 'beats': 426, 'crap': 1031, 'released': 3603, 'relatively': 3600, 'supposedly': 4307, 'america': 212, 'england': 1482, 'musical': 2947, 'scores': 3823, 'friday': 1834, '13th': 5, '1980': 20, 'living': 2629, 'uk': 4626, 'regular': 3592, 'farm': 1656, 'nations': 2971, 'top': 4525, 'rated': 3527, 'terry': 4415, 'woods': 4935, 'rare': 3523, 'dick': 1239, 'porno': 3337, 'brilliance': 582, 'pieces': 3273, 'personal': 3240, 'predictable': 3367, 'version': 4720, 'genre': 1888, 'simple': 3983, 'darker': 1116, '1960s': 15, 'flying': 1764, 'throwing': 4480, 'energy': 1478, 'godzilla': 1929, 'generally': 1881, 'edited': 1420, 'notorious': 3051, 'king': 2479, 'monsters': 2893, 'nearly': 2981, 'ludicrous': 2685, 'annoying': 249, 'promising': 3433, 'personalities': 3241, 'create': 1036, 'tension': 4404, 'outside': 3146, 'fairly': 1631, 'period': 3236, 'biggest': 480, 'develops': 1226, 'personality': 3242, 'stewart': 4184, 'kim': 2475, 'jack': 2373, 'lemmon': 2567, 'alfred': 181, 'hitchcock': 2123, '50': 51, 'witch': 4909, 'puts': 3481, 'spell': 4104, 'falls': 1640, 'success': 4265, 'nominated': 3025, 'managed': 2723, 'birthday': 487, 'rented': 3628, 'younger': 4990, 'favourite': 1673, 'learns': 2553, 'songs': 4072, 'voices': 4763, 'hadnt': 2004, 'fascinating': 1658, 'scientist': 3818, 'eventually': 1537, 'leads': 2548, 'disaster': 1276, 'totally': 4532, '1940s': 13, 'scared': 3805, 'struggle': 4234, 'stay': 4166, 'awake': 365, 'exception': 1557, 'hopeless': 2158, 'performance': 3228, 'mildly': 2840, 'creepy': 1052, 'involving': 2349, 'ghost': 1902, 'history': 2121, 'sit': 4003, 'chaos': 755, 'taught': 4370, 'travel': 4567, 'non': 3027, 'past': 3207, 'avoided': 364, 'underlying': 4641, 'reflection': 3585, 'actions': 101, 'plague': 3285, 'rule': 3753, 'earth': 1403, 'survivors': 4325, 'affected': 137, 'willis': 4890, 'mission': 2870, 'mid': 2832, 'investigate': 2342, 'whatever': 4859, 'whoever': 4872, 'related': 3594, 'scientists': 3819, 'cure': 1081, 'happened': 2027, 'inevitable': 2282, 'cole': 873, 'gradually': 1952, 'striking': 4226, 'latter': 2528, 'ironic': 2355, 'reached': 3537, 'proof': 3434, 'psychiatrist': 3455, 'moment': 2886, 'climactic': 848, 'memories': 2803, 'dreams': 1355, 'airport': 167, 'blonde': 511, 'runs': 3757, 'murdered': 2940, 'visits': 4756, 'adult': 125, 'already': 197, 'impossible': 2249, 'agents': 151, 'shoot': 3942, 'mad': 2696, 'doctor': 1304, 'peters': 3248, 'responsible': 3656, 'disease': 1285, 'masterpiece': 2759, 'trilogy': 4586, 'regarding': 3589, 'odd': 3080, 'picture': 3269, 'wild': 4885, 'masterpieces': 2760, 'involves': 2348, 'hundreds': 2196, 'straight': 4210, 'nobody': 3022, 'thousands': 4466, 'zombie': 4997, 'nation': 2969, 'forever': 1792, 'laughable': 2530, 'havent': 2053, 'safe': 3771, 'neither': 2996, 'entertained': 1498, 'abysmal': 76, 'whenever': 4863, 'seriously': 3892, 'greater': 1965, 'crime': 1055, 'producing': 3417, 'ed': 1415, 'wood': 4933, 'jr': 2423, 'digital': 1251, 'consistently': 954, 'punk': 3468, 'knew': 2486, 'opens': 3115, 'song': 4071, 'band': 391, 'gruesome': 1986, 'legs': 2566, 'hardcore': 2034, 'members': 2801, 'bands': 392, 'proud': 3444, 'comical': 894, 'terrible': 4407, 'tour': 4538, 'creator': 1043, 'kevin': 2457, 'suspect': 4327, 'quality': 3484, 'random': 3514, 'lloyd': 2630, 'devil': 1228, 'bottom': 551, 'line': 2610, 'anywhere': 263, 'decent': 1147, 'otherwise': 3137, 'bomb': 531, 'insane': 2296, 'rent': 3626, 'videos': 4734, 'copy': 994, 'bought': 552, 'wasted': 4809, 'designs': 1204, 'apparently': 270, 'santa': 3783, 'intent': 2318, 'somehow': 4063, 'across': 96, 'dubbing': 1380, 'bizarre': 492, 'reasons': 3560, 'prefer': 3368, 'dubbed': 1379, 'opposed': 3122, 'women': 4923, 'pretending': 3382, 'tends': 4402, 'demons': 1178, 'spend': 4105, 'dancing': 1107, 'ballet': 389, 'everyday': 1541, 'unintentional': 4658, 'youre': 4992, 'constantly': 958, 'summer': 4291, 'decided': 1149, 'jewish': 2401, 'decides': 1150, 'desperately': 1209, 'treats': 4575, 'stronger': 4230, 'accused': 91, 'brave': 567, 'transformation': 4560, 'powerful': 3360, 'cinematography': 820, 'images': 2235, 'fault': 1668, 'opinion': 3118, 'length': 2569, 'loose': 2650, 'finding': 1727, 'don': 1320, 'ignored': 2225, 'points': 3319, 'dragon': 1344, 'convincing': 985, 'consistent': 953, 'implausible': 2245, 'hunting': 2201, 'fire': 1734, 'charge': 761, 'cave': 727, 'arm': 292, 'female': 1693, 'pretend': 3381, 'spanish': 4092, 'huh': 2187, 'knife': 2487, 'born': 544, 'usa': 4691, 'military': 2844, 'helicopter': 2076, 'pilot': 3276, 'flies': 1756, 'crew': 1053, 'expert': 1585, 'combat': 882, 'soldier': 4053, 'giving': 1915, 'signs': 3973, 'base': 402, 'lucky': 2683, 'fighter': 1708, 'naturally': 2974, 'possibility': 3349, 'theyll': 4444, 'hire': 2116, 'spite': 4117, 'dean': 1139, 'eaten': 1412, 'offers': 3090, 'conversations': 981, 'imagined': 2239, 'meaningless': 2782, 'dialogs': 1233, 'lacks': 2505, 'heard': 2062, 'intended': 2315, 'thoughts': 4464, 'fails': 1628, 'fell': 1690, 'asleep': 320, 'granted': 1957, 'shakespeare': 3915, 'prevent': 3385, 'caring': 691, 'couldve': 1009, 'hamlet': 2013, 'dislike': 1288, 'science': 3816, 'fiction': 1702, 'per': 3223, 'visuals': 4759, 'fx': 1858, 'crucial': 1068, 'basis': 408, 'told': 4513, 'supposed': 4306, 'areas': 287, 'essential': 1522, 'medium': 2792, 'sold': 4052, 'slick': 4026, 'texas': 4418, 'sucks': 4271, 'grade': 1951, 'crack': 1027, 'fake': 1635, 'accents': 79, 'sell': 3871, 'states': 4163, 'disappointing': 1274, 'showdown': 3955, 'car': 680, 'rocket': 3721, 'amount': 219, 'finale': 1723, 'humour': 2194, 'ah': 158, 'host': 2173, 'hiding': 2099, 'remote': 3622, 'jungle': 2434, 'blowing': 515, 'rambo': 3511, 'forget': 1793, 'red': 3576, 'dawn': 1127, 'wing': 4896, 'dated': 1119, 'war': 4792, 'tongue': 4518, 'difference': 1246, 'send': 3875, 'renting': 3629, 'buy': 640, 'chances': 748, 'yesterday': 4983, 'blend': 504, 'mr': 2929, 'favorites': 1672, 'hoping': 2160, 'tony': 4521, 'scott': 3824, 'came': 656, 'water': 4816, 'choice': 797, 'mickey': 2831, 'centered': 733, 'reveals': 3673, 'shell': 3927, 'star': 4150, 'brought': 600, 'cake': 648, 'stinks': 4192, 'tiny': 4500, 'steel': 4173, 'balls': 390, 'fly': 1763, 'lousy': 2667, 'nightmare': 3014, 'others': 3136, 'presence': 3373, 'lovable': 2668, 'jessica': 2398, 'system': 4345, 'nose': 3037, 'heart': 2064, 'advice': 133, 'meet': 2793, 'guys': 2001, 'captured': 677, 'celluloid': 731, 'trouble': 4592, 'causing': 726, 'program': 3424, 'code': 869, 'results': 3662, 'via': 4726, 'aforementioned': 139, 'kubrick': 2496, 'fool': 1779, 'using': 4698, 'hal': 2006, 'represented': 3638, 'encounters': 1467, 'aliens': 184, 'fooled': 1780, 'limited': 2606, 'ranks': 3519, 'moon': 2900, 'rising': 3703, 'crash': 1033, 'bunch': 623, 'possessed': 3347, 'pulling': 3463, 'yelling': 4980, 'eager': 1396, 'battle': 414, 'guns': 1998, 'noise': 3024, 'flash': 1745, 'vice': 4727, 'accompanied': 86, 'motion': 2913, 'mystery': 2956, '40': 48, 'nowhere': 3056, 'rental': 3627, 'room': 3735, 'deals': 1137, 'portrays': 3344, 'guilt': 1994, 'treated': 4573, 'conclusion': 936, 'reaction': 3541, 'teenage': 4389, 'guilty': 1995, 'parties': 3196, 'surviving': 4323, 'incident': 2260, 'busy': 635, 'ensues': 1493, '24': 39, 'block': 508, 'solid': 4057, 'unknown': 4668, 'blew': 505, 'overwhelming': 3157, 'strength': 4219, 'intimate': 2331, 'focus': 1766, 'growing': 1983, 'relationship': 3597, 'elephant': 1444, 'superficial': 4298, 'exposure': 1599, 'minor': 2857, 'noted': 3045, 'recently': 3567, 'latin': 2527, 'del': 1165, 'devils': 1229, 'civil': 826, 'spain': 4091, 'manages': 2725, 'central': 735, 'amounts': 220, 'directly': 1263, 'control': 977, 'relation': 3595, 'execution': 1566, 'jail': 2376, 'absurd': 73, 'degree': 1164, 'britain': 588, 'serial': 3889, 'answer': 251, 'opportunity': 3121, 'cash': 709, 'proceeds': 3411, 'event': 1535, 'compare': 911, 'allowing': 191, 'glimpse': 1919, 'criminal': 1057, 'mental': 2808, 'hospital': 2172, 'achieve': 92, 'deliberately': 1166, 'clues': 865, 'court': 1020, 'remains': 3611, 'killers': 2471, 'aside': 315, 'deeply': 1156, 'disturbed': 1299, 'noticed': 3049, 'satire': 3788, 'suspense': 4330, 'generated': 1882, 'useful': 4694, 'motivations': 2915, 'specific': 4099, 'cultural': 1078, 'poorly': 3329, 'violence': 4747, 'failure': 1629, 'soft': 4051, 'core': 995, 'shown': 3959, 'properly': 3437, 'unnecessary': 4672, 'flesh': 1753, 'table': 4346, 'revealing': 3672, 'extent': 1605, 'partner': 3198, 'scare': 3803, 'broke': 593, 'owner': 3159, 'gun': 1996, 'telling': 4396, 'clothes': 860, 'dinosaurs': 1256, 'former': 1800, 'calls': 654, 'beings': 449, 'era': 1513, 'walter': 4784, 'julia': 2427, 'kenneth': 2455, 'mars': 2746, 'martin': 2748, 'larry': 2520, 'tonight': 4519, 'news': 3005, 'frankenstein': 1822, 'chief': 788, 'lisa': 2616, 'simpson': 3987, 'shouldnt': 3952, 'purely': 3472, 'natural': 2973, 'understanding': 4645, 'gangsters': 1869, 'urge': 4689, 'research': 3644, 'kick': 2460, 'kung': 2498, 'fu': 1844, 'fashion': 1659, 'worn': 4948, 'wear': 4830, 'laws': 2540, 'prison': 3401, 'term': 4405, 'round': 3742, 'weight': 4840, 'dangerous': 1110, 'fascinated': 1657, 'fast': 1661, 'writing': 4971, 'positive': 3346, 'problems': 3409, 'realistic': 3550, 'smile': 4036, 'psychological': 3458, 'test': 4416, 'drug': 1373, 'wrote': 4974, 'philosophical': 3253, 'useless': 4695, 'doubt': 1332, 'ass': 323, 'suffered': 4276, 'boredom': 542, 'professional': 3421, 'surreal': 4317, 'bourne': 554, 'identity': 2217, 'happens': 2029, 'total': 4531, 'honestly': 2147, 'whats': 4860, 'regardless': 3590, 'obnoxious': 3067, 'lights': 2597, 'bear': 420, 'handle': 2018, 'longer': 2645, 'kills': 2474, 'bored': 541, 'effectively': 1430, 'zone': 4999, 'lily': 2605, 'pleasant': 3302, 'judy': 2426, 'standard': 4144, 'heavy': 2070, 'remarkable': 3613, 'spirit': 4113, 'horses': 2171, 'afterwards': 145, 'rain': 3506, 'reminds': 3620, 'chasing': 772, 'horse': 2170, 'dances': 1106, 'indians': 2275, 'stereotypical': 4180, 'road': 3709, 'farce': 1654, 'portrayed': 3342, 'acceptable': 81, 'continue': 969, 'pay': 3216, 'stunts': 4246, 'chinese': 796, 'howard': 2182, 'ball': 388, 'mistakes': 2873, 'pages': 3168, 'tried': 4584, 'awfully': 373, 'sloppy': 4030, 'negative': 2991, 'vote': 4766, 'sounded': 4082, 'events': 1536, 'terribly': 4408, 'exact': 1550, 'successful': 4266, 'stories': 4205, 'contained': 963, 'community': 908, 'vicious': 4728, 'bay': 416, 'sister': 4001, 'sitcom': 4004, 'trio': 4587, 'storm': 4206, 'gentle': 1890, 'rescue': 3643, 'capturing': 679, 'rural': 3758, 'detail': 1217, 'drawing': 1350, 'country': 1014, 'thankfully': 4422, 'developing': 1224, 'sappy': 3784, 'wells': 4845, 'ann': 244, 'mom': 2885, 'offer': 3087, 'capable': 672, 'displays': 1293, 'setting': 3900, 'civilization': 827, '15': 7, 'advance': 127, 'emma': 1457, 'complex': 923, 'changing': 752, 'appreciated': 280, 'losing': 2658, 'effect': 1428, 'closing': 859, 'attractive': 351, 'relationships': 3598, 'men': 2805, 'depth': 1190, 'appealing': 272, 'shallow': 3917, 'midnight': 2834, 'cowboy': 1025, 'drive': 1363, 'joe': 2407, 'buck': 605, 'jon': 2416, 'voight': 4764, 'picks': 3268, 'york': 4985, 'city': 825, 'lots': 2662, 'journey': 2421, 'bus': 631, 'primarily': 3393, 'proved': 3446, 'flashbacks': 1747, 'filmed': 1717, 'deeper': 1155, 'gritty': 1977, 'cruel': 1070, 'flashback': 1746, 'raped': 3522, 'building': 615, 'carried': 698, 'hoffman': 2128, 'food': 1778, 'realizing': 3555, 'mirror': 2861, 'opposite': 3123, 'handsome': 2021, 'appearance': 274, 'sitting': 4007, 'apartment': 265, 'nor': 3032, 'fit': 1740, 'culture': 1079, 'surrounding': 4319, 'trapped': 4564, 'wishes': 4906, 'florida': 1761, 'ideal': 2214, 'fantasy': 1652, 'perspective': 3245, 'wearing': 4831, 'dressed': 1358, 'vacation': 4704, 'fellow': 1691, 'portraying': 3343, 'stellar': 4174, 'youth': 4994, 'players': 3299, 'emotionally': 1460, 'driven': 1365, 'perfectly': 3226, 'emotional': 1459, 'pink': 3277, 'doors': 1329, 'cry': 1073, 'artistic': 308, 'imaginative': 2237, 'amazingly': 210, 'eight': 1436, 'missed': 2867, 'judge': 2424, 'recognized': 3570, 'st': 4137, 'entry': 1504, 'prince': 3396, 'morris': 2908, 'competition': 918, 'each': 1395, 'friendly': 1836, 'aspect': 321, 'friendship': 1838, 'occurred': 3077, 'occur': 3076, 'pre': 3365, 'hear': 2061, 'genius': 1887, 'map': 2733, 'hasnt': 2044, 'focuses': 1768, 'follows': 1775, 'husband': 2204, 'disappeared': 1271, 'mysterious': 2955, 'circumstances': 822, 'adam': 111, 'mass': 2753, 'murderer': 2941, 'switch': 4339, 'protagonist': 3441, 'join': 2412, 'laughs': 2534, 'thoughtful': 4463, 'art': 304, 'jason': 2383, 'overcome': 3151, 'heres': 2087, 'choices': 798, 'improve': 2254, 'wealthy': 4827, 'deceased': 1146, 'castle': 712, 'anyway': 261, 'party': 3200, 'state': 4160, 'curious': 1083, 'brutal': 603, 'buried': 624, 'alive': 186, 'explanation': 1590, 'settings': 3901, 'suited': 4286, 'cars': 702, 'resolution': 3649, 'sexual': 3908, 'appalling': 268, 'grandmother': 1955, 'theaters': 4428, 'popcorn': 3331, 'walked': 4776, 'sat': 3786, 'strongly': 4231, 'eddie': 1416, 'murphy': 2944, 'hysterical': 2208, 'hardly': 2036, 'talking': 4360, 'exist': 1569, 'cartoons': 705, 'rating': 3529, 'drugs': 1374, 'driving': 1368, 'surprisingly': 4316, 'coherent': 871, 'plausible': 3295, 'smoke': 4039, 'becoming': 435, 'gas': 1874, 'americans': 214, 'notable': 3041, 'jones': 2418, 'machine': 2693, 'academy': 77, 'laughing': 2533, 'somebody': 4062, 'catholic': 720, 'understandable': 4644, 'madness': 2698, 'tortured': 4530, 'duty': 1390, 'entertain': 1497, 'pass': 3201, 'connect': 944, 'pointed': 3317, 'fashioned': 1660, 'childrens': 793, 'nowadays': 3055, 'toy': 4542, 'beauty': 430, 'wonder': 4926, 'ages': 152, '1968': 16, 'beautifully': 429, 'shadows': 3913, 'spoil': 4121, 'presentation': 3375, 'faced': 1617, 'tragedy': 4551, 'taking': 4352, 'issue': 2364, 'bob': 524, 'todays': 4509, 'wanna': 4786, 'writer': 4968, 'wrapped': 4964, 'dumb': 1385, 'held': 2074, 'awards': 367, 'garbage': 1870, 'cover': 1022, 'critics': 1064, 'forward': 1808, 'rubbish': 3748, 'dreadful': 1353, 'whatsoever': 4861, 'plenty': 3307, 'blair': 497, 'waste': 4808, 'trash': 4565, 'youve': 4995, 'absolute': 71, 'joy': 2422, 'intentions': 2321, 'honest': 2146, 'reading': 3544, 'testament': 4417, 'australia': 356, 'prime': 3395, 'hong': 2149, 'kong': 2494, 'learning': 2552, 'showed': 3956, 'china': 795, 'indie': 2276, 'exists': 1573, 'daniel': 1111, 'chick': 786, 'western': 4853, 'spoke': 4125, 'meat': 2787, 'ease': 1404, 'imagine': 2238, 'sudden': 4272, 'weakest': 4825, 'till': 4493, 'bore': 540, 'amitabh': 216, 'smoking': 4040, 'akshay': 169, 'colour': 880, 'shark': 3921, 'convey': 982, 'sympathy': 4343, 'dust': 1388, 'produce': 3413, '1990s': 25, 'mafia': 2700, 'conflicts': 940, 'assumed': 329, 'funeral': 1849, 'bite': 489, 'repeatedly': 3632, 'waters': 4817, 'latest': 2526, 'sea': 3838, 'bloody': 513, 'mate': 2765, 'concern': 931, 'evidence': 1546, 'sinister': 3998, 'folks': 1771, 'itll': 2369, 'viewing': 4740, 'zero': 4996, 'entertainment': 1500, 'leading': 2547, 'boys': 559, 'controversial': 978, 'planning': 3291, 'superior': 4300, 'expression': 1602, 'individuals': 2278, 'statement': 4162, 'reasonable': 3558, 'hence': 2083, 'realise': 3548, 'acts': 107, 'leader': 2546, 'intense': 2316, 'likable': 2598, 'nonsense': 3030, 'compelled': 915, 'potential': 3355, 'victim': 4729, 'alone': 194, 'prom': 3429, 'lose': 2654, 'offering': 3089, 'grim': 1974, 'suddenly': 4273, 'crowd': 1067, 'juvenile': 2441, 'masses': 2755, 'sees': 3866, 'creates': 1038, 'doom': 1326, 'massacre': 2754, 'significant': 3972, 'heroes': 2089, 'filming': 1718, 'burning': 627, 'sadness': 3770, 'win': 4892, 'study': 4242, 'brain': 562, 'complicated': 925, 'diamond': 1236, 'crimes': 1056, 'ties': 4490, 'revealed': 3671, 'student': 4238, 'inspector': 2299, 'closest': 857, 'tired': 4501, 'gender': 1878, 'general': 1880, 'dressing': 1359, 'majority': 2712, 'teen': 4388, 'paris': 3189, 'madonna': 2699, 'campy': 664, 'excitement': 1562, 'spectacular': 4101, 'essence': 1521, 'gay': 1876, 'terrific': 4409, 'internet': 2327, 'documentary': 1307, 'capture': 676, 'improved': 2255, 'editor': 1423, 'pick': 3265, 'cgi': 740, 'ship': 3934, 'doc': 1303, 'russian': 3762, 'allowed': 190, 'thick': 4447, 'embarrassed': 1453, 'trek': 4578, 'someones': 4065, 'sexuality': 3909, 'tone': 4517, 'treat': 4572, 'mixed': 2877, 'bag': 384, 'stock': 4193, 'fears': 1677, 'misses': 2868, 'quest': 3486, 'hall': 2009, 'tale': 4353, 'al': 170, 'pacino': 3164, 'boss': 546, 'shines': 3932, 'cusack': 1088, 'melodrama': 2797, 'climax': 849, 'danny': 1112, 'riveting': 3708, 'cliche': 843, 'beat': 423, 'began': 441, 'faith': 1633, 'proceedings': 3410, 'appreciate': 279, 'relative': 3599, 'minded': 2850, 'guest': 1992, 'form': 1798, 'orson': 3132, 'welles': 4844, 'triumph': 4590, 'joseph': 2419, 'serving': 3897, 'ignorant': 2223, 'icon': 2211, 'ladies': 2506, 'tremendous': 4579, 'fat': 1663, 'drunk': 1375, 'considered': 951, 'gary': 1873, 'cooper': 990, 'cary': 706, 'wayne': 4821, 'spike': 4111, 'lee': 2559, 'measure': 2786, 'current': 1084, '100': 1, 'flow': 1762, 'travels': 4569, 'thank': 4421, 'props': 3439, 'website': 4834, 'promise': 3430, 'continuity': 972, 'memory': 2804, 'magical': 2704, 'dying': 1393, 'bed': 436, 'arrives': 302, 'stranger': 4213, 'meanwhile': 2785, 'snow': 4045, 'epic': 1506, 'poem': 3312, 'direct': 1258, 'poetic': 3313, 'forces': 1788, 'surface': 4310, 'tight': 4492, 'houses': 2180, 'bedroom': 437, 'religion': 3607, 'enjoys': 1489, 'sole': 4055, 'strip': 4228, 'awkward': 374, 'handful': 2017, 'opened': 3113, 'reviewer': 3677, 'incredible': 2269, 'forbidden': 1785, 'disagree': 1269, 'happening': 2028, 'air': 164, 'fits': 1741, 'resemblance': 3645, 'gene': 1879, 'household': 2179, 'wrap': 4963, 'existent': 1572, 'wandering': 4785, 'deaths': 1142, 'mistake': 2871, 'thin': 4449, 'locked': 2637, 'worlds': 4947, 'abandoned': 62, 'picked': 3266, 'unseen': 4678, 'scares': 3806, 'graphic': 1958, 'splatter': 4118, 'disbelief': 1277, 'turkey': 4604, 'frankly': 1823, 'originality': 3130, 'dozens': 1339, 'disney': 1289, 'destroying': 1215, 'fond': 1776, '16': 8, 'endearing': 1469, 'birth': 486, 'stands': 4147, 'escapes': 1519, 'graphics': 1959, 'wind': 4893, 'backgrounds': 381, 'remotely': 3623, 'sing': 3992, 'grab': 1949, 'ocean': 3079, 'interviews': 2330, 'equal': 1509, 'letters': 2582, 'fathers': 1667, 'matt': 2768, 'chris': 806, 'campbell': 663, 'team': 4378, 'featured': 1679, 'gordon': 1940, 'adventure': 130, 'empire': 1464, 'figure': 1711, 'bothered': 549, 'result': 3660, 'edition': 1422, 'inane': 2258, 'baby': 376, 'surrounded': 4318, 'pamela': 3179, 'passed': 3202, 'warn': 4797, 'teeth': 4393, 'largely': 2518, 'incoherent': 2265, 'debut': 1143, 'requires': 3642, 'experiences': 1582, 'eerie': 1427, 'challenge': 743, 'notably': 3042, 'proves': 3447, 'wholly': 4874, 'inappropriate': 2259, 'clint': 850, 'eastwood': 1409, 'dirty': 1268, 'catches': 715, 'everyones': 1543, 'hunter': 2199, 'un': 4630, 'practically': 3362, 'rape': 3521, 'inferior': 2285, 'captivating': 675, 'moving': 2928, 'forth': 1804, 'crappy': 1032, 'youd': 4987, 'feet': 1688, 'needed': 2988, 'stunt': 4245, 'genuinely': 1892, 'respect': 3652, 'hung': 2197, 'hed': 2072, 'vehicle': 4718, 'shirley': 3936, 'novel': 3052, 'jumping': 2431, 'recall': 3562, 'theatre': 4429, 'sight': 3969, 'waiting': 4772, 'develop': 1222, 'figured': 1712, 'loosely': 2651, 'reminded': 3619, 'fill': 1714, 'females': 1694, 'literature': 2623, 'increasingly': 2268, 'distant': 1295, 'pulled': 3462, 'bbc': 417, 'shocked': 3939, 'domestic': 1318, 'feminist': 1695, 'heroine': 2091, 'helen': 2075, 'miserable': 2863, 'abusive': 75, 'husbands': 2205, 'fury': 1855, 'price': 3389, 'handled': 2019, 'passion': 3205, 'reviewers': 3678, 'defined': 1160, 'survive': 4321, 'combination': 883, 'passionate': 3206, 'charismatic': 763, 'villain': 4744, 'sink': 3999, 'modern': 2882, 'magazine': 2701, 'chest': 784, 'ralph': 3510, 'ron': 3734, 'gifted': 1907, 'copies': 992, 'spoiled': 4122, 'woody': 4936, 'pity': 3281, 'redemption': 3578, 'commented': 900, 'suicide': 4283, 'sacrifice': 3766, 'seasons': 3844, 'surprises': 4314, 'laughter': 2535, 'paranoia': 3186, 'gangster': 1868, 'touched': 4534, 'immediately': 2242, 'niro': 3019, 'brando': 566, 'generations': 1884, 'thrown': 4481, 'exceptional': 1558, 'davies': 1125, 'careers': 687, 'patrick': 3213, 'talented': 4355, 'challenging': 744, 'range': 3516, 'abilities': 64, 'disappointment': 1275, 'tracy': 4546, 'below': 462, 'lifetime': 2594, 'paying': 3217, 'borrowed': 545, 'cliché': 844, 'cross': 1066, 'recognize': 3569, '1933': 12, 'instance': 2304, 'obsession': 3070, 'contract': 973, 'bridge': 578, 'humorous': 2193, 'appropriate': 283, 'powell': 3358, 'sophisticated': 4075, 'listening': 2620, 'contest': 967, 'radio': 3504, 'twice': 4613, 'par': 3184, 'cube': 1076, 'loser': 2655, 'dave': 1123, 'andrew': 228, 'miller': 2846, 'fights': 1710, 'andrews': 229, 'solo': 4058, 'clark': 832, 'batman': 413, 'pulls': 3464, 'superman': 4301, 'catching': 716, 'fifteen': 1706, 'kidding': 2465, 'inducing': 2279, 'ride': 3692, 'creation': 1040, 'disgusting': 1286, 'placed': 3283, 'center': 732, 'matthew': 2772, 'whale': 4857, 'creatures': 1046, 'constant': 957, 'cup': 1080, 'tea': 4373, 'likely': 2601, 'walk': 4775, 'halfway': 2008, 'screening': 3830, 'definition': 1163, 'wouldve': 4959, 'fallen': 1638, 'foot': 1781, 'tall': 4362, 'property': 3438, 'holiday': 2134, 'land': 2511, 'angela': 232, 'theyve': 4446, 'text': 4419, 'planet': 3289, 'warrior': 4802, 'clichéd': 845, 'impress': 2250, 'dress': 1357, 'purple': 3473, 'mummy': 2937, 'normal': 3033, '1999': 27, 'relief': 3605, 'mechanical': 2788, 'adaptation': 113, 'helping': 2081, 'imdb': 2240, 'irritating': 2359, 'names': 2963, 'amusing': 221, 'easy': 1410, 'betty': 474, 'funnier': 1850, 'jerry': 2396, 'awe': 370, 'hopefully': 2157, 'loses': 2657, 'whether': 4866, 'seven': 3903, 'led': 2558, 'dramas': 1347, 'full': 1846, 'overrated': 3156, 'pursuit': 3476, 'happiness': 2031, 'rolled': 3729, 'thomas': 4458, 'attempting': 342, 'allows': 192, 'access': 83, 'strangers': 4214, 'barry': 401, 'promised': 3431, 'hanging': 2023, 'dealt': 1138, 'composed': 926, 'phone': 3255, 'troubles': 4594, 'folk': 1770, 'medical': 2790, 'survival': 4320, 'print': 3399, 'duke': 1383, 'afraid': 140, 'spending': 4106, 'mix': 2876, 'deserve': 1199, 'step': 4175, 'suffering': 4277, 'blockbuster': 509, 'oscar': 3133, 'travesty': 4570, 'board': 522, 'belief': 451, 'humanity': 2189, 'piano': 3264, 'dawson': 1128, 'beaten': 424, 'lengthy': 2570, 'stays': 4169, 'introduction': 2339, 'fear': 1676, 'wondering': 4930, 'admire': 121, 'kissing': 2484, 'focused': 1767, 'post': 3352, 'pair': 3176, 'uninteresting': 4660, 'ie': 2221, 'kate': 2446, 'questionable': 3488, 'extra': 1606, 'front': 1841, 'mike': 2838, 'ended': 1470, 'horribly': 2164, 'rick': 3689, 'inner': 2292, 'garden': 1872, 'explore': 1594, 'embarrassment': 1455, 'remaining': 3610, 'neighbors': 2994, 'jokes': 2415, 'smaller': 4034, 'appearing': 277, 'area': 286, 'fourth': 1813, 'thrilling': 4474, 'bugs': 613, 'trap': 4563, 'trite': 4589, 'disneys': 1290, 'combined': 885, 'unforgettable': 4652, 'barbara': 397, 'max': 2774, 'von': 4765, 'provides': 3450, 'narrator': 2967, 'four': 1812, 'starred': 4153, 'joan': 2404, 'dynamic': 1394, 'attempted': 341, 'public': 3460, 'depression': 1189, 'survived': 4322, 'boat': 523, 'suggests': 4282, 'swimming': 4338, 'market': 2740, 'mans': 2730, 'johnny': 2410, 'newspaper': 3006, 'buddy': 609, 'cliff': 847, 'activities': 102, 'mob': 2879, 'jake': 2377, 'witnesses': 4916, 'paper': 3183, 'stops': 4203, 'sends': 3876, 'dancer': 1104, 'lively': 2627, 'lies': 2591, 'teenager': 4390, 'douglas': 1334, 'roles': 3727, 'heights': 2073, 'obsessed': 3069, 'glenn': 1918, 'steal': 4170, 'worthwhile': 4955, 'pretentious': 3383, 'phantom': 3251, 'appear': 273, 'blah': 496, 'helps': 2082, 'amateur': 206, 'bonus': 534, 'field': 1704, 'artists': 309, '1990': 24, 'spots': 4132, 'forms': 1801, 'birds': 485, 'technology': 4385, 'colors': 879, 'pictures': 3270, 'eye': 1611, 'candy': 668, 'cg': 739, 'occasional': 3074, 'junior': 2435, 'lame': 2510, 'corny': 997, 'canadian': 667, 'buddies': 608, 'trailer': 4554, 'trashy': 4566, 'advanced': 128, 'shall': 3916, 'affect': 136, 'capital': 673, 'ideas': 2215, 'financial': 1725, 'chose': 804, 'risk': 3704, 'montage': 2894, 'wreck': 4965, 'keaton': 2448, 'parody': 3192, 'episodes': 1508, 'separate': 3883, 'shorts': 3948, 'succeeded': 4263, 'comedies': 889, 'wrestling': 4966, 'references': 3583, 'match': 2762, 'furthermore': 1854, 'blade': 495, 'destiny': 1212, 'der': 1191, 'mild': 2839, 'physical': 3262, 'unintentionally': 4659, 'failing': 1627, 'buildings': 616, 'baseball': 403, 'gag': 1861, 'pal': 3177, 'recorded': 3574, 'vhs': 4725, 'sent': 3880, 'revelation': 3674, 'outstanding': 3147, 'leslie': 2574, 'joey': 2408, 'image': 2233, 'simplistic': 3985, 'west': 4852, 'sin': 3988, 'mature': 2773, 'experienced': 1581, 'hurt': 2202, 'ultimate': 4627, 'principal': 3398, '50s': 52, 'saved': 3795, 'alan': 171, 'prove': 3445, 'roll': 3728, 'repeat': 3630, 'da': 1094, 'ramones': 3512, 'roger': 3724, 'uses': 4697, 'agreed': 156, 'authentic': 358, 'endure': 1475, 'hill': 2108, 'critical': 1062, 'jimmy': 2403, 'drew': 1360, 'charm': 767, 'overly': 3155, 'fever': 1699, 'winner': 4897, 'unrealistic': 4677, 'seat': 3845, 'cat': 713, 'lower': 2677, 'arrested': 298, '11': 2, 'claire': 831, 'danes': 1108, 'dig': 1250, 'associated': 327, 'north': 3036, 'progresses': 3426, 'wondered': 4927, 'sky': 4017, 'easier': 1405, 'scientific': 3817, 'covers': 1024, 'contain': 962, 'martial': 2747, 'arts': 310, 'tense': 4403, 'design': 1202, 'available': 361, 'swedish': 4335, 'centers': 734, 'kiss': 2483, 'drink': 1361, 'provide': 3448, 'sleazy': 4023, 'tame': 4363, 'standards': 4145, 'showcase': 3954, 'compelling': 916, 'bare': 398, 'contains': 964, 'dancers': 1105, 'independent': 2272, 'stilted': 4190, 'bette': 471, 'davis': 1126, 'typically': 4624, 'successfully': 4267, 'roberts': 3714, 'partly': 3197, 'caliber': 649, 'cook': 988, 'dialogues': 1235, 'enjoying': 1487, 'iraq': 2351, 'causes': 725, 'frustration': 1843, 'politics': 3326, 'street': 4216, 'grasp': 1960, 'deadly': 1133, 'game': 1864, 'dollars': 1315, 'womens': 4924, 'breasts': 572, 'junk': 2436, 'extras': 1608, '17': 9, 'alternate': 200, 'theatrical': 4430, 'format': 1799, 'highlight': 2103, 'model': 2880, 'wet': 4855, 'vampires': 4712, 'providing': 3451, 'ripped': 3701, 'member': 2800, 'paint': 3173, 'hunters': 2200, 'reaching': 3539, 'church': 813, 'jumps': 2432, 'hello': 2078, 'sticks': 4186, 'removed': 3624, 'locations': 2636, 'blue': 518, 'clothing': 861, 'widely': 4881, 'homer': 2144, 'royal': 3746, 'terrifying': 4410, 'faithful': 1634, 'struggles': 4235, 'greek': 1970, 'offered': 3088, '35': 45, 'european': 1530, 'france': 1816, 'germany': 1898, 'vivid': 4760, 'existed': 1570, 'shame': 3918, 'kirk': 2482, '2004': 34, 'francis': 1818, 'driver': 1366, 'creativity': 1042, 'ps': 3453, 'terms': 4406, 'limits': 2607, 'washington': 4806, 'sleep': 4024, 'scope': 3821, 'carter': 703, 'skill': 4013, 'engaging': 1481, 'satisfying': 3791, 'neil': 2995, 'dennis': 1179, 'producers': 3416, 'troops': 4591, 'determined': 1221, 'burt': 629, 'cringe': 1059, 'lawrence': 2539, 'bird': 484, 'delightful': 1168, 'ii': 2226, 'june': 2433, 'clever': 841, 'individual': 2277, 'basketball': 409, 'banned': 395, 'university': 4667, 'sign': 3970, 'staff': 4138, 'nicholson': 3011, 'pseudo': 3454, 'conspiracy': 956, 'scripted': 3835, 'convoluted': 987, '45': 50, 'seconds': 3848, 'fitting': 1742, 'mundane': 2938, 'motives': 2916, 'ashamed': 312, 'cameo': 657, 'performed': 3230, 'singers': 3994, 'performers': 3232, 'endings': 1472, 'shed': 3924, 'tears': 4380, '13': 4, 'wake': 4774, 'morning': 2906, 'fed': 1682, 'stereotype': 4178, 'react': 3540, 'larger': 2519, 'elaborate': 1439, 'imagination': 2236, 'identify': 2216, 'goldberg': 1933, 'dinner': 1254, 'adds': 119, 'discussion': 1284, 'rex': 3683, 'illegal': 2229, 'hideous': 2098, 'desired': 1206, 'finger': 1731, 'angry': 238, 'comfortable': 892, '25': 40, 'liners': 2611, 'hits': 2125, 'frequent': 1831, 'national': 2970, 'forest': 1791, 'physically': 3263, 'sick': 3963, 'souls': 4080, 'talents': 4356, 'allen': 188, 'revolves': 3682, 'grave': 1962, 'bumbling': 622, 'remain': 3609, 'needless': 2989, 'suits': 4287, 'fresh': 1833, 'painted': 3174, 'gray': 1963, 'innocent': 2294, 'creators': 1044, 'cult': 1077, 'worried': 4949, 'amazed': 208, 'ground': 1979, 'meeting': 2794, 'dr': 1340, 'jeffrey': 2391, 'correct': 1000, 'kidnapped': 2466, 'precious': 3366, 'ourselves': 3140, 'proper': 3436, 'surely': 4309, 'intelligent': 2314, 'mistaken': 2872, 'share': 3920, 'falk': 1636, 'appreciation': 281, 'craft': 1028, 'summary': 4290, 'quotes': 3497, 'loud': 2664, 'princess': 3397, 'questions': 3489, 'resist': 3648, 'mountain': 2917, 'temple': 4398, 'spider': 4109, 'rob': 3710, 'shut': 3961, 'pack': 3165, 'committed': 905, 'lesbian': 2573, 'selfish': 3870, 'trust': 4598, 'skip': 4016, 'chase': 769, 'sixties': 4011, 'evident': 1547, 'pearl': 3220, 'nearby': 2980, 'horrors': 2169, 'grand': 1953, 'sons': 4073, 'daddy': 1096, 'knowing': 2490, 'diane': 1238, 'lane': 2515, 'lonely': 2643, 'ears': 1402, 'anna': 245, 'unhappy': 4656, 'stayed': 4167, 'pop': 3330, 'lovers': 2673, 'columbo': 881, 'retired': 3664, 'watches': 4814, 'explains': 1589, 'leo': 2571, 'beating': 425, 'bush': 632, 'fairy': 1632, 'tales': 4357, 'stupidity': 4248, 'smart': 4035, 'convincingly': 986, 'cheated': 775, 'tricks': 4583, 'sake': 3775, 'toys': 4543, 'repetitive': 3633, 'alcohol': 176, 'depiction': 1185, 'bitter': 491, '1st': 28, 'mindless': 2851, '3d': 46, 'classics': 837, 'carefully': 689, 'matthau': 2771, 'burns': 628, 'whereas': 4865, 'lewis': 2586, 'comedic': 888, 'contrast': 975, 'creating': 1039, 'conflict': 939, 'confused': 941, 'delivering': 1171, 'quick': 3490, 'eva': 1531, 'agent': 150, 'sutherland': 4333, 'bland': 500, 'parker': 3191, 'importantly': 2248, 'sunday': 4293, 'sub': 4252, 'moronic': 2907, 'express': 1600, 'pokemon': 3320, 'classes': 834, 'escaped': 1518, 'disappear': 1270, 'pet': 3246, 'trailers': 4555, 'uninspired': 4657, 'wisdom': 4902, 'visit': 4755, 'hamilton': 2012, 'documentaries': 1306, 'poignant': 3315, 'conservative': 948, 'views': 4742, 'liberal': 2588, 'messages': 2820, 'station': 4164, 'choreography': 802, 'miscast': 2862, 'fix': 1744, 'ships': 3935, 'chapter': 757, 'invasion': 2340, 'assistant': 326, 'allow': 189, 'captures': 678, 'efforts': 1433, 'soldiers': 4054, 'operation': 3117, 'reasonably': 3559, 'landing': 2512, 'site': 4005, 'kingdom': 2480, 'dear': 1140, 'freedom': 1828, 'initial': 2290, 'wedding': 4836, 'sean': 3840, 'kelly': 2452, 'attend': 344, 'cards': 683, 'irish': 2353, 'weapon': 4828, 'claimed': 829, 'propaganda': 3435, 'claim': 828, 'details': 1219, 'ireland': 2352, 'andy': 230, 'criticism': 1063, 'lone': 2642, 'wolf': 4920, 'monkey': 2890, 'education': 1424, 'minimum': 2856, '3000': 43, 'carrying': 701, 'idiots': 2220, 'unwatchable': 4682, 'spoken': 4126, 'strikes': 4225, 'doomed': 1327, 'accept': 80, 'flaw': 1749, 'speed': 4103, 'tiresome': 4502, 'illogical': 2231, 'technique': 4383, 'cuts': 1091, 'damage': 1099, 'staged': 4140, 'presumably': 3380, 'tied': 4489, 'glorious': 1921, 'clumsy': 866, 'curiosity': 1082, 'size': 4012, 'khan': 2459, 'indian': 2274, 'criminals': 1058, 'circle': 821, 'ms': 2931, 'football': 1783, 'vincent': 4746, 'instant': 2305, 'tune': 4602, 'pg': 3250, 'blown': 516, 'mess': 2818, 'minds': 2852, 'stated': 4161, 'caine': 647, 'refuses': 3587, 'museum': 2945, 'taxi': 4371, 'wonderfully': 4929, 'carrie': 697, 'ring': 3698, 'reaches': 3538, 'blond': 510, 'nancy': 2964, 'outrageous': 3145, 'passes': 3203, 'tie': 4488, 'secretly': 3851, 'relatives': 3601, 'investigation': 2343, 'primary': 3394, 'empty': 1465, 'cousin': 1021, 'decades': 1145, 'upper': 4685, 'slave': 4022, 'sunshine': 4294, 'thrill': 4471, 'downhill': 1336, 'pull': 3461, 'suggest': 4280, 'guarantee': 1987, 'christmas': 810, 'villains': 4745, 'rebel': 3561, 'analysis': 224, 'hey': 2095, 'jackie': 2374, 'chan': 746, 'continues': 971, 'logic': 2638, 'affair': 135, 'involvement': 2347, 'drop': 1369, 'tim': 4494, 'cox': 1026, 'surprising': 4315, 'insulting': 2310, 'angels': 234, 'homeless': 2143, 'distribution': 1298, 'storytelling': 4209, 'cinemas': 817, 'cagney': 646, 'secretary': 3850, 'ruby': 3749, 'enthusiasm': 1501, 'position': 3345, 'ruth': 3763, 'devoted': 1231, 'numbers': 3061, '1930s': 11, 'meant': 2784, 'masters': 2761, 'designed': 1203, 'chorus': 803, 'hotel': 2175, 'floating': 1758, 'achieved': 93, 'hype': 2207, 'celebrity': 729, 'abuse': 74, 'depicted': 1183, 'subtlety': 4261, 'talked': 4359, 'models': 2881, 'portion': 3338, 'nostalgic': 3039, 'sid': 3964, 'following': 1774, 'ian': 2209, 'card': 681, 'minimal': 2855, 'dad': 1095, 'pool': 3327, 'keeps': 2451, 'oil': 3097, 'outcome': 3142, 'helped': 2080, 'artificial': 306, 'wealth': 4826, 'brooklyn': 595, '70': 55, 'christopher': 811, 'walken': 4777, 'matrix': 2767, 'alice': 182, 'parallel': 3185, 'types': 4622, 'neo': 2998, 'draws': 1352, 'richard': 3686, 'hundred': 2195, 'bucks': 606, 'franchise': 1817, '2nd': 41, '3rd': 47, 'captain': 674, 'stolen': 4195, 'source': 4086, 'stealing': 4171, 'progress': 3425, 'stole': 4194, 'clip': 851, 'wizard': 4919, 'oz': 3160, 'spin': 4112, 'pulp': 3465, 'robots': 3718, 'reminiscent': 3621, 'iron': 2354, 'artist': 307, 'countless': 1012, 'wars': 4804, 'menace': 2806, 'imagery': 2234, 'justify': 2439, 'urban': 4688, 'accurate': 90, 'bud': 607, 'conceived': 929, 'received': 3564, 'blob': 507, 'crocodile': 1065, 'witnessed': 4915, 'cost': 1003, 'sexually': 3910, 'assault': 324, 'honor': 2150, 'anderson': 227, 'gothic': 1945, 'tarzan': 4367, 'holding': 2130, 'tender': 4401, 'ham': 2011, 'delight': 1167, 'philip': 3252, 'drunken': 1376, 'retarded': 3663, 'antics': 255, 'lesson': 2577, 'flop': 1760, 'manhattan': 2726, '2007': 37, 'shortly': 3947, 'treasure': 4571, 'disappoint': 1272, 'broadway': 592, 'arrival': 299, 'jobs': 2406, 'jenny': 2393, 'reach': 3536, 'rushed': 3760, 'animal': 239, 'bears': 421, 'ruin': 3750, 'installment': 2303, 'claims': 830, 'lie': 2590, 'thru': 4483, 'facial': 1619, 'adding': 117, 'vegas': 4717, 'standing': 4146, 'condition': 937, 'mgm': 2828, 'thanks': 4423, 'horrendous': 2162, 'conversation': 980, 'infamous': 2284, 'aged': 149, 'pleasure': 3306, 'category': 718, 'mistress': 2874, 'sidekick': 3966, 'letting': 2583, 'gags': 1862, 'nude': 3058, 'courage': 1018, 'asking': 318, 'display': 1291, 'vaguely': 4706, 'intellectual': 2312, 'beast': 422, 'butler': 637, 'topic': 4526, 'fired': 1735, 'bleak': 503, 'web': 4833, 'holds': 2131, 'stone': 4197, 'wall': 4781, 'canada': 666, 'existence': 1571, 'yeah': 4977, 'steps': 4177, 'sisters': 4002, 'bull': 619, 'unexpected': 4650, 'lasted': 2522, 'winning': 4898, 'engaged': 1480, 'variety': 4714, 'behavior': 446, 'advantage': 129, 'push': 3477, 'button': 639, 'wasting': 4810, 'valuable': 4708, 'titles': 4506, 'irony': 2357, 'dry': 1377, 'imitation': 2241, 'lawyer': 2541, 'suspects': 4328, 'plots': 3310, 'master': 2757, 'burned': 626, 'thrillers': 4473, 'hollywoods': 2138, 'rap': 3520, 'tap': 4364, 'studio': 4240, 'deserved': 1200, 'lou': 2663, 'anybody': 257, 'initially': 2291, 'silver': 3977, 'dvds': 1392, 'industry': 2280, 'secrets': 3852, 'guard': 1988, 'library': 2589, 'timeless': 4496, 'europe': 1529, 'oscars': 3134, 'talks': 4361, 'beach': 419, 'winter': 4900, 'ashley': 313, 'victor': 4731, 'speaks': 4096, 'viewed': 4737, 'darkness': 1117, 'section': 3853, 'kudos': 2497, 'harvey': 2042, 'revolution': 3680, 'cuba': 1075, 'thief': 4448, 'loaded': 2632, 'horrifying': 2167, 'naive': 2958, 'melting': 2799, 'surfing': 4311, 'channels': 754, 'cable': 644, 'con': 928, 'destroyed': 1214, 'suffice': 4279, 'nomination': 3026, 'dogs': 1311, 'reynolds': 3684, 'grew': 1972, 'spirits': 4115, 'strictly': 4223, 'fighting': 1709, 'wonders': 4931, 'inspiration': 2300, 'rolling': 3730, 'stones': 4198, 'stephen': 4176, 'karen': 2444, 'nail': 2957, 'burn': 625, 'dutch': 1389, 'hearts': 2066, 'psychotic': 3459, 'exploration': 1593, 'buffs': 612, 'sincere': 3991, 'meaningful': 2781, 'lol': 2640, 'chicks': 787, 'wound': 4960, 'evening': 1534, 'albeit': 173, 'lake': 2509, 'dinosaur': 1255, 'grows': 1985, 'goofy': 1939, 'southern': 4088, 'sheriff': 3929, 'guide': 1993, 'ruins': 3752, 'trade': 4547, 'screenwriter': 3833, 'credible': 1048, 'thumbs': 4485, 'rank': 3518, 'heroic': 2090, 'concerning': 933, 'hilariously': 2107, 'robbery': 3711, 'likewise': 2603, 'pops': 3332, 'comparison': 914, 'chain': 741, 'unfunny': 4655, 'reed': 3580, 'stinker': 4191, 'downright': 1337, 'tons': 4520, 'speaking': 4095, 'beatty': 427, 'nights': 3016, 'scheme': 3812, 'notch': 3043, 'detailed': 1218, 'mixture': 2878, 'flawed': 1750, 'fully': 1847, 'key': 2458, 'cardboard': 682, 'aimed': 162, 'paced': 3162, 'butt': 638, 'vs': 4767, 'formula': 1802, 'ticket': 4487, 'throat': 4476, 'rangers': 3517, 'classical': 836, 'flynn': 1765, 'anthony': 253, 'carpenter': 694, 'rendition': 3625, 'mentally': 2809, 'sweet': 4336, 'official': 3094, 'landscape': 2513, 'hide': 2097, 'shadow': 3912, 'landscapes': 2514, 'dozen': 1338, 'connected': 945, 'corner': 996, 'commercial': 902, 'trademark': 4548, 'planned': 3290, 'margaret': 2735, 'garbo': 1871, 'nevertheless': 3002, 'massive': 2756, 'mail': 2706, 'witness': 4914, 'united': 4664, 'streets': 4217, 'terror': 4412, 'eve': 1532, 'boom': 537, 'jackson': 2375, 'fortune': 1806, '1972': 18, 'cd': 728, 'tradition': 4549, 'walker': 4778, 'shape': 3919, 'twilight': 4614, 'expensive': 1579, 'stanley': 4148, 'adams': 112, 'professor': 3422, 'president': 3378, 'equipment': 1511, 'frequently': 1832, 'norman': 3035, 'picking': 3267, 'appearances': 275, 'jesse': 2397, 'welcome': 4842, 'introduces': 2338, 'enterprise': 1495, 'performer': 3231, 'anyways': 262, 'matches': 2764, 'ted': 4386, 'hart': 2041, 'dolls': 1316, 'luck': 2681, 'search': 3841, 'monk': 2889, 'protect': 3443, 'performs': 3234, 'tree': 4576, 'elegant': 1441, 'plight': 3308, 'thousand': 4465, 'sun': 4292, 'honesty': 2148, 'resources': 3651, 'idiot': 2218, 'christ': 807, 'miracle': 2860, 'inspiring': 2302, 'teacher': 4375, 'inspired': 2301, 'tag': 4348, 'suffer': 4275, 'answers': 252, 'solution': 4059, 'cameras': 660, 'greed': 1968, 'vietnam': 4735, 'intrigued': 2334, 'directions': 1262, 'sellers': 3872, 'mighty': 2836, 'defend': 1158, 'discovery': 1282, 'mask': 2752, 'symbolism': 4341, 'importance': 2246, 'wave': 4818, 'packed': 3166, 'cabin': 643, 'mine': 2853, 'weapons': 4829, '14': 6, 'jet': 2400, 'li': 2587, 'pregnant': 3369, 'brenda': 575, 'root': 3737, 'soccer': 4048, 'iran': 2350, 'amongst': 218, 'interview': 2329, 'anime': 243, 'witty': 4917, 'dub': 1378, 'mst3k': 2932, 'remake': 3612, 'presents': 3377, 'sidney': 3968, 'lumet': 2688, 'clue': 864, 'health': 2060, 'worker': 4942, 'brady': 561, 'theory': 4437, 'overacting': 3149, 'intelligence': 2313, 'segments': 3868, 'widmark': 4882, 'wins': 4899, 'dude': 1381, 'disc': 1278, 'window': 4894, 'shining': 3933, 'harris': 2038, 'chilling': 794, 'normally': 3034, 'formulaic': 1803, 'directs': 1267, 'lacking': 2504, 'lucas': 2680, 'tape': 4365, 'grinch': 1975, 'taylor': 4372, 'alert': 178, 'quote': 3496, 'response': 3654, 'descent': 1193, 'choreographed': 801, 'phony': 3256, 'sits': 4006, 'rachel': 3500, 'elvira': 1450, 'immensely': 2243, 'insult': 2309, 'dies': 1245, 'unfortunate': 4653, 'suspend': 4329, 'drives': 1367, 'cities': 823, 'closer': 856, 'confusion': 943, 'fields': 1705, 'experiment': 1583, 'photos': 3261, 'required': 3641, 'regret': 3591, 'facing': 1620, 'sarah': 3785, 'quirky': 3493, 'wears': 4832, 'demon': 1177, 'corpse': 999, 'transfer': 4559, 'ben': 463, 'diana': 1237, 'soviet': 4089, 'incomprehensible': 2267, 'hole': 2132, 'masterful': 2758, 'sinatra': 3989, 'scenario': 3808, 'drags': 1345, 'warner': 4799, 'suspicious': 4332, 'plans': 3292, 'drag': 1342, 'corrupt': 1001, 'enemy': 1477, 'sympathetic': 4342, 'adequate': 120, 'delivery': 1173, 'everywhere': 1545, 'angles': 237, 'wwii': 4975, 'maria': 2736, 'workers': 4943, 'absence': 70, 'despair': 1207, 'prostitute': 3440, 'noble': 3021, 'tend': 4400, 'unbearable': 4633, 'wes': 4851, 'craven': 1034, 'built': 618, 'splendid': 4119, 'elsewhere': 1449, 'georges': 1894, 'cinematographer': 819, 'christian': 808, 'kings': 2481, 'gerard': 1895, 'ironically': 2356, 'popularity': 3334, 'benefit': 465, 'remarkably': 3614, 'fare': 1655, 'pile': 3275, 'twin': 4615, 'afford': 138, 'respected': 3653, 'corruption': 1002, '18': 10, 'invisible': 2344, 'service': 3896, 'hooked': 2153, 'jerk': 2395, 'hook': 2152, 'cinderella': 815, '2000': 30, 'stood': 4199, 'india': 2273, 'shirt': 3937, 'wannabe': 4787, 'comedian': 887, 'philosophy': 3254, 'arthur': 305, 'sir': 4000, 'balance': 387, 'menacing': 2807, 'samurai': 3779, 'japan': 2381, 'metal': 2823, 'army': 295, 'battles': 415, 'kicking': 2462, 'innovative': 2295, 'unit': 4663, 'obscure': 3068, 'ghosts': 1903, 'stevens': 4183, 'francisco': 1819, 'thrills': 4475, 'werewolf': 4850, '1996': 26, 'jesus': 2399, 'faults': 1669, 'morality': 2903, 'represents': 3639, 'dragged': 1343, 'lena': 2568, 'careful': 688, 'fonda': 1777, 'oliver': 3102, 'mrs': 2930, 'musicals': 2948, 'seeking': 3859, 'rush': 3759, 'uneven': 4649, 'generous': 1886, 'disjointed': 1287, 'paltrow': 3178, 'excessive': 1560, 'alike': 185, 'survivor': 4324, 'manipulative': 2727, 'chosen': 805, 'link': 2613, 'cage': 645, 'repeated': 3631, 'considerable': 950, 'species': 4098, 'illness': 2230, 'buying': 641, 'amy': 222, 'futuristic': 1857, 'steven': 4182, 'split': 4120, 'similarities': 3979, 'scrooge': 3837, 'aka': 168, 'bakshi': 386, 'rabbit': 3498, 'annoyed': 248, 'strangely': 4212, 'studios': 4241, 'burton': 630, 'boll': 529, 'uwe': 4703, 'fay': 1674, 'overdone': 3152, 'unpredictable': 4675, 'spiritual': 4116, 'bergman': 466, 'julie': 2428, 'pig': 3274, 'builds': 617, 'logical': 2639, 'mouse': 2919, 'mere': 2814, 'shine': 3931, 'handed': 2016, 'marks': 2742, 'snl': 4044, 'rose': 3739, 'bang': 393, 'seagal': 3839, 'executive': 1567, 'chair': 742, 'hated': 2047, 'anger': 235, 'scooby': 3820, 'doo': 1325, 'twelve': 4611, 'bela': 450, 'nonsensical': 3031, 'bo': 521, 'trained': 4557, 'bet': 470, 'enters': 1496, 'catchy': 717, 'belong': 459, 'merit': 2816, 'peace': 3219, '40s': 49, 'lately': 2524, 'intensity': 2317, 'teenagers': 4391, 'catch': 714, 'traveling': 4568, 'wishing': 4907, 'brand': 565, 'branagh': 564, 'union': 4661, 'pleasantly': 3303, 'simmons': 3981, 'highlights': 2104, 'damon': 1101, 'leonard': 2572, 'henry': 2084, 'brilliantly': 584, 'believed': 455, 'abraham': 69, 'lincoln': 2608, 'lynch': 2691, 'beneath': 464, 'trial': 4580, 'ford': 1789, 'network': 3000, 'halloween': 2010, 'concert': 935, 'williams': 4888, 'donald': 1321, 'ginger': 1908, 'rogers': 3725, 'mitchell': 2875, 'recognition': 3568, 'calling': 653, 'vast': 4716, 'racist': 3503, 'offended': 3085, 'san': 3780, 'danger': 1109, 'nuclear': 3057, 'defense': 1159, 'prequel': 3372, 'horrific': 2166, 'discovers': 1281, 'prisoners': 3403, 'moore': 2901, 'twisted': 4618, 'neat': 2982, 'merits': 2817, 'victoria': 4732, 'cell': 730, 'letter': 2581, 'provoking': 3452, 'included': 2262, 'christians': 809, 'raise': 3507, 'jeff': 2390, 'photographer': 3259, 'ratings': 3530, 'nick': 3012, 'border': 539, 'doll': 1313, 'stopped': 4202, 'projects': 3428, '60': 53, 'citizen': 824, 'kane': 2442, 'roman': 3731, 'hurts': 2203, 'grey': 1973, 'ought': 3138, 'receive': 3563, 'improvement': 2256, 'scale': 3802, 'hip': 2114, 'gotta': 1946, 'adapted': 114, 'cameos': 658, 'listed': 2618, 'merely': 2815, 'upset': 4687, 'spooky': 4128, 'nightmares': 3015, 'virginia': 4750, 'namely': 2962, 'elm': 1447, 'achievement': 94, 'hood': 2151, 'africa': 141, 'jaw': 2384, 'pan': 3180, 'dreary': 1356, 'waves': 4819, 'iii': 2227, 'fatal': 1664, 'veteran': 4724, 'ordinary': 3128, 'astaire': 330, 'ridiculously': 3694, 'fancy': 1649, 'unreal': 4676, 'contrived': 976, 'ridden': 3691, 'embarrassing': 1454, 'daily': 1097, 'suitable': 4285, 'communist': 907, 'purposes': 3475, 'chases': 771, 'murders': 2943, 'crush': 1072, 'hammer': 2014, 'stretched': 4222, 'jeremy': 2394, 'approach': 282, 'horrid': 2165, 'tommy': 4516, 'companion': 909, 'edward': 1426, 'flight': 1757, 'terrorist': 4413, 'plane': 3288, 'luckily': 2682, 'countryside': 1015, 'germans': 1897, 'anne': 246, 'nazis': 2978, 'nazi': 2977, 'possibilities': 3348, 'report': 3635, 'cannibal': 669, 'refreshing': 3586, 'seventies': 3904, 'eighties': 1437, 'screams': 3828, 'dignity': 1252, 'suspenseful': 4331, 'shoes': 3941, 'trees': 4577, 'nelson': 2997, 'prior': 3400, 'troubled': 4593, 'clown': 862, 'apes': 267, 'macy': 2695, 'hank': 2024, 'stiller': 4189, 'roy': 3745, 'emily': 1456, 'mile': 2842, 'rival': 3706, 'square': 4136, 'dentist': 1180, 'richards': 3687, 'daring': 1114, 'ice': 2210, 'arnold': 296, 'devoid': 1230, 'advertising': 132, 'distinct': 1296, 'lying': 2690, 'complexity': 924, 'waited': 4771, 'carl': 692, 'mall': 2720, 'visible': 4753, 'wicked': 4879, 'hat': 2045, 'edgar': 1417, 'kennedy': 2454, 'routine': 3743, 'robot': 3717, 'east': 1407, 'warming': 4795, 'childish': 791, 'neighbor': 2992, 'coffee': 870, 'rocks': 3722, 'universal': 4665, 'dropped': 1370, 'threw': 4470, 'reduced': 3579, 'blows': 517, 'pride': 3391, 'holy': 2140, 'yellow': 4981, 'spring': 4134, 'susan': 4326, 'craig': 1030, 'understated': 4646, 'threat': 4467, 'similarly': 3980, 'satan': 3787, 'freddy': 1826, 'cruise': 1071, 'bathroom': 412, 'opinions': 3119, 'pro': 3406, 'seed': 3856, 'beliefs': 452, 'colorful': 878, 'gripping': 1976, 'rights': 3697, 'hbo': 2055, 'jumped': 2430, 'brosnan': 597, 'lees': 2560, 'miserably': 2864, 'defeat': 1157, 'petty': 3249, 'miles': 2843, 'nostalgia': 3038, 'undoubtedly': 4648, 'rats': 3531, 'aired': 165, 'millions': 2848, 'aspects': 322, 'mainstream': 2709, 'september': 3884, 'bin': 483, 'aids': 161, 'ken': 2453, 'attacked': 338, 'hyde': 2206, 'titled': 4505, 'elderly': 1440, 'ruined': 3751, 'haunted': 2050, 'heat': 2067, 'reflect': 3584, 'greatly': 1967, 'basement': 405, 'checking': 778, 'closet': 858, 'haunting': 2051, 'savage': 3793, 'bat': 410, 'league': 2549, 'alexander': 180, 'painting': 3175, 'widow': 4883, 'accident': 84, 'bride': 577, 'depicting': 1184, 'guts': 1999, 'punishment': 3467, 'environment': 1505, 'groups': 1981, 'deaf': 1134, 'stale': 4141, 'spare': 4093, 'photographed': 3258, 'wallace': 4782, 'ingredients': 2289, 'bollywood': 530, 'opportunities': 3120, 'tad': 4347, '2005': 35, 'reads': 3545, 'maintain': 2710, 'fictional': 1703, 'scripts': 3836, 'dolph': 1317, 'poetry': 3314, 'ultra': 4629, 'goal': 1925, 'emphasis': 1463, 'womans': 4922, 'walks': 4780, 'linda': 2609, 'legal': 2563, 'serve': 3893, 'explored': 1595, 'relations': 3596, 'berlin': 467, 'cats': 721, 'kay': 2447, 'glory': 1922, 'bold': 528, 'alex': 179, 'willing': 4889, 'johnson': 2411, 'training': 4558, 'displayed': 1292, 'punch': 3466, 'elvis': 1451, 'voiced': 4762, 'backdrop': 379, 'journalist': 2420, 'eastern': 1408, 'cia': 814, 'bath': 411, 'necessarily': 2983, 'estate': 1525, 'combine': 884, 'giallo': 1904, 'killings': 2473, 'aint': 163, 'definite': 1161, 'frustrated': 1842, 'manager': 2724, 'press': 3379, 'tracks': 4545, 'writes': 4970, 'admittedly': 123, 'explaining': 1588, 'album': 175, 'versus': 4722, 'argue': 290, 'freak': 1824, 'comparing': 913, 'returned': 3666, 'rochester': 3719, 'decisions': 1152, 'sentence': 3881, 'ethan': 1528, 'hop': 2154, 'pushed': 3478, 'marvelous': 2750, 'blank': 501, 'denzel': 1181, 'unaware': 4632, 'viewings': 4741, 'lucy': 2684, 'factory': 1623, 'recording': 3575, 'curtis': 1087, 'bible': 477, 'theyd': 4443, 'equivalent': 1512, 'screens': 3832, 'demented': 1176, 'makeup': 2717, 'nurse': 3063, 'glass': 1917, 'panic': 3181, 'counter': 1011, 'destroy': 1213, 'melodramatic': 2798, 'unlikely': 4671, 'robin': 3715, 'nervous': 2999, 'humble': 2191, 'interaction': 2322, 'blunt': 520, 'rotten': 3740, 'unoriginal': 4673, 'remarks': 3615, 'wished': 4905, 'newly': 3004, 'aging': 153, 'corporate': 998, 'eccentric': 1414, 'generic': 1885, 'brazil': 568, 'stress': 4220, 'relevant': 3604, 'abc': 63, 'swear': 4334, 'sides': 3967, 'contrary': 974, 'author': 359, 'albert': 174, 'maggie': 2702, 'persons': 3244, 'offensive': 3086, 'path': 3209, 'heck': 2071, 'overlooked': 3154, 'desperation': 1210, 'levels': 2585, 'ha': 2002, 'hired': 2117, 'sam': 3777, 'mann': 2728, 'orders': 3127, 'global': 1920, 'audio': 354, 'airplane': 166, 'territory': 4411, 'prisoner': 3402, 'rid': 3690, 'murderous': 2942, 'mothers': 2912, 'cried': 1054, 'hitting': 2126, 'belongs': 460, 'conventional': 979, 'cared': 685, 'truck': 4595, 'westerns': 4854, 'established': 1524, 'lay': 2542, 'beer': 439, 'stooges': 4200, 'blake': 498, 'row': 3744, 'fbi': 1675, '1973': 19, 'lion': 2614, 'believing': 457, 'hoped': 2156, 'spoof': 4127, 'navy': 2976, 'officers': 3093, 'americas': 215, 'kicks': 2463, 'warren': 4801, 'rat': 3525, 'warriors': 4803, 'rocky': 3723, 'wacky': 4769, 'riding': 3695, 'ear': 1397, 'heston': 2094, 'ellen': 1446, 'synopsis': 4344, 'online': 3109, 'integrity': 2311, 'method': 2824, 'franco': 1820, 'exposed': 1598, 'myers': 2952, 'notes': 3046, 'elizabeth': 1445, 'bottle': 550, 'odds': 3082, 'godfather': 1927, 'orange': 3125, 'dating': 1120, 'task': 4368, 'titanic': 4503, 'hints': 2113, 'object': 3066, 'politically': 3325, 'performing': 3233, 'derek': 1192, 'sandra': 3782, 'virgin': 4749, 'intentionally': 2320, 'foster': 1809, 'pants': 3182, 'valley': 4707, 'mansion': 2731, 'argument': 291, 'fisher': 1739, 'jaws': 2385, 'teach': 4374, 'transition': 4561, 'polished': 3323, 'grandfather': 1954, 'feed': 1683, 'hudson': 2184, 'march': 2734, 'winters': 4901, 'mountains': 2918, 'guessed': 1990, 'satisfied': 3789, 'portrait': 3339, 'amanda': 205, 'teaching': 4377, 'messed': 2821, 'cameron': 661, 'spielberg': 4110, 'commercials': 903, 'kurt': 2499, 'gundam': 1997, 'month': 2896, 'lessons': 2578, 'rings': 3699, 'involve': 2345, 'misery': 2865, 'patients': 3212, 'bound': 553, 'jane': 2380, 'eyre': 1614, '1983': 22, 'creep': 1051, 'subplot': 4255, 'styles': 4250, 'unsettling': 4679, 'streep': 4215, 'alongside': 196, 'nine': 3017, 'dickens': 1240, 'restored': 3659, 'vengeance': 4719, 'leg': 2562, 'educational': 1425, 'empathy': 1462, 'preview': 3386, 'hates': 2048, 'parent': 3187, 'randomly': 3515, 'jamie': 2379, 'credibility': 1047, 'bargain': 400, 'specifically': 4100, 'inventive': 2341, 'miike': 2837, 'brooks': 596, 'blacks': 494, 'doctors': 1305, 'instinct': 2308, 'witches': 4910, 'complain': 919, 'sandler': 3781, 'wendy': 4846, 'responsibility': 3655, 'seeks': 3860, 'stanwyck': 4149, 'lyrics': 2692, 'streisand': 4218, 'solely': 4056, 'arrogant': 303, 'lifestyle': 2593, 'doubts': 1333, 'familys': 1646, 'wounded': 4961, 'raymond': 3534, 'assigned': 325, 'attorney': 348, 'ward': 4793, 'receives': 3565, 'vulnerable': 4768, 'richardson': 3688, 'lowest': 2678, 'exaggerated': 1552, 'bacall': 377, 'broad': 590, 'expressed': 1601, 'plant': 3293, 'ho': 2127, 'distracting': 1297, 'wives': 4918, 'gandhi': 1866, 'historically': 2120, 'destruction': 1216, 'methods': 2825, 'greedy': 1969, 'suggested': 4281, 'hippie': 2115, 'spread': 4133, 'mtv': 2933, 'neighborhood': 2993, 'trail': 4553, 'swim': 4337, 'engage': 1479, 'settle': 3902, 'confidence': 938, 'bullets': 621, 'holmes': 2139, 'pot': 3354, 'experiments': 1584, 'tomatoes': 4515, 'terrorists': 4414, 'olivier': 3103, 'perform': 3227, 'crisis': 1060, 'alcoholic': 177, 'quit': 3494, 'dracula': 1341, 'hollow': 2135, 'mentioning': 2812, 'muslim': 2949, 'laura': 2536, 'prize': 3405, 'attacks': 339, 'shake': 3914, 'los': 2653, 'angeles': 233, 'thugs': 4484, 'wed': 4835, 'karloff': 2445, 'lugosi': 2686, 'gadget': 1860, 'inevitably': 2283, 'stan': 4142, 'laurel': 2537, 'hardy': 2037, 'mayor': 2777, 'jonathan': 2417, 'occasion': 3073, 'bobby': 525, 'hills': 2109, 'satisfy': 3790, 'practice': 3363, 'calm': 655, 'donna': 1323, '1984': 23, 'competent': 917, 'mario': 2738, 'subjects': 4254, 'justin': 2440, 'michelle': 2830, 'dropping': 1371, 'machines': 2694, 'senseless': 3878, 'sounding': 4083, 'constructed': 959, 'hopper': 2161, 'championship': 745, 'severe': 3906, 'cleverly': 842, 'worry': 4950, 'robbins': 3712, 'focusing': 1769, 'holly': 2136, 'pat': 3208, 'omen': 3104, 'forty': 1807, 'pit': 3278, 'babe': 375, 'priceless': 3390, 'signed': 3971, 'montana': 2895, 'attitudes': 347, 'boxing': 556, 'enemies': 1476, 'ape': 266, 'todd': 4510, 'staying': 4168, 'felix': 1689, 'sport': 4129, 'twins': 4616, 'fulci': 1845, 'russell': 3761, 'winds': 4895, 'raising': 3509, 'foul': 1810, 'comics': 895, 'mildred': 2841, 'domino': 1319, 'divorce': 1301, 'losers': 2656, 'arrived': 301, 'depressed': 1187, 'annie': 247, 'korean': 2495, 'polanski': 3321, 'scarecrow': 3804, 'blues': 519, 'stargate': 4151, 'che': 773, 'mel': 2796, 'paulie': 3215, 'earl': 1398, 'incompetent': 2266, 'chess': 783, 'modesty': 2883, 'behave': 445, 'edie': 1419, 'discuss': 1283, 'shelley': 3928, 'depicts': 1186, 'sullivan': 4288}\n"
     ]
    }
   ],
   "source": [
    "print(str(vocabulary))"
   ]
  },
  {
   "cell_type": "markdown",
   "metadata": {},
   "source": [
    "Once you have added the endpoint name to the Lambda function, click on **Save**. Your Lambda function is now up and running. Next we need to create a way for our web app to execute the Lambda function."
   ]
  },
  {
   "cell_type": "markdown",
   "metadata": {},
   "source": [
    "### Setting up API Gateway\n",
    "\n",
    "Now that our Lambda function is set up, it is time to create a new API using API Gateway that will trigger the Lambda function we have just created.\n",
    "\n",
    "Using AWS Console, navigate to **Amazon API Gateway** and then click on **Get started**.\n",
    "\n",
    "On the next page, make sure that **New API** is selected and give the new api a name, for example, `sentiment_analysis_web_app`. Then, click on **Create API**.\n",
    "\n",
    "Now we have created an API, however it doesn't currently do anything. What we want it to do is to trigger the Lambda function that we created earlier.\n",
    "\n",
    "Select the **Actions** dropdown menu and click **Create Method**. A new blank method will be created, select its dropdown menu and select **POST**, then click on the check mark beside it.\n",
    "\n",
    "For the integration point, make sure that **Lambda Function** is selected and click on the **Use Lambda Proxy integration**. This option makes sure that the data that is sent to the API is then sent directly to the Lambda function with no processing. It also means that the return value must be a proper response object as it will also not be processed by API Gateway.\n",
    "\n",
    "Type the name of the Lambda function you created earlier into the **Lambda Function** text entry box and then click on **Save**. Click on **OK** in the pop-up box that then appears, giving permission to API Gateway to invoke the Lambda function you created.\n",
    "\n",
    "The last step in creating the API Gateway is to select the **Actions** dropdown and click on **Deploy API**. You will need to create a new Deployment stage and name it anything you like, for example `prod`.\n",
    "\n",
    "You have now successfully set up a public API to access your SageMaker model. Make sure to copy or write down the URL provided to invoke your newly created public API as this will be needed in the next step. This URL can be found at the top of the page, highlighted in blue next to the text **Invoke URL**."
   ]
  },
  {
   "cell_type": "markdown",
   "metadata": {},
   "source": [
    "## Step 7: Deploying our web app\n",
    "\n",
    "Now that we have a publicly available API, we can start using it in a web app. For our purposes, we have provided a simple static html file which can make use of the public api you created earlier.\n",
    "\n",
    "In the `website` folder there should be a file called `index.html`. Download the file to your computer and open that file up in a text editor of your choice. There should be a line which contains **\\*\\*REPLACE WITH PUBLIC API URL\\*\\***. Replace this string with the url that you wrote down in the last step and then save the file.\n",
    "\n",
    "Now, if you open `index.html` on your local computer, your browser will behave as a local web server and you can use the provided site to interact with your SageMaker model.\n",
    "\n",
    "If you'd like to go further, you can host this html file anywhere you'd like, for example using github or hosting a static site on Amazon's S3. Once you have done this you can share the link with anyone you'd like and have them play with it too!\n",
    "\n",
    "> **Important Note** In order for the web app to communicate with the SageMaker endpoint, the endpoint has to actually be deployed and running. This means that you are paying for it. Make sure that the endpoint is running when you want to use the web app but that you shut it down when you don't need it, otherwise you will end up with a surprisingly large AWS bill."
   ]
  },
  {
   "cell_type": "markdown",
   "metadata": {},
   "source": [
    "### Delete the endpoint\n",
    "\n",
    "Remember to always shut down your endpoint if you are no longer using it. You are charged for the length of time that the endpoint is running so if you forget and leave it on you could end up with an unexpectedly large bill."
   ]
  },
  {
   "cell_type": "code",
   "execution_count": 51,
   "metadata": {},
   "outputs": [],
   "source": [
    "xgb_predictor.delete_endpoint()"
   ]
  },
  {
   "cell_type": "markdown",
   "metadata": {},
   "source": [
    "## Optional: Clean up\n",
    "\n",
    "The default notebook instance on SageMaker doesn't have a lot of excess disk space available. As you continue to complete and execute notebooks you will eventually fill up this disk space, leading to errors which can be difficult to diagnose. Once you are completely finished using a notebook it is a good idea to remove the files that you created along the way. Of course, you can do this from the terminal or from the notebook hub if you would like. The cell below contains some commands to clean up the created files from within the notebook."
   ]
  },
  {
   "cell_type": "code",
   "execution_count": 52,
   "metadata": {},
   "outputs": [],
   "source": [
    "# First we will remove all of the files contained in the data_dir directory\n",
    "!rm $data_dir/*\n",
    "\n",
    "# And then we delete the directory itself\n",
    "!rmdir $data_dir\n",
    "\n",
    "# Similarly we remove the files in the cache_dir directory and the directory itself\n",
    "!rm $cache_dir/*\n",
    "!rmdir $cache_dir"
   ]
  },
  {
   "cell_type": "code",
   "execution_count": null,
   "metadata": {},
   "outputs": [],
   "source": []
  }
 ],
 "metadata": {
  "kernelspec": {
   "display_name": "conda_python3",
   "language": "python",
   "name": "conda_python3"
  },
  "language_info": {
   "codemirror_mode": {
    "name": "ipython",
    "version": 3
   },
   "file_extension": ".py",
   "mimetype": "text/x-python",
   "name": "python",
   "nbconvert_exporter": "python",
   "pygments_lexer": "ipython3",
   "version": "3.6.10"
  }
 },
 "nbformat": 4,
 "nbformat_minor": 2
}
