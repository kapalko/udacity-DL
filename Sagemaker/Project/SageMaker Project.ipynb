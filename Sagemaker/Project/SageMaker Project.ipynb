{
 "cells": [
  {
   "cell_type": "markdown",
   "metadata": {},
   "source": [
    "# Creating a Sentiment Analysis Web App\n",
    "## Using PyTorch and SageMaker\n",
    "\n",
    "_Deep Learning Nanodegree Program | Deployment_\n",
    "\n",
    "---\n",
    "\n",
    "Now that we have a basic understanding of how SageMaker works we will try to use it to construct a complete project from end to end. Our goal will be to have a simple web page which a user can use to enter a movie review. The web page will then send the review off to our deployed model which will predict the sentiment of the entered review.\n",
    "\n",
    "## Instructions\n",
    "\n",
    "Some template code has already been provided for you, and you will need to implement additional functionality to successfully complete this notebook. You will not need to modify the included code beyond what is requested. Sections that begin with '**TODO**' in the header indicate that you need to complete or implement some portion within them. Instructions will be provided for each section and the specifics of the implementation are marked in the code block with a `# TODO: ...` comment. Please be sure to read the instructions carefully!\n",
    "\n",
    "In addition to implementing code, there will be questions for you to answer which relate to the task and your implementation. Each section where you will answer a question is preceded by a '**Question:**' header. Carefully read each question and provide your answer below the '**Answer:**' header by editing the Markdown cell.\n",
    "\n",
    "> **Note**: Code and Markdown cells can be executed using the **Shift+Enter** keyboard shortcut. In addition, a cell can be edited by typically clicking it (double-click for Markdown cells) or by pressing **Enter** while it is highlighted.\n",
    "\n",
    "## General Outline\n",
    "\n",
    "Recall the general outline for SageMaker projects using a notebook instance.\n",
    "\n",
    "1. Download or otherwise retrieve the data.\n",
    "2. Process / Prepare the data.\n",
    "3. Upload the processed data to S3.\n",
    "4. Train a chosen model.\n",
    "5. Test the trained model (typically using a batch transform job).\n",
    "6. Deploy the trained model.\n",
    "7. Use the deployed model.\n",
    "\n",
    "For this project, you will be following the steps in the general outline with some modifications. \n",
    "\n",
    "First, you will not be testing the model in its own step. You will still be testing the model, however, you will do it by deploying your model and then using the deployed model by sending the test data to it. One of the reasons for doing this is so that you can make sure that your deployed model is working correctly before moving forward.\n",
    "\n",
    "In addition, you will deploy and use your trained model a second time. In the second iteration you will customize the way that your trained model is deployed by including some of your own code. In addition, your newly deployed model will be used in the sentiment analysis web app."
   ]
  },
  {
   "cell_type": "markdown",
   "metadata": {},
   "source": [
    "## Step 1: Downloading the data\n",
    "\n",
    "As in the XGBoost in SageMaker notebook, we will be using the [IMDb dataset](http://ai.stanford.edu/~amaas/data/sentiment/)\n",
    "\n",
    "> Maas, Andrew L., et al. [Learning Word Vectors for Sentiment Analysis](http://ai.stanford.edu/~amaas/data/sentiment/). In _Proceedings of the 49th Annual Meeting of the Association for Computational Linguistics: Human Language Technologies_. Association for Computational Linguistics, 2011."
   ]
  },
  {
   "cell_type": "code",
   "execution_count": 1,
   "metadata": {},
   "outputs": [
    {
     "name": "stdout",
     "output_type": "stream",
     "text": [
      "mkdir: cannot create directory ‘../data’: File exists\n",
      "--2020-10-15 16:47:36--  http://ai.stanford.edu/~amaas/data/sentiment/aclImdb_v1.tar.gz\n",
      "Resolving ai.stanford.edu (ai.stanford.edu)... 171.64.68.10\n",
      "Connecting to ai.stanford.edu (ai.stanford.edu)|171.64.68.10|:80... connected.\n",
      "HTTP request sent, awaiting response... 200 OK\n",
      "Length: 84125825 (80M) [application/x-gzip]\n",
      "Saving to: ‘../data/aclImdb_v1.tar.gz’\n",
      "\n",
      "../data/aclImdb_v1. 100%[===================>]  80.23M  24.5MB/s    in 4.5s    \n",
      "\n",
      "2020-10-15 16:47:40 (18.0 MB/s) - ‘../data/aclImdb_v1.tar.gz’ saved [84125825/84125825]\n",
      "\n"
     ]
    }
   ],
   "source": [
    "%mkdir ../data\n",
    "!wget -O ../data/aclImdb_v1.tar.gz http://ai.stanford.edu/~amaas/data/sentiment/aclImdb_v1.tar.gz\n",
    "!tar -zxf ../data/aclImdb_v1.tar.gz -C ../data"
   ]
  },
  {
   "cell_type": "markdown",
   "metadata": {},
   "source": [
    "## Step 2: Preparing and Processing the data\n",
    "\n",
    "Also, as in the XGBoost notebook, we will be doing some initial data processing. The first few steps are the same as in the XGBoost example. To begin with, we will read in each of the reviews and combine them into a single input structure. Then, we will split the dataset into a training set and a testing set."
   ]
  },
  {
   "cell_type": "code",
   "execution_count": 2,
   "metadata": {},
   "outputs": [],
   "source": [
    "import os\n",
    "import glob\n",
    "\n",
    "def read_imdb_data(data_dir='../data/aclImdb'):\n",
    "    data = {}\n",
    "    labels = {}\n",
    "    \n",
    "    for data_type in ['train', 'test']:\n",
    "        data[data_type] = {}\n",
    "        labels[data_type] = {}\n",
    "        \n",
    "        for sentiment in ['pos', 'neg']:\n",
    "            data[data_type][sentiment] = []\n",
    "            labels[data_type][sentiment] = []\n",
    "            \n",
    "            path = os.path.join(data_dir, data_type, sentiment, '*.txt')\n",
    "            files = glob.glob(path)\n",
    "            \n",
    "            for f in files:\n",
    "                with open(f) as review:\n",
    "                    data[data_type][sentiment].append(review.read())\n",
    "                    # Here we represent a positive review by '1' and a negative review by '0'\n",
    "                    labels[data_type][sentiment].append(1 if sentiment == 'pos' else 0)\n",
    "                    \n",
    "            assert len(data[data_type][sentiment]) == len(labels[data_type][sentiment]), \\\n",
    "                    \"{}/{} data size does not match labels size\".format(data_type, sentiment)\n",
    "                \n",
    "    return data, labels"
   ]
  },
  {
   "cell_type": "code",
   "execution_count": 3,
   "metadata": {},
   "outputs": [
    {
     "name": "stdout",
     "output_type": "stream",
     "text": [
      "IMDB reviews: train = 12500 pos / 12500 neg, test = 12500 pos / 12500 neg\n"
     ]
    }
   ],
   "source": [
    "data, labels = read_imdb_data()\n",
    "print(\"IMDB reviews: train = {} pos / {} neg, test = {} pos / {} neg\".format(\n",
    "            len(data['train']['pos']), len(data['train']['neg']),\n",
    "            len(data['test']['pos']), len(data['test']['neg'])))"
   ]
  },
  {
   "cell_type": "markdown",
   "metadata": {},
   "source": [
    "Now that we've read the raw training and testing data from the downloaded dataset, we will combine the positive and negative reviews and shuffle the resulting records."
   ]
  },
  {
   "cell_type": "code",
   "execution_count": 4,
   "metadata": {},
   "outputs": [],
   "source": [
    "from sklearn.utils import shuffle\n",
    "\n",
    "def prepare_imdb_data(data, labels):\n",
    "    \"\"\"Prepare training and test sets from IMDb movie reviews.\"\"\"\n",
    "    \n",
    "    #Combine positive and negative reviews and labels\n",
    "    data_train = data['train']['pos'] + data['train']['neg']\n",
    "    data_test = data['test']['pos'] + data['test']['neg']\n",
    "    labels_train = labels['train']['pos'] + labels['train']['neg']\n",
    "    labels_test = labels['test']['pos'] + labels['test']['neg']\n",
    "    \n",
    "    #Shuffle reviews and corresponding labels within training and test sets\n",
    "    data_train, labels_train = shuffle(data_train, labels_train)\n",
    "    data_test, labels_test = shuffle(data_test, labels_test)\n",
    "    \n",
    "    # Return a unified training data, test data, training labels, test labets\n",
    "    return data_train, data_test, labels_train, labels_test"
   ]
  },
  {
   "cell_type": "code",
   "execution_count": 5,
   "metadata": {},
   "outputs": [
    {
     "name": "stdout",
     "output_type": "stream",
     "text": [
      "IMDb reviews (combined): train = 25000, test = 25000\n"
     ]
    }
   ],
   "source": [
    "train_X, test_X, train_y, test_y = prepare_imdb_data(data, labels)\n",
    "print(\"IMDb reviews (combined): train = {}, test = {}\".format(len(train_X), len(test_X)))"
   ]
  },
  {
   "cell_type": "markdown",
   "metadata": {},
   "source": [
    "Now that we have our training and testing sets unified and prepared, we should do a quick check and see an example of the data our model will be trained on. This is generally a good idea as it allows you to see how each of the further processing steps affects the reviews and it also ensures that the data has been loaded correctly."
   ]
  },
  {
   "cell_type": "code",
   "execution_count": 6,
   "metadata": {},
   "outputs": [
    {
     "name": "stdout",
     "output_type": "stream",
     "text": [
      "A wonderful early musical film from Rene Clair, as fun and witty as his silent \"The Italian Straw Hat\". Using sound in a expressive way and not just for dialogue and effects, Clair influenced early musicals in America (the opera scene from A Night at the Opera is strongly influenced by Le Million, for example). Should (but won't) be seen by all cinephiles, and the DVD from Criterion is exactly as good as you'd expect. There's not a ton of extras, but most DVD extras I've seen are useless fluff, and the Clair interview on disc is one I hadn't ever seen. Get it while it's still around.\n",
      "1\n"
     ]
    }
   ],
   "source": [
    "print(train_X[100])\n",
    "print(train_y[100])"
   ]
  },
  {
   "cell_type": "markdown",
   "metadata": {},
   "source": [
    "The first step in processing the reviews is to make sure that any html tags that appear should be removed. In addition we wish to tokenize our input, that way words such as *entertained* and *entertaining* are considered the same with regard to sentiment analysis."
   ]
  },
  {
   "cell_type": "code",
   "execution_count": 7,
   "metadata": {},
   "outputs": [],
   "source": [
    "import nltk\n",
    "from nltk.corpus import stopwords\n",
    "from nltk.stem.porter import *\n",
    "\n",
    "import re\n",
    "from bs4 import BeautifulSoup\n",
    "\n",
    "def review_to_words(review):\n",
    "    nltk.download(\"stopwords\", quiet=True)\n",
    "    stemmer = PorterStemmer()\n",
    "    \n",
    "    text = BeautifulSoup(review, \"html.parser\").get_text() # Remove HTML tags\n",
    "    text = re.sub(r\"[^a-zA-Z0-9]\", \" \", text.lower()) # Convert to lower case\n",
    "    words = text.split() # Split string into words\n",
    "    words = [w for w in words if w not in stopwords.words(\"english\")] # Remove stopwords\n",
    "    words = [PorterStemmer().stem(w) for w in words] # stem\n",
    "    \n",
    "    return words"
   ]
  },
  {
   "cell_type": "markdown",
   "metadata": {},
   "source": [
    "The `review_to_words` method defined above uses `BeautifulSoup` to remove any html tags that appear and uses the `nltk` package to tokenize the reviews. As a check to ensure we know how everything is working, try applying `review_to_words` to one of the reviews in the training set."
   ]
  },
  {
   "cell_type": "code",
   "execution_count": 8,
   "metadata": {},
   "outputs": [
    {
     "name": "stdout",
     "output_type": "stream",
     "text": [
      "['wonder', 'earli', 'music', 'film', 'rene', 'clair', 'fun', 'witti', 'silent', 'italian', 'straw', 'hat', 'use', 'sound', 'express', 'way', 'dialogu', 'effect', 'clair', 'influenc', 'earli', 'music', 'america', 'opera', 'scene', 'night', 'opera', 'strongli', 'influenc', 'le', 'million', 'exampl', 'seen', 'cinephil', 'dvd', 'criterion', 'exactli', 'good', 'expect', 'ton', 'extra', 'dvd', 'extra', 'seen', 'useless', 'fluff', 'clair', 'interview', 'disc', 'one', 'ever', 'seen', 'get', 'still', 'around']\n"
     ]
    }
   ],
   "source": [
    "# TODO: Apply review_to_words to a review (train_X[100] or any other review)\n",
    "print(review_to_words(train_X[100]))"
   ]
  },
  {
   "cell_type": "markdown",
   "metadata": {},
   "source": [
    "**Question:** Above we mentioned that `review_to_words` method removes html formatting and allows us to tokenize the words found in a review, for example, converting *entertained* and *entertaining* into *entertain* so that they are treated as though they are the same word. What else, if anything, does this method do to the input?"
   ]
  },
  {
   "cell_type": "markdown",
   "metadata": {},
   "source": [
    "**Answer:**\n",
    "\n",
    "This function also removes punctuation and removes most formatting which allows us to directly compare the words. Furthermore, I believe stopwords will remove non-english or nonsensical words to keep the vocabulary pure."
   ]
  },
  {
   "cell_type": "markdown",
   "metadata": {},
   "source": [
    "The method below applies the `review_to_words` method to each of the reviews in the training and testing datasets. In addition it caches the results. This is because performing this processing step can take a long time. This way if you are unable to complete the notebook in the current session, you can come back without needing to process the data a second time."
   ]
  },
  {
   "cell_type": "code",
   "execution_count": 9,
   "metadata": {},
   "outputs": [],
   "source": [
    "import pickle\n",
    "\n",
    "cache_dir = os.path.join(\"../cache\", \"sentiment_analysis\")  # where to store cache files\n",
    "os.makedirs(cache_dir, exist_ok=True)  # ensure cache directory exists\n",
    "\n",
    "def preprocess_data(data_train, data_test, labels_train, labels_test,\n",
    "                    cache_dir=cache_dir, cache_file=\"preprocessed_data.pkl\"):\n",
    "    \"\"\"Convert each review to words; read from cache if available.\"\"\"\n",
    "\n",
    "    # If cache_file is not None, try to read from it first\n",
    "    cache_data = None\n",
    "    if cache_file is not None:\n",
    "        try:\n",
    "            with open(os.path.join(cache_dir, cache_file), \"rb\") as f:\n",
    "                cache_data = pickle.load(f)\n",
    "            print(\"Read preprocessed data from cache file:\", cache_file)\n",
    "        except:\n",
    "            pass  # unable to read from cache, but that's okay\n",
    "    \n",
    "    # If cache is missing, then do the heavy lifting\n",
    "    if cache_data is None:\n",
    "        # Preprocess training and test data to obtain words for each review\n",
    "        #words_train = list(map(review_to_words, data_train))\n",
    "        #words_test = list(map(review_to_words, data_test))\n",
    "        words_train = [review_to_words(review) for review in data_train]\n",
    "        words_test = [review_to_words(review) for review in data_test]\n",
    "        \n",
    "        # Write to cache file for future runs\n",
    "        if cache_file is not None:\n",
    "            cache_data = dict(words_train=words_train, words_test=words_test,\n",
    "                              labels_train=labels_train, labels_test=labels_test)\n",
    "            with open(os.path.join(cache_dir, cache_file), \"wb\") as f:\n",
    "                pickle.dump(cache_data, f)\n",
    "            print(\"Wrote preprocessed data to cache file:\", cache_file)\n",
    "    else:\n",
    "        # Unpack data loaded from cache file\n",
    "        words_train, words_test, labels_train, labels_test = (cache_data['words_train'],\n",
    "                cache_data['words_test'], cache_data['labels_train'], cache_data['labels_test'])\n",
    "    \n",
    "    return words_train, words_test, labels_train, labels_test"
   ]
  },
  {
   "cell_type": "code",
   "execution_count": 10,
   "metadata": {},
   "outputs": [
    {
     "name": "stdout",
     "output_type": "stream",
     "text": [
      "Read preprocessed data from cache file: preprocessed_data.pkl\n"
     ]
    }
   ],
   "source": [
    "# Preprocess data\n",
    "train_X, test_X, train_y, test_y = preprocess_data(train_X, test_X, train_y, test_y)"
   ]
  },
  {
   "cell_type": "markdown",
   "metadata": {},
   "source": [
    "## Transform the data\n",
    "\n",
    "In the XGBoost notebook we transformed the data from its word representation to a bag-of-words feature representation. For the model we are going to construct in this notebook we will construct a feature representation which is very similar. To start, we will represent each word as an integer. Of course, some of the words that appear in the reviews occur very infrequently and so likely don't contain much information for the purposes of sentiment analysis. The way we will deal with this problem is that we will fix the size of our working vocabulary and we will only include the words that appear most frequently. We will then combine all of the infrequent words into a single category and, in our case, we will label it as `1`.\n",
    "\n",
    "Since we will be using a recurrent neural network, it will be convenient if the length of each review is the same. To do this, we will fix a size for our reviews and then pad short reviews with the category 'no word' (which we will label `0`) and truncate long reviews."
   ]
  },
  {
   "cell_type": "markdown",
   "metadata": {},
   "source": [
    "### (TODO) Create a word dictionary\n",
    "\n",
    "To begin with, we need to construct a way to map words that appear in the reviews to integers. Here we fix the size of our vocabulary (including the 'no word' and 'infrequent' categories) to be `5000` but you may wish to change this to see how it affects the model.\n",
    "\n",
    "> **TODO:** Complete the implementation for the `build_dict()` method below. Note that even though the vocab_size is set to `5000`, we only want to construct a mapping for the most frequently appearing `4998` words. This is because we want to reserve the special labels `0` for 'no word' and `1` for 'infrequent word'."
   ]
  },
  {
   "cell_type": "code",
   "execution_count": 11,
   "metadata": {},
   "outputs": [],
   "source": [
    "import numpy as np\n",
    "# from collections import Counter\n",
    "\n",
    "def build_dict(data, vocab_size = 5000):\n",
    "    \"\"\"Construct and return a dictionary mapping each of the most frequently appearing words to a unique integer.\"\"\"\n",
    "    \n",
    "    # TODO: Determine how often each word appears in `data`. Note that `data` is a list of sentences and that a\n",
    "    #       sentence is a list of words.\n",
    "    \n",
    "    ## In future, lets use Counter to make this much cleaner and more pythonic ##\n",
    "    \n",
    "    word_count = {} # A dict storing the words that appear in the reviews along with how often they occur\n",
    "    #word_counts = Counter(data)\n",
    "    for words in data:\n",
    "        for word in words:\n",
    "            if word in word_count:\n",
    "                word_count[word] += 1\n",
    "            else:\n",
    "                word_count[word] = 1\n",
    "    \n",
    "    # TODO: Sort the words found in `data` so that sorted_words[0] is the most frequently appearing word and\n",
    "    #       sorted_words[-1] is the least frequently appearing word.\n",
    "    \n",
    "    sorted_words = [ii[0] for ii in sorted(word_count.items(), key=lambda x: x[1], reverse=True)] # used https://careerkarma.com/blog/python-sort-a-dictionary-by-value/\n",
    "                                                                                # as help for sorting the dictionary\n",
    "    \n",
    "    word_dict = {} # This is what we are building, a dictionary that translates words into integers\n",
    "    for idx, word in enumerate(sorted_words[:vocab_size - 2]): # The -2 is so that we save room for the 'no word'\n",
    "        word_dict[word] = idx + 2                              # 'infrequent' labels\n",
    "        \n",
    "    return word_dict"
   ]
  },
  {
   "cell_type": "code",
   "execution_count": 12,
   "metadata": {},
   "outputs": [],
   "source": [
    "word_dict = build_dict(train_X)"
   ]
  },
  {
   "cell_type": "markdown",
   "metadata": {},
   "source": [
    "**Question:** What are the five most frequently appearing (tokenized) words in the training set? Does it makes sense that these words appear frequently in the training set?"
   ]
  },
  {
   "cell_type": "markdown",
   "metadata": {},
   "source": [
    "**Answer:**\n",
    "\n",
    "Movie, Film, One, Like, Time are the five most frequently appearing words.\n",
    "\n",
    "I guess this makes sense, maybe not \"one\" but movie and film should be fairly often considering we are talking about movies and films. Like is a common word even as a filler. Time may be present for phrases like \"worst movie of all time\" or \"waste of my time\" but I'm kind of surprised to see that one on the list."
   ]
  },
  {
   "cell_type": "code",
   "execution_count": 13,
   "metadata": {},
   "outputs": [
    {
     "name": "stdout",
     "output_type": "stream",
     "text": [
      "{'movi': 2, 'film': 3, 'one': 4, 'like': 5, 'time': 6, 'good': 7, 'make': 8, 'charact': 9, 'get': 10, 'see': 11, 'watch': 12, 'stori': 13, 'even': 14, 'would': 15, 'realli': 16, 'well': 17, 'scene': 18, 'look': 19, 'show': 20, 'much': 21, 'end': 22, 'peopl': 23, 'bad': 24, 'go': 25, 'great': 26, 'also': 27, 'first': 28, 'love': 29, 'think': 30, 'way': 31, 'act': 32, 'play': 33, 'made': 34, 'thing': 35, 'could': 36, 'know': 37, 'say': 38, 'seem': 39, 'work': 40, 'plot': 41, 'two': 42, 'actor': 43, 'year': 44, 'come': 45, 'mani': 46, 'seen': 47, 'take': 48, 'want': 49, 'life': 50, 'never': 51, 'littl': 52, 'best': 53, 'tri': 54, 'man': 55, 'ever': 56, 'give': 57, 'better': 58, 'still': 59, 'perform': 60, 'find': 61, 'feel': 62, 'part': 63, 'back': 64, 'use': 65, 'someth': 66, 'director': 67, 'actual': 68, 'interest': 69, 'lot': 70, 'real': 71, 'old': 72, 'cast': 73, 'though': 74, 'live': 75, 'star': 76, 'enjoy': 77, 'guy': 78, 'anoth': 79, 'new': 80, 'role': 81, 'noth': 82, '10': 83, 'funni': 84, 'music': 85, 'point': 86, 'start': 87, 'set': 88, 'girl': 89, 'origin': 90, 'day': 91, 'world': 92, 'everi': 93, 'believ': 94, 'turn': 95, 'quit': 96, 'us': 97, 'direct': 98, 'thought': 99, 'fact': 100, 'minut': 101, 'horror': 102, 'kill': 103, 'action': 104, 'comedi': 105, 'pretti': 106, 'young': 107, 'wonder': 108, 'happen': 109, 'around': 110, 'got': 111, 'effect': 112, 'right': 113, 'long': 114, 'howev': 115, 'big': 116, 'line': 117, 'famili': 118, 'enough': 119, 'seri': 120, 'may': 121, 'need': 122, 'fan': 123, 'bit': 124, 'script': 125, 'beauti': 126, 'person': 127, 'becom': 128, 'without': 129, 'must': 130, 'alway': 131, 'friend': 132, 'tell': 133, 'reason': 134, 'saw': 135, 'last': 136, 'final': 137, 'kid': 138, 'almost': 139, 'put': 140, 'least': 141, 'sure': 142, 'done': 143, 'whole': 144, 'place': 145, 'complet': 146, 'kind': 147, 'differ': 148, 'expect': 149, 'shot': 150, 'far': 151, 'mean': 152, 'anyth': 153, 'book': 154, 'laugh': 155, 'might': 156, 'name': 157, 'sinc': 158, 'begin': 159, '2': 160, 'probabl': 161, 'woman': 162, 'help': 163, 'entertain': 164, 'let': 165, 'screen': 166, 'call': 167, 'tv': 168, 'moment': 169, 'away': 170, 'read': 171, 'yet': 172, 'rather': 173, 'worst': 174, 'run': 175, 'fun': 176, 'lead': 177, 'hard': 178, 'audienc': 179, 'idea': 180, 'anyon': 181, 'episod': 182, 'american': 183, 'found': 184, 'appear': 185, 'bore': 186, 'especi': 187, 'although': 188, 'hope': 189, 'cours': 190, 'keep': 191, 'anim': 192, 'job': 193, 'goe': 194, 'move': 195, 'sens': 196, 'dvd': 197, 'version': 198, 'war': 199, 'money': 200, 'someon': 201, 'mind': 202, 'mayb': 203, 'problem': 204, 'true': 205, 'hous': 206, 'everyth': 207, 'nice': 208, 'second': 209, 'rate': 210, 'three': 211, 'night': 212, 'follow': 213, 'face': 214, 'recommend': 215, 'main': 216, 'product': 217, 'worth': 218, 'leav': 219, 'human': 220, 'special': 221, 'excel': 222, 'togeth': 223, 'wast': 224, 'everyon': 225, 'sound': 226, 'john': 227, 'hand': 228, '1': 229, 'father': 230, 'later': 231, 'eye': 232, 'said': 233, 'view': 234, 'instead': 235, 'review': 236, 'boy': 237, 'high': 238, 'hour': 239, 'miss': 240, 'talk': 241, 'classic': 242, 'wife': 243, 'understand': 244, 'left': 245, 'care': 246, 'black': 247, 'death': 248, 'open': 249, 'murder': 250, 'write': 251, 'half': 252, 'head': 253, 'rememb': 254, 'chang': 255, 'viewer': 256, 'fight': 257, 'gener': 258, 'surpris': 259, 'includ': 260, 'short': 261, 'die': 262, 'fall': 263, 'less': 264, 'els': 265, 'entir': 266, 'piec': 267, 'involv': 268, 'pictur': 269, 'simpli': 270, 'top': 271, 'power': 272, 'home': 273, 'total': 274, 'usual': 275, 'budget': 276, 'attempt': 277, 'suppos': 278, 'releas': 279, 'hollywood': 280, 'terribl': 281, 'song': 282, 'men': 283, 'possibl': 284, 'featur': 285, 'portray': 286, 'disappoint': 287, '3': 288, 'poor': 289, 'coupl': 290, 'stupid': 291, 'camera': 292, 'dead': 293, 'wrong': 294, 'low': 295, 'produc': 296, 'either': 297, 'video': 298, 'aw': 299, 'definit': 300, 'except': 301, 'rest': 302, 'given': 303, 'absolut': 304, 'women': 305, 'lack': 306, 'word': 307, 'writer': 308, 'titl': 309, 'talent': 310, 'decid': 311, 'full': 312, 'perfect': 313, 'along': 314, 'style': 315, 'close': 316, 'truli': 317, 'school': 318, 'emot': 319, 'save': 320, 'age': 321, 'sex': 322, 'next': 323, 'bring': 324, 'mr': 325, 'case': 326, 'killer': 327, 'heart': 328, 'comment': 329, 'sort': 330, 'creat': 331, 'perhap': 332, 'came': 333, 'brother': 334, 'sever': 335, 'joke': 336, 'art': 337, 'dialogu': 338, 'game': 339, 'small': 340, 'base': 341, 'flick': 342, 'written': 343, 'sequenc': 344, 'meet': 345, 'earli': 346, 'often': 347, 'other': 348, 'mother': 349, 'develop': 350, 'humor': 351, 'actress': 352, 'consid': 353, 'dark': 354, 'guess': 355, 'amaz': 356, 'unfortun': 357, 'light': 358, 'lost': 359, 'exampl': 360, 'cinema': 361, 'drama': 362, 'ye': 363, 'white': 364, 'experi': 365, 'imagin': 366, 'mention': 367, 'stop': 368, 'natur': 369, 'forc': 370, 'manag': 371, 'felt': 372, 'cut': 373, 'present': 374, 'children': 375, 'fail': 376, 'son': 377, 'car': 378, 'qualiti': 379, 'support': 380, 'ask': 381, 'hit': 382, 'side': 383, 'voic': 384, 'extrem': 385, 'impress': 386, 'wors': 387, 'evil': 388, 'stand': 389, 'went': 390, 'certainli': 391, 'basic': 392, 'oh': 393, 'overal': 394, 'favorit': 395, 'horribl': 396, 'mysteri': 397, 'number': 398, 'type': 399, 'danc': 400, 'wait': 401, 'hero': 402, '5': 403, 'alreadi': 404, 'learn': 405, 'matter': 406, '4': 407, 'michael': 408, 'genr': 409, 'fine': 410, 'despit': 411, 'throughout': 412, 'walk': 413, 'success': 414, 'histori': 415, 'question': 416, 'zombi': 417, 'town': 418, 'relationship': 419, 'realiz': 420, 'past': 421, 'child': 422, 'daughter': 423, 'late': 424, 'b': 425, 'wish': 426, 'hate': 427, 'credit': 428, 'event': 429, 'theme': 430, 'touch': 431, 'citi': 432, 'today': 433, 'sometim': 434, 'behind': 435, 'god': 436, 'twist': 437, 'sit': 438, 'annoy': 439, 'stay': 440, 'deal': 441, 'abl': 442, 'rent': 443, 'pleas': 444, 'edit': 445, 'blood': 446, 'deserv': 447, 'anyway': 448, 'comic': 449, 'appar': 450, 'soon': 451, 'gave': 452, 'etc': 453, 'level': 454, 'slow': 455, 'chanc': 456, 'score': 457, 'bodi': 458, 'brilliant': 459, 'incred': 460, 'figur': 461, 'situat': 462, 'self': 463, 'major': 464, 'stuff': 465, 'decent': 466, 'element': 467, 'dream': 468, 'return': 469, 'obvious': 470, 'order': 471, 'continu': 472, 'pace': 473, 'ridicul': 474, 'happi': 475, 'highli': 476, 'add': 477, 'group': 478, 'thank': 479, 'ladi': 480, 'novel': 481, 'pain': 482, 'speak': 483, 'career': 484, 'shoot': 485, 'strang': 486, 'heard': 487, 'sad': 488, 'husband': 489, 'polic': 490, 'import': 491, 'break': 492, 'took': 493, 'cannot': 494, 'strong': 495, 'predict': 496, 'robert': 497, 'violenc': 498, 'hilari': 499, 'recent': 500, 'countri': 501, 'known': 502, 'particularli': 503, 'pick': 504, 'documentari': 505, 'season': 506, 'critic': 507, 'jame': 508, 'compar': 509, 'obviou': 510, 'alon': 511, 'told': 512, 'state': 513, 'visual': 514, 'rock': 515, 'exist': 516, 'theater': 517, 'offer': 518, 'opinion': 519, 'gore': 520, 'crap': 521, 'hold': 522, 'result': 523, 'room': 524, 'hear': 525, 'realiti': 526, 'effort': 527, 'clich': 528, 'thriller': 529, 'caus': 530, 'serious': 531, 'explain': 532, 'sequel': 533, 'king': 534, 'local': 535, 'ago': 536, 'none': 537, 'hell': 538, 'note': 539, 'allow': 540, 'david': 541, 'sister': 542, 'simpl': 543, 'femal': 544, 'deliv': 545, 'ok': 546, 'class': 547, 'convinc': 548, 'check': 549, 'suspens': 550, 'win': 551, 'buy': 552, 'oscar': 553, 'huge': 554, 'valu': 555, 'sexual': 556, 'cool': 557, 'scari': 558, 'excit': 559, 'similar': 560, 'exactli': 561, 'provid': 562, 'apart': 563, 'shown': 564, 'avoid': 565, 'seriou': 566, 'english': 567, 'taken': 568, 'whose': 569, 'cinematographi': 570, 'shock': 571, 'polit': 572, 'spoiler': 573, 'offic': 574, 'across': 575, 'middl': 576, 'street': 577, 'pass': 578, 'messag': 579, 'silli': 580, 'charm': 581, 'somewhat': 582, 'modern': 583, 'confus': 584, 'filmmak': 585, 'form': 586, 'tale': 587, 'singl': 588, 'jack': 589, 'mostli': 590, 'attent': 591, 'carri': 592, 'william': 593, 'sing': 594, 'five': 595, 'subject': 596, 'richard': 597, 'prove': 598, 'stage': 599, 'team': 600, 'cop': 601, 'unlik': 602, 'georg': 603, 'televis': 604, 'monster': 605, 'earth': 606, 'cover': 607, 'villain': 608, 'pay': 609, 'marri': 610, 'toward': 611, 'build': 612, 'pull': 613, 'parent': 614, 'due': 615, 'fill': 616, 'respect': 617, 'dialog': 618, 'four': 619, 'remind': 620, 'futur': 621, 'typic': 622, 'weak': 623, '7': 624, 'cheap': 625, 'intellig': 626, 'atmospher': 627, 'british': 628, '80': 629, 'clearli': 630, 'dog': 631, 'non': 632, 'paul': 633, '8': 634, 'fast': 635, 'knew': 636, 'artist': 637, 'crime': 638, 'easili': 639, 'escap': 640, 'doubt': 641, 'adult': 642, 'detail': 643, 'date': 644, 'romant': 645, 'fire': 646, 'member': 647, 'drive': 648, 'gun': 649, 'straight': 650, 'fit': 651, 'beyond': 652, 'attack': 653, 'imag': 654, 'upon': 655, 'posit': 656, 'whether': 657, 'fantast': 658, 'peter': 659, 'aspect': 660, 'appreci': 661, 'captur': 662, 'ten': 663, 'plan': 664, 'discov': 665, 'remain': 666, 'near': 667, 'period': 668, 'realist': 669, 'air': 670, 'mark': 671, 'red': 672, 'dull': 673, 'adapt': 674, 'within': 675, 'spend': 676, 'lose': 677, 'color': 678, 'materi': 679, 'chase': 680, 'mari': 681, 'storylin': 682, 'forget': 683, 'bunch': 684, 'clear': 685, 'lee': 686, 'victim': 687, 'nearli': 688, 'box': 689, 'york': 690, 'inspir': 691, 'match': 692, 'mess': 693, 'finish': 694, 'standard': 695, 'easi': 696, 'truth': 697, 'suffer': 698, 'busi': 699, 'dramat': 700, 'bill': 701, 'space': 702, 'western': 703, 'e': 704, 'list': 705, 'battl': 706, 'notic': 707, 'de': 708, 'french': 709, 'ad': 710, '9': 711, 'tom': 712, 'larg': 713, 'among': 714, 'eventu': 715, 'train': 716, 'accept': 717, 'agre': 718, 'soundtrack': 719, 'spirit': 720, 'third': 721, 'teenag': 722, 'soldier': 723, 'adventur': 724, 'suggest': 725, 'famou': 726, 'sorri': 727, 'drug': 728, 'babi': 729, 'cri': 730, 'normal': 731, 'ultim': 732, 'troubl': 733, 'contain': 734, 'certain': 735, 'cultur': 736, 'romanc': 737, 'rare': 738, 'lame': 739, 'somehow': 740, 'mix': 741, 'disney': 742, 'gone': 743, 'cartoon': 744, 'student': 745, 'fear': 746, 'reveal': 747, 'suck': 748, 'kept': 749, 'attract': 750, 'appeal': 751, 'premis': 752, 'secret': 753, 'design': 754, 'greatest': 755, 'shame': 756, 'throw': 757, 'scare': 758, 'copi': 759, 'wit': 760, 'admit': 761, 'america': 762, 'brought': 763, 'particular': 764, 'relat': 765, 'screenplay': 766, 'whatev': 767, 'pure': 768, '70': 769, 'averag': 770, 'harri': 771, 'master': 772, 'describ': 773, 'male': 774, 'treat': 775, '20': 776, 'fantasi': 777, 'issu': 778, 'warn': 779, 'inde': 780, 'background': 781, 'forward': 782, 'free': 783, 'project': 784, 'japanes': 785, 'memor': 786, 'poorli': 787, 'award': 788, 'locat': 789, 'potenti': 790, 'amus': 791, 'struggl': 792, 'weird': 793, 'magic': 794, 'societi': 795, 'okay': 796, 'imdb': 797, 'accent': 798, 'doctor': 799, 'water': 800, 'hot': 801, 'express': 802, '30': 803, 'alien': 804, 'dr': 805, 'odd': 806, 'crazi': 807, 'choic': 808, 'fiction': 809, 'studio': 810, 'control': 811, 'becam': 812, 'masterpiec': 813, 'fli': 814, 'difficult': 815, 'joe': 816, 'scream': 817, 'costum': 818, 'lover': 819, 'uniqu': 820, 'refer': 821, 'remak': 822, 'girlfriend': 823, 'vampir': 824, 'prison': 825, 'execut': 826, 'wear': 827, 'jump': 828, 'unless': 829, 'wood': 830, 'creepi': 831, 'cheesi': 832, 'superb': 833, 'otherwis': 834, 'parti': 835, 'ghost': 836, 'roll': 837, 'mad': 838, 'public': 839, 'depict': 840, 'moral': 841, 'week': 842, 'jane': 843, 'badli': 844, 'earlier': 845, 'dumb': 846, 'fi': 847, 'flaw': 848, 'grow': 849, 'deep': 850, 'sci': 851, 'maker': 852, 'cat': 853, 'footag': 854, 'connect': 855, 'older': 856, 'plenti': 857, 'bother': 858, 'outsid': 859, 'stick': 860, 'gay': 861, 'catch': 862, 'co': 863, 'plu': 864, 'popular': 865, 'equal': 866, 'social': 867, 'disturb': 868, 'quickli': 869, 'perfectli': 870, 'dress': 871, 'era': 872, '90': 873, 'mistak': 874, 'lie': 875, 'ride': 876, 'previou': 877, 'combin': 878, 'band': 879, 'concept': 880, 'answer': 881, 'surviv': 882, 'rich': 883, 'front': 884, 'christma': 885, 'sweet': 886, 'insid': 887, 'bare': 888, 'eat': 889, 'concern': 890, 'beat': 891, 'ben': 892, 'listen': 893, 'c': 894, 'serv': 895, 'term': 896, 'meant': 897, 'la': 898, 'german': 899, 'hardli': 900, 'stereotyp': 901, 'innoc': 902, 'law': 903, 'desper': 904, 'promis': 905, 'memori': 906, 'cute': 907, 'intent': 908, 'variou': 909, 'inform': 910, 'steal': 911, 'brain': 912, 'post': 913, 'tone': 914, 'island': 915, 'amount': 916, 'compani': 917, 'nuditi': 918, 'track': 919, 'claim': 920, 'store': 921, 'hair': 922, 'flat': 923, '50': 924, 'univers': 925, 'land': 926, 'danger': 927, 'fairli': 928, 'kick': 929, 'scott': 930, 'player': 931, 'plain': 932, 'step': 933, 'crew': 934, 'toni': 935, 'share': 936, 'centuri': 937, 'tast': 938, 'achiev': 939, 'engag': 940, 'travel': 941, 'cold': 942, 'suit': 943, 'rip': 944, 'record': 945, 'manner': 946, 'sadli': 947, 'wrote': 948, 'tension': 949, 'spot': 950, 'intens': 951, 'fascin': 952, 'familiar': 953, 'remark': 954, 'depth': 955, 'burn': 956, 'destroy': 957, 'histor': 958, 'sleep': 959, 'purpos': 960, 'languag': 961, 'ruin': 962, 'ignor': 963, 'delight': 964, 'italian': 965, 'unbeliev': 966, 'soul': 967, 'abil': 968, 'collect': 969, 'clever': 970, 'detect': 971, 'violent': 972, 'rape': 973, 'reach': 974, 'door': 975, 'trash': 976, 'scienc': 977, 'liter': 978, 'caught': 979, 'reveng': 980, 'commun': 981, 'creatur': 982, 'approach': 983, 'trip': 984, 'intrigu': 985, 'fashion': 986, 'skill': 987, 'introduc': 988, 'paint': 989, 'complex': 990, 'channel': 991, 'camp': 992, 'christian': 993, 'extra': 994, 'hole': 995, 'limit': 996, 'immedi': 997, 'mental': 998, 'ann': 999, 'slightli': 1000, '6': 1001, 'mere': 1002, 'million': 1003, 'comput': 1004, 'conclus': 1005, 'slasher': 1006, 'suddenli': 1007, 'imposs': 1008, 'teen': 1009, 'crimin': 1010, 'neither': 1011, 'spent': 1012, 'physic': 1013, 'nation': 1014, 'respons': 1015, 'planet': 1016, 'fake': 1017, 'receiv': 1018, 'sick': 1019, 'blue': 1020, 'bizarr': 1021, 'embarrass': 1022, 'indian': 1023, 'ring': 1024, '15': 1025, 'pop': 1026, 'drop': 1027, 'drag': 1028, 'haunt': 1029, 'suspect': 1030, 'pointless': 1031, 'search': 1032, 'edg': 1033, 'handl': 1034, 'common': 1035, 'biggest': 1036, 'arriv': 1037, 'faith': 1038, 'hurt': 1039, 'technic': 1040, 'angel': 1041, 'dad': 1042, 'genuin': 1043, 'solid': 1044, 'awesom': 1045, 'f': 1046, 'van': 1047, 'colleg': 1048, 'former': 1049, 'focu': 1050, 'count': 1051, 'tear': 1052, 'heavi': 1053, 'wall': 1054, 'rais': 1055, 'younger': 1056, 'laughabl': 1057, 'visit': 1058, 'fair': 1059, 'sign': 1060, 'excus': 1061, 'cult': 1062, 'tough': 1063, 'key': 1064, 'motion': 1065, 'super': 1066, 'desir': 1067, 'stun': 1068, 'addit': 1069, 'cloth': 1070, 'exploit': 1071, 'tortur': 1072, 'smith': 1073, 'davi': 1074, 'race': 1075, 'cross': 1076, 'author': 1077, 'jim': 1078, 'minor': 1079, 'compel': 1080, 'focus': 1081, 'consist': 1082, 'pathet': 1083, 'chemistri': 1084, 'commit': 1085, 'park': 1086, 'obsess': 1087, 'tradit': 1088, 'frank': 1089, 'grade': 1090, 'asid': 1091, '60': 1092, 'brutal': 1093, 'steve': 1094, 'somewher': 1095, 'depress': 1096, 'explor': 1097, 'u': 1098, 'opportun': 1099, 'grant': 1100, 'rule': 1101, 'honest': 1102, 'besid': 1103, 'anti': 1104, 'dub': 1105, 'trailer': 1106, 'intend': 1107, 'bar': 1108, 'scientist': 1109, 'west': 1110, 'longer': 1111, 'regard': 1112, 'decad': 1113, 'judg': 1114, 'silent': 1115, 'creativ': 1116, 'armi': 1117, 'wild': 1118, 'g': 1119, 'south': 1120, 'stewart': 1121, 'draw': 1122, 'road': 1123, 'govern': 1124, 'ex': 1125, 'boss': 1126, 'practic': 1127, 'festiv': 1128, 'motiv': 1129, 'gang': 1130, 'club': 1131, 'surprisingli': 1132, 'green': 1133, 'london': 1134, 'redeem': 1135, 'page': 1136, 'militari': 1137, 'display': 1138, 'aliv': 1139, 'machin': 1140, 'idiot': 1141, 'repeat': 1142, 'thrill': 1143, 'nobodi': 1144, '100': 1145, 'yeah': 1146, 'folk': 1147, '40': 1148, 'garbag': 1149, 'journey': 1150, 'ground': 1151, 'tire': 1152, 'smile': 1153, 'bought': 1154, 'mood': 1155, 'cost': 1156, 'sam': 1157, 'stone': 1158, 'mouth': 1159, 'noir': 1160, 'terrif': 1161, 'agent': 1162, 'requir': 1163, 'utterli': 1164, 'honestli': 1165, 'area': 1166, 'sexi': 1167, 'report': 1168, 'geniu': 1169, 'glad': 1170, 'enter': 1171, 'humour': 1172, 'investig': 1173, 'serial': 1174, 'occasion': 1175, 'narr': 1176, 'passion': 1177, 'marriag': 1178, 'climax': 1179, 'studi': 1180, 'industri': 1181, 'nowher': 1182, 'demon': 1183, 'ship': 1184, 'center': 1185, 'charli': 1186, 'loos': 1187, 'hors': 1188, 'bear': 1189, 'hang': 1190, 'wow': 1191, 'graphic': 1192, 'admir': 1193, 'giant': 1194, 'send': 1195, 'loud': 1196, 'damn': 1197, 'nake': 1198, 'rel': 1199, 'subtl': 1200, 'profession': 1201, 'blow': 1202, 'bottom': 1203, 'insult': 1204, 'batman': 1205, 'doubl': 1206, 'boyfriend': 1207, 'r': 1208, 'kelli': 1209, 'initi': 1210, 'frame': 1211, 'gem': 1212, 'opera': 1213, 'challeng': 1214, 'drawn': 1215, 'church': 1216, 'affect': 1217, 'cinemat': 1218, 'fulli': 1219, 'seek': 1220, 'evid': 1221, 'j': 1222, 'nightmar': 1223, 'l': 1224, 'arm': 1225, 'conflict': 1226, 'essenti': 1227, 'christoph': 1228, 'wind': 1229, 'henri': 1230, 'grace': 1231, 'assum': 1232, 'witch': 1233, 'narrat': 1234, 'hunt': 1235, 'push': 1236, 'chri': 1237, 'wise': 1238, 'month': 1239, 'nomin': 1240, 'repres': 1241, 'sceneri': 1242, 'hide': 1243, 'affair': 1244, 'avail': 1245, 'smart': 1246, 'justic': 1247, 'bond': 1248, 'thu': 1249, 'flashback': 1250, 'outstand': 1251, 'interview': 1252, 'presenc': 1253, 'constantli': 1254, 'satisfi': 1255, 'central': 1256, 'bed': 1257, 'sell': 1258, 'content': 1259, 'iron': 1260, 'everybodi': 1261, 'gag': 1262, 'hotel': 1263, 'slowli': 1264, 'hire': 1265, 'system': 1266, 'charl': 1267, 'individu': 1268, 'hey': 1269, 'adam': 1270, 'thrown': 1271, 'mediocr': 1272, 'jone': 1273, 'allen': 1274, 'ray': 1275, 'billi': 1276, 'lesson': 1277, 'photographi': 1278, 'cameo': 1279, 'fellow': 1280, 'pari': 1281, 'strike': 1282, 'rise': 1283, 'brief': 1284, 'independ': 1285, 'absurd': 1286, 'neg': 1287, 'impact': 1288, 'phone': 1289, 'model': 1290, 'born': 1291, 'ill': 1292, 'spoil': 1293, 'angl': 1294, 'fresh': 1295, 'abus': 1296, 'likabl': 1297, 'discuss': 1298, 'hill': 1299, 'sight': 1300, 'ahead': 1301, 'sent': 1302, 'photograph': 1303, 'shine': 1304, 'logic': 1305, 'blame': 1306, 'occur': 1307, 'bruce': 1308, 'mainli': 1309, 'commerci': 1310, 'forev': 1311, 'skip': 1312, 'teacher': 1313, 'surround': 1314, 'held': 1315, 'segment': 1316, 'blond': 1317, 'zero': 1318, 'satir': 1319, 'summer': 1320, 'resembl': 1321, 'trap': 1322, 'ball': 1323, 'fool': 1324, 'queen': 1325, 'six': 1326, 'tragedi': 1327, 'twice': 1328, 'sub': 1329, 'reaction': 1330, 'pack': 1331, 'bomb': 1332, 'protagonist': 1333, 'hospit': 1334, 'will': 1335, 'mile': 1336, 'sport': 1337, 'vote': 1338, 'jerri': 1339, 'mom': 1340, 'drink': 1341, 'trust': 1342, 'encount': 1343, 'plane': 1344, 'program': 1345, 'station': 1346, 'al': 1347, 'current': 1348, 'celebr': 1349, 'martin': 1350, 'choos': 1351, 'join': 1352, 'round': 1353, 'field': 1354, 'tragic': 1355, 'favourit': 1356, 'lord': 1357, 'vision': 1358, 'jean': 1359, 'robot': 1360, 'tie': 1361, 'arthur': 1362, 'roger': 1363, 'fortun': 1364, 'random': 1365, 'psycholog': 1366, 'intern': 1367, 'dread': 1368, 'improv': 1369, 'nonsens': 1370, 'prefer': 1371, 'epic': 1372, 'highlight': 1373, 'formula': 1374, 'pleasur': 1375, 'legend': 1376, 'tape': 1377, '11': 1378, 'dollar': 1379, 'porn': 1380, 'thin': 1381, 'wide': 1382, 'fox': 1383, 'object': 1384, 'gorgeou': 1385, 'ugli': 1386, 'influenc': 1387, 'buddi': 1388, 'prepar': 1389, 'ii': 1390, 'nasti': 1391, 'warm': 1392, 'supposedli': 1393, 'progress': 1394, 'reflect': 1395, 'youth': 1396, 'worthi': 1397, 'latter': 1398, 'length': 1399, 'unusu': 1400, 'crash': 1401, 'seven': 1402, 'childhood': 1403, 'superior': 1404, 'shop': 1405, 'remot': 1406, 'theatr': 1407, 'pilot': 1408, 'disgust': 1409, 'paid': 1410, 'funniest': 1411, 'trick': 1412, 'fell': 1413, 'castl': 1414, 'convers': 1415, 'rob': 1416, 'disast': 1417, 'gangster': 1418, 'establish': 1419, 'disappear': 1420, 'ident': 1421, 'suicid': 1422, 'mine': 1423, 'heaven': 1424, 'singer': 1425, 'tend': 1426, 'heroin': 1427, 'decis': 1428, 'mask': 1429, 'forgotten': 1430, 'brian': 1431, 'partner': 1432, 'desert': 1433, 'alan': 1434, 'recogn': 1435, 'stuck': 1436, 'p': 1437, 'ms': 1438, 'sky': 1439, 'thoroughli': 1440, 'accur': 1441, 'replac': 1442, 'market': 1443, 'commentari': 1444, 'uncl': 1445, 'clue': 1446, 'andi': 1447, 'seemingli': 1448, 'eddi': 1449, 'danni': 1450, 'jackson': 1451, 'devil': 1452, 'pair': 1453, 'refus': 1454, 'that': 1455, 'therefor': 1456, 'unit': 1457, 'river': 1458, 'ed': 1459, 'fault': 1460, 'fate': 1461, 'accid': 1462, 'tune': 1463, 'afraid': 1464, 'clean': 1465, 'hidden': 1466, 'stephen': 1467, 'russian': 1468, 'readi': 1469, 'instanc': 1470, 'irrit': 1471, 'convey': 1472, 'quick': 1473, 'test': 1474, 'captain': 1475, 'european': 1476, 'insan': 1477, 'frustrat': 1478, 'daniel': 1479, 'wed': 1480, 'food': 1481, 'rescu': 1482, '1950': 1483, 'chines': 1484, 'angri': 1485, 'lock': 1486, 'dirti': 1487, 'joy': 1488, 'steven': 1489, 'price': 1490, 'cage': 1491, 'bland': 1492, 'anymor': 1493, 'rang': 1494, 'wooden': 1495, 'rush': 1496, 'news': 1497, 'n': 1498, 'jason': 1499, '12': 1500, 'led': 1501, 'worri': 1502, 'board': 1503, 'twenti': 1504, 'martial': 1505, 'symbol': 1506, 'transform': 1507, 'cgi': 1508, 'hunter': 1509, 'invent': 1510, 'piti': 1511, 'onto': 1512, 'johnni': 1513, 'x': 1514, 'sentiment': 1515, 'explan': 1516, 'process': 1517, 'attitud': 1518, 'awar': 1519, 'owner': 1520, 'aim': 1521, 'favor': 1522, 'energi': 1523, 'necessari': 1524, 'floor': 1525, 'target': 1526, 'religi': 1527, 'opposit': 1528, 'window': 1529, 'blind': 1530, 'chick': 1531, 'insight': 1532, 'movement': 1533, 'comparison': 1534, 'research': 1535, 'deepli': 1536, 'possess': 1537, 'mountain': 1538, 'rain': 1539, 'whatsoev': 1540, 'grand': 1541, 'comed': 1542, 'began': 1543, 'bank': 1544, 'mid': 1545, 'shadow': 1546, 'parodi': 1547, 'princ': 1548, 'friendship': 1549, 'pre': 1550, 'taylor': 1551, 'weapon': 1552, 'credibl': 1553, 'dougla': 1554, 'flesh': 1555, 'teach': 1556, 'hint': 1557, 'terror': 1558, 'protect': 1559, 'bloodi': 1560, 'marvel': 1561, 'watchabl': 1562, 'anybodi': 1563, 'superman': 1564, 'drunk': 1565, 'leader': 1566, 'load': 1567, 'accord': 1568, 'brown': 1569, 'freddi': 1570, 'appropri': 1571, 'seat': 1572, 'tim': 1573, 'hitler': 1574, 'jeff': 1575, 'knock': 1576, 'unknown': 1577, 'villag': 1578, 'keaton': 1579, 'charg': 1580, 'unnecessari': 1581, 'england': 1582, 'empti': 1583, 'media': 1584, 'enemi': 1585, 'dare': 1586, 'strength': 1587, 'utter': 1588, 'craft': 1589, 'wave': 1590, 'perspect': 1591, 'buck': 1592, 'nativ': 1593, 'kiss': 1594, 'contrast': 1595, 'ford': 1596, 'correct': 1597, 'magnific': 1598, 'chill': 1599, 'anywher': 1600, 'soap': 1601, 'nazi': 1602, 'speed': 1603, 'distract': 1604, 'knowledg': 1605, 'breath': 1606, '1980': 1607, 'mission': 1608, 'fred': 1609, 'ice': 1610, 'moon': 1611, 'joan': 1612, 'crowd': 1613, 'jr': 1614, 'soft': 1615, '000': 1616, 'kate': 1617, 'frighten': 1618, 'hundr': 1619, 'nick': 1620, 'dan': 1621, 'dick': 1622, 'radio': 1623, 'somebodi': 1624, 'dozen': 1625, 'simon': 1626, 'thousand': 1627, 'andrew': 1628, 'loss': 1629, 'academi': 1630, 'shakespear': 1631, 'quot': 1632, 'account': 1633, 'root': 1634, 'sum': 1635, 'vehicl': 1636, '1970': 1637, 'convent': 1638, 'behavior': 1639, 'leg': 1640, 'gold': 1641, 'regular': 1642, 'demand': 1643, 'pretenti': 1644, 'compet': 1645, 'worker': 1646, 'notabl': 1647, 'explos': 1648, 'candi': 1649, 'japan': 1650, 'stretch': 1651, 'lynch': 1652, 'privat': 1653, 'interpret': 1654, 'constant': 1655, 'debut': 1656, 'tarzan': 1657, 'revolv': 1658, 'translat': 1659, 'spi': 1660, 'prais': 1661, 'sea': 1662, 'franc': 1663, 'jesu': 1664, 'quiet': 1665, 'threaten': 1666, 'ass': 1667, 'failur': 1668, 'sat': 1669, 'technolog': 1670, 'higher': 1671, 'kevin': 1672, 'punch': 1673, 'aid': 1674, 'toy': 1675, 'met': 1676, 'abandon': 1677, 'mike': 1678, 'interact': 1679, 'vh': 1680, 'bet': 1681, 'confront': 1682, 'separ': 1683, 'command': 1684, 'gotten': 1685, 'site': 1686, 'techniqu': 1687, 'stunt': 1688, 'belong': 1689, 'recal': 1690, 'servic': 1691, 'freak': 1692, 'cabl': 1693, 'foot': 1694, 'bug': 1695, 'bright': 1696, 'fu': 1697, 'african': 1698, 'jimmi': 1699, 'capabl': 1700, 'clark': 1701, 'stock': 1702, 'presid': 1703, 'succeed': 1704, 'boat': 1705, 'fat': 1706, 'spanish': 1707, 'structur': 1708, 'gene': 1709, 'kidnap': 1710, 'paper': 1711, 'factor': 1712, 'belief': 1713, 'whilst': 1714, 'educ': 1715, 'tree': 1716, 'witti': 1717, 'attend': 1718, 'realism': 1719, 'realis': 1720, 'complic': 1721, 'bob': 1722, 'broken': 1723, 'assist': 1724, 'santa': 1725, 'finest': 1726, 'smoke': 1727, 'v': 1728, 'up': 1729, 'observ': 1730, 'depart': 1731, 'determin': 1732, 'hat': 1733, 'rubbish': 1734, 'fame': 1735, 'oper': 1736, 'routin': 1737, 'lewi': 1738, 'domin': 1739, 'morgan': 1740, 'foreign': 1741, 'lone': 1742, 'kinda': 1743, 'hook': 1744, 'advanc': 1745, 'safe': 1746, 'rank': 1747, 'numer': 1748, 'civil': 1749, 'werewolf': 1750, 'rose': 1751, 'shallow': 1752, 'washington': 1753, 'shape': 1754, 'vs': 1755, 'morn': 1756, 'gari': 1757, 'accomplish': 1758, 'kong': 1759, 'ordinari': 1760, 'winner': 1761, 'virtual': 1762, 'whenev': 1763, 'grab': 1764, 'peac': 1765, 'h': 1766, 'luck': 1767, 'offens': 1768, 'bigger': 1769, 'patient': 1770, 'complain': 1771, 'contriv': 1772, 'welcom': 1773, 'unfunni': 1774, 'activ': 1775, 'pretend': 1776, 'dimension': 1777, 'trek': 1778, 'con': 1779, 'wake': 1780, 'flash': 1781, 'lesbian': 1782, 'dri': 1783, 'code': 1784, 'cain': 1785, 'eric': 1786, 'guard': 1787, 'corrupt': 1788, 'statu': 1789, 'albert': 1790, 'dancer': 1791, 'manipul': 1792, 'signific': 1793, 'sourc': 1794, 'context': 1795, 'awkward': 1796, 'speech': 1797, 'gain': 1798, 'clip': 1799, '13': 1800, 'psycho': 1801, 'sean': 1802, 'anthoni': 1803, 'corni': 1804, 'theatric': 1805, 'reli': 1806, 'curiou': 1807, 'advic': 1808, 'w': 1809, 'religion': 1810, 'priest': 1811, 'addict': 1812, 'flow': 1813, 'secur': 1814, 'howard': 1815, 'asian': 1816, 'specif': 1817, 'skin': 1818, 'jennif': 1819, 'organ': 1820, 'promot': 1821, 'luke': 1822, 'golden': 1823, 'comfort': 1824, 'core': 1825, 'lucki': 1826, 'cheat': 1827, 'cash': 1828, 'associ': 1829, 'dislik': 1830, 'lower': 1831, 'degre': 1832, 'regret': 1833, 'contribut': 1834, 'spell': 1835, 'frankli': 1836, 'wing': 1837, 'balanc': 1838, 'devic': 1839, 'frequent': 1840, 'lake': 1841, 'forgiv': 1842, 'sake': 1843, 'print': 1844, 'betti': 1845, 'thoma': 1846, 'mass': 1847, 'unexpect': 1848, 'crack': 1849, 'gordon': 1850, 'invit': 1851, 'construct': 1852, 'depend': 1853, 'categori': 1854, 'grown': 1855, 'amateur': 1856, 'unfold': 1857, 'condit': 1858, 'matur': 1859, 'intellectu': 1860, 'honor': 1861, 'anna': 1862, 'walter': 1863, 'grew': 1864, 'mirror': 1865, 'sudden': 1866, 'sole': 1867, 'spectacular': 1868, 'veteran': 1869, 'gift': 1870, 'grip': 1871, 'experienc': 1872, 'overli': 1873, 'freedom': 1874, 'meanwhil': 1875, 'card': 1876, 'robin': 1877, 'demonstr': 1878, 'liner': 1879, 'theori': 1880, 'unabl': 1881, 'subtitl': 1882, 'circumst': 1883, 'crappi': 1884, 'section': 1885, 'brilliantli': 1886, 'drew': 1887, 'sheriff': 1888, 'oliv': 1889, 'colour': 1890, 'sheer': 1891, 'altern': 1892, 'path': 1893, 'pile': 1894, 'cook': 1895, 'laughter': 1896, 'parker': 1897, 'matt': 1898, 'lawyer': 1899, 'relief': 1900, 'defin': 1901, 'wander': 1902, 'accident': 1903, 'treatment': 1904, 'hall': 1905, 'sinatra': 1906, 'dragon': 1907, 'captiv': 1908, 'hank': 1909, 'halloween': 1910, 'moor': 1911, 'gratuit': 1912, 'unintent': 1913, 'k': 1914, 'kung': 1915, 'cowboy': 1916, 'wound': 1917, 'barbara': 1918, 'wayn': 1919, 'jacki': 1920, 'broadway': 1921, 'winter': 1922, 'surreal': 1923, 'statement': 1924, 'spoof': 1925, 'canadian': 1926, 'fish': 1927, 'compos': 1928, 'gonna': 1929, 'treasur': 1930, 'fare': 1931, 'cheer': 1932, 'victor': 1933, 'unrealist': 1934, 'emerg': 1935, 'sensit': 1936, 'woodi': 1937, 'sympathet': 1938, 'neighbor': 1939, 'driven': 1940, 'ran': 1941, 'glass': 1942, 'topic': 1943, 'menac': 1944, 'overlook': 1945, 'authent': 1946, 'expos': 1947, 'michel': 1948, 'handsom': 1949, 'gross': 1950, 'chief': 1951, 'ancient': 1952, 'stranger': 1953, 'comedian': 1954, 'nevertheless': 1955, 'contemporari': 1956, 'built': 1957, 'pleasant': 1958, 'feet': 1959, 'network': 1960, 'russel': 1961, 'cinderella': 1962, 'consider': 1963, 'endless': 1964, 'blockbust': 1965, 'gori': 1966, 'letter': 1967, 'miser': 1968, 'earn': 1969, 'underr': 1970, 'brook': 1971, 'switch': 1972, 'solv': 1973, 'victoria': 1974, 'edward': 1975, 'bullet': 1976, 'convict': 1977, 'joseph': 1978, 'virgin': 1979, 'scenario': 1980, 'cynic': 1981, 'chosen': 1982, 'scale': 1983, 'alex': 1984, '0': 1985, 'gut': 1986, 'curs': 1987, 'com': 1988, 'sword': 1989, 'outrag': 1990, 'juli': 1991, 'substanc': 1992, 'proper': 1993, 'screenwrit': 1994, 'driver': 1995, 'uk': 1996, 'monkey': 1997, 'wrap': 1998, 'par': 1999, 'remov': 2000, 'indic': 2001, 'bird': 2002, 'court': 2003, 'consequ': 2004, 'roy': 2005, 'loser': 2006, 'inevit': 2007, 'nanci': 2008, 'grave': 2009, 'naiv': 2010, 'advertis': 2011, 'rental': 2012, 'fatal': 2013, 'slap': 2014, 'germani': 2015, 'le': 2016, 'brave': 2017, 'bridg': 2018, 'invis': 2019, 'ador': 2020, 'loui': 2021, 'provok': 2022, 'footbal': 2023, 'anger': 2024, 'alcohol': 2025, 'chan': 2026, 'anderson': 2027, 'stumbl': 2028, 'willi': 2029, 'ryan': 2030, 'professor': 2031, '1930': 2032, 'sharp': 2033, 'patrick': 2034, 'bat': 2035, 'australian': 2036, 'assassin': 2037, 'liber': 2038, 'refresh': 2039, 'deni': 2040, 'ape': 2041, 'cell': 2042, 'heck': 2043, 'trilog': 2044, 'eight': 2045, 'strongli': 2046, 'saturday': 2047, 'amateurish': 2048, 'lousi': 2049, 'sin': 2050, 'san': 2051, 'resid': 2052, 'vagu': 2053, 'justifi': 2054, 'defeat': 2055, 'indi': 2056, 'sympathi': 2057, 'mini': 2058, 'reput': 2059, 'terrifi': 2060, 'creator': 2061, 'tabl': 2062, 'endur': 2063, 'tediou': 2064, 'prevent': 2065, 'expert': 2066, 'task': 2067, 'trial': 2068, 'offend': 2069, 'basebal': 2070, 'employ': 2071, 'rival': 2072, 'imit': 2073, 'che': 2074, 'pitch': 2075, 'beach': 2076, 'fairi': 2077, 'weekend': 2078, 'europ': 2079, 'max': 2080, 'dig': 2081, 'complaint': 2082, 'risk': 2083, 'murphi': 2084, 'format': 2085, 'purchas': 2086, 'tini': 2087, 'glimps': 2088, 'bite': 2089, 'harsh': 2090, 'titan': 2091, 'nois': 2092, 'hype': 2093, 'reminisc': 2094, 'powel': 2095, 'fals': 2096, 'asleep': 2097, 'prime': 2098, 'north': 2099, '14': 2100, 'till': 2101, 'strip': 2102, 'descript': 2103, 'destruct': 2104, 'revel': 2105, 'africa': 2106, 'texa': 2107, 'semi': 2108, 'excess': 2109, 'arrest': 2110, 'inner': 2111, 'uninterest': 2112, 'spin': 2113, 'surfac': 2114, 'sitcom': 2115, 'maintain': 2116, 'makeup': 2117, 'massiv': 2118, 'dinosaur': 2119, 'twin': 2120, 'argu': 2121, 'hitchcock': 2122, 'controversi': 2123, 'expens': 2124, 'kim': 2125, 'insist': 2126, 'reject': 2127, 'ludicr': 2128, 'ideal': 2129, 'stare': 2130, 'melodrama': 2131, 'erot': 2132, 'ala': 2133, 'supernatur': 2134, 'host': 2135, 'nail': 2136, 'press': 2137, 'ga': 2138, 'atroci': 2139, 'forest': 2140, 'subplot': 2141, 'columbo': 2142, 'presum': 2143, 'notch': 2144, 'dude': 2145, 'identifi': 2146, 'cant': 2147, 'guest': 2148, 'closer': 2149, 'forgett': 2150, 'method': 2151, 'crude': 2152, 'character': 2153, 'plagu': 2154, 'landscap': 2155, 'princess': 2156, 'ear': 2157, 'lion': 2158, 'beast': 2159, 'foster': 2160, 'border': 2161, 'previous': 2162, 'birth': 2163, 'pacino': 2164, 'accus': 2165, 'urban': 2166, 'storytel': 2167, 'jungl': 2168, 'damag': 2169, 'aunt': 2170, 'bound': 2171, 'doll': 2172, 'propaganda': 2173, 'guid': 2174, 'thirti': 2175, 'nude': 2176, 'chose': 2177, 'emma': 2178, 'jess': 2179, 'whoever': 2180, '25': 2181, 'mate': 2182, 'warrior': 2183, 'pet': 2184, 'mainstream': 2185, 'exact': 2186, 'friday': 2187, 'cooper': 2188, 'poster': 2189, 'merit': 2190, 'size': 2191, 'gritti': 2192, 'upset': 2193, 'deadli': 2194, 'latest': 2195, 'sun': 2196, 'citizen': 2197, 'settl': 2198, 'corps': 2199, 'rough': 2200, 'blend': 2201, 'wilson': 2202, 'popul': 2203, 'contact': 2204, 'warner': 2205, 'ton': 2206, '1990': 2207, 'contest': 2208, 'buff': 2209, 'mgm': 2210, 'overcom': 2211, 'bu': 2212, 'environ': 2213, 'widow': 2214, 'rat': 2215, 'alic': 2216, 'select': 2217, 'pitt': 2218, 'metal': 2219, 'lift': 2220, 'link': 2221, 'particip': 2222, 'ted': 2223, 'guilti': 2224, 'revolut': 2225, 'exagger': 2226, 'moron': 2227, 'accompani': 2228, 'afternoon': 2229, 'corpor': 2230, 'prostitut': 2231, 'johnson': 2232, 'matrix': 2233, 'corner': 2234, '1960': 2235, 'leagu': 2236, 'doom': 2237, 'friendli': 2238, 'instal': 2239, 'clair': 2240, 'sincer': 2241, 'hood': 2242, 'multipl': 2243, 'holm': 2244, 'defend': 2245, 'campi': 2246, 'sunday': 2247, 'aka': 2248, 'grim': 2249, 'string': 2250, 'hip': 2251, 'advis': 2252, 'junk': 2253, 'irish': 2254, 'lugosi': 2255, 'examin': 2256, 'blah': 2257, 'confid': 2258, 'pro': 2259, 'varieti': 2260, 'rachel': 2261, 'tight': 2262, 'shake': 2263, 'shut': 2264, 'icon': 2265, 'denni': 2266, 'mexican': 2267, 'medic': 2268, 'directli': 2269, 'jaw': 2270, 'attach': 2271, 'goal': 2272, 'sullivan': 2273, 'dean': 2274, 'breast': 2275, 'prior': 2276, 'vietnam': 2277, 'truck': 2278, 'courag': 2279, 'terrorist': 2280, 'sentenc': 2281, 'sarah': 2282, 'duke': 2283, 'legendari': 2284, 'bourn': 2285, 'behav': 2286, 'entri': 2287, 'yell': 2288, 'hong': 2289, 'split': 2290, 'proceed': 2291, 'nose': 2292, 'un': 2293, 'donald': 2294, 'gather': 2295, 'swim': 2296, 'borrow': 2297, 'unconvinc': 2298, 'everywher': 2299, 'buri': 2300, 'jerk': 2301, 'concentr': 2302, 'forth': 2303, 'crush': 2304, 'confess': 2305, 'stolen': 2306, 'lifetim': 2307, 'deliveri': 2308, 'turkey': 2309, 'lip': 2310, 'julia': 2311, 'pan': 2312, 'spite': 2313, 'california': 2314, 'freeman': 2315, 'offici': 2316, 'quest': 2317, 'proud': 2318, 'downright': 2319, 'reward': 2320, 'china': 2321, 'hoffman': 2322, 'flight': 2323, 'betray': 2324, 'sink': 2325, 'lazi': 2326, 'notori': 2327, 'worthwhil': 2328, 'fabul': 2329, 'jail': 2330, 'fade': 2331, 'jon': 2332, 'encourag': 2333, 'inept': 2334, 'sir': 2335, 'storm': 2336, 'retard': 2337, 'bag': 2338, 'imageri': 2339, 'susan': 2340, 'cousin': 2341, 'shower': 2342, 'survivor': 2343, 'teeth': 2344, 'branagh': 2345, 'relev': 2346, 'bell': 2347, 'lisa': 2348, 'quirki': 2349, 'finger': 2350, 'facial': 2351, 'summari': 2352, 'stab': 2353, 'trade': 2354, 'shark': 2355, 'hugh': 2356, 'toler': 2357, 'mexico': 2358, 'tremend': 2359, 'alright': 2360, 'bride': 2361, 'bitter': 2362, 'ha': 2363, 'pose': 2364, 'hyster': 2365, 'blown': 2366, 'von': 2367, 'afterward': 2368, 'address': 2369, 'bone': 2370, 'ned': 2371, 'ron': 2372, 'larri': 2373, 'scheme': 2374, 'cruel': 2375, 'christ': 2376, 'pursu': 2377, 'feed': 2378, 'thumb': 2379, 'beg': 2380, 'traci': 2381, 'swear': 2382, 'distinct': 2383, 'tour': 2384, 'snake': 2385, 'screw': 2386, 'photo': 2387, 'stomach': 2388, 'obscur': 2389, 'occas': 2390, 'mechan': 2391, 'raw': 2392, 'chair': 2393, 'chain': 2394, 'necessarili': 2395, 'sidney': 2396, 'render': 2397, 'argument': 2398, 'heavili': 2399, 'holiday': 2400, 'cabin': 2401, 'gruesom': 2402, 'southern': 2403, 'resist': 2404, 'hardi': 2405, 'satan': 2406, 'understood': 2407, 'racist': 2408, 'indulg': 2409, 'philip': 2410, 'india': 2411, 'stalk': 2412, 'outfit': 2413, 'integr': 2414, 'forgot': 2415, 'fourth': 2416, 'obnoxi': 2417, 'belov': 2418, 'midnight': 2419, 'lay': 2420, 'tongu': 2421, 'pregnant': 2422, 'magazin': 2423, 'garden': 2424, 'inhabit': 2425, 'slapstick': 2426, '17': 2427, 'restor': 2428, 'deeper': 2429, 'ticket': 2430, 'carol': 2431, 'lincoln': 2432, 'shoe': 2433, 'devot': 2434, 'brad': 2435, 'incid': 2436, 'benefit': 2437, 'elizabeth': 2438, 'disbelief': 2439, 'maria': 2440, 'anticip': 2441, 'divorc': 2442, 'lili': 2443, 'guarante': 2444, 'underground': 2445, 'sandler': 2446, 'mildli': 2447, 'capit': 2448, 'bbc': 2449, 'princip': 2450, 'explod': 2451, 'creation': 2452, 'cring': 2453, 'slave': 2454, 'greater': 2455, 'amazingli': 2456, 'extraordinari': 2457, 'funnier': 2458, 'introduct': 2459, 'halfway': 2460, 'lesli': 2461, 'punish': 2462, 'text': 2463, 'transfer': 2464, 'overwhelm': 2465, 'extent': 2466, 'wreck': 2467, 'advantag': 2468, 'enhanc': 2469, 'tap': 2470, 'jessica': 2471, 'lo': 2472, 'plant': 2473, 'preview': 2474, 'error': 2475, 'dynam': 2476, 'horrif': 2477, 'deliber': 2478, 'lane': 2479, 'east': 2480, 'basi': 2481, 'sophist': 2482, 'ensu': 2483, 'vacat': 2484, 'miscast': 2485, 'miller': 2486, '2000': 2487, 'vincent': 2488, 'homosexu': 2489, 'appli': 2490, 'reed': 2491, 'via': 2492, 'mansion': 2493, 'measur': 2494, 'spoken': 2495, 'steel': 2496, 'uncomfort': 2497, 'elev': 2498, 'sleazi': 2499, 'extend': 2500, 'bollywood': 2501, 'fix': 2502, 'goofi': 2503, 'beer': 2504, 'melt': 2505, 'hippi': 2506, 'breathtak': 2507, 'stanley': 2508, 'alter': 2509, 'conceiv': 2510, 'blair': 2511, 'savag': 2512, 'mous': 2513, 'dentist': 2514, 'cathol': 2515, 'overact': 2516, 'assign': 2517, 'daili': 2518, 'sacrific': 2519, 'subsequ': 2520, 'succe': 2521, 'oppos': 2522, 'properli': 2523, 'burt': 2524, 'inspector': 2525, 'nowaday': 2526, 'everyday': 2527, 'carpent': 2528, 'massacr': 2529, 'laura': 2530, 'block': 2531, 'neck': 2532, 'circl': 2533, 'pool': 2534, 'access': 2535, 'fallen': 2536, 'fay': 2537, 'mob': 2538, 'lesser': 2539, 'christi': 2540, 'concert': 2541, 'grey': 2542, 'portrait': 2543, 'seagal': 2544, 'jake': 2545, 'chees': 2546, 'react': 2547, 'sinist': 2548, 'usa': 2549, 'jewish': 2550, 'isol': 2551, 'relax': 2552, 'competit': 2553, 'lyric': 2554, 'creep': 2555, 'nine': 2556, 'immens': 2557, 'appal': 2558, 'stink': 2559, 'suitabl': 2560, '2006': 2561, 'nonetheless': 2562, 'chop': 2563, 'spiritu': 2564, 'ironi': 2565, 'adopt': 2566, 'luci': 2567, 'shirt': 2568, 'user': 2569, 'sold': 2570, 'needless': 2571, 'nut': 2572, 'navi': 2573, 'rage': 2574, 'showcas': 2575, 'retir': 2576, 'spring': 2577, 'reduc': 2578, 'franchis': 2579, 'zone': 2580, 'bath': 2581, 'per': 2582, 'asham': 2583, 'jay': 2584, 'stanwyck': 2585, 'digit': 2586, 'nurs': 2587, 'uninspir': 2588, 'bulli': 2589, 'upper': 2590, 'sutherland': 2591, 'amongst': 2592, 'laid': 2593, '2001': 2594, 'oddli': 2595, 'broadcast': 2596, 'illustr': 2597, '1940': 2598, 'baker': 2599, 'aspir': 2600, 'throat': 2601, 'stylish': 2602, 'fulfil': 2603, 'disguis': 2604, 'brando': 2605, 'em': 2606, 'pound': 2607, 'thief': 2608, 'nobl': 2609, 'endear': 2610, '18': 2611, 'impli': 2612, 'wanna': 2613, 'pride': 2614, 'neighborhood': 2615, 'wwii': 2616, 'distribut': 2617, 'tens': 2618, 'albeit': 2619, 'dawn': 2620, 'coher': 2621, 'cinematograph': 2622, 'prop': 2623, 'dinner': 2624, 'shoulder': 2625, 'diseas': 2626, 'bett': 2627, 'shift': 2628, 'bo': 2629, 'rochest': 2630, '16': 2631, 'snow': 2632, 'rebel': 2633, 'silenc': 2634, 'contract': 2635, 'poignant': 2636, 'matthau': 2637, 'forti': 2638, 'function': 2639, 'knife': 2640, 'shout': 2641, 'wash': 2642, 'surf': 2643, 'instinct': 2644, 'horrend': 2645, 'eeri': 2646, 'cannib': 2647, 'heat': 2648, 'cancel': 2649, 'mindless': 2650, 'henc': 2651, 'height': 2652, 'proof': 2653, 'chuck': 2654, 'duti': 2655, 'reunion': 2656, 'internet': 2657, 'elvira': 2658, 'silver': 2659, 'derek': 2660, 'widmark': 2661, 'etern': 2662, 'absorb': 2663, 'innov': 2664, 'spielberg': 2665, 'premier': 2666, 'musician': 2667, 'neat': 2668, 'repetit': 2669, 'incoher': 2670, 'torn': 2671, 'glori': 2672, 'mill': 2673, 'alik': 2674, 'pie': 2675, 'greatli': 2676, 'elvi': 2677, 'announc': 2678, 'trite': 2679, 'redempt': 2680, 'precis': 2681, 'infam': 2682, 'horrifi': 2683, 'itali': 2684, 'wealthi': 2685, 'fbi': 2686, 'lovabl': 2687, 'burton': 2688, 'bang': 2689, 'nelson': 2690, 'crisi': 2691, 'diamond': 2692, 'blank': 2693, 'britain': 2694, 'homag': 2695, 'racism': 2696, 'parallel': 2697, 'helen': 2698, 'wilder': 2699, 'resolut': 2700, 'ensembl': 2701, 'streisand': 2702, 'happili': 2703, 'pat': 2704, 'flop': 2705, 'hammer': 2706, 'chaplin': 2707, 'dedic': 2708, 'cube': 2709, 'disagre': 2710, 'mar': 2711, 'broke': 2712, 'carter': 2713, 'conclud': 2714, 'triumph': 2715, 'plastic': 2716, 'factori': 2717, 'oil': 2718, 'st': 2719, 'vega': 2720, 'rocket': 2721, 'own': 2722, 'row': 2723, 'fighter': 2724, 'weight': 2725, 'bush': 2726, 'chuckl': 2727, 'climb': 2728, 'march': 2729, 'wherea': 2730, 'lust': 2731, 'dane': 2732, 'spare': 2733, 'unforgett': 2734, 'thug': 2735, 'luca': 2736, 'boot': 2737, 'dump': 2738, 'enorm': 2739, 'meaning': 2740, 'sensibl': 2741, 'kurt': 2742, 'mst3k': 2743, 'dear': 2744, 'stress': 2745, 'fifti': 2746, 'engin': 2747, 'bobbi': 2748, 'brand': 2749, 'adequ': 2750, 'difficulti': 2751, 'rap': 2752, 'arnold': 2753, 'butt': 2754, 'caricatur': 2755, 'threat': 2756, 'karloff': 2757, 'ralph': 2758, 'elabor': 2759, 'hamlet': 2760, 'journalist': 2761, 'swing': 2762, 'ego': 2763, 'secretari': 2764, 'fest': 2765, 'homeless': 2766, 'polish': 2767, 'barri': 2768, 'arrog': 2769, 'flynn': 2770, 'tool': 2771, 'float': 2772, 'conspiraci': 2773, 'resort': 2774, 'fanci': 2775, 'unbear': 2776, 'induc': 2777, 'puppet': 2778, 'arrang': 2779, 'grate': 2780, 'simpson': 2781, 'spike': 2782, 'guilt': 2783, 'basement': 2784, 'tribut': 2785, 'choreograph': 2786, 'phillip': 2787, 'pig': 2788, 'exercis': 2789, 'cruis': 2790, 'boll': 2791, 'muppet': 2792, 'babe': 2793, '24': 2794, 'korean': 2795, 'puzzl': 2796, 'file': 2797, 'item': 2798, 'stan': 2799, 'slip': 2800, 'medium': 2801, 'fianc': 2802, 'layer': 2803, 'editor': 2804, 'toilet': 2805, 'ham': 2806, 'document': 2807, 'ward': 2808, 'tower': 2809, 'scarecrow': 2810, 'superfici': 2811, 'minim': 2812, 'larger': 2813, 'territori': 2814, 'portion': 2815, 'librari': 2816, 'assur': 2817, 'glover': 2818, 'spark': 2819, 'philosoph': 2820, 'persona': 2821, 'doc': 2822, 'orient': 2823, 'transit': 2824, 'inexplic': 2825, 'denzel': 2826, 'slaughter': 2827, 'catherin': 2828, 'ban': 2829, 'shi': 2830, 'curti': 2831, 'boredom': 2832, 'owe': 2833, 'pg': 2834, 'financi': 2835, 'walken': 2836, 'wolf': 2837, 'jet': 2838, 'sneak': 2839, 'dorothi': 2840, 'jeremi': 2841, 'metaphor': 2842, 'backdrop': 2843, 'multi': 2844, 'ambigu': 2845, 'cusack': 2846, 'eleph': 2847, 'profound': 2848, 'hudson': 2849, 'whale': 2850, 'elsewher': 2851, 'stiff': 2852, 'rave': 2853, 'hack': 2854, 'ultra': 2855, 'viru': 2856, 'birthday': 2857, 'implaus': 2858, 'union': 2859, 'notion': 2860, '2005': 2861, 'gadget': 2862, 'poison': 2863, 'slight': 2864, 'squar': 2865, 'eva': 2866, 'newspap': 2867, 'hawk': 2868, 'urg': 2869, 'deriv': 2870, 'lloyd': 2871, 'reader': 2872, 'canada': 2873, 'pad': 2874, 'distanc': 2875, 'disc': 2876, 'superhero': 2877, '1st': 2878, 'bibl': 2879, 'eastwood': 2880, 'afford': 2881, 'drown': 2882, 'sadist': 2883, 'restaur': 2884, 'button': 2885, 'charisma': 2886, 'cure': 2887, 'huh': 2888, 'spread': 2889, 'montag': 2890, 'skit': 2891, 'heston': 2892, 'health': 2893, 'essenc': 2894, 'godfath': 2895, 'companion': 2896, 'maniac': 2897, 'invest': 2898, 'estat': 2899, 'fetch': 2900, 'peak': 2901, 'dealt': 2902, 'gradual': 2903, 'scoobi': 2904, 'lab': 2905, 'muslim': 2906, 'kane': 2907, 'servant': 2908, 'gothic': 2909, 'ritter': 2910, 'cup': 2911, 'tea': 2912, 'alli': 2913, 'countless': 2914, 'subtleti': 2915, 'miik': 2916, 'briefli': 2917, 'iii': 2918, 'elect': 2919, 'salli': 2920, 'charismat': 2921, 'electr': 2922, 'heroic': 2923, 'wannab': 2924, 'toss': 2925, 'reel': 2926, 'grandmoth': 2927, 'bud': 2928, 'ingredi': 2929, 'admittedli': 2930, 'neil': 2931, 'resourc': 2932, 'nuanc': 2933, 'tender': 2934, 'cole': 2935, 'carrey': 2936, 'pit': 2937, 'kubrick': 2938, 'gate': 2939, 'mild': 2940, 'poverti': 2941, 'punk': 2942, 'label': 2943, 'reev': 2944, 'stronger': 2945, 'shall': 2946, 'mafia': 2947, 'dawson': 2948, 'pauli': 2949, 'stood': 2950, 'smash': 2951, 'easier': 2952, 'smooth': 2953, 'useless': 2954, 'fond': 2955, 'burst': 2956, 'tag': 2957, 'cardboard': 2958, 'updat': 2959, 'assault': 2960, 'cox': 2961, 'terri': 2962, 'outcom': 2963, 'ian': 2964, 'bakshi': 2965, 'astair': 2966, 'resolv': 2967, 'qualifi': 2968, '2002': 2969, 'samurai': 2970, 'exchang': 2971, 'divers': 2972, 'increasingli': 2973, 'melodramat': 2974, 'vari': 2975, 'sketch': 2976, 'rex': 2977, 'vulner': 2978, 'fist': 2979, 'coincid': 2980, 'reynold': 2981, 'luckili': 2982, 'be': 2983, 'suspend': 2984, 'scratch': 2985, 'insert': 2986, 'tame': 2987, 'templ': 2988, 'conveni': 2989, 'brillianc': 2990, 'blast': 2991, 'gotta': 2992, 'jami': 2993, 'matthew': 2994, 'farm': 2995, 'ambiti': 2996, 'walker': 2997, 'coach': 2998, 'seventi': 2999, 'fisher': 3000, 'hamilton': 3001, 'soprano': 3002, 'nuclear': 3003, 'meat': 3004, 'pin': 3005, 'strictli': 3006, 'discoveri': 3007, 'cave': 3008, 'instantli': 3009, 'spooki': 3010, 'kudo': 3011, 'grasp': 3012, 'timeless': 3013, 'monk': 3014, 'revers': 3015, 'clock': 3016, 'empir': 3017, 'eccentr': 3018, 'convolut': 3019, 'worthless': 3020, 'ninja': 3021, 'joey': 3022, 'closet': 3023, 'butcher': 3024, 'struck': 3025, 'recreat': 3026, 'brosnan': 3027, 'partli': 3028, 'wipe': 3029, 'selfish': 3030, 'fifteen': 3031, 'eighti': 3032, 'evok': 3033, 'communist': 3034, 'declar': 3035, 'inconsist': 3036, 'clown': 3037, 'sloppi': 3038, 'cliff': 3039, 'sidekick': 3040, 'pal': 3041, 'importantli': 3042, 'gray': 3043, 'norman': 3044, 'bleak': 3045, 'miracl': 3046, 'mitchel': 3047, 'seller': 3048, 'chew': 3049, 'flawless': 3050, 'ho': 3051, 'websit': 3052, 'psychiatrist': 3053, 'superbl': 3054, 'aforement': 3055, '45': 3056, 'seed': 3057, 'enthusiast': 3058, 'destin': 3059, 'cheek': 3060, 'stoog': 3061, 'farc': 3062, 'australia': 3063, 'piano': 3064, 'lifestyl': 3065, 'debat': 3066, 'incompet': 3067, 'kitchen': 3068, 'dash': 3069, 'drivel': 3070, 'dire': 3071, 'abc': 3072, 'splatter': 3073, 'emili': 3074, 'directori': 3075, 'slice': 3076, 'wick': 3077, 'wrestl': 3078, 'anni': 3079, 'regardless': 3080, 'pressur': 3081, 'bash': 3082, 'akshay': 3083, 'soviet': 3084, 'glow': 3085, 'suppli': 3086, 'curios': 3087, 'cia': 3088, 'distant': 3089, 'jar': 3090, 'seduc': 3091, 'flower': 3092, 'beaten': 3093, 'blob': 3094, 'lou': 3095, 'increas': 3096, 'boil': 3097, 'recov': 3098, 'pleasantli': 3099, 'chapter': 3100, 'prize': 3101, 'mann': 3102, 'cameron': 3103, 'judi': 3104, 'dave': 3105, 'doo': 3106, 'duo': 3107, 'ken': 3108, 'cagney': 3109, 'artifici': 3110, 'helicopt': 3111, 'francisco': 3112, 'psychot': 3113, 'web': 3114, 'eleg': 3115, 'turner': 3116, 'craig': 3117, 'panic': 3118, 'ellen': 3119, 'glenn': 3120, 'drunken': 3121, 'favour': 3122, 'ranger': 3123, 'goldberg': 3124, 'craven': 3125, 'splendid': 3126, 'perri': 3127, 'laurel': 3128, 'combat': 3129, 'hop': 3130, 'shortli': 3131, 'gentl': 3132, 'fx': 3133, 'graduat': 3134, 'philosophi': 3135, 'wizard': 3136, 'greek': 3137, 'rid': 3138, '20th': 3139, 'hatr': 3140, 'plausibl': 3141, 'ruth': 3142, 'alexand': 3143, 'slightest': 3144, 'gandhi': 3145, 'flip': 3146, 'min': 3147, 'modesti': 3148, 'falk': 3149, 'knight': 3150, 'ocean': 3151, 'preciou': 3152, 'jealou': 3153, 'unpleas': 3154, 'manhattan': 3155, 'legal': 3156, 'harm': 3157, 'tall': 3158, 'holi': 3159, 'dracula': 3160, 'fund': 3161, 'felix': 3162, 'lend': 3163, 'futurist': 3164, 'we': 3165, 'giallo': 3166, 'reviv': 3167, 'ami': 3168, 'tank': 3169, 'nod': 3170, 'explicit': 3171, 'childish': 3172, 'digniti': 3173, 'scientif': 3174, 'overdon': 3175, 'mock': 3176, 'thread': 3177, 'bless': 3178, 'forbidden': 3179, '2004': 3180, 'unwatch': 3181, 'awe': 3182, 'nerv': 3183, 'mel': 3184, 'torment': 3185, 'broad': 3186, 'thick': 3187, 'elderli': 3188, 'verhoeven': 3189, 'yesterday': 3190, 'repeatedli': 3191, 'awaken': 3192, '99': 3193, 'pirat': 3194, 'eve': 3195, 'margaret': 3196, 'fever': 3197, 'timothi': 3198, 'rivet': 3199, 'publish': 3200, 'acclaim': 3201, 'kay': 3202, 'absenc': 3203, 'romero': 3204, 'bin': 3205, 'lean': 3206, 'uniform': 3207, 'stiller': 3208, 'automat': 3209, 'launch': 3210, 'custom': 3211, 'ah': 3212, 'ambit': 3213, 'roman': 3214, 'politician': 3215, 'griffith': 3216, 'eas': 3217, 'royal': 3218, 'purpl': 3219, 'sunshin': 3220, 'bathroom': 3221, 'tomato': 3222, 'antic': 3223, 'crook': 3224, 'transport': 3225, 'homicid': 3226, 'foul': 3227, 'termin': 3228, 'gabriel': 3229, 'darker': 3230, 'phrase': 3231, 'wallac': 3232, 'pierc': 3233, 'pulp': 3234, 'stinker': 3235, 'warren': 3236, 'awak': 3237, 'donna': 3238, 'rambo': 3239, 'sixti': 3240, 'pray': 3241, 'prom': 3242, 'ought': 3243, 'horrid': 3244, 'contrari': 3245, 'saint': 3246, 'kenneth': 3247, 'viciou': 3248, 'juvenil': 3249, 'choreographi': 3250, 'q': 3251, 'packag': 3252, 'li': 3253, 'brazil': 3254, 'revolutionari': 3255, 'album': 3256, 'marin': 3257, 'eyr': 3258, '2003': 3259, 'karen': 3260, 'hollow': 3261, 'evolv': 3262, 'coloni': 3263, 'stole': 3264, 'beatti': 3265, 'blade': 3266, 'ireland': 3267, 'boast': 3268, 'option': 3269, 'defi': 3270, 'dose': 3271, 'nerd': 3272, 'twelv': 3273, 'overr': 3274, 'mildr': 3275, 'kapoor': 3276, 'conserv': 3277, 'mummi': 3278, 'candid': 3279, 'ramon': 3280, 'confirm': 3281, 'fulci': 3282, 'global': 3283, 'protest': 3284, 'detract': 3285, 'jazz': 3286, 'natali': 3287, 'kirk': 3288, 'flame': 3289, 'funer': 3290, 'altman': 3291, 'astonish': 3292, 'collabor': 3293, 'trio': 3294, 'bottl': 3295, 'bull': 3296, 'whip': 3297, 'yellow': 3298, 'delici': 3299, 'destini': 3300, 'mystic': 3301, 'tommi': 3302, 'spit': 3303, 'blake': 3304, 'audio': 3305, 'racial': 3306, 'nicholson': 3307, 'enterpris': 3308, 'shade': 3309, 'leap': 3310, 'merci': 3311, 'bedroom': 3312, 'inherit': 3313, 'reunit': 3314, 'pseudo': 3315, 'enchant': 3316, 'altogeth': 3317, 'adolesc': 3318, 'meaningless': 3319, 'threw': 3320, 'visibl': 3321, 'staff': 3322, 'popcorn': 3323, 'swedish': 3324, 'neo': 3325, 'todd': 3326, 'harder': 3327, 'fonda': 3328, 'vivid': 3329, 'jew': 3330, 'fanat': 3331, 'roommat': 3332, 'lawrenc': 3333, 'decor': 3334, 'exhibit': 3335, 'synopsi': 3336, 'reserv': 3337, 'leonard': 3338, 'atlanti': 3339, 'moodi': 3340, 'uneven': 3341, 'ruthless': 3342, 'await': 3343, 'edi': 3344, 'wire': 3345, 'madonna': 3346, 'tip': 3347, 'bust': 3348, 'crocodil': 3349, 'suspici': 3350, 'lemmon': 3351, 'respond': 3352, 'kennedi': 3353, 'voight': 3354, 'befriend': 3355, 'bold': 3356, 'rural': 3357, 'dimens': 3358, 'abysm': 3359, 'incident': 3360, 'carl': 3361, 'palma': 3362, 'garner': 3363, 'clumsi': 3364, 'centr': 3365, 'audit': 3366, 'unsettl': 3367, 'bradi': 3368, 'bargain': 3369, '2007': 3370, 'ventur': 3371, 'voyag': 3372, 'chao': 3373, 'clint': 3374, 'holli': 3375, 'daddi': 3376, 'humili': 3377, 'imperson': 3378, 'echo': 3379, 'tiger': 3380, 'characterist': 3381, 'neglect': 3382, 'hart': 3383, 'trail': 3384, 'cari': 3385, 'wealth': 3386, 'acknowledg': 3387, 'troop': 3388, 'mall': 3389, 'ant': 3390, 'elimin': 3391, 'lit': 3392, 'poetic': 3393, '2nd': 3394, 'cd': 3395, 'nearbi': 3396, 'versu': 3397, 'cuba': 3398, 'immigr': 3399, 'timon': 3400, 'paus': 3401, 'infect': 3402, 'mistaken': 3403, 'celluloid': 3404, 'marshal': 3405, 'homer': 3406, 'pun': 3407, 'mickey': 3408, 'prejudic': 3409, 'jeffrey': 3410, 'saga': 3411, 'solo': 3412, 'domest': 3413, 'collaps': 3414, 'repuls': 3415, 'milk': 3416, 'olivi': 3417, 'pant': 3418, 'inappropri': 3419, 'sore': 3420, 'tribe': 3421, 'inan': 3422, 'hbo': 3423, 'promin': 3424, 'cake': 3425, 'coffe': 3426, 'harvey': 3427, '1996': 3428, 'assembl': 3429, 'undoubtedli': 3430, 'equip': 3431, 'leon': 3432, 'interrupt': 3433, 'coat': 3434, 'chest': 3435, 'apolog': 3436, 'ginger': 3437, 'gear': 3438, 'furthermor': 3439, 'trace': 3440, 'pot': 3441, 'consum': 3442, 'humbl': 3443, 'maggi': 3444, 'airplan': 3445, 'aveng': 3446, 'embrac': 3447, 'jenni': 3448, 'institut': 3449, 'primari': 3450, 'brooklyn': 3451, 'retain': 3452, 'colleagu': 3453, 'solut': 3454, 'instant': 3455, 'vulgar': 3456, 'florida': 3457, 'exot': 3458, 'highest': 3459, 'devast': 3460, 'colonel': 3461, 'pen': 3462, 'polanski': 3463, 'smaller': 3464, 'outer': 3465, 'seduct': 3466, 'dutch': 3467, 'ya': 3468, 'wive': 3469, 'bowl': 3470, '1999': 3471, '3rd': 3472, 'descend': 3473, 'principl': 3474, 'cope': 3475, 'dian': 3476, 'poke': 3477, 'rick': 3478, 'gender': 3479, 'sale': 3480, 'godzilla': 3481, 'disabl': 3482, 'illog': 3483, 'linda': 3484, 'strain': 3485, 'predecessor': 3486, 'bubbl': 3487, 'mixtur': 3488, 'beneath': 3489, 'glamor': 3490, 'vast': 3491, 'secondli': 3492, 'scope': 3493, 'primarili': 3494, 'blatant': 3495, 'gloriou': 3496, 'cue': 3497, 'lol': 3498, 'dive': 3499, 'dud': 3500, 'inferior': 3501, 'yard': 3502, 'rabbit': 3503, 'hal': 3504, 'devoid': 3505, 'gundam': 3506, 'breed': 3507, 'grinch': 3508, 'myer': 3509, 'alert': 3510, 'museum': 3511, 'disjoint': 3512, 'simplist': 3513, 'z': 3514, 'arab': 3515, 'alfr': 3516, 'april': 3517, 'talki': 3518, 'shelf': 3519, 'domino': 3520, 'countrysid': 3521, 'shirley': 3522, 'hideou': 3523, 'invas': 3524, 'casual': 3525, 'aggress': 3526, 'trademark': 3527, 'et': 3528, 'senseless': 3529, 'garbo': 3530, 'pearl': 3531, 'streep': 3532, 'hardcor': 3533, 'mail': 3534, 'stellar': 3535, 'vanish': 3536, 'experiment': 3537, 'boom': 3538, 'loyal': 3539, 'rendit': 3540, 'acid': 3541, 'illeg': 3542, 'stir': 3543, 'sh': 3544, 'slide': 3545, 'robinson': 3546, 'robberi': 3547, 'obtain': 3548, 'hopeless': 3549, 'mayor': 3550, 'maci': 3551, 'defens': 3552, 'khan': 3553, 'disgrac': 3554, 'uwe': 3555, 'oz': 3556, 'stack': 3557, 'unhappi': 3558, 'applaud': 3559, 'amanda': 3560, 'grandfath': 3561, 'topless': 3562, 'diana': 3563, 'dismiss': 3564, 'psychic': 3565, 'blew': 3566, 'incomprehens': 3567, 'counter': 3568, 'fri': 3569, 'declin': 3570, 'span': 3571, 'rifl': 3572, 'wont': 3573, 'soccer': 3574, 'recruit': 3575, 'berlin': 3576, 'tempt': 3577, 'dicken': 3578, 'craze': 3579, 'spider': 3580, 'hartley': 3581, 'scroog': 3582, 'emphasi': 3583, 'tenant': 3584, 'faster': 3585, 'riot': 3586, 'resurrect': 3587, 'bitch': 3588, 'parad': 3589, 'ration': 3590, 'goer': 3591, 'shed': 3592, 'porno': 3593, 'ethnic': 3594, 'niro': 3595, 'revolt': 3596, 'intim': 3597, 'sympath': 3598, 'lumet': 3599, 'shaw': 3600, 'sibl': 3601, 'trashi': 3602, 'woo': 3603, 'wet': 3604, 'justin': 3605, 'hesit': 3606, 'partial': 3607, 'dealer': 3608, 'mario': 3609, 'commend': 3610, 'unreal': 3611, 'region': 3612, 'ensur': 3613, 'patriot': 3614, 'rider': 3615, 'lena': 3616, 'choru': 3617, 'nephew': 3618, 'biographi': 3619, 'andr': 3620, 'steam': 3621, 'wheel': 3622, 'immort': 3623, 'jonathan': 3624, 'gap': 3625, 'ballet': 3626, 'honesti': 3627, 'eager': 3628, 'enlighten': 3629, 'hopper': 3630, 'wendi': 3631, '00': 3632, 'feminist': 3633, 'farmer': 3634, 'slick': 3635, 'worm': 3636, 'weakest': 3637, 'util': 3638, 'snap': 3639, 'charlott': 3640, 'repress': 3641, 'kingdom': 3642, 'skull': 3643, 'safeti': 3644, 'hung': 3645, 'sappi': 3646, 'prequel': 3647, 'leo': 3648, 'similarli': 3649, 'wore': 3650, 'psychopath': 3651, 'mutant': 3652, 'owen': 3653, 'vice': 3654, 'franco': 3655, 'composit': 3656, 'victori': 3657, 'morri': 3658, 'confin': 3659, 'nostalg': 3660, 'sandra': 3661, 'properti': 3662, 'blunt': 3663, 'macarthur': 3664, 'rambl': 3665, 'despair': 3666, 'farrel': 3667, 'dust': 3668, 'exit': 3669, 'compens': 3670, 'latin': 3671, 'emperor': 3672, 'acquir': 3673, 'rocki': 3674, 'campbel': 3675, 'speci': 3676, 'bow': 3677, 'nervou': 3678, 'whoopi': 3679, 'heartbreak': 3680, 'recycl': 3681, 'pattern': 3682, 'bumbl': 3683, 'thru': 3684, 'compass': 3685, 'rope': 3686, 'drain': 3687, 'miseri': 3688, 'dalton': 3689, 'deed': 3690, 'drum': 3691, 'valuabl': 3692, 'tail': 3693, '1972': 3694, 'tad': 3695, 'hyde': 3696, 'snl': 3697, 'del': 3698, 'repli': 3699, 'strand': 3700, 'bonu': 3701, 'montana': 3702, 'bergman': 3703, 'kyle': 3704, 'cg': 3705, 'pour': 3706, 'rotten': 3707, 'airport': 3708, 'wacki': 3709, 'downhil': 3710, 'carradin': 3711, '35': 3712, 'roth': 3713, 'da': 3714, 'slug': 3715, 'oppress': 3716, 'olli': 3717, 'gal': 3718, 'bleed': 3719, 'gimmick': 3720, 'orson': 3721, 'tonight': 3722, 'rapist': 3723, 'mistress': 3724, 'percept': 3725, 'martian': 3726, 'contempl': 3727, 'romp': 3728, 'chess': 3729, 'radic': 3730, 'shelley': 3731, 'stilt': 3732, 'slash': 3733, 'paltrow': 3734, 'mislead': 3735, 'tackl': 3736, 'pervers': 3737, 'preach': 3738, 'attorney': 3739, 'dazzl': 3740, 'arguabl': 3741, 'pursuit': 3742, 'banal': 3743, 'arc': 3744, '1983': 3745, 'taught': 3746, 'pervert': 3747, 'unpredict': 3748, 'belt': 3749, 'programm': 3750, 'edgar': 3751, 'melodi': 3752, 'champion': 3753, 'heal': 3754, 'tooth': 3755, 'plight': 3756, 'rubi': 3757, 'conneri': 3758, 'maid': 3759, 'poem': 3760, 'raymond': 3761, 'vengeanc': 3762, 'tiresom': 3763, 'franki': 3764, 'closest': 3765, 'orang': 3766, 'bela': 3767, 'dixon': 3768, 'vocal': 3769, 'sensat': 3770, 'passeng': 3771, 'mesmer': 3772, 'employe': 3773, 'uplift': 3774, 'virginia': 3775, 'gambl': 3776, 'marti': 3777, 'cleverli': 3778, 'chicken': 3779, 'duval': 3780, 'graham': 3781, 'clone': 3782, 'crystal': 3783, 'inject': 3784, 'quarter': 3785, 'bay': 3786, 'scottish': 3787, 'giggl': 3788, 'yawn': 3789, 'tube': 3790, 'engross': 3791, 'climact': 3792, 'lundgren': 3793, 'volum': 3794, 'secretli': 3795, 'outing': 3796, 'extens': 3797, 'monologu': 3798, 'mute': 3799, 'convincingli': 3800, 'iran': 3801, '1968': 3802, 'suffic': 3803, 'profan': 3804, 'habit': 3805, 'numb': 3806, 'whine': 3807, 'sirk': 3808, 'calm': 3809, 'amitabh': 3810, 'swallow': 3811, 'gerard': 3812, 'paranoia': 3813, 'abraham': 3814, 'pokemon': 3815, 'underst': 3816, 'im': 3817, 'taxi': 3818, 'profess': 3819, 'austen': 3820, 'meander': 3821, 'nichola': 3822, 'lowest': 3823, 'grotesqu': 3824, 'poetri': 3825, 'ethan': 3826, 'junior': 3827, 'backward': 3828, 'bend': 3829, 'franci': 3830, 'earl': 3831, 'spock': 3832, 'frankenstein': 3833, 'plod': 3834, 'linger': 3835, 'chicago': 3836, 'septemb': 3837, 'trend': 3838, 'dispos': 3839, 'expand': 3840, 'richardson': 3841, 'fed': 3842, 'abort': 3843, 'surpass': 3844, 'sue': 3845, 'econom': 3846, 'catchi': 3847, 'stallon': 3848, 'spoke': 3849, 'greedi': 3850, 'lure': 3851, 'nostalgia': 3852, 'waitress': 3853, 'tourist': 3854, 'mundan': 3855, 'compliment': 3856, 'myth': 3857, 'rubber': 3858, 'household': 3859, 'cannon': 3860, 'dysfunct': 3861, 'der': 3862, 'hum': 3863, 'muddl': 3864, 'simplic': 3865, 'rant': 3866, 'literatur': 3867, 'descent': 3868, 'eugen': 3869, 'instrument': 3870, 'firstli': 3871, 'mortal': 3872, 'crucial': 3873, 'lang': 3874, 'recognit': 3875, 'flee': 3876, 'irrelev': 3877, 'occupi': 3878, 'carel': 3879, 'recognis': 3880, 'equival': 3881, 'deaf': 3882, 'sissi': 3883, 'stale': 3884, 'furi': 3885, 'randi': 3886, 'map': 3887, 'damon': 3888, 'duck': 3889, 'omen': 3890, 'cent': 3891, 'insur': 3892, 'june': 3893, 'eaten': 3894, 'phoni': 3895, 'mankind': 3896, 'dement': 3897, 'dictat': 3898, 'bacal': 3899, 'coast': 3900, 'hello': 3901, 'molli': 3902, 'alongsid': 3903, 'phantom': 3904, 'louis': 3905, 'twilight': 3906, 'likewis': 3907, 'rude': 3908, 'bump': 3909, 'damm': 3910, 'bike': 3911, 'onlin': 3912, 'lengthi': 3913, 'antwon': 3914, 'biko': 3915, 'blackmail': 3916, 'newli': 3917, 'freez': 3918, 'drake': 3919, 'dreari': 3920, 'daisi': 3921, 'wisdom': 3922, 'distinguish': 3923, 'grayson': 3924, 'heel': 3925, '1973': 3926, 'rooney': 3927, 'loyalti': 3928, 'labor': 3929, 'reign': 3930, 'ashley': 3931, 'cyborg': 3932, 'buffalo': 3933, 'prey': 3934, 'exposur': 3935, 'approv': 3936, 'startl': 3937, 'analysi': 3938, 'attribut': 3939, 'proce': 3940, 'inher': 3941, 'tunnel': 3942, 'baddi': 3943, 'provoc': 3944, 'barrymor': 3945, 'incorpor': 3946, 'nineti': 3947, 'ridden': 3948, 'keith': 3949, 'unorigin': 3950, 'sailor': 3951, 'butler': 3952, 'worn': 3953, 'basketbal': 3954, 'vein': 3955, 'chronicl': 3956, 'pink': 3957, 'emphas': 3958, 'boxer': 3959, 'interior': 3960, 'mighti': 3961, 'millionair': 3962, 'er': 3963, 'predat': 3964, 'belushi': 3965, 'drift': 3966, 'barrel': 3967, 'robbin': 3968, 'improvis': 3969, 'mormon': 3970, 'indiffer': 3971, 'hypnot': 3972, 'condemn': 3973, 'simmon': 3974, 'othello': 3975, 'stalker': 3976, 'underli': 3977, 'bunni': 3978, 'degrad': 3979, 'elm': 3980, 'substitut': 3981, 'walsh': 3982, 'undeni': 3983, 'unrel': 3984, 'fleet': 3985, 'meg': 3986, 'meyer': 3987, 'nicol': 3988, 'carla': 3989, 'julian': 3990, 'mtv': 3991, 'disord': 3992, 'rukh': 3993, 'shove': 3994, 'warmth': 3995, 'dolph': 3996, 'edgi': 3997, 'palac': 3998, 'watson': 3999, 'nyc': 4000, 'greed': 4001, 'lampoon': 4002, 'firm': 4003, 'vital': 4004, 'exquisit': 4005, 'priceless': 4006, 'agenda': 4007, 'roof': 4008, 'marion': 4009, 'enthusiasm': 4010, 'novak': 4011, 'alarm': 4012, '3d': 4013, 'errol': 4014, 'unawar': 4015, 'reid': 4016, 'hay': 4017, 'alison': 4018, 'what': 4019, '13th': 4020, 'nun': 4021, 'randomli': 4022, 'pamela': 4023, 'spain': 4024, 'drip': 4025, 'campaign': 4026, '1933': 4027, 'session': 4028, 'crown': 4029, 'distort': 4030, 'gestur': 4031, 'unleash': 4032, 'profit': 4033, 'testament': 4034, 'glanc': 4035, 'championship': 4036, 'ponder': 4037, 'israel': 4038, 'eastern': 4039, 'peril': 4040, 'peck': 4041, 'iraq': 4042, 'preserv': 4043, 'petti': 4044, 'cassidi': 4045, 'thompson': 4046, 'valentin': 4047, 'beatl': 4048, 'sergeant': 4049, 'showdown': 4050, 'orlean': 4051, 'coup': 4052, 'angela': 4053, 'zizek': 4054, 'minimum': 4055, 'simultan': 4056, 'represent': 4057, 'cooki': 4058, 'crow': 4059, 'realm': 4060, 'scotland': 4061, 'rout': 4062, 'empathi': 4063, 'miyazaki': 4064, 'shootout': 4065, 'contradict': 4066, 'perpetu': 4067, 'reson': 4068, 'climat': 4069, 'unimagin': 4070, 'travesti': 4071, '1984': 4072, 'kurosawa': 4073, 'stake': 4074, 'exposit': 4075, 'calib': 4076, 'quinn': 4077, 'restrain': 4078, 'stroke': 4079, 'brenda': 4080, 'bro': 4081, 'crawl': 4082, 'valley': 4083, 'wig': 4084, 'regist': 4085, 'sabrina': 4086, 'gentleman': 4087, 'buster': 4088, 'han': 4089, 'cream': 4090, 'fido': 4091, 'jan': 4092, 'din': 4093, 'mon': 4094, 'shoddi': 4095, 'ustinov': 4096, 'dana': 4097, '1997': 4098, 'sucker': 4099, 'derang': 4100, 'unsatisfi': 4101, 'painter': 4102, '1987': 4103, 'businessman': 4104, 'abomin': 4105, 'femm': 4106, 'wax': 4107, 'cloud': 4108, 'warrant': 4109, 'distress': 4110, 'monoton': 4111, 'ross': 4112, 'censor': 4113, 'baldwin': 4114, 'perceiv': 4115, 'fuller': 4116, 'passabl': 4117, 'delic': 4118, 'traumat': 4119, 'soderbergh': 4120, 'sammi': 4121, 'josh': 4122, 'demis': 4123, 'greg': 4124, 'shaki': 4125, 'stargat': 4126, 'tacki': 4127, 'pole': 4128, 'mclaglen': 4129, 'unseen': 4130, 'geek': 4131, 'compromis': 4132, 'absent': 4133, 'pretens': 4134, 'meryl': 4135, 'spacey': 4136, 'crawford': 4137, 'darren': 4138, 'seal': 4139, 'furiou': 4140, 'valid': 4141, 'polici': 4142, 'antonioni': 4143, 'primit': 4144, 'judgment': 4145, 'norm': 4146, 'tech': 4147, 'click': 4148, 'deceas': 4149, 'jewel': 4150, 'deniro': 4151, 'accuraci': 4152, 'wholli': 4153, 'exclus': 4154, 'nathan': 4155, '1993': 4156, 'austin': 4157, 'fenc': 4158, 'uncov': 4159, 'dee': 4160, 'correctli': 4161, 'anchor': 4162, 'unravel': 4163, 'tarantino': 4164, 'clash': 4165, 'kumar': 4166, 'expedit': 4167, 'fog': 4168, 'reluct': 4169, 'verbal': 4170, 'sid': 4171, 'alec': 4172, 'joel': 4173, 'logan': 4174, 'fart': 4175, 'hallucin': 4176, 'sustain': 4177, 'dreck': 4178, 'nicola': 4179, 'unfair': 4180, 'debt': 4181, '3000': 4182, 'wretch': 4183, 'murray': 4184, 'slam': 4185, 'darn': 4186, 'conduct': 4187, 'patienc': 4188, 'seldom': 4189, 'sunni': 4190, 'fabric': 4191, 'behold': 4192, 'trait': 4193, 'shanghai': 4194, 'pocket': 4195, '2008': 4196, 'roller': 4197, 'tax': 4198, 'ritual': 4199, 'clerk': 4200, 'enforc': 4201, '1995': 4202, 'mode': 4203, 'sheet': 4204, 'temper': 4205, 'sand': 4206, 'bake': 4207, 'crippl': 4208, 'fought': 4209, 'vanc': 4210, '1971': 4211, 'malon': 4212, 'wang': 4213, 'grief': 4214, 'fundament': 4215, 'soup': 4216, 'helpless': 4217, 'tactic': 4218, 'conscious': 4219, 'scriptwrit': 4220, 'bridget': 4221, 'exhaust': 4222, 'despis': 4223, 'shell': 4224, 'guitar': 4225, 'pete': 4226, 'stuart': 4227, 'technicolor': 4228, 'stark': 4229, 'penni': 4230, 'divid': 4231, 'legaci': 4232, 'rita': 4233, 'sweep': 4234, 'phil': 4235, 'schedul': 4236, 'runner': 4237, 'isabel': 4238, 'critiqu': 4239, 'squad': 4240, 'clau': 4241, 'outlin': 4242, 'bias': 4243, 'preston': 4244, 'preposter': 4245, 'canyon': 4246, 'robber': 4247, 'propos': 4248, 'alicia': 4249, 'sugar': 4250, 'sentinel': 4251, 'culmin': 4252, 'kansa': 4253, 'drove': 4254, 'connor': 4255, 'rehash': 4256, 'restrict': 4257, 'liberti': 4258, 'cigarett': 4259, 'bloom': 4260, 'delv': 4261, 'gregori': 4262, 'marc': 4263, 'implic': 4264, 'passag': 4265, 'consciou': 4266, 'sniper': 4267, 'flair': 4268, 'invad': 4269, 'alley': 4270, 'lacklust': 4271, 'inabl': 4272, 'jodi': 4273, 'newman': 4274, 'unexpectedli': 4275, 'rear': 4276, 'palanc': 4277, 'agenc': 4278, 'jacket': 4279, 'boyl': 4280, 'russia': 4281, 'downey': 4282, 'vomit': 4283, 'tendenc': 4284, 'pale': 4285, 'cap': 4286, 'lush': 4287, 'karl': 4288, 'vet': 4289, 'aesthet': 4290, 'tripe': 4291, 'rehears': 4292, 'ladder': 4293, 'horn': 4294, '22': 4295, '1936': 4296, 'mccoy': 4297, 'foxx': 4298, 'feat': 4299, 'behaviour': 4300, 'asylum': 4301, 'awhil': 4302, 'delet': 4303, 'chainsaw': 4304, 'arrow': 4305, 'bacon': 4306, 'rampag': 4307, 'rod': 4308, 'wrench': 4309, 'improb': 4310, 'sharon': 4311, 'yeti': 4312, 'kolchak': 4313, 'minu': 4314, 'loneli': 4315, 'el': 4316, 'spice': 4317, 'tomorrow': 4318, 'stream': 4319, 'weav': 4320, 'hulk': 4321, 'wagner': 4322, '1988': 4323, 'tasteless': 4324, '1920': 4325, 'suspicion': 4326, 'fright': 4327, 'hackney': 4328, 'rhythm': 4329, 'financ': 4330, 'elit': 4331, 'globe': 4332, 'aristocrat': 4333, 'paramount': 4334, '1978': 4335, '19th': 4336, 'wildli': 4337, 'newcom': 4338, 'amazon': 4339, 'coaster': 4340, 'scoop': 4341, 'rumor': 4342, 'visitor': 4343, 'shortcom': 4344, 'conscienc': 4345, 'prank': 4346, 'lurk': 4347, 'paradis': 4348, 'hungri': 4349, 'filler': 4350, 'basing': 4351, 'underneath': 4352, 'sung': 4353, 'suffici': 4354, 'thunderbird': 4355, 'ingeni': 4356, 'impos': 4357, 'bread': 4358, 'entranc': 4359, 'smell': 4360, 'standout': 4361, '1989': 4362, 'straightforward': 4363, 'secondari': 4364, 'tierney': 4365, 'counterpart': 4366, 'springer': 4367, 'worship': 4368, 'teas': 4369, 'inmat': 4370, 'penn': 4371, 'beverli': 4372, 'literari': 4373, 'minist': 4374, 'heist': 4375, 'recogniz': 4376, 'paxton': 4377, 'naughti': 4378, 'dirt': 4379, 'choppi': 4380, 'couch': 4381, 'chamberlain': 4382, 'lectur': 4383, 'grudg': 4384, 'en': 4385, 'brit': 4386, 'posey': 4387, 'ram': 4388, 'immers': 4389, 'quietli': 4390, 'chavez': 4391, 'hopkin': 4392, 'abrupt': 4393, 'rub': 4394, 'curli': 4395, 'cancer': 4396, 'iv': 4397, 'leigh': 4398, 'wwe': 4399, '75': 4400, '1939': 4401, 'atroc': 4402, 'enthral': 4403, 'nolan': 4404, 'nemesi': 4405, 'esther': 4406, 'yearn': 4407, 'ace': 4408, 'entitl': 4409, 'laurenc': 4410, 'variat': 4411, 'duel': 4412, 'morbid': 4413, 'moreov': 4414, 'injuri': 4415, 'missil': 4416, 'sublim': 4417, 'policeman': 4418, '1986': 4419, 'misguid': 4420, 'skeptic': 4421, 'clan': 4422, 'heartfelt': 4423, 'watcher': 4424, 'cattl': 4425, 'attenborough': 4426, 'convert': 4427, 'net': 4428, 'transcend': 4429, 'sassi': 4430, 'lindsay': 4431, 'ratso': 4432, 'bernard': 4433, 'geni': 4434, 'quaid': 4435, 'grin': 4436, 'rosemari': 4437, 'out': 4438, 'unexplain': 4439, 'artsi': 4440, 'moder': 4441, 'steadi': 4442, 'egg': 4443, 'dont': 4444, 'buzz': 4445, 'characteris': 4446, 'graini': 4447, '1979': 4448, 'youngest': 4449, 'mytholog': 4450, 'setup': 4451, 'diari': 4452, 'bean': 4453, 'puppi': 4454, 'reliabl': 4455, 'cruelti': 4456, 'spiral': 4457, 'facil': 4458, 'enabl': 4459, 'poe': 4460, 'tyler': 4461, 'bye': 4462, 'hopelessli': 4463, 'kitti': 4464, 'brood': 4465, 'obstacl': 4466, 'vader': 4467, 'kidman': 4468, 'carlito': 4469, 'uncut': 4470, 'hk': 4471, 'acquaint': 4472, 'bounc': 4473, 'christin': 4474, 'decept': 4475, 'preming': 4476, 'spontan': 4477, 'martha': 4478, 'brendan': 4479, 'baffl': 4480, 'exterior': 4481, 'niec': 4482, 'heap': 4483, 'hammi': 4484, 'underworld': 4485, 'effici': 4486, 'gina': 4487, 'bewar': 4488, 'sweat': 4489, 'weather': 4490, 'fuel': 4491, 'gillian': 4492, 'oblig': 4493, 'despic': 4494, 'patricia': 4495, 'clueless': 4496, 'kline': 4497, 'bronson': 4498, 'narrow': 4499, '1969': 4500, 'hain': 4501, 'disastr': 4502, 'athlet': 4503, 'trigger': 4504, 'biker': 4505, 'virtu': 4506, 'sooner': 4507, 'taboo': 4508, 'outlaw': 4509, 'analyz': 4510, 'angst': 4511, 'goof': 4512, 'circu': 4513, 'astound': 4514, 'sleepwalk': 4515, 'loi': 4516, 'rome': 4517, 'harmless': 4518, '19': 4519, 'dilemma': 4520, 'enlist': 4521, 'uh': 4522, 'shatter': 4523, 'suprem': 4524, '73': 4525, 'scar': 4526, 'candl': 4527, 'viewpoint': 4528, 'loath': 4529, 'injur': 4530, 'headach': 4531, 'housewif': 4532, 'insipid': 4533, 'tick': 4534, 'preachi': 4535, 'mayhem': 4536, 'mermaid': 4537, 'hepburn': 4538, 'dandi': 4539, 'renaiss': 4540, 'fontain': 4541, 'lester': 4542, 'filth': 4543, 'tripl': 4544, 'claustrophob': 4545, 'steer': 4546, 'slimi': 4547, 'surgeri': 4548, 'spade': 4549, 'foolish': 4550, 'cassavet': 4551, 'glorifi': 4552, 'intric': 4553, 'oldest': 4554, 'overlong': 4555, 'bent': 4556, 'hokey': 4557, 'scorses': 4558, 'phenomenon': 4559, 'gere': 4560, 'redund': 4561, 'stimul': 4562, 'fluff': 4563, 'whore': 4564, 'hooker': 4565, 'dish': 4566, 'guin': 4567, 'camcord': 4568, 'macho': 4569, 'immatur': 4570, 'amor': 4571, 'ariel': 4572, 'ebert': 4573, 'sox': 4574, 'salt': 4575, 'contempt': 4576, 'boston': 4577, 'idol': 4578, 'stair': 4579, 'corbett': 4580, 'dismal': 4581, 'zoom': 4582, 'hostag': 4583, 'corman': 4584, 'widescreen': 4585, 'gabl': 4586, 'perman': 4587, 'cohen': 4588, 'shred': 4589, 'flashi': 4590, 'flirt': 4591, 'schlock': 4592, 'proport': 4593, 'mutual': 4594, 'cush': 4595, 'preced': 4596, 'obligatori': 4597, 'naschi': 4598, 'strongest': 4599, 'spree': 4600, 'mount': 4601, 'harold': 4602, 'conquer': 4603, 'dwarf': 4604, 'rhyme': 4605, '1981': 4606, 'messi': 4607, 'trivia': 4608, 'transplant': 4609, 'shield': 4610, 'remad': 4611, 'margin': 4612, 'assert': 4613, 'joker': 4614, 'faint': 4615, 'radiat': 4616, 'nolt': 4617, 'gasp': 4618, '1976': 4619, 'keen': 4620, 'antagonist': 4621, 'cow': 4622, 'beard': 4623, 'muscl': 4624, 'frantic': 4625, 'fascist': 4626, 'alvin': 4627, 'spinal': 4628, 'flag': 4629, 'zane': 4630, 'astronaut': 4631, 'down': 4632, 'carey': 4633, 'mobil': 4634, 'neurot': 4635, 'fishburn': 4636, 'bitten': 4637, 'instruct': 4638, 'claud': 4639, 'resum': 4640, 'discern': 4641, 'sensual': 4642, 'repris': 4643, 'www': 4644, 'barn': 4645, 'off': 4646, 'inflict': 4647, 'strive': 4648, 'someday': 4649, 'boob': 4650, 'interestingli': 4651, 'vaniti': 4652, 'triangl': 4653, 'ritchi': 4654, 'deer': 4655, 'aborigin': 4656, 'divin': 4657, 'persuad': 4658, 'departur': 4659, 'flock': 4660, 'brush': 4661, 'bachelor': 4662, 'mol': 4663, '28': 4664, 'info': 4665, '1945': 4666, '95': 4667, 'raj': 4668, 'wield': 4669, 'scandal': 4670, 'danish': 4671, 'archiv': 4672, 'hara': 4673, 'recit': 4674, 'casino': 4675, 'hug': 4676, 'clad': 4677, 'cycl': 4678, 'undermin': 4679, 'cher': 4680, 'hilar': 4681, 'proclaim': 4682, 'timberlak': 4683, 'loretta': 4684, 'europa': 4685, 'helm': 4686, 'submit': 4687, 'luka': 4688, 'melissa': 4689, 'miracul': 4690, 'ish': 4691, 'anton': 4692, 'artwork': 4693, 'jade': 4694, 'mobster': 4695, 'kathryn': 4696, 'axe': 4697, 'dame': 4698, 'banter': 4699, 'biblic': 4700, 'prophet': 4701, 'frontier': 4702, 'vibrant': 4703, 'harrison': 4704, 'heartwarm': 4705, 'parson': 4706, 'dim': 4707, 'cb': 4708, 'colin': 4709, 'bate': 4710, 'senior': 4711, 'neill': 4712, 'earnest': 4713, 'fragil': 4714, 'traffic': 4715, 'hapless': 4716, 'cliffhang': 4717, 'rot': 4718, 'dylan': 4719, 'pacif': 4720, 'pixar': 4721, 'carlo': 4722, 'wendigo': 4723, 'pickford': 4724, 'breakfast': 4725, 'bondag': 4726, 'articl': 4727, 'sicken': 4728, 'estrang': 4729, 'nope': 4730, 'http': 4731, 'eli': 4732, 'blatantli': 4733, 'trier': 4734, 'lucil': 4735, 'wardrob': 4736, 'holocaust': 4737, 'antholog': 4738, 'uma': 4739, 'venom': 4740, 'marlon': 4741, 'misfortun': 4742, 'razor': 4743, 'orphan': 4744, 'pc': 4745, 'foil': 4746, 'flavor': 4747, 'milo': 4748, 'aris': 4749, 'choke': 4750, 'feast': 4751, 'legitim': 4752, 'isra': 4753, 'mason': 4754, 'electron': 4755, 'cerebr': 4756, 'winchest': 4757, 'rooki': 4758, 'northern': 4759, 'redneck': 4760, 'token': 4761, 'jordan': 4762, 'vile': 4763, 'jo': 4764, 'static': 4765, 'seedi': 4766, 'illus': 4767, 'akin': 4768, 'toronto': 4769, 'lui': 4770, 'shepherd': 4771, 'vanessa': 4772, 'bikini': 4773, 'mathieu': 4774, 'alexandr': 4775, 'disregard': 4776, 'styliz': 4777, 'leather': 4778, 'howl': 4779, 'ideolog': 4780, 'linear': 4781, 'tack': 4782, 'clinic': 4783, 'retriev': 4784, 'oppon': 4785, 'feminin': 4786, 'nightclub': 4787, 'swept': 4788, 'affleck': 4789, 'knightley': 4790, 'highway': 4791, 'turd': 4792, 'wrestler': 4793, 'gilbert': 4794, 'charlton': 4795, 'huston': 4796, 'fifth': 4797, 'peer': 4798, 'magician': 4799, 'comprehend': 4800, 'abund': 4801, 'deem': 4802, 'smack': 4803, 'boyer': 4804, 'ceremoni': 4805, 'audrey': 4806, 'cartoonish': 4807, 'glare': 4808, 'frog': 4809, 'psych': 4810, 'outdat': 4811, 'dudley': 4812, 'gunga': 4813, 'shorter': 4814, '4th': 4815, 'cuban': 4816, 'durat': 4817, 'newer': 4818, 'lavish': 4819, 'cemeteri': 4820, '1991': 4821, 'einstein': 4822, '1994': 4823, 'bogu': 4824, 'boo': 4825, 'potter': 4826, 'toe': 4827, 'collector': 4828, 'senat': 4829, 'phenomen': 4830, 'braveheart': 4831, 'btw': 4832, 'mitch': 4833, 'lighter': 4834, 'moe': 4835, 'chip': 4836, 'energet': 4837, 'client': 4838, 'sleaz': 4839, 'uniformli': 4840, 'monument': 4841, 'evolut': 4842, 'whack': 4843, 'goldsworthi': 4844, 'breakdown': 4845, 'bastard': 4846, 'compris': 4847, 'deliver': 4848, 'snatch': 4849, 'spine': 4850, 'spawn': 4851, 'summar': 4852, 'corn': 4853, 'plate': 4854, 'tara': 4855, 'greet': 4856, 'lifeless': 4857, 'conrad': 4858, 'salman': 4859, 'bori': 4860, 'jare': 4861, 'embark': 4862, 'pronounc': 4863, 'lex': 4864, 'spectacl': 4865, 'liu': 4866, 'constitut': 4867, 'mcqueen': 4868, 'inaccuraci': 4869, 'trauma': 4870, 'historian': 4871, 'firmli': 4872, 'cecil': 4873, 'clara': 4874, 'creek': 4875, '1974': 4876, 'signal': 4877, 'gilliam': 4878, 'bulk': 4879, 'eleven': 4880, 'fluid': 4881, 'kent': 4882, '1977': 4883, 'undertak': 4884, 'nina': 4885, 'belli': 4886, 'neatli': 4887, 'judd': 4888, 'kazan': 4889, 'alleg': 4890, 'jule': 4891, 'evelyn': 4892, 'sorrow': 4893, 'healthi': 4894, 'ie': 4895, 'luxuri': 4896, 'outright': 4897, 'appl': 4898, 'undead': 4899, 'replay': 4900, 'ol': 4901, 'occup': 4902, 'jedi': 4903, 'jam': 4904, 'armstrong': 4905, 'wtf': 4906, 'capot': 4907, 'randolph': 4908, '1985': 4909, 'propheci': 4910, 'spray': 4911, 'abound': 4912, 'palm': 4913, 'unsuspect': 4914, 'unattract': 4915, 'sacrif': 4916, 'bait': 4917, 'decapit': 4918, 'basket': 4919, 'conan': 4920, 'ash': 4921, 'walt': 4922, 'inclus': 4923, 'inaccur': 4924, 'comprehens': 4925, 'poker': 4926, 'congratul': 4927, 'vignett': 4928, 'cape': 4929, 'groan': 4930, 'tokyo': 4931, 'vain': 4932, 'forgiven': 4933, 'curtain': 4934, 'miniseri': 4935, 'pioneer': 4936, 'kiddi': 4937, 'porter': 4938, 'comb': 4939, 'relentless': 4940, 'fruit': 4941, 'sidewalk': 4942, 'roar': 4943, 'pepper': 4944, 'subtli': 4945, 'paula': 4946, 'lauren': 4947, 'blur': 4948, 'miami': 4949, 'antonio': 4950, 'aussi': 4951, 'truman': 4952, 'mum': 4953, 'rosario': 4954, 'meal': 4955, 'knee': 4956, 'lanc': 4957, 'goldblum': 4958, 'carmen': 4959, 'genet': 4960, 'bsg': 4961, 'id': 4962, 'galaxi': 4963, 'assort': 4964, 'macabr': 4965, 'hostil': 4966, 'drone': 4967, 'ingrid': 4968, 'evan': 4969, 'sparkl': 4970, 'victorian': 4971, 'playboy': 4972, 'scarfac': 4973, 'rapidli': 4974, 'sophi': 4975, 'frontal': 4976, 'orchestr': 4977, 'verg': 4978, 'vastli': 4979, '21st': 4980, 'masterson': 4981, 'handicap': 4982, 'mice': 4983, 'motorcycl': 4984, 'bravo': 4985, 'hackman': 4986, 'omin': 4987, 'asset': 4988, 'detach': 4989, 'reincarn': 4990, 'scariest': 4991, 'growth': 4992, 'turtl': 4993, 'spill': 4994, 'dubiou': 4995, 'modest': 4996, 'weaker': 4997, 'optimist': 4998, 'ghetto': 4999}\n"
     ]
    }
   ],
   "source": [
    "# TODO: Use this space to determine the five most frequently appearing words in the training set.\n",
    "print(word_dict)"
   ]
  },
  {
   "cell_type": "markdown",
   "metadata": {},
   "source": [
    "### Save `word_dict`\n",
    "\n",
    "Later on when we construct an endpoint which processes a submitted review we will need to make use of the `word_dict` which we have created. As such, we will save it to a file now for future use."
   ]
  },
  {
   "cell_type": "code",
   "execution_count": 14,
   "metadata": {},
   "outputs": [],
   "source": [
    "data_dir = '../data/pytorch' # The folder we will use for storing data\n",
    "if not os.path.exists(data_dir): # Make sure that the folder exists\n",
    "    os.makedirs(data_dir)"
   ]
  },
  {
   "cell_type": "code",
   "execution_count": 15,
   "metadata": {},
   "outputs": [],
   "source": [
    "with open(os.path.join(data_dir, 'word_dict.pkl'), \"wb\") as f:\n",
    "    pickle.dump(word_dict, f)"
   ]
  },
  {
   "cell_type": "markdown",
   "metadata": {},
   "source": [
    "### Transform the reviews\n",
    "\n",
    "Now that we have our word dictionary which allows us to transform the words appearing in the reviews into integers, it is time to make use of it and convert our reviews to their integer sequence representation, making sure to pad or truncate to a fixed length, which in our case is `500`."
   ]
  },
  {
   "cell_type": "code",
   "execution_count": 16,
   "metadata": {},
   "outputs": [],
   "source": [
    "def convert_and_pad(word_dict, sentence, pad=500):\n",
    "    NOWORD = 0 # We will use 0 to represent the 'no word' category\n",
    "    INFREQ = 1 # and we use 1 to represent the infrequent words, i.e., words not appearing in word_dict\n",
    "    \n",
    "    working_sentence = [NOWORD] * pad # create a 500 length sentence that includes all zeros at the end and will be \n",
    "                                      # over written by integers from words\n",
    "    \n",
    "    for word_index, word in enumerate(sentence[:pad]):\n",
    "        if word in word_dict:\n",
    "            working_sentence[word_index] = word_dict[word]\n",
    "        else:\n",
    "            working_sentence[word_index] = INFREQ\n",
    "            \n",
    "    return working_sentence, min(len(sentence), pad)\n",
    "\n",
    "def convert_and_pad_data(word_dict, data, pad=500):\n",
    "    result = []\n",
    "    lengths = []\n",
    "    \n",
    "    for sentence in data:\n",
    "        converted, leng = convert_and_pad(word_dict, sentence, pad)\n",
    "        result.append(converted)\n",
    "        lengths.append(leng)\n",
    "        \n",
    "    return np.array(result), np.array(lengths)"
   ]
  },
  {
   "cell_type": "code",
   "execution_count": 17,
   "metadata": {},
   "outputs": [],
   "source": [
    "train_X, train_X_len = convert_and_pad_data(word_dict, train_X)\n",
    "test_X, test_X_len = convert_and_pad_data(word_dict, test_X)"
   ]
  },
  {
   "cell_type": "markdown",
   "metadata": {},
   "source": [
    "As a quick check to make sure that things are working as intended, check to see what one of the reviews in the training set looks like after having been processeed. Does this look reasonable? What is the length of a review in the training set?"
   ]
  },
  {
   "cell_type": "code",
   "execution_count": 18,
   "metadata": {},
   "outputs": [
    {
     "name": "stdout",
     "output_type": "stream",
     "text": [
      "[ 665    2    1   99   15   69 2087   29   13   13   16 1028    2  100\n",
      "  537  305  157  139    8 1030  352  241   71  322   75  260    1 2599\n",
      " 4249    1  761   49   87   11  645  234   28  556 1343    5 1282    1\n",
      "    1    1 4472   87  381 2143   28    6    1  381  126  156   30    1\n",
      " 1250   15 1369    2   30   15    8   35   14  387 2395 3533 1380   10\n",
      "  591  740  149    0    0    0    0    0    0    0    0    0    0    0\n",
      "    0    0    0    0    0    0    0    0    0    0    0    0    0    0\n",
      "    0    0    0    0    0    0    0    0    0    0    0    0    0    0\n",
      "    0    0    0    0    0    0    0    0    0    0    0    0    0    0\n",
      "    0    0    0    0    0    0    0    0    0    0    0    0    0    0\n",
      "    0    0    0    0    0    0    0    0    0    0    0    0    0    0\n",
      "    0    0    0    0    0    0    0    0    0    0    0    0    0    0\n",
      "    0    0    0    0    0    0    0    0    0    0    0    0    0    0\n",
      "    0    0    0    0    0    0    0    0    0    0    0    0    0    0\n",
      "    0    0    0    0    0    0    0    0    0    0    0    0    0    0\n",
      "    0    0    0    0    0    0    0    0    0    0    0    0    0    0\n",
      "    0    0    0    0    0    0    0    0    0    0    0    0    0    0\n",
      "    0    0    0    0    0    0    0    0    0    0    0    0    0    0\n",
      "    0    0    0    0    0    0    0    0    0    0    0    0    0    0\n",
      "    0    0    0    0    0    0    0    0    0    0    0    0    0    0\n",
      "    0    0    0    0    0    0    0    0    0    0    0    0    0    0\n",
      "    0    0    0    0    0    0    0    0    0    0    0    0    0    0\n",
      "    0    0    0    0    0    0    0    0    0    0    0    0    0    0\n",
      "    0    0    0    0    0    0    0    0    0    0    0    0    0    0\n",
      "    0    0    0    0    0    0    0    0    0    0    0    0    0    0\n",
      "    0    0    0    0    0    0    0    0    0    0    0    0    0    0\n",
      "    0    0    0    0    0    0    0    0    0    0    0    0    0    0\n",
      "    0    0    0    0    0    0    0    0    0    0    0    0    0    0\n",
      "    0    0    0    0    0    0    0    0    0    0    0    0    0    0\n",
      "    0    0    0    0    0    0    0    0    0    0    0    0    0    0\n",
      "    0    0    0    0    0    0    0    0    0    0    0    0    0    0\n",
      "    0    0    0    0    0    0    0    0    0    0    0    0    0    0\n",
      "    0    0    0    0    0    0    0    0    0    0    0    0    0    0\n",
      "    0    0    0    0    0    0    0    0    0    0    0    0    0    0\n",
      "    0    0    0    0    0    0    0    0    0    0    0    0    0    0\n",
      "    0    0    0    0    0    0    0    0    0    0]\n",
      "73\n"
     ]
    }
   ],
   "source": [
    "# Use this cell to examine one of the processed reviews to make sure everything is working as intended.\n",
    "print(train_X[1])\n",
    "print(train_X_len[1])"
   ]
  },
  {
   "cell_type": "markdown",
   "metadata": {},
   "source": [
    "**Question:** In the cells above we use the `preprocess_data` and `convert_and_pad_data` methods to process both the training and testing set. Why or why not might this be a problem?"
   ]
  },
  {
   "cell_type": "markdown",
   "metadata": {},
   "source": [
    "**Answer:**\n",
    "\n",
    "```preprocess_data``` is used to process the data and save it to an output that can be read in quickly. Otherwise, we would be stuck rerunning that function every time we restarted the kernel. Given it takes up to an hour to get the data into usable shape, that just isn't feasible. This shouldn't cause an issue with our testing data either because we are using batched testing data to validate our performance. We should be able to preprocess a single review in real time using Lambda.\n",
    "\n",
    "The only issue with ```preprocess_data``` is that the word dictionary is from the training set, which depending on the randomized shuffle and split, we may not capture all of the relevant information in the testing set.\n",
    "\n",
    "```convert_and_pad_data``` is used to create a padded input to the neural network to ensure we have a fixed length data input. I believe this is relatively standard practice and should not be a problem for truncating the training and testing set."
   ]
  },
  {
   "cell_type": "markdown",
   "metadata": {},
   "source": [
    "## Step 3: Upload the data to S3\n",
    "\n",
    "As in the XGBoost notebook, we will need to upload the training dataset to S3 in order for our training code to access it. For now we will save it locally and we will upload to S3 later on.\n",
    "\n",
    "### Save the processed training dataset locally\n",
    "\n",
    "It is important to note the format of the data that we are saving as we will need to know it when we write the training code. In our case, each row of the dataset has the form `label`, `length`, `review[500]` where `review[500]` is a sequence of `500` integers representing the words in the review."
   ]
  },
  {
   "cell_type": "code",
   "execution_count": 19,
   "metadata": {},
   "outputs": [],
   "source": [
    "import pandas as pd\n",
    "    \n",
    "pd.concat([pd.DataFrame(train_y), pd.DataFrame(train_X_len), pd.DataFrame(train_X)], axis=1) \\\n",
    "        .to_csv(os.path.join(data_dir, 'train.csv'), header=False, index=False)"
   ]
  },
  {
   "cell_type": "markdown",
   "metadata": {},
   "source": [
    "### Uploading the training data\n",
    "\n",
    "\n",
    "Next, we need to upload the training data to the SageMaker default S3 bucket so that we can provide access to it while training our model."
   ]
  },
  {
   "cell_type": "code",
   "execution_count": 20,
   "metadata": {},
   "outputs": [],
   "source": [
    "import sagemaker\n",
    "\n",
    "sagemaker_session = sagemaker.Session()\n",
    "\n",
    "bucket = sagemaker_session.default_bucket()\n",
    "prefix = 'sagemaker/sentiment_rnn'\n",
    "\n",
    "role = sagemaker.get_execution_role()"
   ]
  },
  {
   "cell_type": "code",
   "execution_count": 21,
   "metadata": {},
   "outputs": [],
   "source": [
    "input_data = sagemaker_session.upload_data(path=data_dir, bucket=bucket, key_prefix=prefix)"
   ]
  },
  {
   "cell_type": "markdown",
   "metadata": {},
   "source": [
    "**NOTE:** The cell above uploads the entire contents of our data directory. This includes the `word_dict.pkl` file. This is fortunate as we will need this later on when we create an endpoint that accepts an arbitrary review. For now, we will just take note of the fact that it resides in the data directory (and so also in the S3 training bucket) and that we will need to make sure it gets saved in the model directory."
   ]
  },
  {
   "cell_type": "markdown",
   "metadata": {},
   "source": [
    "## Step 4: Build and Train the PyTorch Model\n",
    "\n",
    "In the XGBoost notebook we discussed what a model is in the SageMaker framework. In particular, a model comprises three objects\n",
    "\n",
    " - Model Artifacts,\n",
    " - Training Code, and\n",
    " - Inference Code,\n",
    " \n",
    "each of which interact with one another. In the XGBoost example we used training and inference code that was provided by Amazon. Here we will still be using containers provided by Amazon with the added benefit of being able to include our own custom code.\n",
    "\n",
    "We will start by implementing our own neural network in PyTorch along with a training script. For the purposes of this project we have provided the necessary model object in the `model.py` file, inside of the `train` folder. You can see the provided implementation by running the cell below."
   ]
  },
  {
   "cell_type": "code",
   "execution_count": 22,
   "metadata": {},
   "outputs": [
    {
     "name": "stdout",
     "output_type": "stream",
     "text": [
      "\u001b[34mimport\u001b[39;49;00m \u001b[04m\u001b[36mtorch\u001b[39;49;00m\u001b[04m\u001b[36m.\u001b[39;49;00m\u001b[04m\u001b[36mnn\u001b[39;49;00m \u001b[34mas\u001b[39;49;00m \u001b[04m\u001b[36mnn\u001b[39;49;00m\r\n",
      "\r\n",
      "\u001b[34mclass\u001b[39;49;00m \u001b[04m\u001b[32mLSTMClassifier\u001b[39;49;00m(nn.Module):\r\n",
      "    \u001b[33m\"\"\"\u001b[39;49;00m\r\n",
      "\u001b[33m    This is the simple RNN model we will be using to perform Sentiment Analysis.\u001b[39;49;00m\r\n",
      "\u001b[33m    \"\"\"\u001b[39;49;00m\r\n",
      "\r\n",
      "    \u001b[34mdef\u001b[39;49;00m \u001b[32m__init__\u001b[39;49;00m(\u001b[36mself\u001b[39;49;00m, embedding_dim, hidden_dim, vocab_size):\r\n",
      "        \u001b[33m\"\"\"\u001b[39;49;00m\r\n",
      "\u001b[33m        Initialize the model by settingg up the various layers.\u001b[39;49;00m\r\n",
      "\u001b[33m        \"\"\"\u001b[39;49;00m\r\n",
      "        \u001b[36msuper\u001b[39;49;00m(LSTMClassifier, \u001b[36mself\u001b[39;49;00m).\u001b[32m__init__\u001b[39;49;00m()\r\n",
      "\r\n",
      "        \u001b[36mself\u001b[39;49;00m.embedding = nn.Embedding(vocab_size, embedding_dim, padding_idx=\u001b[34m0\u001b[39;49;00m)\r\n",
      "        \u001b[36mself\u001b[39;49;00m.lstm = nn.LSTM(embedding_dim, hidden_dim)\r\n",
      "        \u001b[36mself\u001b[39;49;00m.dense = nn.Linear(in_features=hidden_dim, out_features=\u001b[34m1\u001b[39;49;00m)\r\n",
      "        \u001b[36mself\u001b[39;49;00m.sig = nn.Sigmoid()\r\n",
      "        \r\n",
      "        \u001b[36mself\u001b[39;49;00m.word_dict = \u001b[34mNone\u001b[39;49;00m\r\n",
      "\r\n",
      "    \u001b[34mdef\u001b[39;49;00m \u001b[32mforward\u001b[39;49;00m(\u001b[36mself\u001b[39;49;00m, x):\r\n",
      "        \u001b[33m\"\"\"\u001b[39;49;00m\r\n",
      "\u001b[33m        Perform a forward pass of our model on some input.\u001b[39;49;00m\r\n",
      "\u001b[33m        \"\"\"\u001b[39;49;00m\r\n",
      "        x = x.t()\r\n",
      "        lengths = x[\u001b[34m0\u001b[39;49;00m,:]\r\n",
      "        reviews = x[\u001b[34m1\u001b[39;49;00m:,:]\r\n",
      "        embeds = \u001b[36mself\u001b[39;49;00m.embedding(reviews)\r\n",
      "        lstm_out, _ = \u001b[36mself\u001b[39;49;00m.lstm(embeds)\r\n",
      "        out = \u001b[36mself\u001b[39;49;00m.dense(lstm_out)\r\n",
      "        out = out[lengths - \u001b[34m1\u001b[39;49;00m, \u001b[36mrange\u001b[39;49;00m(\u001b[36mlen\u001b[39;49;00m(lengths))]\r\n",
      "        \u001b[34mreturn\u001b[39;49;00m \u001b[36mself\u001b[39;49;00m.sig(out.squeeze())\r\n"
     ]
    }
   ],
   "source": [
    "!pygmentize train/model.py"
   ]
  },
  {
   "cell_type": "markdown",
   "metadata": {},
   "source": [
    "The important takeaway from the implementation provided is that there are three parameters that we may wish to tweak to improve the performance of our model. These are the embedding dimension, the hidden dimension and the size of the vocabulary. We will likely want to make these parameters configurable in the training script so that if we wish to modify them we do not need to modify the script itself. We will see how to do this later on. To start we will write some of the training code in the notebook so that we can more easily diagnose any issues that arise.\n",
    "\n",
    "First we will load a small portion of the training data set to use as a sample. It would be very time consuming to try and train the model completely in the notebook as we do not have access to a gpu and the compute instance that we are using is not particularly powerful. However, we can work on a small bit of the data to get a feel for how our training script is behaving."
   ]
  },
  {
   "cell_type": "code",
   "execution_count": 23,
   "metadata": {},
   "outputs": [],
   "source": [
    "import torch\n",
    "import torch.utils.data\n",
    "\n",
    "# Read in only the first 250 rows\n",
    "train_sample = pd.read_csv(os.path.join(data_dir, 'train.csv'), header=None, names=None, nrows=250)\n",
    "\n",
    "# Turn the input pandas dataframe into tensors\n",
    "train_sample_y = torch.from_numpy(train_sample[[0]].values).float().squeeze()\n",
    "train_sample_X = torch.from_numpy(train_sample.drop([0], axis=1).values).long()\n",
    "\n",
    "# Build the dataset\n",
    "train_sample_ds = torch.utils.data.TensorDataset(train_sample_X, train_sample_y)\n",
    "# Build the dataloader\n",
    "train_sample_dl = torch.utils.data.DataLoader(train_sample_ds, batch_size=50)"
   ]
  },
  {
   "cell_type": "markdown",
   "metadata": {},
   "source": [
    "### (TODO) Writing the training method\n",
    "\n",
    "Next we need to write the training code itself. This should be very similar to training methods that you have written before to train PyTorch models. We will leave any difficult aspects such as model saving / loading and parameter loading until a little later."
   ]
  },
  {
   "cell_type": "code",
   "execution_count": 30,
   "metadata": {},
   "outputs": [],
   "source": [
    "def train(model, train_loader, epochs, optimizer, loss_fn, device):\n",
    "    for epoch in range(1, epochs + 1):\n",
    "        model.train()\n",
    "        total_loss = 0\n",
    "        for batch in train_loader:         \n",
    "            batch_X, batch_y = batch\n",
    "            \n",
    "            batch_X = batch_X.to(device)\n",
    "            batch_y = batch_y.to(device)\n",
    "            \n",
    "            # TODO: Complete this train method to train the model provided.\n",
    "            model.zero_grad()\n",
    "            output = model.forward(batch_X)\n",
    "            loss = loss_fn(output.squeeze(), batch_y)\n",
    "            loss.backward()\n",
    "            optimizer.step()\n",
    "            \n",
    "            total_loss += loss.data.item()\n",
    "        print(\"Epoch: {}, BCELoss: {}\".format(epoch, total_loss / len(train_loader)))"
   ]
  },
  {
   "cell_type": "markdown",
   "metadata": {},
   "source": [
    "Supposing we have the training method above, we will test that it is working by writing a bit of code in the notebook that executes our training method on the small sample training set that we loaded earlier. The reason for doing this in the notebook is so that we have an opportunity to fix any errors that arise early when they are easier to diagnose."
   ]
  },
  {
   "cell_type": "code",
   "execution_count": 31,
   "metadata": {},
   "outputs": [
    {
     "name": "stdout",
     "output_type": "stream",
     "text": [
      "Epoch: 1, BCELoss: 0.6946207046508789\n",
      "Epoch: 2, BCELoss: 0.6863270401954651\n",
      "Epoch: 3, BCELoss: 0.6795161366462708\n",
      "Epoch: 4, BCELoss: 0.6721333146095276\n",
      "Epoch: 5, BCELoss: 0.6632514119148254\n"
     ]
    }
   ],
   "source": [
    "import torch.optim as optim\n",
    "from train.model import LSTMClassifier\n",
    "\n",
    "device = torch.device(\"cuda\" if torch.cuda.is_available() else \"cpu\")\n",
    "model = LSTMClassifier(32, 100, 5000).to(device)\n",
    "optimizer = optim.Adam(model.parameters())\n",
    "loss_fn = torch.nn.BCELoss()\n",
    "\n",
    "train(model, train_sample_dl, 5, optimizer, loss_fn, device)"
   ]
  },
  {
   "cell_type": "markdown",
   "metadata": {},
   "source": [
    "In order to construct a PyTorch model using SageMaker we must provide SageMaker with a training script. We may optionally include a directory which will be copied to the container and from which our training code will be run. When the training container is executed it will check the uploaded directory (if there is one) for a `requirements.txt` file and install any required Python libraries, after which the training script will be run."
   ]
  },
  {
   "cell_type": "markdown",
   "metadata": {},
   "source": [
    "### (TODO) Training the model\n",
    "\n",
    "When a PyTorch model is constructed in SageMaker, an entry point must be specified. This is the Python file which will be executed when the model is trained. Inside of the `train` directory is a file called `train.py` which has been provided and which contains most of the necessary code to train our model. The only thing that is missing is the implementation of the `train()` method which you wrote earlier in this notebook.\n",
    "\n",
    "**TODO**: Copy the `train()` method written above and paste it into the `train/train.py` file where required.\n",
    "\n",
    "The way that SageMaker passes hyperparameters to the training script is by way of arguments. These arguments can then be parsed and used in the training script. To see how this is done take a look at the provided `train/train.py` file."
   ]
  },
  {
   "cell_type": "code",
   "execution_count": 36,
   "metadata": {},
   "outputs": [],
   "source": [
    "from sagemaker.pytorch import PyTorch\n",
    "\n",
    "estimator = PyTorch(entry_point=\"train.py\",\n",
    "                    source_dir=\"train\",\n",
    "                    role=role,\n",
    "                    framework_version='0.4.0',\n",
    "                    train_instance_count=1,\n",
    "                    train_instance_type='ml.p2.xlarge',\n",
    "                    hyperparameters={\n",
    "                        'epochs': 40,\n",
    "                        'hidden_dim': 200,\n",
    "                    })"
   ]
  },
  {
   "cell_type": "code",
   "execution_count": 37,
   "metadata": {},
   "outputs": [
    {
     "name": "stderr",
     "output_type": "stream",
     "text": [
      "'create_image_uri' will be deprecated in favor of 'ImageURIProvider' class in SageMaker Python SDK v2.\n",
      "'s3_input' class will be renamed to 'TrainingInput' in SageMaker Python SDK v2.\n",
      "'create_image_uri' will be deprecated in favor of 'ImageURIProvider' class in SageMaker Python SDK v2.\n"
     ]
    },
    {
     "name": "stdout",
     "output_type": "stream",
     "text": [
      "2020-10-15 17:17:13 Starting - Starting the training job...\n",
      "2020-10-15 17:17:27 Starting - Launching requested ML instances.........\n",
      "2020-10-15 17:18:45 Starting - Preparing the instances for training......\n",
      "2020-10-15 17:19:51 Downloading - Downloading input data...\n",
      "2020-10-15 17:20:26 Training - Downloading the training image..\u001b[34mbash: cannot set terminal process group (-1): Inappropriate ioctl for device\u001b[0m\n",
      "\u001b[34mbash: no job control in this shell\u001b[0m\n",
      "\u001b[34m2020-10-15 17:20:55,157 sagemaker-containers INFO     Imported framework sagemaker_pytorch_container.training\u001b[0m\n",
      "\u001b[34m2020-10-15 17:20:55,182 sagemaker_pytorch_container.training INFO     Block until all host DNS lookups succeed.\u001b[0m\n",
      "\u001b[34m2020-10-15 17:20:55,193 sagemaker_pytorch_container.training INFO     Invoking user training script.\u001b[0m\n",
      "\u001b[34m2020-10-15 17:20:55,481 sagemaker-containers INFO     Module train does not provide a setup.py. \u001b[0m\n",
      "\u001b[34mGenerating setup.py\u001b[0m\n",
      "\u001b[34m2020-10-15 17:20:55,481 sagemaker-containers INFO     Generating setup.cfg\u001b[0m\n",
      "\u001b[34m2020-10-15 17:20:55,482 sagemaker-containers INFO     Generating MANIFEST.in\u001b[0m\n",
      "\u001b[34m2020-10-15 17:20:55,482 sagemaker-containers INFO     Installing module with the following command:\u001b[0m\n",
      "\u001b[34m/usr/bin/python -m pip install -U . -r requirements.txt\u001b[0m\n",
      "\u001b[34mProcessing /opt/ml/code\u001b[0m\n",
      "\u001b[34mCollecting pandas (from -r requirements.txt (line 1))\n",
      "  Downloading https://files.pythonhosted.org/packages/74/24/0cdbf8907e1e3bc5a8da03345c23cbed7044330bb8f73bb12e711a640a00/pandas-0.24.2-cp35-cp35m-manylinux1_x86_64.whl (10.0MB)\u001b[0m\n",
      "\u001b[34mCollecting numpy (from -r requirements.txt (line 2))\u001b[0m\n",
      "\u001b[34m  Downloading https://files.pythonhosted.org/packages/b5/36/88723426b4ff576809fec7d73594fe17a35c27f8d01f93637637a29ae25b/numpy-1.18.5-cp35-cp35m-manylinux1_x86_64.whl (19.9MB)\u001b[0m\n",
      "\u001b[34mCollecting nltk (from -r requirements.txt (line 3))\n",
      "  Downloading https://files.pythonhosted.org/packages/92/75/ce35194d8e3022203cca0d2f896dbb88689f9b3fce8e9f9cff942913519d/nltk-3.5.zip (1.4MB)\u001b[0m\n",
      "\u001b[34mCollecting beautifulsoup4 (from -r requirements.txt (line 4))\n",
      "  Downloading https://files.pythonhosted.org/packages/d1/41/e6495bd7d3781cee623ce23ea6ac73282a373088fcd0ddc809a047b18eae/beautifulsoup4-4.9.3-py3-none-any.whl (115kB)\u001b[0m\n",
      "\u001b[34mCollecting html5lib (from -r requirements.txt (line 5))\n",
      "  Downloading https://files.pythonhosted.org/packages/6c/dd/a834df6482147d48e225a49515aabc28974ad5a4ca3215c18a882565b028/html5lib-1.1-py2.py3-none-any.whl (112kB)\u001b[0m\n",
      "\u001b[34mRequirement already satisfied, skipping upgrade: python-dateutil>=2.5.0 in /usr/local/lib/python3.5/dist-packages (from pandas->-r requirements.txt (line 1)) (2.7.5)\u001b[0m\n",
      "\u001b[34mCollecting pytz>=2011k (from pandas->-r requirements.txt (line 1))\n",
      "  Downloading https://files.pythonhosted.org/packages/4f/a4/879454d49688e2fad93e59d7d4efda580b783c745fd2ec2a3adf87b0808d/pytz-2020.1-py2.py3-none-any.whl (510kB)\u001b[0m\n",
      "\u001b[34mRequirement already satisfied, skipping upgrade: click in /usr/local/lib/python3.5/dist-packages (from nltk->-r requirements.txt (line 3)) (7.0)\u001b[0m\n",
      "\u001b[34mCollecting joblib (from nltk->-r requirements.txt (line 3))\n",
      "  Downloading https://files.pythonhosted.org/packages/28/5c/cf6a2b65a321c4a209efcdf64c2689efae2cb62661f8f6f4bb28547cf1bf/joblib-0.14.1-py2.py3-none-any.whl (294kB)\u001b[0m\n",
      "\u001b[34mCollecting regex (from nltk->-r requirements.txt (line 3))\u001b[0m\n",
      "\u001b[34m  Downloading https://files.pythonhosted.org/packages/c9/16/4ea16f4510afd7ce4b77d8ee7ca97717408b3cf99e0a4b3cdd0a47ef6466/regex-2020.10.15.tar.gz (690kB)\u001b[0m\n",
      "\u001b[34mCollecting tqdm (from nltk->-r requirements.txt (line 3))\n",
      "  Downloading https://files.pythonhosted.org/packages/bd/cf/f91813073e4135c1183cadf968256764a6fe4e35c351d596d527c0540461/tqdm-4.50.2-py2.py3-none-any.whl (70kB)\u001b[0m\n",
      "\u001b[34mCollecting soupsieve>1.2; python_version >= \"3.0\" (from beautifulsoup4->-r requirements.txt (line 4))\n",
      "  Downloading https://files.pythonhosted.org/packages/6f/8f/457f4a5390eeae1cc3aeab89deb7724c965be841ffca6cfca9197482e470/soupsieve-2.0.1-py3-none-any.whl\u001b[0m\n",
      "\u001b[34mCollecting webencodings (from html5lib->-r requirements.txt (line 5))\n",
      "  Downloading https://files.pythonhosted.org/packages/f4/24/2a3e3df732393fed8b3ebf2ec078f05546de641fe1b667ee316ec1dcf3b7/webencodings-0.5.1-py2.py3-none-any.whl\u001b[0m\n",
      "\u001b[34mRequirement already satisfied, skipping upgrade: six>=1.9 in /usr/local/lib/python3.5/dist-packages (from html5lib->-r requirements.txt (line 5)) (1.11.0)\u001b[0m\n",
      "\u001b[34mBuilding wheels for collected packages: nltk, train, regex\n",
      "  Running setup.py bdist_wheel for nltk: started\n",
      "  Running setup.py bdist_wheel for nltk: finished with status 'done'\n",
      "  Stored in directory: /root/.cache/pip/wheels/ae/8c/3f/b1fe0ba04555b08b57ab52ab7f86023639a526d8bc8d384306\u001b[0m\n",
      "\n",
      "2020-10-15 17:20:54 Training - Training image download completed. Training in progress.\u001b[34m  Running setup.py bdist_wheel for train: started\n",
      "  Running setup.py bdist_wheel for train: finished with status 'done'\n",
      "  Stored in directory: /tmp/pip-ephem-wheel-cache-ac6v50hk/wheels/35/24/16/37574d11bf9bde50616c67372a334f94fa8356bc7164af8ca3\n",
      "  Running setup.py bdist_wheel for regex: started\u001b[0m\n",
      "\u001b[34m  Running setup.py bdist_wheel for regex: finished with status 'done'\n",
      "  Stored in directory: /root/.cache/pip/wheels/b5/7a/87/3e4a49f4b7de683e6063a9e6b111056587e87a4e13b3a019a5\u001b[0m\n",
      "\u001b[34mSuccessfully built nltk train regex\u001b[0m\n",
      "\u001b[34mInstalling collected packages: numpy, pytz, pandas, joblib, regex, tqdm, nltk, soupsieve, beautifulsoup4, webencodings, html5lib, train\n",
      "  Found existing installation: numpy 1.15.4\n",
      "    Uninstalling numpy-1.15.4:\n",
      "      Successfully uninstalled numpy-1.15.4\u001b[0m\n",
      "\u001b[34mSuccessfully installed beautifulsoup4-4.9.3 html5lib-1.1 joblib-0.14.1 nltk-3.5 numpy-1.18.5 pandas-0.24.2 pytz-2020.1 regex-2020.10.15 soupsieve-2.0.1 tqdm-4.50.2 train-1.0.0 webencodings-0.5.1\u001b[0m\n",
      "\u001b[34mYou are using pip version 18.1, however version 20.2.3 is available.\u001b[0m\n",
      "\u001b[34mYou should consider upgrading via the 'pip install --upgrade pip' command.\u001b[0m\n",
      "\u001b[34m2020-10-15 17:21:17,755 sagemaker-containers INFO     Invoking user script\n",
      "\u001b[0m\n",
      "\u001b[34mTraining Env:\n",
      "\u001b[0m\n",
      "\u001b[34m{\n",
      "    \"module_dir\": \"s3://sagemaker-us-east-1-136004397992/sagemaker-pytorch-2020-10-15-17-17-12-934/source/sourcedir.tar.gz\",\n",
      "    \"output_intermediate_dir\": \"/opt/ml/output/intermediate\",\n",
      "    \"resource_config\": {\n",
      "        \"hosts\": [\n",
      "            \"algo-1\"\n",
      "        ],\n",
      "        \"current_host\": \"algo-1\",\n",
      "        \"network_interface_name\": \"eth0\"\n",
      "    },\n",
      "    \"output_dir\": \"/opt/ml/output\",\n",
      "    \"output_data_dir\": \"/opt/ml/output/data\",\n",
      "    \"job_name\": \"sagemaker-pytorch-2020-10-15-17-17-12-934\",\n",
      "    \"log_level\": 20,\n",
      "    \"model_dir\": \"/opt/ml/model\",\n",
      "    \"user_entry_point\": \"train.py\",\n",
      "    \"current_host\": \"algo-1\",\n",
      "    \"num_gpus\": 1,\n",
      "    \"input_config_dir\": \"/opt/ml/input/config\",\n",
      "    \"num_cpus\": 4,\n",
      "    \"module_name\": \"train\",\n",
      "    \"input_dir\": \"/opt/ml/input\",\n",
      "    \"input_data_config\": {\n",
      "        \"training\": {\n",
      "            \"TrainingInputMode\": \"File\",\n",
      "            \"RecordWrapperType\": \"None\",\n",
      "            \"S3DistributionType\": \"FullyReplicated\"\n",
      "        }\n",
      "    },\n",
      "    \"hosts\": [\n",
      "        \"algo-1\"\n",
      "    ],\n",
      "    \"hyperparameters\": {\n",
      "        \"hidden_dim\": 200,\n",
      "        \"epochs\": 40\n",
      "    },\n",
      "    \"additional_framework_parameters\": {},\n",
      "    \"channel_input_dirs\": {\n",
      "        \"training\": \"/opt/ml/input/data/training\"\n",
      "    },\n",
      "    \"framework_module\": \"sagemaker_pytorch_container.training:main\",\n",
      "    \"network_interface_name\": \"eth0\"\u001b[0m\n",
      "\u001b[34m}\n",
      "\u001b[0m\n",
      "\u001b[34mEnvironment variables:\n",
      "\u001b[0m\n",
      "\u001b[34mPYTHONPATH=/usr/local/bin:/usr/lib/python35.zip:/usr/lib/python3.5:/usr/lib/python3.5/plat-x86_64-linux-gnu:/usr/lib/python3.5/lib-dynload:/usr/local/lib/python3.5/dist-packages:/usr/lib/python3/dist-packages\u001b[0m\n",
      "\u001b[34mSM_MODULE_DIR=s3://sagemaker-us-east-1-136004397992/sagemaker-pytorch-2020-10-15-17-17-12-934/source/sourcedir.tar.gz\u001b[0m\n",
      "\u001b[34mSM_INPUT_DIR=/opt/ml/input\u001b[0m\n",
      "\u001b[34mSM_MODEL_DIR=/opt/ml/model\u001b[0m\n",
      "\u001b[34mSM_CHANNELS=[\"training\"]\u001b[0m\n",
      "\u001b[34mSM_NUM_GPUS=1\u001b[0m\n",
      "\u001b[34mSM_OUTPUT_DIR=/opt/ml/output\u001b[0m\n",
      "\u001b[34mSM_HP_EPOCHS=40\u001b[0m\n",
      "\u001b[34mSM_NUM_CPUS=4\u001b[0m\n",
      "\u001b[34mSM_INPUT_CONFIG_DIR=/opt/ml/input/config\u001b[0m\n",
      "\u001b[34mSM_INPUT_DATA_CONFIG={\"training\":{\"RecordWrapperType\":\"None\",\"S3DistributionType\":\"FullyReplicated\",\"TrainingInputMode\":\"File\"}}\u001b[0m\n",
      "\u001b[34mSM_CHANNEL_TRAINING=/opt/ml/input/data/training\u001b[0m\n",
      "\u001b[34mSM_HPS={\"epochs\":40,\"hidden_dim\":200}\u001b[0m\n",
      "\u001b[34mSM_FRAMEWORK_PARAMS={}\u001b[0m\n",
      "\u001b[34mSM_CURRENT_HOST=algo-1\u001b[0m\n",
      "\u001b[34mSM_HP_HIDDEN_DIM=200\u001b[0m\n",
      "\u001b[34mSM_FRAMEWORK_MODULE=sagemaker_pytorch_container.training:main\u001b[0m\n",
      "\u001b[34mSM_RESOURCE_CONFIG={\"current_host\":\"algo-1\",\"hosts\":[\"algo-1\"],\"network_interface_name\":\"eth0\"}\u001b[0m\n",
      "\u001b[34mSM_USER_ENTRY_POINT=train.py\u001b[0m\n",
      "\u001b[34mSM_OUTPUT_INTERMEDIATE_DIR=/opt/ml/output/intermediate\u001b[0m\n",
      "\u001b[34mSM_OUTPUT_DATA_DIR=/opt/ml/output/data\u001b[0m\n",
      "\u001b[34mSM_LOG_LEVEL=20\u001b[0m\n",
      "\u001b[34mSM_TRAINING_ENV={\"additional_framework_parameters\":{},\"channel_input_dirs\":{\"training\":\"/opt/ml/input/data/training\"},\"current_host\":\"algo-1\",\"framework_module\":\"sagemaker_pytorch_container.training:main\",\"hosts\":[\"algo-1\"],\"hyperparameters\":{\"epochs\":40,\"hidden_dim\":200},\"input_config_dir\":\"/opt/ml/input/config\",\"input_data_config\":{\"training\":{\"RecordWrapperType\":\"None\",\"S3DistributionType\":\"FullyReplicated\",\"TrainingInputMode\":\"File\"}},\"input_dir\":\"/opt/ml/input\",\"job_name\":\"sagemaker-pytorch-2020-10-15-17-17-12-934\",\"log_level\":20,\"model_dir\":\"/opt/ml/model\",\"module_dir\":\"s3://sagemaker-us-east-1-136004397992/sagemaker-pytorch-2020-10-15-17-17-12-934/source/sourcedir.tar.gz\",\"module_name\":\"train\",\"network_interface_name\":\"eth0\",\"num_cpus\":4,\"num_gpus\":1,\"output_data_dir\":\"/opt/ml/output/data\",\"output_dir\":\"/opt/ml/output\",\"output_intermediate_dir\":\"/opt/ml/output/intermediate\",\"resource_config\":{\"current_host\":\"algo-1\",\"hosts\":[\"algo-1\"],\"network_interface_name\":\"eth0\"},\"user_entry_point\":\"train.py\"}\u001b[0m\n",
      "\u001b[34mSM_HOSTS=[\"algo-1\"]\u001b[0m\n",
      "\u001b[34mSM_MODULE_NAME=train\u001b[0m\n",
      "\u001b[34mSM_USER_ARGS=[\"--epochs\",\"40\",\"--hidden_dim\",\"200\"]\u001b[0m\n",
      "\u001b[34mSM_NETWORK_INTERFACE_NAME=eth0\n",
      "\u001b[0m\n",
      "\u001b[34mInvoking script with the following command:\n",
      "\u001b[0m\n",
      "\u001b[34m/usr/bin/python -m train --epochs 40 --hidden_dim 200\n",
      "\n",
      "\u001b[0m\n",
      "\u001b[34mUsing device cuda.\u001b[0m\n",
      "\u001b[34mGet train data loader.\u001b[0m\n"
     ]
    },
    {
     "name": "stdout",
     "output_type": "stream",
     "text": [
      "\u001b[34mModel loaded with embedding_dim 32, hidden_dim 200, vocab_size 5000.\u001b[0m\n",
      "\u001b[34mEpoch: 1, BCELoss: 0.6764641817735166\u001b[0m\n",
      "\u001b[34mEpoch: 2, BCELoss: 0.6247456025104133\u001b[0m\n",
      "\u001b[34mEpoch: 3, BCELoss: 0.5277708896568843\u001b[0m\n",
      "\u001b[34mEpoch: 4, BCELoss: 0.44583011038449344\u001b[0m\n",
      "\u001b[34mEpoch: 5, BCELoss: 0.3906327942196204\u001b[0m\n",
      "\u001b[34mEpoch: 6, BCELoss: 0.358172496970819\u001b[0m\n",
      "\u001b[34mEpoch: 7, BCELoss: 0.33367178330616076\u001b[0m\n",
      "\u001b[34mEpoch: 8, BCELoss: 0.29999493761938445\u001b[0m\n",
      "\u001b[34mEpoch: 9, BCELoss: 0.28332208340265314\u001b[0m\n",
      "\u001b[34mEpoch: 10, BCELoss: 0.2618974401634567\u001b[0m\n",
      "\u001b[34mEpoch: 11, BCELoss: 0.2463659184927843\u001b[0m\n",
      "\u001b[34mEpoch: 12, BCELoss: 0.24776663007784863\u001b[0m\n",
      "\u001b[34mEpoch: 13, BCELoss: 0.2433591807375149\u001b[0m\n",
      "\u001b[34mEpoch: 14, BCELoss: 0.2319939477103097\u001b[0m\n",
      "\u001b[34mEpoch: 15, BCELoss: 0.22833844624003585\u001b[0m\n",
      "\u001b[34mEpoch: 16, BCELoss: 0.21202025243214198\u001b[0m\n",
      "\u001b[34mEpoch: 17, BCELoss: 0.19206093464578902\u001b[0m\n",
      "\u001b[34mEpoch: 18, BCELoss: 0.20085700221207678\u001b[0m\n",
      "\u001b[34mEpoch: 19, BCELoss: 0.190940937217401\u001b[0m\n",
      "\u001b[34mEpoch: 20, BCELoss: 0.20422946585684407\u001b[0m\n",
      "\u001b[34mEpoch: 21, BCELoss: 0.17265901881821302\u001b[0m\n",
      "\u001b[34mEpoch: 22, BCELoss: 0.15608703786013078\u001b[0m\n",
      "\u001b[34mEpoch: 23, BCELoss: 0.13222885055809605\u001b[0m\n",
      "\u001b[34mEpoch: 24, BCELoss: 0.1195222592475463\u001b[0m\n",
      "\u001b[34mEpoch: 25, BCELoss: 0.12309205668921373\u001b[0m\n",
      "\u001b[34mEpoch: 26, BCELoss: 0.1247268834588479\u001b[0m\n",
      "\u001b[34mEpoch: 27, BCELoss: 0.13122440007876376\u001b[0m\n",
      "\u001b[34mEpoch: 28, BCELoss: 0.09364252157357274\u001b[0m\n",
      "\u001b[34mEpoch: 29, BCELoss: 0.07368866346624432\u001b[0m\n",
      "\u001b[34mEpoch: 30, BCELoss: 0.06068030098567204\u001b[0m\n",
      "\u001b[34mEpoch: 31, BCELoss: 0.05576924918865671\u001b[0m\n",
      "\u001b[34mEpoch: 32, BCELoss: 0.06372263077266362\u001b[0m\n",
      "\u001b[34mEpoch: 33, BCELoss: 0.06971603236636337\u001b[0m\n",
      "\u001b[34mEpoch: 34, BCELoss: 0.10693496914238346\u001b[0m\n",
      "\u001b[34mEpoch: 35, BCELoss: 0.09559387804902329\u001b[0m\n",
      "\u001b[34mEpoch: 36, BCELoss: 0.055252818656819205\u001b[0m\n",
      "\u001b[34mEpoch: 37, BCELoss: 0.2550715249868072\u001b[0m\n",
      "\u001b[34mEpoch: 38, BCELoss: 0.11284315874990151\u001b[0m\n",
      "\u001b[34mEpoch: 39, BCELoss: 0.061474572791128744\u001b[0m\n",
      "\u001b[34mEpoch: 40, BCELoss: 0.05345722960726339\u001b[0m\n",
      "\u001b[34m2020-10-15 17:33:12,079 sagemaker-containers INFO     Reporting training SUCCESS\u001b[0m\n",
      "\n",
      "2020-10-15 17:33:24 Uploading - Uploading generated training model\n",
      "2020-10-15 17:33:24 Completed - Training job completed\n",
      "Training seconds: 813\n",
      "Billable seconds: 813\n"
     ]
    }
   ],
   "source": [
    "estimator.fit({'training': input_data})"
   ]
  },
  {
   "cell_type": "markdown",
   "metadata": {},
   "source": [
    "## Step 5: Testing the model\n",
    "\n",
    "As mentioned at the top of this notebook, we will be testing this model by first deploying it and then sending the testing data to the deployed endpoint. We will do this so that we can make sure that the deployed model is working correctly.\n",
    "\n",
    "## Step 6: Deploy the model for testing\n",
    "\n",
    "Now that we have trained our model, we would like to test it to see how it performs. Currently our model takes input of the form `review_length, review[500]` where `review[500]` is a sequence of `500` integers which describe the words present in the review, encoded using `word_dict`. Fortunately for us, SageMaker provides built-in inference code for models with simple inputs such as this.\n",
    "\n",
    "There is one thing that we need to provide, however, and that is a function which loads the saved model. This function must be called `model_fn()` and takes as its only parameter a path to the directory where the model artifacts are stored. This function must also be present in the python file which we specified as the entry point. In our case the model loading function has been provided and so no changes need to be made.\n",
    "\n",
    "**NOTE**: When the built-in inference code is run it must import the `model_fn()` method from the `train.py` file. This is why the training code is wrapped in a main guard ( ie, `if __name__ == '__main__':` )\n",
    "\n",
    "Since we don't need to change anything in the code that was uploaded during training, we can simply deploy the current model as-is.\n",
    "\n",
    "**NOTE:** When deploying a model you are asking SageMaker to launch an compute instance that will wait for data to be sent to it. As a result, this compute instance will continue to run until *you* shut it down. This is important to know since the cost of a deployed endpoint depends on how long it has been running for.\n",
    "\n",
    "In other words **If you are no longer using a deployed endpoint, shut it down!**\n",
    "\n",
    "**TODO:** Deploy the trained model."
   ]
  },
  {
   "cell_type": "code",
   "execution_count": 45,
   "metadata": {},
   "outputs": [
    {
     "name": "stderr",
     "output_type": "stream",
     "text": [
      "Parameter image will be renamed to image_uri in SageMaker Python SDK v2.\n",
      "'create_image_uri' will be deprecated in favor of 'ImageURIProvider' class in SageMaker Python SDK v2.\n"
     ]
    },
    {
     "name": "stdout",
     "output_type": "stream",
     "text": [
      "---------------!"
     ]
    }
   ],
   "source": [
    "# TODO: Deploy the trained model\n",
    "predictor = estimator.deploy(initial_instance_count=1, instance_type='ml.m4.xlarge')"
   ]
  },
  {
   "cell_type": "markdown",
   "metadata": {},
   "source": [
    "## Step 7 - Use the model for testing\n",
    "\n",
    "Once deployed, we can read in the test data and send it off to our deployed model to get some results. Once we collect all of the results we can determine how accurate our model is."
   ]
  },
  {
   "cell_type": "code",
   "execution_count": 46,
   "metadata": {},
   "outputs": [],
   "source": [
    "test_X = pd.concat([pd.DataFrame(test_X_len), pd.DataFrame(test_X)], axis=1)"
   ]
  },
  {
   "cell_type": "code",
   "execution_count": 47,
   "metadata": {},
   "outputs": [],
   "source": [
    "# We split the data into chunks and send each chunk seperately, accumulating the results.\n",
    "\n",
    "def predict(data, rows=512):\n",
    "    split_array = np.array_split(data, int(data.shape[0] / float(rows) + 1))\n",
    "    predictions = np.array([])\n",
    "    for array in split_array:\n",
    "        predictions = np.append(predictions, predictor.predict(array))\n",
    "    \n",
    "    return predictions"
   ]
  },
  {
   "cell_type": "code",
   "execution_count": 48,
   "metadata": {},
   "outputs": [],
   "source": [
    "predictions = predict(test_X.values)\n",
    "predictions = [round(num) for num in predictions]"
   ]
  },
  {
   "cell_type": "code",
   "execution_count": 49,
   "metadata": {},
   "outputs": [
    {
     "data": {
      "text/plain": [
       "0.8408"
      ]
     },
     "execution_count": 49,
     "metadata": {},
     "output_type": "execute_result"
    }
   ],
   "source": [
    "from sklearn.metrics import accuracy_score\n",
    "accuracy_score(test_y, predictions)"
   ]
  },
  {
   "cell_type": "markdown",
   "metadata": {},
   "source": [
    "**Question:** How does this model compare to the XGBoost model you created earlier? Why might these two models perform differently on this dataset? Which do *you* think is better for sentiment analysis?"
   ]
  },
  {
   "cell_type": "markdown",
   "metadata": {},
   "source": [
    "**Answer:**\n",
    "\n",
    "This model performed similarly (I think the Sagemaker XGBoost model was around 85-86% accurate). These two models may perform differently due to the architecture of the models. With the LSTM, the RNN architecture may be able to infer different correlations between sentence fragments (i.e. words following words) whereas a tree-based algorithm may not have the ability to look back in \"time\" and focuses primarily on the features that it extracts. Although with smaller reviews, the RNN may not utilize it's full hidden dimensions and could be overkill.\n",
    "\n",
    "I think the idea of an RNN is probably better since it can infer sentiment based off of a string of words that have happened in the past versus XGBoost. Some published research seems to agree with me, but it's still up to debate: http://www.diva-portal.org/smash/get/diva2:1335995/FULLTEXT02."
   ]
  },
  {
   "cell_type": "markdown",
   "metadata": {},
   "source": [
    "### (TODO) More testing\n",
    "\n",
    "We now have a trained model which has been deployed and which we can send processed reviews to and which returns the predicted sentiment. However, ultimately we would like to be able to send our model an unprocessed review. That is, we would like to send the review itself as a string. For example, suppose we wish to send the following review to our model."
   ]
  },
  {
   "cell_type": "code",
   "execution_count": 50,
   "metadata": {},
   "outputs": [],
   "source": [
    "test_review = 'The simplest pleasures in life are the best, and this film is one of them. Combining a rather basic storyline of love and adventure this movie transcends the usual weekend fair with wit and unmitigated charm.'"
   ]
  },
  {
   "cell_type": "markdown",
   "metadata": {},
   "source": [
    "The question we now need to answer is, how do we send this review to our model?\n",
    "\n",
    "Recall in the first section of this notebook we did a bunch of data processing to the IMDb dataset. In particular, we did two specific things to the provided reviews.\n",
    " - Removed any html tags and stemmed the input\n",
    " - Encoded the review as a sequence of integers using `word_dict`\n",
    " \n",
    "In order process the review we will need to repeat these two steps.\n",
    "\n",
    "**TODO**: Using the `review_to_words` and `convert_and_pad` methods from section one, convert `test_review` into a numpy array `test_data` suitable to send to our model. Remember that our model expects input of the form `review_length, review[500]`."
   ]
  },
  {
   "cell_type": "code",
   "execution_count": 94,
   "metadata": {},
   "outputs": [],
   "source": [
    "# TODO: Convert test_review into a form usable by the model and save the results in test_data\n",
    "review, review_length = convert_and_pad(word_dict, review_to_words(test_review))\n",
    "test_data = np.array([[review_length] + review])\n",
    "#test_data = pd.concat([review_length, pd.DataFrame(test_data)], axis=1)"
   ]
  },
  {
   "cell_type": "code",
   "execution_count": 95,
   "metadata": {},
   "outputs": [
    {
     "name": "stdout",
     "output_type": "stream",
     "text": [
      "[[  20    1 1375   50   53    3    4  878  173  392  682   29  724    2\n",
      "  4429  275 2078 1059  760    1  581    0    0    0    0    0    0    0\n",
      "     0    0    0    0    0    0    0    0    0    0    0    0    0    0\n",
      "     0    0    0    0    0    0    0    0    0    0    0    0    0    0\n",
      "     0    0    0    0    0    0    0    0    0    0    0    0    0    0\n",
      "     0    0    0    0    0    0    0    0    0    0    0    0    0    0\n",
      "     0    0    0    0    0    0    0    0    0    0    0    0    0    0\n",
      "     0    0    0    0    0    0    0    0    0    0    0    0    0    0\n",
      "     0    0    0    0    0    0    0    0    0    0    0    0    0    0\n",
      "     0    0    0    0    0    0    0    0    0    0    0    0    0    0\n",
      "     0    0    0    0    0    0    0    0    0    0    0    0    0    0\n",
      "     0    0    0    0    0    0    0    0    0    0    0    0    0    0\n",
      "     0    0    0    0    0    0    0    0    0    0    0    0    0    0\n",
      "     0    0    0    0    0    0    0    0    0    0    0    0    0    0\n",
      "     0    0    0    0    0    0    0    0    0    0    0    0    0    0\n",
      "     0    0    0    0    0    0    0    0    0    0    0    0    0    0\n",
      "     0    0    0    0    0    0    0    0    0    0    0    0    0    0\n",
      "     0    0    0    0    0    0    0    0    0    0    0    0    0    0\n",
      "     0    0    0    0    0    0    0    0    0    0    0    0    0    0\n",
      "     0    0    0    0    0    0    0    0    0    0    0    0    0    0\n",
      "     0    0    0    0    0    0    0    0    0    0    0    0    0    0\n",
      "     0    0    0    0    0    0    0    0    0    0    0    0    0    0\n",
      "     0    0    0    0    0    0    0    0    0    0    0    0    0    0\n",
      "     0    0    0    0    0    0    0    0    0    0    0    0    0    0\n",
      "     0    0    0    0    0    0    0    0    0    0    0    0    0    0\n",
      "     0    0    0    0    0    0    0    0    0    0    0    0    0    0\n",
      "     0    0    0    0    0    0    0    0    0    0    0    0    0    0\n",
      "     0    0    0    0    0    0    0    0    0    0    0    0    0    0\n",
      "     0    0    0    0    0    0    0    0    0    0    0    0    0    0\n",
      "     0    0    0    0    0    0    0    0    0    0    0    0    0    0\n",
      "     0    0    0    0    0    0    0    0    0    0    0    0    0    0\n",
      "     0    0    0    0    0    0    0    0    0    0    0    0    0    0\n",
      "     0    0    0    0    0    0    0    0    0    0    0    0    0    0\n",
      "     0    0    0    0    0    0    0    0    0    0    0    0    0    0\n",
      "     0    0    0    0    0    0    0    0    0    0    0    0    0    0\n",
      "     0    0    0    0    0    0    0    0    0    0    0]]\n",
      "20\n"
     ]
    }
   ],
   "source": [
    "print(test_data)\n",
    "print(review_length)"
   ]
  },
  {
   "cell_type": "markdown",
   "metadata": {},
   "source": [
    "Now that we have processed the review, we can send the resulting array to our model to predict the sentiment of the review."
   ]
  },
  {
   "cell_type": "code",
   "execution_count": 96,
   "metadata": {},
   "outputs": [
    {
     "data": {
      "text/plain": [
       "array(0.7856404, dtype=float32)"
      ]
     },
     "execution_count": 96,
     "metadata": {},
     "output_type": "execute_result"
    }
   ],
   "source": [
    "xgb_predictor.predict(test_data)"
   ]
  },
  {
   "cell_type": "markdown",
   "metadata": {},
   "source": [
    "Since the return value of our model is close to `1`, we can be certain that the review we submitted is positive."
   ]
  },
  {
   "cell_type": "markdown",
   "metadata": {},
   "source": [
    "### Delete the endpoint\n",
    "\n",
    "Of course, just like in the XGBoost notebook, once we've deployed an endpoint it continues to run until we tell it to shut down. Since we are done using our endpoint for now, we can delete it."
   ]
  },
  {
   "cell_type": "code",
   "execution_count": 97,
   "metadata": {},
   "outputs": [
    {
     "name": "stderr",
     "output_type": "stream",
     "text": [
      "estimator.delete_endpoint() will be deprecated in SageMaker Python SDK v2. Please use the delete_endpoint() function on your predictor instead.\n"
     ]
    }
   ],
   "source": [
    "estimator.delete_endpoint()"
   ]
  },
  {
   "cell_type": "markdown",
   "metadata": {},
   "source": [
    "## Step 6 (again) - Deploy the model for the web app\n",
    "\n",
    "Now that we know that our model is working, it's time to create some custom inference code so that we can send the model a review which has not been processed and have it determine the sentiment of the review.\n",
    "\n",
    "As we saw above, by default the estimator which we created, when deployed, will use the entry script and directory which we provided when creating the model. However, since we now wish to accept a string as input and our model expects a processed review, we need to write some custom inference code.\n",
    "\n",
    "We will store the code that we write in the `serve` directory. Provided in this directory is the `model.py` file that we used to construct our model, a `utils.py` file which contains the `review_to_words` and `convert_and_pad` pre-processing functions which we used during the initial data processing, and `predict.py`, the file which will contain our custom inference code. Note also that `requirements.txt` is present which will tell SageMaker what Python libraries are required by our custom inference code.\n",
    "\n",
    "When deploying a PyTorch model in SageMaker, you are expected to provide four functions which the SageMaker inference container will use.\n",
    " - `model_fn`: This function is the same function that we used in the training script and it tells SageMaker how to load our model.\n",
    " - `input_fn`: This function receives the raw serialized input that has been sent to the model's endpoint and its job is to de-serialize and make the input available for the inference code.\n",
    " - `output_fn`: This function takes the output of the inference code and its job is to serialize this output and return it to the caller of the model's endpoint.\n",
    " - `predict_fn`: The heart of the inference script, this is where the actual prediction is done and is the function which you will need to complete.\n",
    "\n",
    "For the simple website that we are constructing during this project, the `input_fn` and `output_fn` methods are relatively straightforward. We only require being able to accept a string as input and we expect to return a single value as output. You might imagine though that in a more complex application the input or output may be image data or some other binary data which would require some effort to serialize.\n",
    "\n",
    "### (TODO) Writing inference code\n",
    "\n",
    "Before writing our custom inference code, we will begin by taking a look at the code which has been provided."
   ]
  },
  {
   "cell_type": "code",
   "execution_count": 98,
   "metadata": {},
   "outputs": [
    {
     "name": "stdout",
     "output_type": "stream",
     "text": [
      "\u001b[34mimport\u001b[39;49;00m \u001b[04m\u001b[36margparse\u001b[39;49;00m\r\n",
      "\u001b[34mimport\u001b[39;49;00m \u001b[04m\u001b[36mjson\u001b[39;49;00m\r\n",
      "\u001b[34mimport\u001b[39;49;00m \u001b[04m\u001b[36mos\u001b[39;49;00m\r\n",
      "\u001b[34mimport\u001b[39;49;00m \u001b[04m\u001b[36mpickle\u001b[39;49;00m\r\n",
      "\u001b[34mimport\u001b[39;49;00m \u001b[04m\u001b[36msys\u001b[39;49;00m\r\n",
      "\u001b[34mimport\u001b[39;49;00m \u001b[04m\u001b[36msagemaker_containers\u001b[39;49;00m\r\n",
      "\u001b[34mimport\u001b[39;49;00m \u001b[04m\u001b[36mpandas\u001b[39;49;00m \u001b[34mas\u001b[39;49;00m \u001b[04m\u001b[36mpd\u001b[39;49;00m\r\n",
      "\u001b[34mimport\u001b[39;49;00m \u001b[04m\u001b[36mnumpy\u001b[39;49;00m \u001b[34mas\u001b[39;49;00m \u001b[04m\u001b[36mnp\u001b[39;49;00m\r\n",
      "\u001b[34mimport\u001b[39;49;00m \u001b[04m\u001b[36mtorch\u001b[39;49;00m\r\n",
      "\u001b[34mimport\u001b[39;49;00m \u001b[04m\u001b[36mtorch\u001b[39;49;00m\u001b[04m\u001b[36m.\u001b[39;49;00m\u001b[04m\u001b[36mnn\u001b[39;49;00m \u001b[34mas\u001b[39;49;00m \u001b[04m\u001b[36mnn\u001b[39;49;00m\r\n",
      "\u001b[34mimport\u001b[39;49;00m \u001b[04m\u001b[36mtorch\u001b[39;49;00m\u001b[04m\u001b[36m.\u001b[39;49;00m\u001b[04m\u001b[36moptim\u001b[39;49;00m \u001b[34mas\u001b[39;49;00m \u001b[04m\u001b[36moptim\u001b[39;49;00m\r\n",
      "\u001b[34mimport\u001b[39;49;00m \u001b[04m\u001b[36mtorch\u001b[39;49;00m\u001b[04m\u001b[36m.\u001b[39;49;00m\u001b[04m\u001b[36mutils\u001b[39;49;00m\u001b[04m\u001b[36m.\u001b[39;49;00m\u001b[04m\u001b[36mdata\u001b[39;49;00m\r\n",
      "\r\n",
      "\u001b[34mfrom\u001b[39;49;00m \u001b[04m\u001b[36mmodel\u001b[39;49;00m \u001b[34mimport\u001b[39;49;00m LSTMClassifier\r\n",
      "\r\n",
      "\u001b[34mfrom\u001b[39;49;00m \u001b[04m\u001b[36mutils\u001b[39;49;00m \u001b[34mimport\u001b[39;49;00m review_to_words, convert_and_pad\r\n",
      "\r\n",
      "\u001b[34mdef\u001b[39;49;00m \u001b[32mmodel_fn\u001b[39;49;00m(model_dir):\r\n",
      "    \u001b[33m\"\"\"Load the PyTorch model from the `model_dir` directory.\"\"\"\u001b[39;49;00m\r\n",
      "    \u001b[36mprint\u001b[39;49;00m(\u001b[33m\"\u001b[39;49;00m\u001b[33mLoading model.\u001b[39;49;00m\u001b[33m\"\u001b[39;49;00m)\r\n",
      "\r\n",
      "    \u001b[37m# First, load the parameters used to create the model.\u001b[39;49;00m\r\n",
      "    model_info = {}\r\n",
      "    model_info_path = os.path.join(model_dir, \u001b[33m'\u001b[39;49;00m\u001b[33mmodel_info.pth\u001b[39;49;00m\u001b[33m'\u001b[39;49;00m)\r\n",
      "    \u001b[34mwith\u001b[39;49;00m \u001b[36mopen\u001b[39;49;00m(model_info_path, \u001b[33m'\u001b[39;49;00m\u001b[33mrb\u001b[39;49;00m\u001b[33m'\u001b[39;49;00m) \u001b[34mas\u001b[39;49;00m f:\r\n",
      "        model_info = torch.load(f)\r\n",
      "\r\n",
      "    \u001b[36mprint\u001b[39;49;00m(\u001b[33m\"\u001b[39;49;00m\u001b[33mmodel_info: \u001b[39;49;00m\u001b[33m{}\u001b[39;49;00m\u001b[33m\"\u001b[39;49;00m.format(model_info))\r\n",
      "\r\n",
      "    \u001b[37m# Determine the device and construct the model.\u001b[39;49;00m\r\n",
      "    device = torch.device(\u001b[33m\"\u001b[39;49;00m\u001b[33mcuda\u001b[39;49;00m\u001b[33m\"\u001b[39;49;00m \u001b[34mif\u001b[39;49;00m torch.cuda.is_available() \u001b[34melse\u001b[39;49;00m \u001b[33m\"\u001b[39;49;00m\u001b[33mcpu\u001b[39;49;00m\u001b[33m\"\u001b[39;49;00m)\r\n",
      "    model = LSTMClassifier(model_info[\u001b[33m'\u001b[39;49;00m\u001b[33membedding_dim\u001b[39;49;00m\u001b[33m'\u001b[39;49;00m], model_info[\u001b[33m'\u001b[39;49;00m\u001b[33mhidden_dim\u001b[39;49;00m\u001b[33m'\u001b[39;49;00m], model_info[\u001b[33m'\u001b[39;49;00m\u001b[33mvocab_size\u001b[39;49;00m\u001b[33m'\u001b[39;49;00m])\r\n",
      "\r\n",
      "    \u001b[37m# Load the store model parameters.\u001b[39;49;00m\r\n",
      "    model_path = os.path.join(model_dir, \u001b[33m'\u001b[39;49;00m\u001b[33mmodel.pth\u001b[39;49;00m\u001b[33m'\u001b[39;49;00m)\r\n",
      "    \u001b[34mwith\u001b[39;49;00m \u001b[36mopen\u001b[39;49;00m(model_path, \u001b[33m'\u001b[39;49;00m\u001b[33mrb\u001b[39;49;00m\u001b[33m'\u001b[39;49;00m) \u001b[34mas\u001b[39;49;00m f:\r\n",
      "        model.load_state_dict(torch.load(f))\r\n",
      "\r\n",
      "    \u001b[37m# Load the saved word_dict.\u001b[39;49;00m\r\n",
      "    word_dict_path = os.path.join(model_dir, \u001b[33m'\u001b[39;49;00m\u001b[33mword_dict.pkl\u001b[39;49;00m\u001b[33m'\u001b[39;49;00m)\r\n",
      "    \u001b[34mwith\u001b[39;49;00m \u001b[36mopen\u001b[39;49;00m(word_dict_path, \u001b[33m'\u001b[39;49;00m\u001b[33mrb\u001b[39;49;00m\u001b[33m'\u001b[39;49;00m) \u001b[34mas\u001b[39;49;00m f:\r\n",
      "        model.word_dict = pickle.load(f)\r\n",
      "\r\n",
      "    model.to(device).eval()\r\n",
      "\r\n",
      "    \u001b[36mprint\u001b[39;49;00m(\u001b[33m\"\u001b[39;49;00m\u001b[33mDone loading model.\u001b[39;49;00m\u001b[33m\"\u001b[39;49;00m)\r\n",
      "    \u001b[34mreturn\u001b[39;49;00m model\r\n",
      "\r\n",
      "\u001b[34mdef\u001b[39;49;00m \u001b[32minput_fn\u001b[39;49;00m(serialized_input_data, content_type):\r\n",
      "    \u001b[36mprint\u001b[39;49;00m(\u001b[33m'\u001b[39;49;00m\u001b[33mDeserializing the input data.\u001b[39;49;00m\u001b[33m'\u001b[39;49;00m)\r\n",
      "    \u001b[34mif\u001b[39;49;00m content_type == \u001b[33m'\u001b[39;49;00m\u001b[33mtext/plain\u001b[39;49;00m\u001b[33m'\u001b[39;49;00m:\r\n",
      "        data = serialized_input_data.decode(\u001b[33m'\u001b[39;49;00m\u001b[33mutf-8\u001b[39;49;00m\u001b[33m'\u001b[39;49;00m)\r\n",
      "        \u001b[34mreturn\u001b[39;49;00m data\r\n",
      "    \u001b[34mraise\u001b[39;49;00m \u001b[36mException\u001b[39;49;00m(\u001b[33m'\u001b[39;49;00m\u001b[33mRequested unsupported ContentType in content_type: \u001b[39;49;00m\u001b[33m'\u001b[39;49;00m + content_type)\r\n",
      "\r\n",
      "\u001b[34mdef\u001b[39;49;00m \u001b[32moutput_fn\u001b[39;49;00m(prediction_output, accept):\r\n",
      "    \u001b[36mprint\u001b[39;49;00m(\u001b[33m'\u001b[39;49;00m\u001b[33mSerializing the generated output.\u001b[39;49;00m\u001b[33m'\u001b[39;49;00m)\r\n",
      "    \u001b[34mreturn\u001b[39;49;00m \u001b[36mstr\u001b[39;49;00m(prediction_output)\r\n",
      "\r\n",
      "\u001b[34mdef\u001b[39;49;00m \u001b[32mpredict_fn\u001b[39;49;00m(input_data, model):\r\n",
      "    \u001b[36mprint\u001b[39;49;00m(\u001b[33m'\u001b[39;49;00m\u001b[33mInferring sentiment of input data.\u001b[39;49;00m\u001b[33m'\u001b[39;49;00m)\r\n",
      "\r\n",
      "    device = torch.device(\u001b[33m\"\u001b[39;49;00m\u001b[33mcuda\u001b[39;49;00m\u001b[33m\"\u001b[39;49;00m \u001b[34mif\u001b[39;49;00m torch.cuda.is_available() \u001b[34melse\u001b[39;49;00m \u001b[33m\"\u001b[39;49;00m\u001b[33mcpu\u001b[39;49;00m\u001b[33m\"\u001b[39;49;00m)\r\n",
      "    \r\n",
      "    \u001b[34mif\u001b[39;49;00m model.word_dict \u001b[35mis\u001b[39;49;00m \u001b[34mNone\u001b[39;49;00m:\r\n",
      "        \u001b[34mraise\u001b[39;49;00m \u001b[36mException\u001b[39;49;00m(\u001b[33m'\u001b[39;49;00m\u001b[33mModel has not been loaded properly, no word_dict.\u001b[39;49;00m\u001b[33m'\u001b[39;49;00m)\r\n",
      "    \r\n",
      "    \u001b[37m# TODO: Process input_data so that it is ready to be sent to our model.\u001b[39;49;00m\r\n",
      "    \u001b[37m#       You should produce two variables:\u001b[39;49;00m\r\n",
      "    \u001b[37m#         data_X   - A sequence of length 500 which represents the converted review\u001b[39;49;00m\r\n",
      "    \u001b[37m#         data_len - The length of the review\u001b[39;49;00m\r\n",
      "\r\n",
      "    data_X = \u001b[34mNone\u001b[39;49;00m\r\n",
      "    data_len = \u001b[34mNone\u001b[39;49;00m\r\n",
      "\r\n",
      "    \u001b[37m# Using data_X and data_len we construct an appropriate input tensor. Remember\u001b[39;49;00m\r\n",
      "    \u001b[37m# that our model expects input data of the form 'len, review[500]'.\u001b[39;49;00m\r\n",
      "    data_pack = np.hstack((data_len, data_X))\r\n",
      "    data_pack = data_pack.reshape(\u001b[34m1\u001b[39;49;00m, -\u001b[34m1\u001b[39;49;00m)\r\n",
      "    \r\n",
      "    data = torch.from_numpy(data_pack)\r\n",
      "    data = data.to(device)\r\n",
      "\r\n",
      "    \u001b[37m# Make sure to put the model into evaluation mode\u001b[39;49;00m\r\n",
      "    model.eval()\r\n",
      "\r\n",
      "    \u001b[37m# TODO: Compute the result of applying the model to the input data. The variable `result` should\u001b[39;49;00m\r\n",
      "    \u001b[37m#       be a numpy array which contains a single integer which is either 1 or 0\u001b[39;49;00m\r\n",
      "\r\n",
      "    result = \u001b[34mNone\u001b[39;49;00m\r\n",
      "\r\n",
      "    \u001b[34mreturn\u001b[39;49;00m result\r\n"
     ]
    }
   ],
   "source": [
    "!pygmentize serve/predict.py"
   ]
  },
  {
   "cell_type": "markdown",
   "metadata": {},
   "source": [
    "As mentioned earlier, the `model_fn` method is the same as the one provided in the training code and the `input_fn` and `output_fn` methods are very simple and your task will be to complete the `predict_fn` method. Make sure that you save the completed file as `predict.py` in the `serve` directory.\n",
    "\n",
    "**TODO**: Complete the `predict_fn()` method in the `serve/predict.py` file."
   ]
  },
  {
   "cell_type": "markdown",
   "metadata": {},
   "source": [
    "### Deploying the model\n",
    "\n",
    "Now that the custom inference code has been written, we will create and deploy our model. To begin with, we need to construct a new PyTorchModel object which points to the model artifacts created during training and also points to the inference code that we wish to use. Then we can call the deploy method to launch the deployment container.\n",
    "\n",
    "**NOTE**: The default behaviour for a deployed PyTorch model is to assume that any input passed to the predictor is a `numpy` array. In our case we want to send a string so we need to construct a simple wrapper around the `RealTimePredictor` class to accomodate simple strings. In a more complicated situation you may want to provide a serialization object, for example if you wanted to sent image data."
   ]
  },
  {
   "cell_type": "code",
   "execution_count": 115,
   "metadata": {},
   "outputs": [
    {
     "name": "stderr",
     "output_type": "stream",
     "text": [
      "Parameter image will be renamed to image_uri in SageMaker Python SDK v2.\n",
      "'create_image_uri' will be deprecated in favor of 'ImageURIProvider' class in SageMaker Python SDK v2.\n"
     ]
    },
    {
     "name": "stdout",
     "output_type": "stream",
     "text": [
      "---------------!"
     ]
    }
   ],
   "source": [
    "from sagemaker.predictor import RealTimePredictor\n",
    "from sagemaker.pytorch import PyTorchModel\n",
    "\n",
    "class StringPredictor(RealTimePredictor):\n",
    "    def __init__(self, endpoint_name, sagemaker_session):\n",
    "        super(StringPredictor, self).__init__(endpoint_name, sagemaker_session, content_type='text/plain')\n",
    "\n",
    "model = PyTorchModel(model_data=estimator.model_data,\n",
    "                     role = role,\n",
    "                     framework_version='0.4.0',\n",
    "                     entry_point='predict.py',\n",
    "                     source_dir='serve',\n",
    "                     predictor_cls=StringPredictor)\n",
    "predictor = model.deploy(initial_instance_count=1, instance_type='ml.m4.xlarge')"
   ]
  },
  {
   "cell_type": "markdown",
   "metadata": {},
   "source": [
    "### Testing the model\n",
    "\n",
    "Now that we have deployed our model with the custom inference code, we should test to see if everything is working. Here we test our model by loading the first `250` positive and negative reviews and send them to the endpoint, then collect the results. The reason for only sending some of the data is that the amount of time it takes for our model to process the input and then perform inference is quite long and so testing the entire data set would be prohibitive."
   ]
  },
  {
   "cell_type": "code",
   "execution_count": 116,
   "metadata": {},
   "outputs": [],
   "source": [
    "import glob\n",
    "\n",
    "def test_reviews(data_dir='../data/aclImdb', stop=250):\n",
    "    \n",
    "    results = []\n",
    "    ground = []\n",
    "    \n",
    "    # We make sure to test both positive and negative reviews    \n",
    "    for sentiment in ['pos', 'neg']:\n",
    "        \n",
    "        path = os.path.join(data_dir, 'test', sentiment, '*.txt')\n",
    "        files = glob.glob(path)\n",
    "        \n",
    "        files_read = 0\n",
    "        \n",
    "        print('Starting ', sentiment, ' files')\n",
    "        \n",
    "        # Iterate through the files and send them to the predictor\n",
    "        for f in files:\n",
    "            with open(f) as review:\n",
    "                # First, we store the ground truth (was the review positive or negative)\n",
    "                if sentiment == 'pos':\n",
    "                    ground.append(1)\n",
    "                else:\n",
    "                    ground.append(0)\n",
    "                # Read in the review and convert to 'utf-8' for transmission via HTTP\n",
    "                review_input = review.read().encode('utf-8')\n",
    "                # Send the review to the predictor and store the results\n",
    "                results.append(int(predictor.predict(review_input)))\n",
    "                \n",
    "            # Sending reviews to our endpoint one at a time takes a while so we\n",
    "            # only send a small number of reviews\n",
    "            files_read += 1\n",
    "            if files_read == stop:\n",
    "                break\n",
    "            \n",
    "    return ground, results"
   ]
  },
  {
   "cell_type": "code",
   "execution_count": 117,
   "metadata": {},
   "outputs": [
    {
     "name": "stdout",
     "output_type": "stream",
     "text": [
      "Starting  pos  files\n",
      "Starting  neg  files\n"
     ]
    }
   ],
   "source": [
    "ground, results = test_reviews()"
   ]
  },
  {
   "cell_type": "code",
   "execution_count": 118,
   "metadata": {},
   "outputs": [
    {
     "data": {
      "text/plain": [
       "0.844"
      ]
     },
     "execution_count": 118,
     "metadata": {},
     "output_type": "execute_result"
    }
   ],
   "source": [
    "from sklearn.metrics import accuracy_score\n",
    "accuracy_score(ground, results)"
   ]
  },
  {
   "cell_type": "markdown",
   "metadata": {},
   "source": [
    "As an additional test, we can try sending the `test_review` that we looked at earlier."
   ]
  },
  {
   "cell_type": "code",
   "execution_count": 119,
   "metadata": {},
   "outputs": [
    {
     "data": {
      "text/plain": [
       "b'1'"
      ]
     },
     "execution_count": 119,
     "metadata": {},
     "output_type": "execute_result"
    }
   ],
   "source": [
    "predictor.predict(test_review)"
   ]
  },
  {
   "cell_type": "markdown",
   "metadata": {},
   "source": [
    "Now that we know our endpoint is working as expected, we can set up the web page that will interact with it. If you don't have time to finish the project now, make sure to skip down to the end of this notebook and shut down your endpoint. You can deploy it again when you come back."
   ]
  },
  {
   "cell_type": "markdown",
   "metadata": {},
   "source": [
    "## Step 7 (again): Use the model for the web app\n",
    "\n",
    "> **TODO:** This entire section and the next contain tasks for you to complete, mostly using the AWS console.\n",
    "\n",
    "So far we have been accessing our model endpoint by constructing a predictor object which uses the endpoint and then just using the predictor object to perform inference. What if we wanted to create a web app which accessed our model? The way things are set up currently makes that not possible since in order to access a SageMaker endpoint the app would first have to authenticate with AWS using an IAM role which included access to SageMaker endpoints. However, there is an easier way! We just need to use some additional AWS services.\n",
    "\n",
    "<img src=\"Web App Diagram.svg\">\n",
    "\n",
    "The diagram above gives an overview of how the various services will work together. On the far right is the model which we trained above and which is deployed using SageMaker. On the far left is our web app that collects a user's movie review, sends it off and expects a positive or negative sentiment in return.\n",
    "\n",
    "In the middle is where some of the magic happens. We will construct a Lambda function, which you can think of as a straightforward Python function that can be executed whenever a specified event occurs. We will give this function permission to send and recieve data from a SageMaker endpoint.\n",
    "\n",
    "Lastly, the method we will use to execute the Lambda function is a new endpoint that we will create using API Gateway. This endpoint will be a url that listens for data to be sent to it. Once it gets some data it will pass that data on to the Lambda function and then return whatever the Lambda function returns. Essentially it will act as an interface that lets our web app communicate with the Lambda function.\n",
    "\n",
    "### Setting up a Lambda function\n",
    "\n",
    "The first thing we are going to do is set up a Lambda function. This Lambda function will be executed whenever our public API has data sent to it. When it is executed it will receive the data, perform any sort of processing that is required, send the data (the review) to the SageMaker endpoint we've created and then return the result.\n",
    "\n",
    "#### Part A: Create an IAM Role for the Lambda function\n",
    "\n",
    "Since we want the Lambda function to call a SageMaker endpoint, we need to make sure that it has permission to do so. To do this, we will construct a role that we can later give the Lambda function.\n",
    "\n",
    "Using the AWS Console, navigate to the **IAM** page and click on **Roles**. Then, click on **Create role**. Make sure that the **AWS service** is the type of trusted entity selected and choose **Lambda** as the service that will use this role, then click **Next: Permissions**.\n",
    "\n",
    "In the search box type `sagemaker` and select the check box next to the **AmazonSageMakerFullAccess** policy. Then, click on **Next: Review**.\n",
    "\n",
    "Lastly, give this role a name. Make sure you use a name that you will remember later on, for example `LambdaSageMakerRole`. Then, click on **Create role**.\n",
    "\n",
    "#### Part B: Create a Lambda function\n",
    "\n",
    "Now it is time to actually create the Lambda function.\n",
    "\n",
    "Using the AWS Console, navigate to the AWS Lambda page and click on **Create a function**. When you get to the next page, make sure that **Author from scratch** is selected. Now, name your Lambda function, using a name that you will remember later on, for example `sentiment_analysis_func`. Make sure that the **Python 3.6** runtime is selected and then choose the role that you created in the previous part. Then, click on **Create Function**.\n",
    "\n",
    "On the next page you will see some information about the Lambda function you've just created. If you scroll down you should see an editor in which you can write the code that will be executed when your Lambda function is triggered. In our example, we will use the code below. \n",
    "\n",
    "```python\n",
    "# We need to use the low-level library to interact with SageMaker since the SageMaker API\n",
    "# is not available natively through Lambda.\n",
    "import boto3\n",
    "\n",
    "def lambda_handler(event, context):\n",
    "\n",
    "    # The SageMaker runtime is what allows us to invoke the endpoint that we've created.\n",
    "    runtime = boto3.Session().client('sagemaker-runtime')\n",
    "\n",
    "    # Now we use the SageMaker runtime to invoke our endpoint, sending the review we were given\n",
    "    response = runtime.invoke_endpoint(EndpointName = '**ENDPOINT NAME HERE**',    # The name of the endpoint we created\n",
    "                                       ContentType = 'text/plain',                 # The data format that is expected\n",
    "                                       Body = event['body'])                       # The actual review\n",
    "\n",
    "    # The response is an HTTP response whose body contains the result of our inference\n",
    "    result = response['Body'].read().decode('utf-8')\n",
    "\n",
    "    return {\n",
    "        'statusCode' : 200,\n",
    "        'headers' : { 'Content-Type' : 'text/plain', 'Access-Control-Allow-Origin' : '*' },\n",
    "        'body' : result\n",
    "    }\n",
    "```\n",
    "\n",
    "Once you have copy and pasted the code above into the Lambda code editor, replace the `**ENDPOINT NAME HERE**` portion with the name of the endpoint that we deployed earlier. You can determine the name of the endpoint using the code cell below."
   ]
  },
  {
   "cell_type": "code",
   "execution_count": 120,
   "metadata": {},
   "outputs": [
    {
     "data": {
      "text/plain": [
       "'sagemaker-pytorch-2020-10-15-20-48-42-222'"
      ]
     },
     "execution_count": 120,
     "metadata": {},
     "output_type": "execute_result"
    }
   ],
   "source": [
    "predictor.endpoint"
   ]
  },
  {
   "cell_type": "markdown",
   "metadata": {},
   "source": [
    "Once you have added the endpoint name to the Lambda function, click on **Save**. Your Lambda function is now up and running. Next we need to create a way for our web app to execute the Lambda function.\n",
    "\n",
    "### Setting up API Gateway\n",
    "\n",
    "Now that our Lambda function is set up, it is time to create a new API using API Gateway that will trigger the Lambda function we have just created.\n",
    "\n",
    "Using AWS Console, navigate to **Amazon API Gateway** and then click on **Get started**.\n",
    "\n",
    "On the next page, make sure that **New API** is selected and give the new api a name, for example, `sentiment_analysis_api`. Then, click on **Create API**.\n",
    "\n",
    "Now we have created an API, however it doesn't currently do anything. What we want it to do is to trigger the Lambda function that we created earlier.\n",
    "\n",
    "Select the **Actions** dropdown menu and click **Create Method**. A new blank method will be created, select its dropdown menu and select **POST**, then click on the check mark beside it.\n",
    "\n",
    "For the integration point, make sure that **Lambda Function** is selected and click on the **Use Lambda Proxy integration**. This option makes sure that the data that is sent to the API is then sent directly to the Lambda function with no processing. It also means that the return value must be a proper response object as it will also not be processed by API Gateway.\n",
    "\n",
    "Type the name of the Lambda function you created earlier into the **Lambda Function** text entry box and then click on **Save**. Click on **OK** in the pop-up box that then appears, giving permission to API Gateway to invoke the Lambda function you created.\n",
    "\n",
    "The last step in creating the API Gateway is to select the **Actions** dropdown and click on **Deploy API**. You will need to create a new Deployment stage and name it anything you like, for example `prod`.\n",
    "\n",
    "You have now successfully set up a public API to access your SageMaker model. Make sure to copy or write down the URL provided to invoke your newly created public API as this will be needed in the next step. This URL can be found at the top of the page, highlighted in blue next to the text **Invoke URL**."
   ]
  },
  {
   "cell_type": "markdown",
   "metadata": {},
   "source": [
    "## Step 4: Deploying our web app\n",
    "\n",
    "Now that we have a publicly available API, we can start using it in a web app. For our purposes, we have provided a simple static html file which can make use of the public api you created earlier.\n",
    "\n",
    "In the `website` folder there should be a file called `index.html`. Download the file to your computer and open that file up in a text editor of your choice. There should be a line which contains **\\*\\*REPLACE WITH PUBLIC API URL\\*\\***. Replace this string with the url that you wrote down in the last step and then save the file.\n",
    "\n",
    "Now, if you open `index.html` on your local computer, your browser will behave as a local web server and you can use the provided site to interact with your SageMaker model.\n",
    "\n",
    "If you'd like to go further, you can host this html file anywhere you'd like, for example using github or hosting a static site on Amazon's S3. Once you have done this you can share the link with anyone you'd like and have them play with it too!\n",
    "\n",
    "> **Important Note** In order for the web app to communicate with the SageMaker endpoint, the endpoint has to actually be deployed and running. This means that you are paying for it. Make sure that the endpoint is running when you want to use the web app but that you shut it down when you don't need it, otherwise you will end up with a surprisingly large AWS bill.\n",
    "\n",
    "**TODO:** Make sure that you include the edited `index.html` file in your project submission."
   ]
  },
  {
   "cell_type": "markdown",
   "metadata": {},
   "source": [
    "Now that your web app is working, trying playing around with it and see how well it works.\n",
    "\n",
    "**Question**: Give an example of a review that you entered into your web app. What was the predicted sentiment of your example review?"
   ]
  },
  {
   "cell_type": "markdown",
   "metadata": {},
   "source": [
    "**Answer:**\n",
    "\n",
    "I wanted to give some mixed reviews and see how it did. Here's an example:\n",
    "\n",
    "\"This movie was a mix of emotions for me. For one, the acting was fantastic and you could really understand the pain that the characters felt. On the other hand, the music and filmography were awful. I just couldn't get the synthesized music out of my head. In the end, I would not watch this movie again.\"\n",
    "\n",
    "The model correctly identified that it was a negative review!"
   ]
  },
  {
   "cell_type": "markdown",
   "metadata": {},
   "source": [
    "### Delete the endpoint\n",
    "\n",
    "Remember to always shut down your endpoint if you are no longer using it. You are charged for the length of time that the endpoint is running so if you forget and leave it on you could end up with an unexpectedly large bill."
   ]
  },
  {
   "cell_type": "code",
   "execution_count": 121,
   "metadata": {},
   "outputs": [],
   "source": [
    "predictor.delete_endpoint()"
   ]
  },
  {
   "cell_type": "code",
   "execution_count": null,
   "metadata": {},
   "outputs": [],
   "source": []
  }
 ],
 "metadata": {
  "kernelspec": {
   "display_name": "conda_pytorch_p36",
   "language": "python",
   "name": "conda_pytorch_p36"
  },
  "language_info": {
   "codemirror_mode": {
    "name": "ipython",
    "version": 3
   },
   "file_extension": ".py",
   "mimetype": "text/x-python",
   "name": "python",
   "nbconvert_exporter": "python",
   "pygments_lexer": "ipython3",
   "version": "3.6.10"
  }
 },
 "nbformat": 4,
 "nbformat_minor": 2
}
